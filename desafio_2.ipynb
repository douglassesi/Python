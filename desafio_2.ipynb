{
  "nbformat": 4,
  "nbformat_minor": 0,
  "metadata": {
    "kernelspec": {
      "display_name": "Python 3",
      "language": "python",
      "name": "python3"
    },
    "language_info": {
      "codemirror_mode": {
        "name": "ipython",
        "version": 3
      },
      "file_extension": ".py",
      "mimetype": "text/x-python",
      "name": "python",
      "nbconvert_exporter": "python",
      "pygments_lexer": "ipython3",
      "version": "3.7.5"
    },
    "colab": {
      "name": "Copy of desafio_2.ipynb",
      "provenance": [],
      "include_colab_link": true
    }
  },
  "cells": [
    {
      "cell_type": "markdown",
      "metadata": {
        "id": "view-in-github",
        "colab_type": "text"
      },
      "source": [
        "<a href=\"https://colab.research.google.com/github/douglassesi/Python/blob/master/desafio_2.ipynb\" target=\"_parent\"><img src=\"https://colab.research.google.com/assets/colab-badge.svg\" alt=\"Open In Colab\"/></a>"
      ]
    },
    {
      "cell_type": "markdown",
      "metadata": {
        "id": "WLzmaW55ovcU",
        "colab_type": "text"
      },
      "source": [
        "# Desafio 2\n",
        "DOUGLAS ALBUQUERQUE RODRIGUES - RM335859"
      ]
    },
    {
      "cell_type": "markdown",
      "metadata": {
        "id": "9rZEBOVpovcZ",
        "colab_type": "text"
      },
      "source": [
        "### Obtendo informações importantes acerca do dataset\n",
        "\n",
        "Vamos utilizar o dataset breast_cancer_data.csv para fazer uma análise exploratória cujo objetivo é responder a alguns questionamentos que surgiram a respeito desse conjunto.\n",
        "\n",
        "Vamos começar lendo e entendendo nossos dados:"
      ]
    },
    {
      "cell_type": "code",
      "metadata": {
        "id": "sLVJrtznovca",
        "colab_type": "code",
        "colab": {}
      },
      "source": [
        "import pandas as pd\n",
        "import numpy as np\n"
      ],
      "execution_count": 0,
      "outputs": []
    },
    {
      "cell_type": "code",
      "metadata": {
        "id": "AfucpQGtovcf",
        "colab_type": "code",
        "outputId": "a40894cd-42cf-431f-b860-9c54ae992177",
        "colab": {
          "base_uri": "https://localhost:8080/",
          "height": 224
        }
      },
      "source": [
        "colunas = ['id','clump_thickness','cell_size_uniformity','cell_shape_uniformity','marginal_adhesion','single_ep_cell_size',\n",
        "          'bare_nuclei','bland_chromatin','normal_nucleoli','mitoses','classs','doctor_name']\n",
        "\n",
        "caminho = 'breast_cancer_data.csv'\n",
        "\n",
        "data = pd.read_csv(caminho,names=colunas)\n",
        "data.head()"
      ],
      "execution_count": 21,
      "outputs": [
        {
          "output_type": "execute_result",
          "data": {
            "text/html": [
              "<div>\n",
              "<style scoped>\n",
              "    .dataframe tbody tr th:only-of-type {\n",
              "        vertical-align: middle;\n",
              "    }\n",
              "\n",
              "    .dataframe tbody tr th {\n",
              "        vertical-align: top;\n",
              "    }\n",
              "\n",
              "    .dataframe thead th {\n",
              "        text-align: right;\n",
              "    }\n",
              "</style>\n",
              "<table border=\"1\" class=\"dataframe\">\n",
              "  <thead>\n",
              "    <tr style=\"text-align: right;\">\n",
              "      <th></th>\n",
              "      <th>id</th>\n",
              "      <th>clump_thickness</th>\n",
              "      <th>cell_size_uniformity</th>\n",
              "      <th>cell_shape_uniformity</th>\n",
              "      <th>marginal_adhesion</th>\n",
              "      <th>single_ep_cell_size</th>\n",
              "      <th>bare_nuclei</th>\n",
              "      <th>bland_chromatin</th>\n",
              "      <th>normal_nucleoli</th>\n",
              "      <th>mitoses</th>\n",
              "      <th>classs</th>\n",
              "      <th>doctor_name</th>\n",
              "    </tr>\n",
              "  </thead>\n",
              "  <tbody>\n",
              "    <tr>\n",
              "      <th>0</th>\n",
              "      <td>1000025</td>\n",
              "      <td>5.0</td>\n",
              "      <td>1.0</td>\n",
              "      <td>1</td>\n",
              "      <td>1</td>\n",
              "      <td>2</td>\n",
              "      <td>1</td>\n",
              "      <td>3.0</td>\n",
              "      <td>1.0</td>\n",
              "      <td>1</td>\n",
              "      <td>benign</td>\n",
              "      <td>Dr. Doe</td>\n",
              "    </tr>\n",
              "    <tr>\n",
              "      <th>1</th>\n",
              "      <td>1002945</td>\n",
              "      <td>5.0</td>\n",
              "      <td>4.0</td>\n",
              "      <td>4</td>\n",
              "      <td>5</td>\n",
              "      <td>7</td>\n",
              "      <td>10</td>\n",
              "      <td>3.0</td>\n",
              "      <td>2.0</td>\n",
              "      <td>1</td>\n",
              "      <td>benign</td>\n",
              "      <td>Dr. Smith</td>\n",
              "    </tr>\n",
              "    <tr>\n",
              "      <th>2</th>\n",
              "      <td>1015425</td>\n",
              "      <td>3.0</td>\n",
              "      <td>1.0</td>\n",
              "      <td>1</td>\n",
              "      <td>1</td>\n",
              "      <td>2</td>\n",
              "      <td>2</td>\n",
              "      <td>3.0</td>\n",
              "      <td>1.0</td>\n",
              "      <td>1</td>\n",
              "      <td>benign</td>\n",
              "      <td>Dr. Lee</td>\n",
              "    </tr>\n",
              "    <tr>\n",
              "      <th>3</th>\n",
              "      <td>1016277</td>\n",
              "      <td>6.0</td>\n",
              "      <td>8.0</td>\n",
              "      <td>8</td>\n",
              "      <td>1</td>\n",
              "      <td>3</td>\n",
              "      <td>4</td>\n",
              "      <td>3.0</td>\n",
              "      <td>7.0</td>\n",
              "      <td>1</td>\n",
              "      <td>benign</td>\n",
              "      <td>Dr. Smith</td>\n",
              "    </tr>\n",
              "    <tr>\n",
              "      <th>4</th>\n",
              "      <td>1017023</td>\n",
              "      <td>4.0</td>\n",
              "      <td>1.0</td>\n",
              "      <td>1</td>\n",
              "      <td>3</td>\n",
              "      <td>2</td>\n",
              "      <td>1</td>\n",
              "      <td>3.0</td>\n",
              "      <td>1.0</td>\n",
              "      <td>1</td>\n",
              "      <td>benign</td>\n",
              "      <td>Dr. Wong</td>\n",
              "    </tr>\n",
              "  </tbody>\n",
              "</table>\n",
              "</div>"
            ],
            "text/plain": [
              "        id  clump_thickness  cell_size_uniformity  ...  mitoses  classs  doctor_name\n",
              "0  1000025              5.0                   1.0  ...        1  benign      Dr. Doe\n",
              "1  1002945              5.0                   4.0  ...        1  benign    Dr. Smith\n",
              "2  1015425              3.0                   1.0  ...        1  benign      Dr. Lee\n",
              "3  1016277              6.0                   8.0  ...        1  benign    Dr. Smith\n",
              "4  1017023              4.0                   1.0  ...        1  benign     Dr. Wong\n",
              "\n",
              "[5 rows x 12 columns]"
            ]
          },
          "metadata": {
            "tags": []
          },
          "execution_count": 21
        }
      ]
    },
    {
      "cell_type": "code",
      "metadata": {
        "id": "EK8FVcrPovcn",
        "colab_type": "code",
        "outputId": "80aa22cc-4bdf-4a45-ad45-c8f109b580f9",
        "colab": {
          "base_uri": "https://localhost:8080/",
          "height": 510
        }
      },
      "source": [
        "# TODO: entendimento básico dos dados - preencha as lacunas no código a fim de obter o resultado desejado\n",
        "\n",
        "# quantas linhas e quantas colunas existem no dataset?\n",
        "count_col_rows = data.shape\n",
        "\n",
        "print('formato: Linhas', count_col_rows[0], '\\n','Colunas ', count_col_rows[1])\n",
        "\n",
        "quais os tipos de dados de cada coluna?\n",
        "\n",
        "data_type = data.dtypes\n",
        "\n",
        "print('tipos de dados: ',data_type,'\\n')\n",
        "\n",
        "#quais as principais estatísticas dos dados numéricos do dataset?\n",
        "\n",
        "descricao = data.describe()\n",
        "\n",
        "print('principais estatísticas: ', descricao, '\\n')"
      ],
      "execution_count": 22,
      "outputs": [
        {
          "output_type": "stream",
          "text": [
            "formato: Linhas 699 \n",
            " Colunas  12\n",
            "Object `coluna` not found.\n",
            "tipos de dados:  id                         int64\n",
            "clump_thickness          float64\n",
            "cell_size_uniformity     float64\n",
            "cell_shape_uniformity      int64\n",
            "marginal_adhesion          int64\n",
            "single_ep_cell_size        int64\n",
            "bare_nuclei               object\n",
            "bland_chromatin          float64\n",
            "normal_nucleoli          float64\n",
            "mitoses                    int64\n",
            "classs                    object\n",
            "doctor_name               object\n",
            "dtype: object \n",
            "\n",
            "principais estatísticas:                   id  clump_thickness  ...  normal_nucleoli     mitoses\n",
            "count  6.990000e+02       698.000000  ...       698.000000  699.000000\n",
            "mean   1.071704e+06         4.416905  ...         2.868195    1.589413\n",
            "std    6.170957e+05         2.817673  ...         3.055647    1.715078\n",
            "min    6.163400e+04         1.000000  ...         1.000000    1.000000\n",
            "25%    8.706885e+05         2.000000  ...         1.000000    1.000000\n",
            "50%    1.171710e+06         4.000000  ...         1.000000    1.000000\n",
            "75%    1.238298e+06         6.000000  ...         4.000000    1.000000\n",
            "max    1.345435e+07        10.000000  ...        10.000000   10.000000\n",
            "\n",
            "[8 rows x 9 columns] \n",
            "\n"
          ],
          "name": "stdout"
        }
      ]
    },
    {
      "cell_type": "code",
      "metadata": {
        "id": "O5mJvYXxovcs",
        "colab_type": "code",
        "outputId": "89358fc2-b24c-4485-e7e0-7681bb78e56d",
        "colab": {
          "base_uri": "https://localhost:8080/",
          "height": 187
        }
      },
      "source": [
        "# TODO: obtendo informações sobre o dataset\n",
        "\n",
        "\n",
        "\n",
        "# retorne uma Serie que mostre qual a classificação (maligno e benigno) que cada médico deu para cada amostra: \n",
        "# Exemplo de retorno\n",
        "# class      doctor_name\n",
        "# benign   Dr. Doe        127\n",
        "#          Dr. Lee        121\n",
        "#          Dr. Smith      102\n",
        "#          Dr. Wong       108\n",
        "\n",
        "# Código: \n",
        "\n",
        "agrupado = data.groupby([\"classs\",\"doctor_name\"])[\"id\"].count().sort_values(ascending=False)\n",
        "agrupado\n"
      ],
      "execution_count": 23,
      "outputs": [
        {
          "output_type": "execute_result",
          "data": {
            "text/plain": [
              "classs     doctor_name\n",
              "benign     Dr. Doe        127\n",
              "           Dr. Lee        121\n",
              "           Dr. Wong       108\n",
              "           Dr. Smith      102\n",
              "malignant  Dr. Smith       74\n",
              "           Dr. Lee         60\n",
              "           Dr. Doe         58\n",
              "           Dr. Wong        49\n",
              "Name: id, dtype: int64"
            ]
          },
          "metadata": {
            "tags": []
          },
          "execution_count": 23
        }
      ]
    },
    {
      "cell_type": "code",
      "metadata": {
        "id": "PpsHr3eNovcx",
        "colab_type": "code",
        "outputId": "ce1ff015-40e5-426d-cee0-8d5457cb7812",
        "colab": {
          "base_uri": "https://localhost:8080/",
          "height": 136
        }
      },
      "source": [
        "# TODO: obtendo informações sobre o dataset\n",
        "\n",
        "# Use o método select_dtypes() para selecionar apenas colunas do tipo float64 e int64. Armazene na variável data_num\n",
        "data_num = data.select_dtypes(include=[\"float\",\"int64\"])\n",
        "\n",
        "# Encontre as n variáveis que possuem um valor absoluto de correlação maior que 0.5 com a variável clump_thickness, excluindo ela mesma \n",
        "\n",
        "corr_matrix = data.corr()\n",
        "corr_clump=corr_matrix['clump_thickness'].sort_values(ascending=False)\n",
        "data_num= corr_clump[(corr_clump > 0.5) & (corr_clump < 1)]\n",
        "\n",
        "# retorne os valores de forma descendente\n",
        "# sempre utilize a variável data_num para receber o resultado de suas operações\n",
        "\n",
        "print(\"Existem {} variáveis correlacionadas com clump_thickness:\\n{}\".format(len(data_num), data_num))"
      ],
      "execution_count": 24,
      "outputs": [
        {
          "output_type": "stream",
          "text": [
            "Existem 5 variáveis correlacionadas com clump_thickness:\n",
            "cell_shape_uniformity    0.654632\n",
            "cell_size_uniformity     0.644636\n",
            "bland_chromatin          0.558924\n",
            "normal_nucleoli          0.535773\n",
            "single_ep_cell_size      0.522108\n",
            "Name: clump_thickness, dtype: float64\n"
          ],
          "name": "stdout"
        }
      ]
    },
    {
      "cell_type": "code",
      "metadata": {
        "id": "Ki1DG2cAovc2",
        "colab_type": "code",
        "outputId": "8b8b9eaa-9bb7-497c-bd7c-65800de68dd8",
        "colab": {
          "base_uri": "https://localhost:8080/",
          "height": 136
        }
      },
      "source": [
        "# TODO: obtendo informações sobre o dataset\n",
        "\n",
        "# qual o tamanho médio das células para cada tipo de tumor?\n",
        "\n",
        "benigno = data.query(\"classs == 'benign'\")\n",
        "maligno = data.query(\"classs == 'malignant'\")\n",
        "\n",
        "avg_cell_benigno = benigno['cell_size_uniformity'].mean()\n",
        "avg_cell_maligno = maligno['cell_size_uniformity'].mean()\n",
        "\n",
        "print('Tamanho médio do tipo benigno: ',avg_cell_benigno,'\\n')\n",
        "print('Tamanho médio do tipo maligno: ',avg_cell_maligno,'\\n')\n",
        "\n",
        "# qual o número máximo de mitoses em tumores benignos encontrados pelo Dr. Wong?\n",
        "\n",
        "wong_benigno = benigno.query(\"doctor_name == 'Dr. Wong'\")\n",
        "max_mitoses_benigno = wong_benigno['mitoses'].max()\n",
        "\n",
        "print('Número máximo de mitoses em tumores benignos: ', max_mitoses_benigno )\n",
        "\n",
        "# e qual o número máximo de mitoses em tumores malignos encontrados pelo mesmo médico?\n",
        "wong_maligno = maligno.query(\"doctor_name == 'Dr. Wong'\")\n",
        "max_mitoses_maligno = wong_maligno['mitoses'].max()\n",
        "\n",
        "print('\\nNúmero máximo de mitoses em tumores malignos: ',max_mitoses_maligno)"
      ],
      "execution_count": 25,
      "outputs": [
        {
          "output_type": "stream",
          "text": [
            "Tamanho médio do tipo benigno:  1.3260393873085339 \n",
            "\n",
            "Tamanho médio do tipo maligno:  6.572614107883817 \n",
            "\n",
            "Número máximo de mitoses em tumores benignos:  3\n",
            "\n",
            "Número máximo de mitoses em tumores malignos:  10\n"
          ],
          "name": "stdout"
        }
      ]
    },
    {
      "cell_type": "code",
      "metadata": {
        "id": "PUEELg_Govc8",
        "colab_type": "code",
        "colab": {}
      },
      "source": [
        "# TODO: filtrando os dados\n",
        "\n",
        "# Existem três pacientes (id) que aparecem mais que duas vezes no dataset. Retorne uma série ordenada de forma descendente que mostre o\n",
        "# id do paciente bem como a quantidade de vezes que ele aparece repetido no dataset\n",
        "repeated_patients = data.groupby(['id'])['id'].count().sort_values(ascending=False)\n",
        "# Elimine esses dois pacientes do dataframe de modo que este contenha apenas pacientes que apareceram no máximo duas vezes\n",
        "filtered_patients = repeated_patients[(repeated_patients <= 2)]\n",
        "\n",
        "lista_remove = repeated_patients[(repeated_patients > 2)]\n",
        "\n",
        "filtered_data = data.drop(lista_remove)"
      ],
      "execution_count": 0,
      "outputs": []
    },
    {
      "cell_type": "code",
      "metadata": {
        "id": "rZi9dWlUovdA",
        "colab_type": "code",
        "outputId": "f1ab672a-33e3-4620-faac-50c7e8cff786",
        "colab": {
          "base_uri": "https://localhost:8080/",
          "height": 317
        }
      },
      "source": [
        "\n",
        "filtered_data.describe()\n",
        "\n"
      ],
      "execution_count": 27,
      "outputs": [
        {
          "output_type": "execute_result",
          "data": {
            "text/html": [
              "<div>\n",
              "<style scoped>\n",
              "    .dataframe tbody tr th:only-of-type {\n",
              "        vertical-align: middle;\n",
              "    }\n",
              "\n",
              "    .dataframe tbody tr th {\n",
              "        vertical-align: top;\n",
              "    }\n",
              "\n",
              "    .dataframe thead th {\n",
              "        text-align: right;\n",
              "    }\n",
              "</style>\n",
              "<table border=\"1\" class=\"dataframe\">\n",
              "  <thead>\n",
              "    <tr style=\"text-align: right;\">\n",
              "      <th></th>\n",
              "      <th>id</th>\n",
              "      <th>clump_thickness</th>\n",
              "      <th>cell_size_uniformity</th>\n",
              "      <th>cell_shape_uniformity</th>\n",
              "      <th>marginal_adhesion</th>\n",
              "      <th>single_ep_cell_size</th>\n",
              "      <th>bland_chromatin</th>\n",
              "      <th>normal_nucleoli</th>\n",
              "      <th>mitoses</th>\n",
              "    </tr>\n",
              "  </thead>\n",
              "  <tbody>\n",
              "    <tr>\n",
              "      <th>count</th>\n",
              "      <td>6.960000e+02</td>\n",
              "      <td>695.000000</td>\n",
              "      <td>696.000000</td>\n",
              "      <td>696.000000</td>\n",
              "      <td>696.000000</td>\n",
              "      <td>696.000000</td>\n",
              "      <td>692.000000</td>\n",
              "      <td>695.000000</td>\n",
              "      <td>696.000000</td>\n",
              "    </tr>\n",
              "    <tr>\n",
              "      <th>mean</th>\n",
              "      <td>1.071939e+06</td>\n",
              "      <td>4.414388</td>\n",
              "      <td>3.120690</td>\n",
              "      <td>3.193966</td>\n",
              "      <td>2.791667</td>\n",
              "      <td>3.212644</td>\n",
              "      <td>3.440751</td>\n",
              "      <td>2.858993</td>\n",
              "      <td>1.591954</td>\n",
              "    </tr>\n",
              "    <tr>\n",
              "      <th>std</th>\n",
              "      <td>6.184157e+05</td>\n",
              "      <td>2.816853</td>\n",
              "      <td>3.040225</td>\n",
              "      <td>2.960365</td>\n",
              "      <td>2.840810</td>\n",
              "      <td>2.213929</td>\n",
              "      <td>2.437221</td>\n",
              "      <td>3.053363</td>\n",
              "      <td>1.718337</td>\n",
              "    </tr>\n",
              "    <tr>\n",
              "      <th>min</th>\n",
              "      <td>6.163400e+04</td>\n",
              "      <td>1.000000</td>\n",
              "      <td>1.000000</td>\n",
              "      <td>1.000000</td>\n",
              "      <td>1.000000</td>\n",
              "      <td>1.000000</td>\n",
              "      <td>1.000000</td>\n",
              "      <td>1.000000</td>\n",
              "      <td>1.000000</td>\n",
              "    </tr>\n",
              "    <tr>\n",
              "      <th>25%</th>\n",
              "      <td>8.692190e+05</td>\n",
              "      <td>2.000000</td>\n",
              "      <td>1.000000</td>\n",
              "      <td>1.000000</td>\n",
              "      <td>1.000000</td>\n",
              "      <td>2.000000</td>\n",
              "      <td>2.000000</td>\n",
              "      <td>1.000000</td>\n",
              "      <td>1.000000</td>\n",
              "    </tr>\n",
              "    <tr>\n",
              "      <th>50%</th>\n",
              "      <td>1.171752e+06</td>\n",
              "      <td>4.000000</td>\n",
              "      <td>1.000000</td>\n",
              "      <td>1.000000</td>\n",
              "      <td>1.000000</td>\n",
              "      <td>2.000000</td>\n",
              "      <td>3.000000</td>\n",
              "      <td>1.000000</td>\n",
              "      <td>1.000000</td>\n",
              "    </tr>\n",
              "    <tr>\n",
              "      <th>75%</th>\n",
              "      <td>1.238424e+06</td>\n",
              "      <td>6.000000</td>\n",
              "      <td>5.000000</td>\n",
              "      <td>5.000000</td>\n",
              "      <td>3.250000</td>\n",
              "      <td>4.000000</td>\n",
              "      <td>5.000000</td>\n",
              "      <td>3.500000</td>\n",
              "      <td>1.000000</td>\n",
              "    </tr>\n",
              "    <tr>\n",
              "      <th>max</th>\n",
              "      <td>1.345435e+07</td>\n",
              "      <td>10.000000</td>\n",
              "      <td>10.000000</td>\n",
              "      <td>10.000000</td>\n",
              "      <td>10.000000</td>\n",
              "      <td>10.000000</td>\n",
              "      <td>10.000000</td>\n",
              "      <td>10.000000</td>\n",
              "      <td>10.000000</td>\n",
              "    </tr>\n",
              "  </tbody>\n",
              "</table>\n",
              "</div>"
            ],
            "text/plain": [
              "                 id  clump_thickness  ...  normal_nucleoli     mitoses\n",
              "count  6.960000e+02       695.000000  ...       695.000000  696.000000\n",
              "mean   1.071939e+06         4.414388  ...         2.858993    1.591954\n",
              "std    6.184157e+05         2.816853  ...         3.053363    1.718337\n",
              "min    6.163400e+04         1.000000  ...         1.000000    1.000000\n",
              "25%    8.692190e+05         2.000000  ...         1.000000    1.000000\n",
              "50%    1.171752e+06         4.000000  ...         1.000000    1.000000\n",
              "75%    1.238424e+06         6.000000  ...         3.500000    1.000000\n",
              "max    1.345435e+07        10.000000  ...        10.000000   10.000000\n",
              "\n",
              "[8 rows x 9 columns]"
            ]
          },
          "metadata": {
            "tags": []
          },
          "execution_count": 27
        }
      ]
    },
    {
      "cell_type": "code",
      "metadata": {
        "id": "KxR5YNLMUzF8",
        "colab_type": "code",
        "colab": {}
      },
      "source": [
        ""
      ],
      "execution_count": 0,
      "outputs": []
    }
  ]
}