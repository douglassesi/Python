{
  "nbformat": 4,
  "nbformat_minor": 0,
  "metadata": {
    "colab": {
      "name": "Exercício 2-1 - Modelos de IA.ipynb",
      "provenance": [],
      "toc_visible": true,
      "authorship_tag": "ABX9TyMB++Jp+Q4YS7k7aiekEUyO",
      "include_colab_link": true
    },
    "kernelspec": {
      "name": "python3",
      "display_name": "Python 3"
    }
  },
  "cells": [
    {
      "cell_type": "markdown",
      "metadata": {
        "id": "view-in-github",
        "colab_type": "text"
      },
      "source": [
        "<a href=\"https://colab.research.google.com/github/douglassesi/Python/blob/master/Exerc%C3%ADcio_2_1_Modelos_de_IA.ipynb\" target=\"_parent\"><img src=\"https://colab.research.google.com/assets/colab-badge.svg\" alt=\"Open In Colab\"/></a>"
      ]
    },
    {
      "cell_type": "markdown",
      "metadata": {
        "id": "ZDjn8vuRJZhU",
        "colab_type": "text"
      },
      "source": [
        "#Ativando a utilização do Google Drive"
      ]
    },
    {
      "cell_type": "code",
      "metadata": {
        "id": "HK2d4uHu9gJs",
        "colab_type": "code",
        "outputId": "784785b2-bb37-4114-8add-bc682dbb6d3c",
        "colab": {
          "base_uri": "https://localhost:8080/",
          "height": 122
        }
      },
      "source": [
        "from google.colab import drive\n",
        "drive.mount('/gdrive')"
      ],
      "execution_count": 1,
      "outputs": [
        {
          "output_type": "stream",
          "text": [
            "Go to this URL in a browser: https://accounts.google.com/o/oauth2/auth?client_id=947318989803-6bn6qk8qdgf4n4g3pfee6491hc0brc4i.apps.googleusercontent.com&redirect_uri=urn%3aietf%3awg%3aoauth%3a2.0%3aoob&response_type=code&scope=email%20https%3a%2f%2fwww.googleapis.com%2fauth%2fdocs.test%20https%3a%2f%2fwww.googleapis.com%2fauth%2fdrive%20https%3a%2f%2fwww.googleapis.com%2fauth%2fdrive.photos.readonly%20https%3a%2f%2fwww.googleapis.com%2fauth%2fpeopleapi.readonly\n",
            "\n",
            "Enter your authorization code:\n",
            "··········\n",
            "Mounted at /gdrive\n"
          ],
          "name": "stdout"
        }
      ]
    },
    {
      "cell_type": "markdown",
      "metadata": {
        "id": "7NqZrnHB9P_R",
        "colab_type": "text"
      },
      "source": [
        "#Importando as bibliotecas"
      ]
    },
    {
      "cell_type": "code",
      "metadata": {
        "id": "dgPcFjoc9KKG",
        "colab_type": "code",
        "colab": {}
      },
      "source": [
        "import pandas as pd\n",
        "import numpy as np\n",
        "import sklearn.metrics as sm\n",
        "import matplotlib.pyplot as plt\n",
        "from sklearn.cluster import KMeans\n",
        "from sklearn.cluster import DBSCAN\n",
        "from sklearn.preprocessing import StandardScaler\n"
      ],
      "execution_count": 0,
      "outputs": []
    },
    {
      "cell_type": "markdown",
      "metadata": {
        "id": "6iQDtSAQ_Q99",
        "colab_type": "text"
      },
      "source": [
        "#Carregando o dataset"
      ]
    },
    {
      "cell_type": "code",
      "metadata": {
        "id": "rzixwThA_W4R",
        "colab_type": "code",
        "colab": {}
      },
      "source": [
        "df_tempoMedio =  pd.read_csv('/gdrive/My Drive/Trabalhos 11IA/Modelos de IA/2-1 - USUARIO TEMPO MEDIO/Usuarios-TempoMedioQuantidade.csv',encoding=\"latin1\", sep=\";\")"
      ],
      "execution_count": 0,
      "outputs": []
    },
    {
      "cell_type": "code",
      "metadata": {
        "id": "WbPe2td-Bfys",
        "colab_type": "code",
        "outputId": "41a728e9-c9a2-4eff-9cc9-fe8712ef00be",
        "colab": {
          "base_uri": "https://localhost:8080/",
          "height": 204
        }
      },
      "source": [
        "df_tempoMedio.head()"
      ],
      "execution_count": 0,
      "outputs": [
        {
          "output_type": "execute_result",
          "data": {
            "text/html": [
              "<div>\n",
              "<style scoped>\n",
              "    .dataframe tbody tr th:only-of-type {\n",
              "        vertical-align: middle;\n",
              "    }\n",
              "\n",
              "    .dataframe tbody tr th {\n",
              "        vertical-align: top;\n",
              "    }\n",
              "\n",
              "    .dataframe thead th {\n",
              "        text-align: right;\n",
              "    }\n",
              "</style>\n",
              "<table border=\"1\" class=\"dataframe\">\n",
              "  <thead>\n",
              "    <tr style=\"text-align: right;\">\n",
              "      <th></th>\n",
              "      <th>NomeUsuario</th>\n",
              "      <th>Login</th>\n",
              "      <th>Email</th>\n",
              "      <th>NomeEquipe</th>\n",
              "      <th>Quantidade</th>\n",
              "      <th>TempoMedio</th>\n",
              "    </tr>\n",
              "  </thead>\n",
              "  <tbody>\n",
              "    <tr>\n",
              "      <th>0</th>\n",
              "      <td>dadostab1</td>\n",
              "      <td>dadostab1</td>\n",
              "      <td>dadostab1@dadospesquisa.com.br</td>\n",
              "      <td>Equipe Dados Pesquisa</td>\n",
              "      <td>1498</td>\n",
              "      <td>0</td>\n",
              "    </tr>\n",
              "    <tr>\n",
              "      <th>1</th>\n",
              "      <td>axistab2</td>\n",
              "      <td>axistab2</td>\n",
              "      <td>axistab2@axiscriativa.com.br</td>\n",
              "      <td>Equipe Axis Criativa</td>\n",
              "      <td>461</td>\n",
              "      <td>75</td>\n",
              "    </tr>\n",
              "    <tr>\n",
              "      <th>2</th>\n",
              "      <td>axistab1</td>\n",
              "      <td>axistab1</td>\n",
              "      <td>axistab1@axiscriativa.com.br</td>\n",
              "      <td>Equipe Axis Criativa</td>\n",
              "      <td>445</td>\n",
              "      <td>7</td>\n",
              "    </tr>\n",
              "    <tr>\n",
              "      <th>3</th>\n",
              "      <td>planocdetab1</td>\n",
              "      <td>planocdetab1</td>\n",
              "      <td>planocdetab1@planocde.com.br</td>\n",
              "      <td>Equipe PlanoCDE</td>\n",
              "      <td>423</td>\n",
              "      <td>140</td>\n",
              "    </tr>\n",
              "    <tr>\n",
              "      <th>4</th>\n",
              "      <td>Usuario11</td>\n",
              "      <td>usuario11</td>\n",
              "      <td>usuario11@marketnnova.com</td>\n",
              "      <td>Equipe Marketnnova</td>\n",
              "      <td>351</td>\n",
              "      <td>22</td>\n",
              "    </tr>\n",
              "  </tbody>\n",
              "</table>\n",
              "</div>"
            ],
            "text/plain": [
              "    NomeUsuario         Login  ... Quantidade TempoMedio\n",
              "0     dadostab1     dadostab1  ...       1498          0\n",
              "1      axistab2      axistab2  ...        461         75\n",
              "2      axistab1      axistab1  ...        445          7\n",
              "3  planocdetab1  planocdetab1  ...        423        140\n",
              "4     Usuario11     usuario11  ...        351         22\n",
              "\n",
              "[5 rows x 6 columns]"
            ]
          },
          "metadata": {
            "tags": []
          },
          "execution_count": 23
        }
      ]
    },
    {
      "cell_type": "markdown",
      "metadata": {
        "id": "mO_5SjjdJu8D",
        "colab_type": "text"
      },
      "source": [
        "#Replicando o dataset origem apenas com as colunas necessárias"
      ]
    },
    {
      "cell_type": "code",
      "metadata": {
        "id": "WcIm6eXOGWwA",
        "colab_type": "code",
        "colab": {}
      },
      "source": [
        "df_tempoMedio_means = df_tempoMedio[['NomeEquipe','Quantidade','TempoMedio']]"
      ],
      "execution_count": 0,
      "outputs": []
    },
    {
      "cell_type": "code",
      "metadata": {
        "id": "7PsRj43AG6KS",
        "colab_type": "code",
        "outputId": "417dc42e-9250-47e9-ebcd-9d404cd2e063",
        "colab": {
          "base_uri": "https://localhost:8080/",
          "height": 419
        }
      },
      "source": [
        "df_tempoMedio_means"
      ],
      "execution_count": 7,
      "outputs": [
        {
          "output_type": "execute_result",
          "data": {
            "text/html": [
              "<div>\n",
              "<style scoped>\n",
              "    .dataframe tbody tr th:only-of-type {\n",
              "        vertical-align: middle;\n",
              "    }\n",
              "\n",
              "    .dataframe tbody tr th {\n",
              "        vertical-align: top;\n",
              "    }\n",
              "\n",
              "    .dataframe thead th {\n",
              "        text-align: right;\n",
              "    }\n",
              "</style>\n",
              "<table border=\"1\" class=\"dataframe\">\n",
              "  <thead>\n",
              "    <tr style=\"text-align: right;\">\n",
              "      <th></th>\n",
              "      <th>NomeEquipe</th>\n",
              "      <th>Quantidade</th>\n",
              "      <th>TempoMedio</th>\n",
              "    </tr>\n",
              "  </thead>\n",
              "  <tbody>\n",
              "    <tr>\n",
              "      <th>0</th>\n",
              "      <td>Equipe Dados Pesquisa</td>\n",
              "      <td>1498</td>\n",
              "      <td>0</td>\n",
              "    </tr>\n",
              "    <tr>\n",
              "      <th>1</th>\n",
              "      <td>Equipe Axis Criativa</td>\n",
              "      <td>461</td>\n",
              "      <td>75</td>\n",
              "    </tr>\n",
              "    <tr>\n",
              "      <th>2</th>\n",
              "      <td>Equipe Axis Criativa</td>\n",
              "      <td>445</td>\n",
              "      <td>7</td>\n",
              "    </tr>\n",
              "    <tr>\n",
              "      <th>3</th>\n",
              "      <td>Equipe PlanoCDE</td>\n",
              "      <td>423</td>\n",
              "      <td>140</td>\n",
              "    </tr>\n",
              "    <tr>\n",
              "      <th>4</th>\n",
              "      <td>Equipe Marketnnova</td>\n",
              "      <td>351</td>\n",
              "      <td>22</td>\n",
              "    </tr>\n",
              "    <tr>\n",
              "      <th>...</th>\n",
              "      <td>...</td>\n",
              "      <td>...</td>\n",
              "      <td>...</td>\n",
              "    </tr>\n",
              "    <tr>\n",
              "      <th>597</th>\n",
              "      <td>Equipe Korn Ferry</td>\n",
              "      <td>1</td>\n",
              "      <td>1</td>\n",
              "    </tr>\n",
              "    <tr>\n",
              "      <th>598</th>\n",
              "      <td>Equipe Citrosuco</td>\n",
              "      <td>1</td>\n",
              "      <td>16</td>\n",
              "    </tr>\n",
              "    <tr>\n",
              "      <th>599</th>\n",
              "      <td>Equipe Citrosuco</td>\n",
              "      <td>1</td>\n",
              "      <td>12</td>\n",
              "    </tr>\n",
              "    <tr>\n",
              "      <th>600</th>\n",
              "      <td>Equipe Citrosuco</td>\n",
              "      <td>1</td>\n",
              "      <td>46</td>\n",
              "    </tr>\n",
              "    <tr>\n",
              "      <th>601</th>\n",
              "      <td>Equipe Citrosuco</td>\n",
              "      <td>1</td>\n",
              "      <td>49</td>\n",
              "    </tr>\n",
              "  </tbody>\n",
              "</table>\n",
              "<p>602 rows × 3 columns</p>\n",
              "</div>"
            ],
            "text/plain": [
              "                NomeEquipe  Quantidade  TempoMedio\n",
              "0    Equipe Dados Pesquisa        1498           0\n",
              "1     Equipe Axis Criativa         461          75\n",
              "2     Equipe Axis Criativa         445           7\n",
              "3          Equipe PlanoCDE         423         140\n",
              "4       Equipe Marketnnova         351          22\n",
              "..                     ...         ...         ...\n",
              "597      Equipe Korn Ferry           1           1\n",
              "598       Equipe Citrosuco           1          16\n",
              "599       Equipe Citrosuco           1          12\n",
              "600       Equipe Citrosuco           1          46\n",
              "601       Equipe Citrosuco           1          49\n",
              "\n",
              "[602 rows x 3 columns]"
            ]
          },
          "metadata": {
            "tags": []
          },
          "execution_count": 7
        }
      ]
    },
    {
      "cell_type": "markdown",
      "metadata": {
        "id": "fJaQ6TFgJ7Yx",
        "colab_type": "text"
      },
      "source": [
        "#Criando OneHotEnconding para a 'NomeEquipe'"
      ]
    },
    {
      "cell_type": "code",
      "metadata": {
        "id": "MCDBeDvhFtxg",
        "colab_type": "code",
        "colab": {}
      },
      "source": [
        "df_tempoMedio_means =pd.get_dummies(df_tempoMedio_means,prefix=['NomeEquipe'], drop_first=True)"
      ],
      "execution_count": 0,
      "outputs": []
    },
    {
      "cell_type": "markdown",
      "metadata": {
        "id": "U61zt5AtKGBs",
        "colab_type": "text"
      },
      "source": [
        "#Trabalhando com K-Means"
      ]
    },
    {
      "cell_type": "code",
      "metadata": {
        "id": "bSCKBNFxEXfA",
        "colab_type": "code",
        "colab": {}
      },
      "source": [
        "kmeans7 = KMeans(n_clusters=7)"
      ],
      "execution_count": 0,
      "outputs": []
    },
    {
      "cell_type": "markdown",
      "metadata": {
        "id": "norw19WkKQDz",
        "colab_type": "text"
      },
      "source": [
        "##Teste de Kmeans com 7 Clusters"
      ]
    },
    {
      "cell_type": "code",
      "metadata": {
        "id": "hMi0WOHnFUxG",
        "colab_type": "code",
        "outputId": "76ebf9a6-6ab4-4720-8159-ef05dbacdedd",
        "colab": {
          "base_uri": "https://localhost:8080/",
          "height": 68
        }
      },
      "source": [
        "kmeans7.fit(df_tempoMedio_means)"
      ],
      "execution_count": 10,
      "outputs": [
        {
          "output_type": "execute_result",
          "data": {
            "text/plain": [
              "KMeans(algorithm='auto', copy_x=True, init='k-means++', max_iter=300,\n",
              "       n_clusters=7, n_init=10, n_jobs=None, precompute_distances='auto',\n",
              "       random_state=None, tol=0.0001, verbose=0)"
            ]
          },
          "metadata": {
            "tags": []
          },
          "execution_count": 10
        }
      ]
    },
    {
      "cell_type": "code",
      "metadata": {
        "id": "lcaGK-p7HrUH",
        "colab_type": "code",
        "outputId": "95d3786b-c2de-4411-e5d3-374aec34ab78",
        "colab": {
          "base_uri": "https://localhost:8080/",
          "height": 306
        }
      },
      "source": [
        "print(kmeans7.labels_)"
      ],
      "execution_count": 11,
      "outputs": [
        {
          "output_type": "stream",
          "text": [
            "[2 5 5 5 5 5 5 5 3 3 3 3 3 3 3 3 3 3 3 3 3 3 3 3 3 3 3 3 4 4 4 4 4 4 4 4 4\n",
            " 4 4 4 4 4 4 4 4 4 4 4 4 4 4 4 4 4 4 4 4 4 4 4 4 4 4 4 4 4 4 4 4 4 4 4 4 4\n",
            " 4 4 4 4 4 4 4 4 4 4 4 4 4 4 4 4 4 4 4 4 6 1 0 6 6 6 6 1 6 6 6 1 6 6 1 6 1\n",
            " 6 6 6 6 6 6 6 6 6 1 6 6 6 1 1 1 0 6 1 1 6 6 6 6 6 0 0 1 6 0 6 6 6 6 6 0 6\n",
            " 6 6 6 6 6 6 6 6 6 6 6 6 6 6 6 0 6 6 6 6 6 0 6 6 6 6 0 6 0 6 6 6 6 0 6 0 6\n",
            " 6 6 6 6 6 6 0 6 6 6 0 6 6 6 6 6 0 6 6 6 6 6 6 0 6 6 6 6 6 0 6 6 6 6 6 0 6\n",
            " 6 6 6 6 6 6 0 6 0 6 6 6 6 6 0 0 6 6 6 6 6 6 6 6 6 6 6 6 6 6 6 6 6 6 6 6 6\n",
            " 6 0 0 6 6 0 6 6 6 0 6 6 0 6 6 0 6 6 6 6 6 6 6 6 6 6 0 0 6 6 6 0 0 6 6 6 6\n",
            " 0 6 0 6 6 6 0 6 6 0 6 6 0 6 6 6 6 0 6 6 6 6 6 6 0 6 0 6 6 6 6 0 6 6 0 0 6\n",
            " 6 6 6 6 6 6 0 6 0 6 6 6 0 6 6 6 0 6 6 0 6 6 0 0 0 6 6 6 6 6 0 6 6 6 6 0 6\n",
            " 6 6 6 6 6 6 6 6 6 6 6 6 0 6 6 6 6 6 0 6 0 6 6 6 6 6 6 6 6 6 6 6 6 6 6 6 6\n",
            " 6 6 6 0 6 6 6 6 6 0 6 6 6 6 6 6 6 6 6 6 6 6 6 6 6 6 6 6 6 6 6 6 6 6 0 6 0\n",
            " 6 6 6 6 6 6 6 6 6 6 6 0 0 0 6 6 6 0 6 6 6 6 0 6 6 0 6 0 6 6 6 0 6 6 6 0 6\n",
            " 6 6 6 6 6 6 6 6 6 6 0 6 6 0 6 6 6 6 6 6 6 6 6 6 6 6 0 6 6 6 6 0 6 0 6 6 6\n",
            " 6 6 0 6 6 6 6 6 6 6 0 6 6 6 6 6 6 6 6 6 6 6 6 6 6 0 6 6 6 6 0 0 6 6 6 6 6\n",
            " 0 0 6 0 6 0 6 6 6 6 0 0 0 0 6 6 6 0 0 6 6 6 6 6 0 6 6 6 6 0 6 6 6 6 6 0 6\n",
            " 6 6 0 0 0 6 6 6 0 0]\n"
          ],
          "name": "stdout"
        }
      ]
    },
    {
      "cell_type": "markdown",
      "metadata": {
        "id": "NqmpH8twKV6y",
        "colab_type": "text"
      },
      "source": [
        "##Encontrando a melhor quantidade de clusters para o modelo"
      ]
    },
    {
      "cell_type": "code",
      "metadata": {
        "id": "kAZwVzCcH4ps",
        "colab_type": "code",
        "colab": {}
      },
      "source": [
        "inertias =[]\n",
        "for i in range(1, 15):\n",
        "    kmeans = KMeans(n_clusters = i, max_iter=100).fit(df_tempoMedio_means)    \n",
        "    #somatório dos erros quadráticos das instâncias de cada cluster\n",
        "    inertias.append(kmeans.inertia_)"
      ],
      "execution_count": 0,
      "outputs": []
    },
    {
      "cell_type": "code",
      "metadata": {
        "id": "FZdaWq1KIATO",
        "colab_type": "code",
        "outputId": "eb52f8f1-6312-4b50-d3f2-3453ae1cb882",
        "colab": {
          "base_uri": "https://localhost:8080/",
          "height": 295
        }
      },
      "source": [
        "plt.figure(1)\n",
        "plt.plot(range(1, 15), inertias)\n",
        "plt.title('O Metodo Elbow')\n",
        "plt.xlabel('No de clusters')\n",
        "plt.ylabel('WSS - within cluster sum of squares')\n",
        "plt.show()"
      ],
      "execution_count": 13,
      "outputs": [
        {
          "output_type": "display_data",
          "data": {
            "image/png": "[encoded data removed]",
            "text/plain": [
              "<Figure size 432x288 with 1 Axes>"
            ]
          },
          "metadata": {
            "tags": [],
            "needs_background": "light"
          }
        }
      ]
    },
    {
      "cell_type": "markdown",
      "metadata": {
        "id": "uqavWf3CK_hr",
        "colab_type": "text"
      },
      "source": [
        "##Encontrado a quantidade ideal de clusters, iremos ajustar o cálculo e plotar"
      ]
    },
    {
      "cell_type": "code",
      "metadata": {
        "id": "m-3hffn3IUrB",
        "colab_type": "code",
        "colab": {}
      },
      "source": [
        "kmeans4 = KMeans(n_clusters=4)"
      ],
      "execution_count": 0,
      "outputs": []
    },
    {
      "cell_type": "code",
      "metadata": {
        "id": "s1uVcZFvLXa1",
        "colab_type": "code",
        "outputId": "6f35c124-fc0c-418e-9a12-fc59358c83c8",
        "colab": {
          "base_uri": "https://localhost:8080/",
          "height": 68
        }
      },
      "source": [
        "kmeans4.fit(df_tempoMedio_means)"
      ],
      "execution_count": 15,
      "outputs": [
        {
          "output_type": "execute_result",
          "data": {
            "text/plain": [
              "KMeans(algorithm='auto', copy_x=True, init='k-means++', max_iter=300,\n",
              "       n_clusters=4, n_init=10, n_jobs=None, precompute_distances='auto',\n",
              "       random_state=None, tol=0.0001, verbose=0)"
            ]
          },
          "metadata": {
            "tags": []
          },
          "execution_count": 15
        }
      ]
    },
    {
      "cell_type": "code",
      "metadata": {
        "id": "yZFojRAdPkeN",
        "colab_type": "code",
        "colab": {}
      },
      "source": [
        "df_tempoMedio_means[\"cluster\"] = kmeans4.labels_"
      ],
      "execution_count": 0,
      "outputs": []
    },
    {
      "cell_type": "code",
      "metadata": {
        "id": "y-JvpvylLYNz",
        "colab_type": "code",
        "outputId": "bddf3d99-17a4-46a0-a58a-73f8f1aa808a",
        "colab": {
          "base_uri": "https://localhost:8080/",
          "height": 298
        }
      },
      "source": [
        "plt.scatter(df_tempoMedio_means.TempoMedio,df_tempoMedio_means.Quantidade, c=df_tempoMedio_means.cluster, s=100)\n",
        "plt.scatter(kmeans4.cluster_centers_[:,0],kmeans4.cluster_centers_[:,1],s=100,c='black',label=\"Centroids\",marker='+')\n",
        "plt.title(\"K-Means - TempoMedio\")"
      ],
      "execution_count": 17,
      "outputs": [
        {
          "output_type": "execute_result",
          "data": {
            "text/plain": [
              "Text(0.5, 1.0, 'K-Means - TempoMedio')"
            ]
          },
          "metadata": {
            "tags": []
          },
          "execution_count": 17
        },
        {
          "output_type": "display_data",
          "data": {
            "image/png": "[encoded data removed]",
            "text/plain": [
              "<Figure size 432x288 with 1 Axes>"
            ]
          },
          "metadata": {
            "tags": [],
            "needs_background": "light"
          }
        }
      ]
    },
    {
      "cell_type": "markdown",
      "metadata": {
        "id": "OLNFw3TiVPVx",
        "colab_type": "text"
      },
      "source": [
        "#Tralhando com DBSCAN"
      ]
    },
    {
      "cell_type": "code",
      "metadata": {
        "id": "d93VzvsXM0RC",
        "colab_type": "code",
        "colab": {}
      },
      "source": [
        "df_tempoMedio_dbscan = df_tempoMedio_means.drop('cluster',axis=1)\n"
      ],
      "execution_count": 0,
      "outputs": []
    },
    {
      "cell_type": "code",
      "metadata": {
        "id": "9-CZioRiWPjS",
        "colab_type": "code",
        "colab": {
          "base_uri": "https://localhost:8080/",
          "height": 473
        },
        "outputId": "ab935fc5-2eb2-4ef3-8a7d-f0da798a3f9c"
      },
      "source": [
        "df_tempoMedio_dbscan"
      ],
      "execution_count": 19,
      "outputs": [
        {
          "output_type": "execute_result",
          "data": {
            "text/html": [
              "<div>\n",
              "<style scoped>\n",
              "    .dataframe tbody tr th:only-of-type {\n",
              "        vertical-align: middle;\n",
              "    }\n",
              "\n",
              "    .dataframe tbody tr th {\n",
              "        vertical-align: top;\n",
              "    }\n",
              "\n",
              "    .dataframe thead th {\n",
              "        text-align: right;\n",
              "    }\n",
              "</style>\n",
              "<table border=\"1\" class=\"dataframe\">\n",
              "  <thead>\n",
              "    <tr style=\"text-align: right;\">\n",
              "      <th></th>\n",
              "      <th>Quantidade</th>\n",
              "      <th>TempoMedio</th>\n",
              "      <th>NomeEquipe_Equipe Citrosuco</th>\n",
              "      <th>NomeEquipe_Equipe Coplas</th>\n",
              "      <th>NomeEquipe_Equipe Dados Pesquisa</th>\n",
              "      <th>NomeEquipe_Equipe Daxia</th>\n",
              "      <th>NomeEquipe_Equipe Estrada Velasquez</th>\n",
              "      <th>NomeEquipe_Equipe Estratgias GalvÆo</th>\n",
              "      <th>NomeEquipe_Equipe GFK Pesq. Leads</th>\n",
              "      <th>NomeEquipe_Equipe GFK Pesq. SatisfaÆo</th>\n",
              "      <th>NomeEquipe_Equipe Grupo Speed</th>\n",
              "      <th>NomeEquipe_Equipe Korn Ferry</th>\n",
              "      <th>NomeEquipe_Equipe Lbel</th>\n",
              "      <th>NomeEquipe_Equipe Marketnnova</th>\n",
              "      <th>NomeEquipe_Equipe Mil Sapatilhas</th>\n",
              "      <th>NomeEquipe_Equipe PlanoCDE</th>\n",
              "      <th>NomeEquipe_Equipe Semesp</th>\n",
              "      <th>NomeEquipe_Equipe Simetria</th>\n",
              "      <th>NomeEquipe_Equipe Teste</th>\n",
              "      <th>NomeEquipe_Equipe Wone Bank</th>\n",
              "      <th>NomeEquipe_Equipe teambiente</th>\n",
              "      <th>NomeEquipe_Equipe µbaco</th>\n",
              "      <th>NomeEquipe_Equipo Nielsen</th>\n",
              "      <th>NomeEquipe_Equipo Ni¤o Jesus</th>\n",
              "      <th>NomeEquipe_bCare</th>\n",
              "    </tr>\n",
              "  </thead>\n",
              "  <tbody>\n",
              "    <tr>\n",
              "      <th>0</th>\n",
              "      <td>1498</td>\n",
              "      <td>0</td>\n",
              "      <td>0</td>\n",
              "      <td>0</td>\n",
              "      <td>1</td>\n",
              "      <td>0</td>\n",
              "      <td>0</td>\n",
              "      <td>0</td>\n",
              "      <td>0</td>\n",
              "      <td>0</td>\n",
              "      <td>0</td>\n",
              "      <td>0</td>\n",
              "      <td>0</td>\n",
              "      <td>0</td>\n",
              "      <td>0</td>\n",
              "      <td>0</td>\n",
              "      <td>0</td>\n",
              "      <td>0</td>\n",
              "      <td>0</td>\n",
              "      <td>0</td>\n",
              "      <td>0</td>\n",
              "      <td>0</td>\n",
              "      <td>0</td>\n",
              "      <td>0</td>\n",
              "      <td>0</td>\n",
              "    </tr>\n",
              "    <tr>\n",
              "      <th>1</th>\n",
              "      <td>461</td>\n",
              "      <td>75</td>\n",
              "      <td>0</td>\n",
              "      <td>0</td>\n",
              "      <td>0</td>\n",
              "      <td>0</td>\n",
              "      <td>0</td>\n",
              "      <td>0</td>\n",
              "      <td>0</td>\n",
              "      <td>0</td>\n",
              "      <td>0</td>\n",
              "      <td>0</td>\n",
              "      <td>0</td>\n",
              "      <td>0</td>\n",
              "      <td>0</td>\n",
              "      <td>0</td>\n",
              "      <td>0</td>\n",
              "      <td>0</td>\n",
              "      <td>0</td>\n",
              "      <td>0</td>\n",
              "      <td>0</td>\n",
              "      <td>0</td>\n",
              "      <td>0</td>\n",
              "      <td>0</td>\n",
              "      <td>0</td>\n",
              "    </tr>\n",
              "    <tr>\n",
              "      <th>2</th>\n",
              "      <td>445</td>\n",
              "      <td>7</td>\n",
              "      <td>0</td>\n",
              "      <td>0</td>\n",
              "      <td>0</td>\n",
              "      <td>0</td>\n",
              "      <td>0</td>\n",
              "      <td>0</td>\n",
              "      <td>0</td>\n",
              "      <td>0</td>\n",
              "      <td>0</td>\n",
              "      <td>0</td>\n",
              "      <td>0</td>\n",
              "      <td>0</td>\n",
              "      <td>0</td>\n",
              "      <td>0</td>\n",
              "      <td>0</td>\n",
              "      <td>0</td>\n",
              "      <td>0</td>\n",
              "      <td>0</td>\n",
              "      <td>0</td>\n",
              "      <td>0</td>\n",
              "      <td>0</td>\n",
              "      <td>0</td>\n",
              "      <td>0</td>\n",
              "    </tr>\n",
              "    <tr>\n",
              "      <th>3</th>\n",
              "      <td>423</td>\n",
              "      <td>140</td>\n",
              "      <td>0</td>\n",
              "      <td>0</td>\n",
              "      <td>0</td>\n",
              "      <td>0</td>\n",
              "      <td>0</td>\n",
              "      <td>0</td>\n",
              "      <td>0</td>\n",
              "      <td>0</td>\n",
              "      <td>0</td>\n",
              "      <td>0</td>\n",
              "      <td>0</td>\n",
              "      <td>0</td>\n",
              "      <td>0</td>\n",
              "      <td>1</td>\n",
              "      <td>0</td>\n",
              "      <td>0</td>\n",
              "      <td>0</td>\n",
              "      <td>0</td>\n",
              "      <td>0</td>\n",
              "      <td>0</td>\n",
              "      <td>0</td>\n",
              "      <td>0</td>\n",
              "      <td>0</td>\n",
              "    </tr>\n",
              "    <tr>\n",
              "      <th>4</th>\n",
              "      <td>351</td>\n",
              "      <td>22</td>\n",
              "      <td>0</td>\n",
              "      <td>0</td>\n",
              "      <td>0</td>\n",
              "      <td>0</td>\n",
              "      <td>0</td>\n",
              "      <td>0</td>\n",
              "      <td>0</td>\n",
              "      <td>0</td>\n",
              "      <td>0</td>\n",
              "      <td>0</td>\n",
              "      <td>0</td>\n",
              "      <td>1</td>\n",
              "      <td>0</td>\n",
              "      <td>0</td>\n",
              "      <td>0</td>\n",
              "      <td>0</td>\n",
              "      <td>0</td>\n",
              "      <td>0</td>\n",
              "      <td>0</td>\n",
              "      <td>0</td>\n",
              "      <td>0</td>\n",
              "      <td>0</td>\n",
              "      <td>0</td>\n",
              "    </tr>\n",
              "    <tr>\n",
              "      <th>...</th>\n",
              "      <td>...</td>\n",
              "      <td>...</td>\n",
              "      <td>...</td>\n",
              "      <td>...</td>\n",
              "      <td>...</td>\n",
              "      <td>...</td>\n",
              "      <td>...</td>\n",
              "      <td>...</td>\n",
              "      <td>...</td>\n",
              "      <td>...</td>\n",
              "      <td>...</td>\n",
              "      <td>...</td>\n",
              "      <td>...</td>\n",
              "      <td>...</td>\n",
              "      <td>...</td>\n",
              "      <td>...</td>\n",
              "      <td>...</td>\n",
              "      <td>...</td>\n",
              "      <td>...</td>\n",
              "      <td>...</td>\n",
              "      <td>...</td>\n",
              "      <td>...</td>\n",
              "      <td>...</td>\n",
              "      <td>...</td>\n",
              "      <td>...</td>\n",
              "    </tr>\n",
              "    <tr>\n",
              "      <th>597</th>\n",
              "      <td>1</td>\n",
              "      <td>1</td>\n",
              "      <td>0</td>\n",
              "      <td>0</td>\n",
              "      <td>0</td>\n",
              "      <td>0</td>\n",
              "      <td>0</td>\n",
              "      <td>0</td>\n",
              "      <td>0</td>\n",
              "      <td>0</td>\n",
              "      <td>0</td>\n",
              "      <td>1</td>\n",
              "      <td>0</td>\n",
              "      <td>0</td>\n",
              "      <td>0</td>\n",
              "      <td>0</td>\n",
              "      <td>0</td>\n",
              "      <td>0</td>\n",
              "      <td>0</td>\n",
              "      <td>0</td>\n",
              "      <td>0</td>\n",
              "      <td>0</td>\n",
              "      <td>0</td>\n",
              "      <td>0</td>\n",
              "      <td>0</td>\n",
              "    </tr>\n",
              "    <tr>\n",
              "      <th>598</th>\n",
              "      <td>1</td>\n",
              "      <td>16</td>\n",
              "      <td>1</td>\n",
              "      <td>0</td>\n",
              "      <td>0</td>\n",
              "      <td>0</td>\n",
              "      <td>0</td>\n",
              "      <td>0</td>\n",
              "      <td>0</td>\n",
              "      <td>0</td>\n",
              "      <td>0</td>\n",
              "      <td>0</td>\n",
              "      <td>0</td>\n",
              "      <td>0</td>\n",
              "      <td>0</td>\n",
              "      <td>0</td>\n",
              "      <td>0</td>\n",
              "      <td>0</td>\n",
              "      <td>0</td>\n",
              "      <td>0</td>\n",
              "      <td>0</td>\n",
              "      <td>0</td>\n",
              "      <td>0</td>\n",
              "      <td>0</td>\n",
              "      <td>0</td>\n",
              "    </tr>\n",
              "    <tr>\n",
              "      <th>599</th>\n",
              "      <td>1</td>\n",
              "      <td>12</td>\n",
              "      <td>1</td>\n",
              "      <td>0</td>\n",
              "      <td>0</td>\n",
              "      <td>0</td>\n",
              "      <td>0</td>\n",
              "      <td>0</td>\n",
              "      <td>0</td>\n",
              "      <td>0</td>\n",
              "      <td>0</td>\n",
              "      <td>0</td>\n",
              "      <td>0</td>\n",
              "      <td>0</td>\n",
              "      <td>0</td>\n",
              "      <td>0</td>\n",
              "      <td>0</td>\n",
              "      <td>0</td>\n",
              "      <td>0</td>\n",
              "      <td>0</td>\n",
              "      <td>0</td>\n",
              "      <td>0</td>\n",
              "      <td>0</td>\n",
              "      <td>0</td>\n",
              "      <td>0</td>\n",
              "    </tr>\n",
              "    <tr>\n",
              "      <th>600</th>\n",
              "      <td>1</td>\n",
              "      <td>46</td>\n",
              "      <td>1</td>\n",
              "      <td>0</td>\n",
              "      <td>0</td>\n",
              "      <td>0</td>\n",
              "      <td>0</td>\n",
              "      <td>0</td>\n",
              "      <td>0</td>\n",
              "      <td>0</td>\n",
              "      <td>0</td>\n",
              "      <td>0</td>\n",
              "      <td>0</td>\n",
              "      <td>0</td>\n",
              "      <td>0</td>\n",
              "      <td>0</td>\n",
              "      <td>0</td>\n",
              "      <td>0</td>\n",
              "      <td>0</td>\n",
              "      <td>0</td>\n",
              "      <td>0</td>\n",
              "      <td>0</td>\n",
              "      <td>0</td>\n",
              "      <td>0</td>\n",
              "      <td>0</td>\n",
              "    </tr>\n",
              "    <tr>\n",
              "      <th>601</th>\n",
              "      <td>1</td>\n",
              "      <td>49</td>\n",
              "      <td>1</td>\n",
              "      <td>0</td>\n",
              "      <td>0</td>\n",
              "      <td>0</td>\n",
              "      <td>0</td>\n",
              "      <td>0</td>\n",
              "      <td>0</td>\n",
              "      <td>0</td>\n",
              "      <td>0</td>\n",
              "      <td>0</td>\n",
              "      <td>0</td>\n",
              "      <td>0</td>\n",
              "      <td>0</td>\n",
              "      <td>0</td>\n",
              "      <td>0</td>\n",
              "      <td>0</td>\n",
              "      <td>0</td>\n",
              "      <td>0</td>\n",
              "      <td>0</td>\n",
              "      <td>0</td>\n",
              "      <td>0</td>\n",
              "      <td>0</td>\n",
              "      <td>0</td>\n",
              "    </tr>\n",
              "  </tbody>\n",
              "</table>\n",
              "<p>602 rows × 25 columns</p>\n",
              "</div>"
            ],
            "text/plain": [
              "     Quantidade  TempoMedio  ...  NomeEquipe_Equipo Ni¤o Jesus  NomeEquipe_bCare\n",
              "0          1498           0  ...                             0                 0\n",
              "1           461          75  ...                             0                 0\n",
              "2           445           7  ...                             0                 0\n",
              "3           423         140  ...                             0                 0\n",
              "4           351          22  ...                             0                 0\n",
              "..          ...         ...  ...                           ...               ...\n",
              "597           1           1  ...                             0                 0\n",
              "598           1          16  ...                             0                 0\n",
              "599           1          12  ...                             0                 0\n",
              "600           1          46  ...                             0                 0\n",
              "601           1          49  ...                             0                 0\n",
              "\n",
              "[602 rows x 25 columns]"
            ]
          },
          "metadata": {
            "tags": []
          },
          "execution_count": 19
        }
      ]
    },
    {
      "cell_type": "code",
      "metadata": {
        "id": "n2yA23SoWXcK",
        "colab_type": "code",
        "colab": {}
      },
      "source": [
        "SS = StandardScaler().fit_transform(df_tempoMedio_dbscan)"
      ],
      "execution_count": 0,
      "outputs": []
    },
    {
      "cell_type": "code",
      "metadata": {
        "id": "_AF8K88zYSlh",
        "colab_type": "code",
        "outputId": "8129ebdc-fdbc-4af1-9dda-9707b368b600",
        "colab": {
          "base_uri": "https://localhost:8080/",
          "height": 459
        }
      },
      "source": [
        "db = DBSCAN(eps=0.3,min_samples=5).fit(SS)\n",
        "print(db.labels_)"
      ],
      "execution_count": 24,
      "outputs": [
        {
          "output_type": "stream",
          "text": [
            "[-1 -1 -1 -1 -1 -1 -1 -1 -1 -1 -1 -1 -1  0  0  0  0 -1  0  1  0  1 -1  1\n",
            "  1  1  0  1 -1  1  2 -1 -1  2  2  2  2 -1  2  1 -1  2  2  2  2  2  2  2\n",
            "  2  2  2  2  2  2  2  2  2  2  2  2  2  2  2  2  2 -1  2  2  2  2  2  2\n",
            "  2  2  2  2  2  2  2  2  2  2  2  2  2 -1  2  2  3  3  2  3  3  2 -1  4\n",
            "  2 -1 -1  3  3  4 -1  2 -1  4 -1 -1  4  2  4 -1  5  5 -1  5  5  5  5  5\n",
            "  4  5  5  5  4  4  4 -1 -1  4  4  2  3  3 -1 -1  3  3  4 -1 -1 -1 -1 -1\n",
            " -1  3 -1 -1  3 -1  3  2  3 -1  3  2  6 -1 -1  2  3  6  6  6  6  6  6  6\n",
            "  6  6  6  6  6  6  6  6  6  6  6  6  6  6  6  6  6  6  6  6  6  6  6  6\n",
            "  6  6 -1  6  6  6  6  6  6  6  6  6  6  6  6  6  6  6  6  6  6  6  6  6\n",
            "  6  6  6  6  6  6  6 -1  6 -1  6  6  6  6  6  6  6  6  6  6  6  6  6  6\n",
            "  6  6  6  6  6  6  6  6  6  6  6  6  6  6  6  6  6  6  6  6  6  6  6  6\n",
            "  6  6  6  6  6  6  6  6  6  6  6  6  6  6  6  6  6  6  6  6  6  6  6  6\n",
            "  6  6  6  6  6 -1  6  6  6  6  6  6  6  6  6  6  6  6  6  6  6  6 -1  6\n",
            "  6  6  6  6  6  6  6  6  6  6  6  6  6  6  6  6  6  6  6  6  6  6  6  6\n",
            "  6  6  6  6  6  6  6  6  6  6  6  6  6  6  6  6  6  6  6  6  6  6  6  6\n",
            "  6  6  6  6  6  6  6  6  6  6  6  6  6  6  6  6  6  6  6  6  6  6  6  6\n",
            " -1  6  6  6  6  6  6  6  6  6  6  6  6 -1  6  6  6  6  6  6  6  6  6  6\n",
            "  6  6  6  6  6  6  6  6  6  6  6  6  6  6  6  6  6  6  6  6  6  6  6  6\n",
            "  6  6  6  6  6  6  6  6  6  6  6  6  6  6  6  6  6  6  6  6  6  6  6  6\n",
            "  6  6  6  6  6  6  6  6  6  6  6  6  6  6  6  6  6  2  6  6  6  6  6  6\n",
            "  6  6  6  6  6  6  6  6  6  6  6  6  6  6  6  6  6  6  6  6  6  6  6  6\n",
            "  6  6  6  6  6  6  6  6  6  6  6  6  6  6  6  6  6  6  6  6  6  6  6  6\n",
            "  6  6  6  6  6  6  6  6  6  6  6  6  6  6  6  6  6  6  6  6  6  6  6  6\n",
            "  6  6  6  6  6  6 -1  6  6  6  6  6  6  6  6  6  6  6  6  6  6  6  6  6\n",
            "  6  6  6  6  6  6  6  6  6  6  6  6  6  6  6  6  6  6  6  6 -1 -1  6  6\n",
            "  6  6]\n"
          ],
          "name": "stdout"
        }
      ]
    },
    {
      "cell_type": "code",
      "metadata": {
        "id": "-ULAOiWXZvNx",
        "colab_type": "code",
        "colab": {}
      },
      "source": [
        "df_tempoMedio_dbscan['cluster'] = db.labels_"
      ],
      "execution_count": 0,
      "outputs": []
    },
    {
      "cell_type": "code",
      "metadata": {
        "id": "spPXyXggY5C9",
        "colab_type": "code",
        "outputId": "dd8abd39-fcd0-4b1f-a0e9-1f6a1bcacdf1",
        "colab": {
          "base_uri": "https://localhost:8080/",
          "height": 298
        }
      },
      "source": [
        "plt.scatter(df_tempoMedio_dbscan.TempoMedio,df_tempoMedio_dbscan.Quantidade, c=df_tempoMedio_dbscan.cluster, s=100)\n",
        "#plt.scatter(db.,s=100,c='black',label=\"Centroids\",marker='+')\n",
        "plt.title(\"K-Means - TempoMedio\")"
      ],
      "execution_count": 26,
      "outputs": [
        {
          "output_type": "execute_result",
          "data": {
            "text/plain": [
              "Text(0.5, 1.0, 'K-Means - TempoMedio')"
            ]
          },
          "metadata": {
            "tags": []
          },
          "execution_count": 26
        },
        {
          "output_type": "display_data",
          "data": {
            "image/png": "[encoded data removed]",
            "text/plain": [
              "<Figure size 432x288 with 1 Axes>"
            ]
          },
          "metadata": {
            "tags": [],
            "needs_background": "light"
          }
        }
      ]
    }
  ]
}