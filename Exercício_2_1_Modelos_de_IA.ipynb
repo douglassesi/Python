{
  "nbformat": 4,
  "nbformat_minor": 0,
  "metadata": {
    "colab": {
      "name": "Exercício 2-1 - Modelos de IA.ipynb",
      "provenance": [],
      "toc_visible": true,
      "mount_file_id": "1H_CJVNBLQBYI3Os1K_hU-siEO4Hk2sOt",
      "authorship_tag": "ABX9TyMgzl1Tw6zcK+raMx8VxnYw",
      "include_colab_link": true
    },
    "kernelspec": {
      "name": "python3",
      "display_name": "Python 3"
    }
  },
  "cells": [
    {
      "cell_type": "markdown",
      "metadata": {
        "id": "view-in-github",
        "colab_type": "text"
      },
      "source": [
        "<a href=\"https://colab.research.google.com/github/douglassesi/Python/blob/master/Exerc%C3%ADcio_2_1_Modelos_de_IA.ipynb\" target=\"_parent\"><img src=\"https://colab.research.google.com/assets/colab-badge.svg\" alt=\"Open In Colab\"/></a>"
      ]
    },
    {
      "cell_type": "markdown",
      "metadata": {
        "id": "ZDjn8vuRJZhU",
        "colab_type": "text"
      },
      "source": [
        "#Ativando a utilização do Google Drive"
      ]
    },
    {
      "cell_type": "code",
      "metadata": {
        "id": "HK2d4uHu9gJs",
        "colab_type": "code",
        "outputId": "d92308eb-a445-4c1a-fb6b-ff4288c30f93",
        "colab": {
          "base_uri": "https://localhost:8080/",
          "height": 122
        }
      },
      "source": [
        "from google.colab import drive\n",
        "drive.mount('/gdrive')"
      ],
      "execution_count": 1,
      "outputs": [
        {
          "output_type": "stream",
          "text": [
            "Go to this URL in a browser: https://accounts.google.com/o/oauth2/auth?client_id=947318989803-6bn6qk8qdgf4n4g3pfee6491hc0brc4i.apps.googleusercontent.com&redirect_uri=urn%3aietf%3awg%3aoauth%3a2.0%3aoob&response_type=code&scope=email%20https%3a%2f%2fwww.googleapis.com%2fauth%2fdocs.test%20https%3a%2f%2fwww.googleapis.com%2fauth%2fdrive%20https%3a%2f%2fwww.googleapis.com%2fauth%2fdrive.photos.readonly%20https%3a%2f%2fwww.googleapis.com%2fauth%2fpeopleapi.readonly\n",
            "\n",
            "Enter your authorization code:\n",
            "··········\n",
            "Mounted at /gdrive\n"
          ],
          "name": "stdout"
        }
      ]
    },
    {
      "cell_type": "markdown",
      "metadata": {
        "id": "7NqZrnHB9P_R",
        "colab_type": "text"
      },
      "source": [
        "#Importando as bibliotecas"
      ]
    },
    {
      "cell_type": "code",
      "metadata": {
        "id": "dgPcFjoc9KKG",
        "colab_type": "code",
        "colab": {}
      },
      "source": [
        "import pandas as pd\n",
        "import numpy as np\n",
        "import sklearn.metrics as sm\n",
        "import matplotlib.pyplot as plt\n",
        "from sklearn.cluster import KMeans\n",
        "from sklearn.cluster import DBSCAN\n",
        "from sklearn.preprocessing import StandardScaler\n"
      ],
      "execution_count": 0,
      "outputs": []
    },
    {
      "cell_type": "markdown",
      "metadata": {
        "id": "6iQDtSAQ_Q99",
        "colab_type": "text"
      },
      "source": [
        "#Carregando o dataset"
      ]
    },
    {
      "cell_type": "code",
      "metadata": {
        "id": "rzixwThA_W4R",
        "colab_type": "code",
        "colab": {}
      },
      "source": [
        "df_tempoMedio =  pd.read_csv('/content/drive/My Drive/Trabalhos 11IA/Modelos de IA/2-1 - USUARIO TEMPO MEDIO/Usuarios-TempoMedioQuantidade.csv',encoding=\"latin1\", sep=\";\")"
      ],
      "execution_count": 0,
      "outputs": []
    },
    {
      "cell_type": "code",
      "metadata": {
        "id": "WbPe2td-Bfys",
        "colab_type": "code",
        "colab": {
          "base_uri": "https://localhost:8080/",
          "height": 204
        },
        "outputId": "41a728e9-c9a2-4eff-9cc9-fe8712ef00be"
      },
      "source": [
        "df_tempoMedio.head()"
      ],
      "execution_count": 23,
      "outputs": [
        {
          "output_type": "execute_result",
          "data": {
            "text/html": [
              "<div>\n",
              "<style scoped>\n",
              "    .dataframe tbody tr th:only-of-type {\n",
              "        vertical-align: middle;\n",
              "    }\n",
              "\n",
              "    .dataframe tbody tr th {\n",
              "        vertical-align: top;\n",
              "    }\n",
              "\n",
              "    .dataframe thead th {\n",
              "        text-align: right;\n",
              "    }\n",
              "</style>\n",
              "<table border=\"1\" class=\"dataframe\">\n",
              "  <thead>\n",
              "    <tr style=\"text-align: right;\">\n",
              "      <th></th>\n",
              "      <th>NomeUsuario</th>\n",
              "      <th>Login</th>\n",
              "      <th>Email</th>\n",
              "      <th>NomeEquipe</th>\n",
              "      <th>Quantidade</th>\n",
              "      <th>TempoMedio</th>\n",
              "    </tr>\n",
              "  </thead>\n",
              "  <tbody>\n",
              "    <tr>\n",
              "      <th>0</th>\n",
              "      <td>dadostab1</td>\n",
              "      <td>dadostab1</td>\n",
              "      <td>dadostab1@dadospesquisa.com.br</td>\n",
              "      <td>Equipe Dados Pesquisa</td>\n",
              "      <td>1498</td>\n",
              "      <td>0</td>\n",
              "    </tr>\n",
              "    <tr>\n",
              "      <th>1</th>\n",
              "      <td>axistab2</td>\n",
              "      <td>axistab2</td>\n",
              "      <td>axistab2@axiscriativa.com.br</td>\n",
              "      <td>Equipe Axis Criativa</td>\n",
              "      <td>461</td>\n",
              "      <td>75</td>\n",
              "    </tr>\n",
              "    <tr>\n",
              "      <th>2</th>\n",
              "      <td>axistab1</td>\n",
              "      <td>axistab1</td>\n",
              "      <td>axistab1@axiscriativa.com.br</td>\n",
              "      <td>Equipe Axis Criativa</td>\n",
              "      <td>445</td>\n",
              "      <td>7</td>\n",
              "    </tr>\n",
              "    <tr>\n",
              "      <th>3</th>\n",
              "      <td>planocdetab1</td>\n",
              "      <td>planocdetab1</td>\n",
              "      <td>planocdetab1@planocde.com.br</td>\n",
              "      <td>Equipe PlanoCDE</td>\n",
              "      <td>423</td>\n",
              "      <td>140</td>\n",
              "    </tr>\n",
              "    <tr>\n",
              "      <th>4</th>\n",
              "      <td>Usuario11</td>\n",
              "      <td>usuario11</td>\n",
              "      <td>usuario11@marketnnova.com</td>\n",
              "      <td>Equipe Marketnnova</td>\n",
              "      <td>351</td>\n",
              "      <td>22</td>\n",
              "    </tr>\n",
              "  </tbody>\n",
              "</table>\n",
              "</div>"
            ],
            "text/plain": [
              "    NomeUsuario         Login  ... Quantidade TempoMedio\n",
              "0     dadostab1     dadostab1  ...       1498          0\n",
              "1      axistab2      axistab2  ...        461         75\n",
              "2      axistab1      axistab1  ...        445          7\n",
              "3  planocdetab1  planocdetab1  ...        423        140\n",
              "4     Usuario11     usuario11  ...        351         22\n",
              "\n",
              "[5 rows x 6 columns]"
            ]
          },
          "metadata": {
            "tags": []
          },
          "execution_count": 23
        }
      ]
    },
    {
      "cell_type": "markdown",
      "metadata": {
        "id": "mO_5SjjdJu8D",
        "colab_type": "text"
      },
      "source": [
        "#Replicando o dataset origem apenas com as colunas necessárias"
      ]
    },
    {
      "cell_type": "code",
      "metadata": {
        "id": "WcIm6eXOGWwA",
        "colab_type": "code",
        "colab": {}
      },
      "source": [
        "df_tempoMedio_means = df_tempoMedio[['NomeEquipe','Quantidade','TempoMedio']]"
      ],
      "execution_count": 0,
      "outputs": []
    },
    {
      "cell_type": "code",
      "metadata": {
        "id": "7PsRj43AG6KS",
        "colab_type": "code",
        "colab": {
          "base_uri": "https://localhost:8080/",
          "height": 419
        },
        "outputId": "1278d136-239d-408b-dab8-4a016666c234"
      },
      "source": [
        "df_tempoMedio_means"
      ],
      "execution_count": 25,
      "outputs": [
        {
          "output_type": "execute_result",
          "data": {
            "text/html": [
              "<div>\n",
              "<style scoped>\n",
              "    .dataframe tbody tr th:only-of-type {\n",
              "        vertical-align: middle;\n",
              "    }\n",
              "\n",
              "    .dataframe tbody tr th {\n",
              "        vertical-align: top;\n",
              "    }\n",
              "\n",
              "    .dataframe thead th {\n",
              "        text-align: right;\n",
              "    }\n",
              "</style>\n",
              "<table border=\"1\" class=\"dataframe\">\n",
              "  <thead>\n",
              "    <tr style=\"text-align: right;\">\n",
              "      <th></th>\n",
              "      <th>NomeEquipe</th>\n",
              "      <th>Quantidade</th>\n",
              "      <th>TempoMedio</th>\n",
              "    </tr>\n",
              "  </thead>\n",
              "  <tbody>\n",
              "    <tr>\n",
              "      <th>0</th>\n",
              "      <td>Equipe Dados Pesquisa</td>\n",
              "      <td>1498</td>\n",
              "      <td>0</td>\n",
              "    </tr>\n",
              "    <tr>\n",
              "      <th>1</th>\n",
              "      <td>Equipe Axis Criativa</td>\n",
              "      <td>461</td>\n",
              "      <td>75</td>\n",
              "    </tr>\n",
              "    <tr>\n",
              "      <th>2</th>\n",
              "      <td>Equipe Axis Criativa</td>\n",
              "      <td>445</td>\n",
              "      <td>7</td>\n",
              "    </tr>\n",
              "    <tr>\n",
              "      <th>3</th>\n",
              "      <td>Equipe PlanoCDE</td>\n",
              "      <td>423</td>\n",
              "      <td>140</td>\n",
              "    </tr>\n",
              "    <tr>\n",
              "      <th>4</th>\n",
              "      <td>Equipe Marketnnova</td>\n",
              "      <td>351</td>\n",
              "      <td>22</td>\n",
              "    </tr>\n",
              "    <tr>\n",
              "      <th>...</th>\n",
              "      <td>...</td>\n",
              "      <td>...</td>\n",
              "      <td>...</td>\n",
              "    </tr>\n",
              "    <tr>\n",
              "      <th>597</th>\n",
              "      <td>Equipe Korn Ferry</td>\n",
              "      <td>1</td>\n",
              "      <td>1</td>\n",
              "    </tr>\n",
              "    <tr>\n",
              "      <th>598</th>\n",
              "      <td>Equipe Citrosuco</td>\n",
              "      <td>1</td>\n",
              "      <td>16</td>\n",
              "    </tr>\n",
              "    <tr>\n",
              "      <th>599</th>\n",
              "      <td>Equipe Citrosuco</td>\n",
              "      <td>1</td>\n",
              "      <td>12</td>\n",
              "    </tr>\n",
              "    <tr>\n",
              "      <th>600</th>\n",
              "      <td>Equipe Citrosuco</td>\n",
              "      <td>1</td>\n",
              "      <td>46</td>\n",
              "    </tr>\n",
              "    <tr>\n",
              "      <th>601</th>\n",
              "      <td>Equipe Citrosuco</td>\n",
              "      <td>1</td>\n",
              "      <td>49</td>\n",
              "    </tr>\n",
              "  </tbody>\n",
              "</table>\n",
              "<p>602 rows × 3 columns</p>\n",
              "</div>"
            ],
            "text/plain": [
              "                NomeEquipe  Quantidade  TempoMedio\n",
              "0    Equipe Dados Pesquisa        1498           0\n",
              "1     Equipe Axis Criativa         461          75\n",
              "2     Equipe Axis Criativa         445           7\n",
              "3          Equipe PlanoCDE         423         140\n",
              "4       Equipe Marketnnova         351          22\n",
              "..                     ...         ...         ...\n",
              "597      Equipe Korn Ferry           1           1\n",
              "598       Equipe Citrosuco           1          16\n",
              "599       Equipe Citrosuco           1          12\n",
              "600       Equipe Citrosuco           1          46\n",
              "601       Equipe Citrosuco           1          49\n",
              "\n",
              "[602 rows x 3 columns]"
            ]
          },
          "metadata": {
            "tags": []
          },
          "execution_count": 25
        }
      ]
    },
    {
      "cell_type": "markdown",
      "metadata": {
        "id": "fJaQ6TFgJ7Yx",
        "colab_type": "text"
      },
      "source": [
        "#Criando OneHotEnconding para a 'NomeEquipe'"
      ]
    },
    {
      "cell_type": "code",
      "metadata": {
        "id": "MCDBeDvhFtxg",
        "colab_type": "code",
        "colab": {}
      },
      "source": [
        "df_tempoMedio_means =pd.get_dummies(df_tempoMedio_means,prefix=['NomeEquipe'], drop_first=True)"
      ],
      "execution_count": 0,
      "outputs": []
    },
    {
      "cell_type": "markdown",
      "metadata": {
        "id": "U61zt5AtKGBs",
        "colab_type": "text"
      },
      "source": [
        "#Trabalhando com K-Means"
      ]
    },
    {
      "cell_type": "code",
      "metadata": {
        "id": "bSCKBNFxEXfA",
        "colab_type": "code",
        "colab": {}
      },
      "source": [
        "kmeans7 = KMeans(n_clusters=7)"
      ],
      "execution_count": 0,
      "outputs": []
    },
    {
      "cell_type": "markdown",
      "metadata": {
        "id": "norw19WkKQDz",
        "colab_type": "text"
      },
      "source": [
        "##Teste de Kmeans com 7 Clusters"
      ]
    },
    {
      "cell_type": "code",
      "metadata": {
        "id": "hMi0WOHnFUxG",
        "colab_type": "code",
        "colab": {
          "base_uri": "https://localhost:8080/",
          "height": 68
        },
        "outputId": "38f811c6-389a-4433-cf9f-8ab717d01ce3"
      },
      "source": [
        "kmeans7.fit(df_tempoMedio_means)"
      ],
      "execution_count": 28,
      "outputs": [
        {
          "output_type": "execute_result",
          "data": {
            "text/plain": [
              "KMeans(algorithm='auto', copy_x=True, init='k-means++', max_iter=300,\n",
              "       n_clusters=7, n_init=10, n_jobs=None, precompute_distances='auto',\n",
              "       random_state=None, tol=0.0001, verbose=0)"
            ]
          },
          "metadata": {
            "tags": []
          },
          "execution_count": 28
        }
      ]
    },
    {
      "cell_type": "code",
      "metadata": {
        "id": "lcaGK-p7HrUH",
        "colab_type": "code",
        "colab": {
          "base_uri": "https://localhost:8080/",
          "height": 306
        },
        "outputId": "ae2a0309-7ac8-46db-ef7e-aba563fb2387"
      },
      "source": [
        "print(kmeans7.labels_)"
      ],
      "execution_count": 29,
      "outputs": [
        {
          "output_type": "stream",
          "text": [
            "[2 3 3 3 3 3 3 3 5 5 5 5 5 5 5 5 5 5 5 5 5 5 5 5 5 5 5 5 4 4 4 4 4 4 4 4 4\n",
            " 4 4 4 4 4 4 4 4 4 4 4 4 4 4 4 4 4 4 4 4 4 4 4 4 4 4 4 4 4 4 4 4 4 4 4 4 4\n",
            " 4 4 4 4 4 4 4 4 4 4 4 4 4 4 4 4 4 4 4 4 0 1 6 0 0 0 0 1 0 0 0 1 0 0 1 0 1\n",
            " 0 0 0 0 0 0 0 0 0 1 0 0 0 1 1 1 6 0 1 1 0 0 0 0 0 6 6 1 0 6 0 0 0 0 0 6 0\n",
            " 0 0 0 0 0 0 0 0 0 0 0 0 0 0 0 6 0 0 0 0 0 0 0 0 0 0 6 0 6 0 0 0 0 6 0 6 0\n",
            " 0 0 0 0 0 0 6 0 0 0 0 0 0 0 0 0 6 0 0 0 0 0 0 6 0 0 0 0 0 6 0 0 0 0 0 6 0\n",
            " 0 0 0 0 0 0 0 0 0 0 0 0 0 0 0 6 0 0 0 0 0 0 0 0 0 0 0 0 0 0 0 0 0 0 0 0 0\n",
            " 0 6 0 0 0 6 0 0 0 0 0 0 6 0 0 0 0 0 0 0 0 0 0 0 0 0 6 0 0 0 0 6 6 0 0 0 0\n",
            " 6 0 6 0 0 0 0 0 0 0 0 0 6 0 0 0 0 6 0 0 0 0 0 0 6 0 6 0 0 0 0 6 0 0 6 6 0\n",
            " 0 0 0 0 0 0 6 0 6 0 0 0 6 0 0 0 6 0 0 6 0 0 6 6 6 0 0 0 0 0 6 0 0 0 0 0 0\n",
            " 0 0 0 0 0 0 0 0 0 0 0 0 0 0 0 0 0 0 6 0 0 0 0 0 0 0 0 0 0 0 0 0 0 0 0 0 0\n",
            " 0 0 0 6 0 0 0 0 0 6 0 0 0 0 0 0 0 0 0 0 0 0 0 0 0 0 0 0 0 0 0 0 0 0 0 0 6\n",
            " 0 0 0 0 0 0 0 0 0 0 0 6 6 6 0 0 0 6 0 0 0 0 6 0 0 6 0 6 0 0 0 0 0 0 0 0 0\n",
            " 0 0 0 0 0 0 0 0 0 0 6 0 0 6 0 0 0 0 0 0 0 0 0 0 0 0 0 0 0 0 0 0 0 6 0 0 0\n",
            " 0 0 6 0 0 0 0 0 0 0 6 0 0 0 0 0 0 0 0 0 0 0 0 0 0 6 0 0 0 0 6 0 0 0 0 0 0\n",
            " 6 6 0 6 0 6 0 0 0 0 6 6 6 6 0 0 0 6 6 0 0 0 0 0 0 0 0 0 0 6 0 0 0 0 0 6 0\n",
            " 0 0 6 6 6 0 0 0 6 6]\n"
          ],
          "name": "stdout"
        }
      ]
    },
    {
      "cell_type": "markdown",
      "metadata": {
        "id": "NqmpH8twKV6y",
        "colab_type": "text"
      },
      "source": [
        "##Encontrando a melhor quantidade de clusters para o modelo"
      ]
    },
    {
      "cell_type": "code",
      "metadata": {
        "id": "kAZwVzCcH4ps",
        "colab_type": "code",
        "colab": {}
      },
      "source": [
        "inertias =[]\n",
        "for i in range(1, 15):\n",
        "    kmeans = KMeans(n_clusters = i, max_iter=100).fit(df_tempoMedio_means)    \n",
        "    #somatório dos erros quadráticos das instâncias de cada cluster\n",
        "    inertias.append(kmeans.inertia_)"
      ],
      "execution_count": 0,
      "outputs": []
    },
    {
      "cell_type": "code",
      "metadata": {
        "id": "FZdaWq1KIATO",
        "colab_type": "code",
        "colab": {
          "base_uri": "https://localhost:8080/",
          "height": 295
        },
        "outputId": "5f47c616-ae11-4dc4-950d-ea2cb0d73147"
      },
      "source": [
        "plt.figure(1)\n",
        "plt.plot(range(1, 15), inertias)\n",
        "plt.title('O Metodo Elbow')\n",
        "plt.xlabel('No de clusters')\n",
        "plt.ylabel('WSS - within cluster sum of squares')\n",
        "plt.show()"
      ],
      "execution_count": 31,
      "outputs": [
        {
          "output_type": "display_data",
          "data": {
            "image/png": "[encoded data removed]",
            "text/plain": [
              "<Figure size 432x288 with 1 Axes>"
            ]
          },
          "metadata": {
            "tags": [],
            "needs_background": "light"
          }
        }
      ]
    },
    {
      "cell_type": "markdown",
      "metadata": {
        "id": "uqavWf3CK_hr",
        "colab_type": "text"
      },
      "source": [
        "##Encontrado a quantidade ideal de clusters, iremos ajustar o cálculo e plotar"
      ]
    },
    {
      "cell_type": "code",
      "metadata": {
        "id": "m-3hffn3IUrB",
        "colab_type": "code",
        "colab": {}
      },
      "source": [
        "kmeans4 = KMeans(n_clusters=4)"
      ],
      "execution_count": 0,
      "outputs": []
    },
    {
      "cell_type": "code",
      "metadata": {
        "id": "s1uVcZFvLXa1",
        "colab_type": "code",
        "colab": {
          "base_uri": "https://localhost:8080/",
          "height": 68
        },
        "outputId": "7ee33653-2f0a-4acf-c60c-84c01c205f5e"
      },
      "source": [
        "kmeans4.fit(df_tempoMedio_means)"
      ],
      "execution_count": 33,
      "outputs": [
        {
          "output_type": "execute_result",
          "data": {
            "text/plain": [
              "KMeans(algorithm='auto', copy_x=True, init='k-means++', max_iter=300,\n",
              "       n_clusters=4, n_init=10, n_jobs=None, precompute_distances='auto',\n",
              "       random_state=None, tol=0.0001, verbose=0)"
            ]
          },
          "metadata": {
            "tags": []
          },
          "execution_count": 33
        }
      ]
    },
    {
      "cell_type": "code",
      "metadata": {
        "id": "yZFojRAdPkeN",
        "colab_type": "code",
        "colab": {}
      },
      "source": [
        "df_tempoMedio_means[\"cluster\"] = kmeans4.labels_"
      ],
      "execution_count": 0,
      "outputs": []
    },
    {
      "cell_type": "code",
      "metadata": {
        "id": "y-JvpvylLYNz",
        "colab_type": "code",
        "colab": {
          "base_uri": "https://localhost:8080/",
          "height": 298
        },
        "outputId": "2e0c087b-3448-4d34-a28a-b04a3960df02"
      },
      "source": [
        "plt.scatter(df_tempoMedio_means.TempoMedio,df_tempoMedio_means.Quantidade, c=df_tempoMedio_means.cluster, s=100)\n",
        "plt.scatter(kmeans4.cluster_centers_[:,0],kmeans4.cluster_centers_[:,1],s=100,c='black',label=\"Centroids\",marker='+')\n",
        "plt.title(\"K-Means - TempoMedio\")"
      ],
      "execution_count": 35,
      "outputs": [
        {
          "output_type": "execute_result",
          "data": {
            "text/plain": [
              "Text(0.5, 1.0, 'K-Means - TempoMedio')"
            ]
          },
          "metadata": {
            "tags": []
          },
          "execution_count": 35
        },
        {
          "output_type": "display_data",
          "data": {
            "image/png": "[encoded data removed]",
            "text/plain": [
              "<Figure size 432x288 with 1 Axes>"
            ]
          },
          "metadata": {
            "tags": [],
            "needs_background": "light"
          }
        }
      ]
    },
    {
      "cell_type": "markdown",
      "metadata": {
        "id": "OLNFw3TiVPVx",
        "colab_type": "text"
      },
      "source": [
        "#Tralhando com DBSCAN"
      ]
    },
    {
      "cell_type": "code",
      "metadata": {
        "id": "d93VzvsXM0RC",
        "colab_type": "code",
        "colab": {}
      },
      "source": [
        "df_tempoMedio_dbscan = df_tempoMedio_means.drop('cluster',axis=1)\n"
      ],
      "execution_count": 0,
      "outputs": []
    },
    {
      "cell_type": "code",
      "metadata": {
        "id": "9-CZioRiWPjS",
        "colab_type": "code",
        "colab": {}
      },
      "source": [
        "df_tempoMedio_dbscan"
      ],
      "execution_count": 0,
      "outputs": []
    },
    {
      "cell_type": "code",
      "metadata": {
        "id": "n2yA23SoWXcK",
        "colab_type": "code",
        "colab": {}
      },
      "source": [
        "SS = StandardScaler().fit_transform(df_tempoMedio_dbscan)"
      ],
      "execution_count": 0,
      "outputs": []
    },
    {
      "cell_type": "code",
      "metadata": {
        "id": "_AF8K88zYSlh",
        "colab_type": "code",
        "colab": {
          "base_uri": "https://localhost:8080/",
          "height": 459
        },
        "outputId": "e6f47be7-2761-46c1-f9f1-68d4fbafa2d5"
      },
      "source": [
        "db = DBSCAN(eps=0.3,min_samples=3).fit(SS)\n",
        "print(db.labels_)"
      ],
      "execution_count": 57,
      "outputs": [
        {
          "output_type": "stream",
          "text": [
            "[-1 -1 -1 -1 -1 -1 -1 -1  0  0  0  0 -1  1  1  1  1 -1  1  2  1  2 -1  2\n",
            "  2  2  1  2 -1  2  3  1 -1  3  3  3  3 -1  3  2  1  3  3  3  3  3  3  3\n",
            "  3  3  3  3  3  3  3  3  3  3  3  3  3  3  3  3  3  1  3  3  3  3  3  3\n",
            "  3  3  3  3  3  3  3  3  3  3  3  3  3  4  3  3  5  5  3  5  5  3  4  6\n",
            "  3  4  7  5  5  6 -1  3  7  6  4  7  6  3  6 -1  8  8 -1  8  8  8  8  8\n",
            "  6  8  8  8  6  6  6 -1 -1  6  6  3  5  5 -1 -1  5  5  6  7 -1  4 -1  9\n",
            " -1  5 -1 -1  5 -1  5  3  5 -1  5  3 10  9 -1  3  5 10 10 10 10 10 10 10\n",
            " 10 10 10 10 10 10 10 10 10 10 10 10 10 10 10 10 10 10 10 10 10 10 10 10\n",
            " 10 10 -1 10 10 10 10 10 10 10 10 10 10 10 10 10 10 10 10 10 10 10 10 10\n",
            " 10 10 10 10 10 10 10 11 10 -1 10 10 10 10 10 10 10 10 10 10 10 10 10 10\n",
            " 10 10 10 10 10 10 10 10 10 10 10 10 10 10 10 10 10 10 10 10 10 10 10 10\n",
            " 10 10 10 10 10 10 10 10 10 10 10 10 10 10 10 10 10 10 10 10 10 10 10 10\n",
            " 10 10 10 10 10  9 10 10 10 10 10 10 10 10 10 10 10 10 10 10 10 10 -1 10\n",
            " 10 10 10 10 10 10 10 10 10 10 10 10 10 10 10 10 10 10 10 10 10 10 10 10\n",
            " 10 10 10 10 10 10 10 10 10 10 10 10 10 10 10 10 10 10 10 10 10 10 10 10\n",
            " 10 10 10 10 10 10 10 10 10 10 10 10 10 10 10 10 10 10 10 10 10 10 10 10\n",
            " 11 10 10 10 10 10 10 10 10 10 10 10 10  4 10 10 10 10 10 10 10 10 10 10\n",
            " 10 10 10 10 10 10 10 10 10 10 10 10 10 10 10 10 10 10 10 10 10 10 10 10\n",
            " 10 10 10 10 10 10 10 10 10 10 10 10 10 10 10 10 10 10 10 10 10 10 10 10\n",
            " 10 10 10 10 10 10 10 10 10 10 10 10 10 10 10 10 10  3 10 10 10 10 10 10\n",
            " 10 10 10 10 10 10 10 10 10 10 10 10 10 10 10 10 10 10 10 10 10 10 10 10\n",
            " 10 10 10 10 10 10 10 10 10 10 10 10 10 10 10 10 10 10 10 10 10 10 10 10\n",
            " 10 10 10 10 10 10 10 10 10 10 10 10 10 10 10 10 10 10 10 10 10 10 10 10\n",
            " 10 10 10 10 10 10 -1 10 10 10 10 10 10 10 10 10 10 10 10 10 10 10 10 10\n",
            " 10 10 10 10 10 10 10 10 10 10 10 10 10 10 10 10 10 10 10 10 -1 11 10 10\n",
            " 10 10]\n"
          ],
          "name": "stdout"
        }
      ]
    },
    {
      "cell_type": "code",
      "metadata": {
        "id": "-ULAOiWXZvNx",
        "colab_type": "code",
        "colab": {}
      },
      "source": [
        "df_tempoMedio_dbscan['cluster'] = db.labels_"
      ],
      "execution_count": 0,
      "outputs": []
    },
    {
      "cell_type": "code",
      "metadata": {
        "id": "spPXyXggY5C9",
        "colab_type": "code",
        "colab": {
          "base_uri": "https://localhost:8080/",
          "height": 298
        },
        "outputId": "21cbc697-07ee-44a6-f552-a3e7f6d16601"
      },
      "source": [
        "plt.scatter(df_tempoMedio_dbscan.TempoMedio,df_tempoMedio_dbscan.Quantidade, c=df_tempoMedio_dbscan.cluster, s=100)\n",
        "#plt.scatter(db.,s=100,c='black',label=\"Centroids\",marker='+')\n",
        "plt.title(\"K-Means - TempoMedio\")"
      ],
      "execution_count": 59,
      "outputs": [
        {
          "output_type": "execute_result",
          "data": {
            "text/plain": [
              "Text(0.5, 1.0, 'K-Means - TempoMedio')"
            ]
          },
          "metadata": {
            "tags": []
          },
          "execution_count": 59
        },
        {
          "output_type": "display_data",
          "data": {
            "image/png": "[encoded data removed]",
            "text/plain": [
              "<Figure size 432x288 with 1 Axes>"
            ]
          },
          "metadata": {
            "tags": [],
            "needs_background": "light"
          }
        }
      ]
    }
  ]
}