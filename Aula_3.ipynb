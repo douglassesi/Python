{
  "nbformat": 4,
  "nbformat_minor": 0,
  "metadata": {
    "kernelspec": {
      "display_name": "Python 3",
      "language": "python",
      "name": "python3"
    },
    "language_info": {
      "codemirror_mode": {
        "name": "ipython",
        "version": 3
      },
      "file_extension": ".py",
      "mimetype": "text/x-python",
      "name": "python",
      "nbconvert_exporter": "python",
      "pygments_lexer": "ipython3",
      "version": "3.7.5"
    },
    "colab": {
      "name": "Aula_3.ipynb",
      "provenance": [],
      "collapsed_sections": [
        "KwwWZkkNsw-9",
        "lRppc7nusw_O"
      ],
      "include_colab_link": true
    }
  },
  "cells": [
    {
      "cell_type": "markdown",
      "metadata": {
        "id": "view-in-github",
        "colab_type": "text"
      },
      "source": [
        "<a href=\"https://colab.research.google.com/github/douglassesi/Python/blob/master/Aula_3.ipynb\" target=\"_parent\"><img src=\"https://colab.research.google.com/assets/colab-badge.svg\" alt=\"Open In Colab\"/></a>"
      ]
    },
    {
      "cell_type": "markdown",
      "metadata": {
        "id": "lXQlW2V7sw9h",
        "colab_type": "text"
      },
      "source": [
        "# Numpy"
      ]
    },
    {
      "cell_type": "code",
      "metadata": {
        "id": "84-cITKSsw9j",
        "colab_type": "code",
        "colab": {
          "base_uri": "https://localhost:8080/",
          "height": 215
        },
        "outputId": "279d6482-6163-47ed-daaf-e43623c14ac5"
      },
      "source": [
        "import numpy as np\n",
        "list1 = [0,1,2,3,4]\n",
        "arr1d = np.array(list1)\n",
        "# principal diferença entre list e array\n",
        "print(arr1d + 2)\n",
        "print(list1 + 2)  # erro"
      ],
      "execution_count": 2,
      "outputs": [
        {
          "output_type": "stream",
          "text": [
            "[2 3 4 5 6]\n"
          ],
          "name": "stdout"
        },
        {
          "output_type": "error",
          "ename": "TypeError",
          "evalue": "ignored",
          "traceback": [
            "\u001b[0;31m---------------------------------------------------------------------------\u001b[0m",
            "\u001b[0;31mTypeError\u001b[0m                                 Traceback (most recent call last)",
            "\u001b[0;32m<ipython-input-2-67d02f89f176>\u001b[0m in \u001b[0;36m<module>\u001b[0;34m()\u001b[0m\n\u001b[1;32m      4\u001b[0m \u001b[0;31m# principal diferença entre list e array\u001b[0m\u001b[0;34m\u001b[0m\u001b[0;34m\u001b[0m\u001b[0;34m\u001b[0m\u001b[0m\n\u001b[1;32m      5\u001b[0m \u001b[0mprint\u001b[0m\u001b[0;34m(\u001b[0m\u001b[0marr1d\u001b[0m \u001b[0;34m+\u001b[0m \u001b[0;36m2\u001b[0m\u001b[0;34m)\u001b[0m\u001b[0;34m\u001b[0m\u001b[0;34m\u001b[0m\u001b[0m\n\u001b[0;32m----> 6\u001b[0;31m \u001b[0mprint\u001b[0m\u001b[0;34m(\u001b[0m\u001b[0mlist1\u001b[0m \u001b[0;34m+\u001b[0m \u001b[0;36m2\u001b[0m\u001b[0;34m)\u001b[0m  \u001b[0;31m# erro\u001b[0m\u001b[0;34m\u001b[0m\u001b[0;34m\u001b[0m\u001b[0m\n\u001b[0m",
            "\u001b[0;31mTypeError\u001b[0m: can only concatenate list (not \"int\") to list"
          ]
        }
      ]
    },
    {
      "cell_type": "code",
      "metadata": {
        "id": "KC0puzvNsw9n",
        "colab_type": "code",
        "colab": {
          "base_uri": "https://localhost:8080/",
          "height": 255
        },
        "outputId": "4217a782-1d55-492c-9617-e97f88286bb1"
      },
      "source": [
        "x = [1,2,3,4.5,5.7]\n",
        "print('--------- lists ----------\\n')\n",
        "print(type(x))\n",
        "print(x)\n",
        "print(type(x[1]))\n",
        "print(type(x[4]))\n",
        "print('\\n')\n",
        "print('--------- array ----------\\n')\n",
        "y = np.array(x)\n",
        "print(type(y))\n",
        "print(y)\n",
        "print(type(y[1]))\n",
        "print(type(y[4]))"
      ],
      "execution_count": 3,
      "outputs": [
        {
          "output_type": "stream",
          "text": [
            "--------- lists ----------\n",
            "\n",
            "<class 'list'>\n",
            "[1, 2, 3, 4.5, 5.7]\n",
            "<class 'int'>\n",
            "<class 'float'>\n",
            "\n",
            "\n",
            "--------- array ----------\n",
            "\n",
            "<class 'numpy.ndarray'>\n",
            "[1.  2.  3.  4.5 5.7]\n",
            "<class 'numpy.float64'>\n",
            "<class 'numpy.float64'>\n"
          ],
          "name": "stdout"
        }
      ]
    },
    {
      "cell_type": "markdown",
      "metadata": {
        "id": "CgcNXiHtsw9p",
        "colab_type": "text"
      },
      "source": [
        "## ndarray"
      ]
    },
    {
      "cell_type": "code",
      "metadata": {
        "id": "6VbUiRaosw9q",
        "colab_type": "code",
        "colab": {
          "base_uri": "https://localhost:8080/",
          "height": 34
        },
        "outputId": "1e9678b3-2b3e-49a1-cbb5-ad0af07cd95c"
      },
      "source": [
        "import numpy as np\n",
        "data1 = [6,7.5,8,0,1]\n",
        "arr1 = np.array(data1)\n",
        "arr1"
      ],
      "execution_count": 4,
      "outputs": [
        {
          "output_type": "execute_result",
          "data": {
            "text/plain": [
              "array([6. , 7.5, 8. , 0. , 1. ])"
            ]
          },
          "metadata": {
            "tags": []
          },
          "execution_count": 4
        }
      ]
    },
    {
      "cell_type": "code",
      "metadata": {
        "id": "vsq-hS74sw9t",
        "colab_type": "code",
        "colab": {
          "base_uri": "https://localhost:8080/",
          "height": 51
        },
        "outputId": "fc5796e0-72fa-4637-a6d6-2b1fd1b8e8f1"
      },
      "source": [
        "print(arr1.shape)\n",
        "print(arr1.dtype)"
      ],
      "execution_count": 5,
      "outputs": [
        {
          "output_type": "stream",
          "text": [
            "(5,)\n",
            "float64\n"
          ],
          "name": "stdout"
        }
      ]
    },
    {
      "cell_type": "code",
      "metadata": {
        "id": "NLE1XzUhsw9w",
        "colab_type": "code",
        "colab": {
          "base_uri": "https://localhost:8080/",
          "height": 119
        },
        "outputId": "c7b384c2-7ffc-4afc-9477-15fe3681e5a8"
      },
      "source": [
        "data2 = [[1, 2, 3, 4], [5, 6, 7, 8]]\n",
        "arr2 = np.array(data2)\n",
        "print(arr2)\n",
        "print(arr2.ndim)\n",
        "print(arr2.shape)\n",
        "print(arr2.dtype)\n",
        "print(arr2.size)"
      ],
      "execution_count": 6,
      "outputs": [
        {
          "output_type": "stream",
          "text": [
            "[[1 2 3 4]\n",
            " [5 6 7 8]]\n",
            "2\n",
            "(2, 4)\n",
            "int64\n",
            "8\n"
          ],
          "name": "stdout"
        }
      ]
    },
    {
      "cell_type": "code",
      "metadata": {
        "id": "7X1pzX-Ysw9y",
        "colab_type": "code",
        "colab": {
          "base_uri": "https://localhost:8080/",
          "height": 85
        },
        "outputId": "8f33fe6e-60cf-4316-9de6-c84ae0ff35da"
      },
      "source": [
        "data3 = np.zeros(10)\n",
        "data4 = np.ones(10)\n",
        "data5 = np.empty([2,2])\n",
        "print(data3)\n",
        "print(data4)\n",
        "print(data5)"
      ],
      "execution_count": 7,
      "outputs": [
        {
          "output_type": "stream",
          "text": [
            "[0. 0. 0. 0. 0. 0. 0. 0. 0. 0.]\n",
            "[1. 1. 1. 1. 1. 1. 1. 1. 1. 1.]\n",
            "[[6.  7.5]\n",
            " [8.  1. ]]\n"
          ],
          "name": "stdout"
        }
      ]
    },
    {
      "cell_type": "code",
      "metadata": {
        "id": "gzxNw47ksw91",
        "colab_type": "code",
        "colab": {
          "base_uri": "https://localhost:8080/",
          "height": 34
        },
        "outputId": "14d38458-1d0c-43b4-9b9b-ef67ab9ad19f"
      },
      "source": [
        "data6 = np.arange(15)\n",
        "print(data6)"
      ],
      "execution_count": 9,
      "outputs": [
        {
          "output_type": "stream",
          "text": [
            "[ 0  1  2  3  4  5  6  7  8  9 10 11 12 13 14]\n"
          ],
          "name": "stdout"
        }
      ]
    },
    {
      "cell_type": "code",
      "metadata": {
        "id": "aazmlhLKsw94",
        "colab_type": "code",
        "colab": {
          "base_uri": "https://localhost:8080/",
          "height": 102
        },
        "outputId": "97c1faa6-6a3e-4811-9689-e448b22a69ce"
      },
      "source": [
        "data7 = np.eye(5)\n",
        "print(data7)"
      ],
      "execution_count": 8,
      "outputs": [
        {
          "output_type": "stream",
          "text": [
            "[[1. 0. 0. 0. 0.]\n",
            " [0. 1. 0. 0. 0.]\n",
            " [0. 0. 1. 0. 0.]\n",
            " [0. 0. 0. 1. 0.]\n",
            " [0. 0. 0. 0. 1.]]\n"
          ],
          "name": "stdout"
        }
      ]
    },
    {
      "cell_type": "code",
      "metadata": {
        "id": "n9PXTANbsw96",
        "colab_type": "code",
        "colab": {
          "base_uri": "https://localhost:8080/",
          "height": 51
        },
        "outputId": "a98f91a5-f609-4056-8d06-fbca63dd2b8a"
      },
      "source": [
        "arr1 = np.array([1, 2, 3], dtype=np.float64)\n",
        "print(arr1.dtype)\n",
        "arr2 = np.array([1, 2], dtype=np.int32)\n",
        "print(arr2.dtype)"
      ],
      "execution_count": 10,
      "outputs": [
        {
          "output_type": "stream",
          "text": [
            "float64\n",
            "int32\n"
          ],
          "name": "stdout"
        }
      ]
    },
    {
      "cell_type": "code",
      "metadata": {
        "id": "kPSjNiEQsw99",
        "colab_type": "code",
        "colab": {
          "base_uri": "https://localhost:8080/",
          "height": 164
        },
        "outputId": "3c0e0b56-e5fb-4022-b02c-4f1b17f149e7"
      },
      "source": [
        "arr1 + arr2"
      ],
      "execution_count": 11,
      "outputs": [
        {
          "output_type": "error",
          "ename": "ValueError",
          "evalue": "ignored",
          "traceback": [
            "\u001b[0;31m---------------------------------------------------------------------------\u001b[0m",
            "\u001b[0;31mValueError\u001b[0m                                Traceback (most recent call last)",
            "\u001b[0;32m<ipython-input-11-d972d21b639e>\u001b[0m in \u001b[0;36m<module>\u001b[0;34m()\u001b[0m\n\u001b[0;32m----> 1\u001b[0;31m \u001b[0marr1\u001b[0m \u001b[0;34m+\u001b[0m \u001b[0marr2\u001b[0m\u001b[0;34m\u001b[0m\u001b[0;34m\u001b[0m\u001b[0m\n\u001b[0m",
            "\u001b[0;31mValueError\u001b[0m: operands could not be broadcast together with shapes (3,) (2,) "
          ]
        }
      ]
    },
    {
      "cell_type": "code",
      "metadata": {
        "id": "II02xPI6sw-A",
        "colab_type": "code",
        "colab": {
          "base_uri": "https://localhost:8080/",
          "height": 51
        },
        "outputId": "0e4fd354-0a84-4de4-ebb6-d31444114f80"
      },
      "source": [
        "arr = np.array([1, 2, 3, 4, 5])\n",
        "print(arr.dtype)\n",
        "float_arr = arr.astype(np.float64)\n",
        "print(float_arr.dtype)"
      ],
      "execution_count": 12,
      "outputs": [
        {
          "output_type": "stream",
          "text": [
            "int64\n",
            "float64\n"
          ],
          "name": "stdout"
        }
      ]
    },
    {
      "cell_type": "code",
      "metadata": {
        "id": "vpjeFEiasw-D",
        "colab_type": "code",
        "colab": {}
      },
      "source": [
        "arr2 = np.array([3.7, -1.2, -2.6, 0.5, 12.9, 10.1])\n",
        "print(arr2)\n",
        "arr2.astype(np.int32)"
      ],
      "execution_count": 0,
      "outputs": []
    },
    {
      "cell_type": "code",
      "metadata": {
        "id": "6vgljU25sw-F",
        "colab_type": "code",
        "colab": {}
      },
      "source": [
        "numeric_strings = np.array(['1.25', '-9.6', '42'], dtype=np.string_)\n",
        "numeric_strings.astype(float)"
      ],
      "execution_count": 0,
      "outputs": []
    },
    {
      "cell_type": "markdown",
      "metadata": {
        "id": "4_cXJM34sw-H",
        "colab_type": "text"
      },
      "source": [
        "## Operações entre arrays e escalares"
      ]
    },
    {
      "cell_type": "code",
      "metadata": {
        "id": "YO5NT8cdsw-H",
        "colab_type": "code",
        "colab": {
          "base_uri": "https://localhost:8080/",
          "height": 153
        },
        "outputId": "402194d5-cf4c-42ef-ca39-c82c0d839c60"
      },
      "source": [
        "arr3 = np.array([[1., 2., 3.], [4., 5., 6.]])\n",
        "print(arr3)\n",
        "print('Multiplicação: \\n',arr3 * arr3)\n",
        "print('Subtração: \\n',arr3 - arr3)"
      ],
      "execution_count": 13,
      "outputs": [
        {
          "output_type": "stream",
          "text": [
            "[[1. 2. 3.]\n",
            " [4. 5. 6.]]\n",
            "Multiplicação: \n",
            " [[ 1.  4.  9.]\n",
            " [16. 25. 36.]]\n",
            "Subtração: \n",
            " [[0. 0. 0.]\n",
            " [0. 0. 0.]]\n"
          ],
          "name": "stdout"
        }
      ]
    },
    {
      "cell_type": "code",
      "metadata": {
        "id": "MKhvVUw0sw-K",
        "colab_type": "code",
        "colab": {
          "base_uri": "https://localhost:8080/",
          "height": 153
        },
        "outputId": "f8ae4e92-a50b-405a-d993-2ce2e6978e03"
      },
      "source": [
        "arr3 = np.array([[1., 2., 3.], [4., 5., 6.]])\n",
        "print(arr3)\n",
        "print('Escalar dividindo array: \\n',1/arr3)\n",
        "print('Array elevado ao quadrado: \\n',arr3 ** 0.5)"
      ],
      "execution_count": 14,
      "outputs": [
        {
          "output_type": "stream",
          "text": [
            "[[1. 2. 3.]\n",
            " [4. 5. 6.]]\n",
            "Escalar dividindo array: \n",
            " [[1.         0.5        0.33333333]\n",
            " [0.25       0.2        0.16666667]]\n",
            "Array elevado ao quadrado: \n",
            " [[1.         1.41421356 1.73205081]\n",
            " [2.         2.23606798 2.44948974]]\n"
          ],
          "name": "stdout"
        }
      ]
    },
    {
      "cell_type": "markdown",
      "metadata": {
        "id": "SfROPmcesw-M",
        "colab_type": "text"
      },
      "source": [
        "## Indexação e Fatiamento"
      ]
    },
    {
      "cell_type": "code",
      "metadata": {
        "id": "OsVf1inesw-N",
        "colab_type": "code",
        "colab": {}
      },
      "source": [
        "arr = [2,14,3,6,8,3,10,222,4]\n",
        "arr = np.array(arr)\n",
        "print(arr)\n",
        "print(arr[5])\n",
        "print(arr[5:8])\n",
        "arr[5:8] = 12\n",
        "print(arr)"
      ],
      "execution_count": 0,
      "outputs": []
    },
    {
      "cell_type": "code",
      "metadata": {
        "id": "JouEnlNRsw-P",
        "colab_type": "code",
        "colab": {}
      },
      "source": [
        "arr_slice = arr[5:8]\n",
        "print(arr_slice)\n",
        "arr_slice[1] = 12345\n",
        "print(arr_slice)\n",
        "print(arr)"
      ],
      "execution_count": 0,
      "outputs": []
    },
    {
      "cell_type": "code",
      "metadata": {
        "id": "2hRxkI56sw-R",
        "colab_type": "code",
        "colab": {
          "base_uri": "https://localhost:8080/",
          "height": 51
        },
        "outputId": "c7236f7c-b20e-42a2-e4c0-3289a9cf6dde"
      },
      "source": [
        "arr2d = np.array([[1, 2, 3], [4, 5, 6], [7, 8, 9]])\n",
        "print(arr2d[2])\n",
        "print(arr2d[0][2]) #igual a print(arr2d[0, 2])"
      ],
      "execution_count": 15,
      "outputs": [
        {
          "output_type": "stream",
          "text": [
            "[7 8 9]\n",
            "3\n"
          ],
          "name": "stdout"
        }
      ]
    },
    {
      "cell_type": "code",
      "metadata": {
        "id": "k6m3H5Rksw-T",
        "colab_type": "code",
        "colab": {
          "base_uri": "https://localhost:8080/",
          "height": 136
        },
        "outputId": "9986caf1-b557-4c4b-d2e2-2ea2559f1e06"
      },
      "source": [
        "print(arr2d[:2, 1:])\n",
        "print(arr2d[1, :2])\n",
        "print(arr2d[:, :1])\n"
      ],
      "execution_count": 17,
      "outputs": [
        {
          "output_type": "stream",
          "text": [
            "[[2 3]\n",
            " [5 6]]\n",
            "[4 5]\n",
            "[[1]\n",
            " [4]\n",
            " [7]]\n",
            "\n"
          ],
          "name": "stdout"
        }
      ]
    },
    {
      "cell_type": "markdown",
      "metadata": {
        "id": "ZFxFv09Xsw-V",
        "colab_type": "text"
      },
      "source": [
        "## Transposição"
      ]
    },
    {
      "cell_type": "code",
      "metadata": {
        "id": "DmpE4CHSsw-V",
        "colab_type": "code",
        "colab": {
          "base_uri": "https://localhost:8080/",
          "height": 153
        },
        "outputId": "0cd000d3-c33f-4396-e242-7f5d1792dbf6"
      },
      "source": [
        "arr = np.arange(15).reshape((3, 5))\n",
        "print(arr)\n",
        "print(arr.T)"
      ],
      "execution_count": 18,
      "outputs": [
        {
          "output_type": "stream",
          "text": [
            "[[ 0  1  2  3  4]\n",
            " [ 5  6  7  8  9]\n",
            " [10 11 12 13 14]]\n",
            "[[ 0  5 10]\n",
            " [ 1  6 11]\n",
            " [ 2  7 12]\n",
            " [ 3  8 13]\n",
            " [ 4  9 14]]\n"
          ],
          "name": "stdout"
        }
      ]
    },
    {
      "cell_type": "markdown",
      "metadata": {
        "id": "CrWLZX0_sw-Y",
        "colab_type": "text"
      },
      "source": [
        "## Flattening"
      ]
    },
    {
      "cell_type": "code",
      "metadata": {
        "id": "9msGQ4Dcsw-Y",
        "colab_type": "code",
        "colab": {
          "base_uri": "https://localhost:8080/",
          "height": 221
        },
        "outputId": "b71f1f8c-5a3c-403d-8675-70c429c9c257"
      },
      "source": [
        "print('----- flatten() -----\\n')\n",
        "print(arr2d.flatten())\n",
        "b1 = arr2d.flatten() \n",
        "b1[0] = 100\n",
        "print(arr2d,'\\n')\n",
        "print('----- ravel() -----\\n')\n",
        "b2 = arr2d.ravel() \n",
        "b2[0] = 101\n",
        "print(arr2d)"
      ],
      "execution_count": 19,
      "outputs": [
        {
          "output_type": "stream",
          "text": [
            "----- flatten() -----\n",
            "\n",
            "[1 2 3 4 5 6 7 8 9]\n",
            "[[1 2 3]\n",
            " [4 5 6]\n",
            " [7 8 9]] \n",
            "\n",
            "----- ravel() -----\n",
            "\n",
            "[[101   2   3]\n",
            " [  4   5   6]\n",
            " [  7   8   9]]\n"
          ],
          "name": "stdout"
        }
      ]
    },
    {
      "cell_type": "markdown",
      "metadata": {
        "id": "t38V0q2Tsw-c",
        "colab_type": "text"
      },
      "source": [
        "## Funções Universais"
      ]
    },
    {
      "cell_type": "code",
      "metadata": {
        "id": "E-kgd8p2sw-c",
        "colab_type": "code",
        "colab": {
          "base_uri": "https://localhost:8080/",
          "height": 85
        },
        "outputId": "6aea31f6-ff7f-437b-f6c5-f41f66c020f1"
      },
      "source": [
        "arr = np.arange(10)\n",
        "print(arr)\n",
        "np.sqrt(arr) #raiz quadrada\n",
        "np.exp(arr) #e^x"
      ],
      "execution_count": 20,
      "outputs": [
        {
          "output_type": "stream",
          "text": [
            "[0 1 2 3 4 5 6 7 8 9]\n"
          ],
          "name": "stdout"
        },
        {
          "output_type": "execute_result",
          "data": {
            "text/plain": [
              "array([1.00000000e+00, 2.71828183e+00, 7.38905610e+00, 2.00855369e+01,\n",
              "       5.45981500e+01, 1.48413159e+02, 4.03428793e+02, 1.09663316e+03,\n",
              "       2.98095799e+03, 8.10308393e+03])"
            ]
          },
          "metadata": {
            "tags": []
          },
          "execution_count": 20
        }
      ]
    },
    {
      "cell_type": "markdown",
      "metadata": {
        "id": "Qzo88FlEsw-e",
        "colab_type": "text"
      },
      "source": [
        "## Localização baseada em Condição e Métodos Estatísticos"
      ]
    },
    {
      "cell_type": "code",
      "metadata": {
        "id": "2ZS96Yxvsw-f",
        "colab_type": "code",
        "colab": {}
      },
      "source": [
        "import numpy as np\n",
        "xarr = np.array([1.1, 1.2, 1.3, 1.4, 1.5])\n",
        "yarr = np.array([2.1, 2.2, 2.3, 2.4, 2.5])\n",
        "cond = np.array([True, False, True, True, False])\n",
        "import timeit"
      ],
      "execution_count": 0,
      "outputs": []
    },
    {
      "cell_type": "code",
      "metadata": {
        "id": "gsO0Ogjqsw-h",
        "colab_type": "code",
        "colab": {
          "base_uri": "https://localhost:8080/",
          "height": 51
        },
        "outputId": "d893c428-bd0b-4fff-edc3-6f263b01283f"
      },
      "source": [
        "%timeit result = [(x if c else y) for x, y, c in zip(xarr, yarr, cond)]\n",
        "#result"
      ],
      "execution_count": 30,
      "outputs": [
        {
          "output_type": "stream",
          "text": [
            "The slowest run took 6.47 times longer than the fastest. This could mean that an intermediate result is being cached.\n",
            "100000 loops, best of 3: 2.25 µs per loop\n"
          ],
          "name": "stdout"
        }
      ]
    },
    {
      "cell_type": "code",
      "metadata": {
        "id": "bLcL0TC6sw-j",
        "colab_type": "code",
        "colab": {
          "base_uri": "https://localhost:8080/",
          "height": 51
        },
        "outputId": "6ad3785d-68bc-4c7d-b491-2f21a03b56be"
      },
      "source": [
        "%timeit result = np.where(cond, xarr, yarr)\n",
        "#result\n",
        "####ESSA É MUITO BOA####"
      ],
      "execution_count": 49,
      "outputs": [
        {
          "output_type": "stream",
          "text": [
            "The slowest run took 24.25 times longer than the fastest. This could mean that an intermediate result is being cached.\n",
            "1000000 loops, best of 3: 1.34 µs per loop\n"
          ],
          "name": "stdout"
        }
      ]
    },
    {
      "cell_type": "code",
      "metadata": {
        "id": "WoeVABf6sw-l",
        "colab_type": "code",
        "colab": {
          "base_uri": "https://localhost:8080/",
          "height": 221
        },
        "outputId": "eb7f1cbd-2ce3-402d-ccb0-a83f4779ff7b"
      },
      "source": [
        "arr = np.random.randn(4, 4)\n",
        "print(arr)\n",
        "print(np.where(arr > 0, 2, -2)) # atribui 2 p/ x>0, -2 caso contrário\n",
        "print(np.where(arr > 0, 2, arr)) # atribui 2 p/ x>0, mantém original caso contrário"
      ],
      "execution_count": 32,
      "outputs": [
        {
          "output_type": "stream",
          "text": [
            "[[ 0.14587057 -1.09386912  1.43625817  0.62016911]\n",
            " [ 0.40504988  0.9291284   0.57256244 -0.18296643]\n",
            " [ 0.35394285  0.98535403  0.73182631 -0.22017878]\n",
            " [ 0.40182261 -1.09544769 -1.69790943  1.95884076]]\n",
            "[[ 2 -2  2  2]\n",
            " [ 2  2  2 -2]\n",
            " [ 2  2  2 -2]\n",
            " [ 2 -2 -2  2]]\n",
            "[[ 2.         -1.09386912  2.          2.        ]\n",
            " [ 2.          2.          2.         -0.18296643]\n",
            " [ 2.          2.          2.         -0.22017878]\n",
            " [ 2.         -1.09544769 -1.69790943  2.        ]]\n"
          ],
          "name": "stdout"
        }
      ]
    },
    {
      "cell_type": "code",
      "metadata": {
        "id": "TYsC6TkFsw-n",
        "colab_type": "code",
        "colab": {
          "base_uri": "https://localhost:8080/",
          "height": 170
        },
        "outputId": "f2a926b4-f4fa-4d6c-cf75-73b9ec0179e8"
      },
      "source": [
        "arr = np.random.randn(5, 4)\n",
        "print(arr)\n",
        "print(arr.mean()) #ou np.mean(arr)\n",
        "print(arr.sum())\n",
        "print(arr.mean(axis=1))\n",
        "print(arr.sum(0))"
      ],
      "execution_count": 33,
      "outputs": [
        {
          "output_type": "stream",
          "text": [
            "[[ 0.51165693  1.37642333 -0.07752341 -2.5807035 ]\n",
            " [ 0.41656808  0.82516157  0.02858185  1.57034672]\n",
            " [ 3.66844281 -1.89385992  0.25046712  0.50390284]\n",
            " [-2.4101894   0.39412275 -0.45344563 -0.33612331]\n",
            " [-0.77469912 -2.0529362   0.51365525  0.13992346]]\n",
            "-0.019011389326169453\n",
            "-0.38022778652338907\n",
            "[-0.19253666  0.71016455  0.63223821 -0.7014089  -0.54351415]\n",
            "[ 1.41177929 -1.35108847  0.26173519 -0.7026538 ]\n"
          ],
          "name": "stdout"
        }
      ]
    },
    {
      "cell_type": "markdown",
      "metadata": {
        "id": "FQAkjhtIsw-p",
        "colab_type": "text"
      },
      "source": [
        "## Álgebra Linear"
      ]
    },
    {
      "cell_type": "code",
      "metadata": {
        "id": "NWx_6Gqssw-q",
        "colab_type": "code",
        "colab": {
          "base_uri": "https://localhost:8080/",
          "height": 136
        },
        "outputId": "7a9d7b4e-c8a0-46f0-ffa3-65711dbc1f6f"
      },
      "source": [
        "x = np.array([[1., 2., 3.], [4., 5., 6.]])\n",
        "y = np.array([[6., 23.], [-1, 7], [8, 9]])\n",
        "print(x)\n",
        "print(y)\n",
        "z = np.matmul(x,y) #igual aa np.dot(x,y)\n",
        "print(z)"
      ],
      "execution_count": 34,
      "outputs": [
        {
          "output_type": "stream",
          "text": [
            "[[1. 2. 3.]\n",
            " [4. 5. 6.]]\n",
            "[[ 6. 23.]\n",
            " [-1.  7.]\n",
            " [ 8.  9.]]\n",
            "[[ 28.  64.]\n",
            " [ 67. 181.]]\n"
          ],
          "name": "stdout"
        }
      ]
    },
    {
      "cell_type": "code",
      "metadata": {
        "id": "ZRSuewK_sw-s",
        "colab_type": "code",
        "colab": {
          "base_uri": "https://localhost:8080/",
          "height": 272
        },
        "outputId": "21e94734-c859-41a5-ae95-0314eca8aefe"
      },
      "source": [
        "import numpy as np\n",
        "from numpy.linalg import inv\n",
        "X = np.random.randn(5, 5)\n",
        "print(X)\n",
        "mat = np.matmul(X.T,X) #transposta * X\n",
        "print(mat)\n",
        "print(inv(mat)) #inversa"
      ],
      "execution_count": 35,
      "outputs": [
        {
          "output_type": "stream",
          "text": [
            "[[ 0.68995219  2.68057185  1.79745888 -0.54917627  1.83047283]\n",
            " [ 0.22557209 -0.23811745  0.29885861  1.60416305 -0.16915563]\n",
            " [ 0.08993305  1.70289186  1.59430946  0.79962481  1.40909689]\n",
            " [ 0.58405026 -0.89063725 -1.21955837 -1.93998247 -0.08343679]\n",
            " [ 1.17289387 -0.19667257 -0.341166    0.34342655  0.68427987]]\n",
            "[[ 2.25179948  1.19804706  0.33852106 -0.67538265  2.10536271]\n",
            " [ 1.19804706 10.97392087  8.61527295  1.16786697  7.28626531]\n",
            " [ 0.33852106  8.61527295  7.46571443  3.01590197  5.35448554]\n",
            " [-0.67538265  1.16786697  3.01590197  7.39580729  0.24700916]\n",
            " [ 2.10536271  7.28626531  5.35448554  0.24700916  5.83999908]]\n",
            "[[  4.36247564  -4.22320513   8.30723841  -2.19447668  -3.82742057]\n",
            " [ -4.22320513  21.26836897 -26.44793204   7.07644989  -1.06309582]\n",
            " [  8.30723841 -26.44793204  36.20375092  -9.73554757  -2.77924559]\n",
            " [ -2.19447668   7.07644989  -9.73554757   2.76161983   0.77157227]\n",
            " [ -3.82742057  -1.06309582  -2.77924559   0.77157227   5.39297202]]\n"
          ],
          "name": "stdout"
        }
      ]
    },
    {
      "cell_type": "markdown",
      "metadata": {
        "id": "WdlUAHR3sw-v",
        "colab_type": "text"
      },
      "source": [
        "## Geração de Números Aleatórios"
      ]
    },
    {
      "cell_type": "markdown",
      "metadata": {
        "id": "CqKo2u5osw-v",
        "colab_type": "text"
      },
      "source": [
        "#### Você pode ver todas as distribuições nesse link: [numpy random](https://docs.scipy.org/doc/numpy-1.14.0/reference/routines.random.html)"
      ]
    },
    {
      "cell_type": "code",
      "metadata": {
        "id": "gOEqFqJFsw-w",
        "colab_type": "code",
        "colab": {
          "base_uri": "https://localhost:8080/",
          "height": 34
        },
        "outputId": "fdf2bb21-57a4-4d16-f0ce-a8724600bd97"
      },
      "source": [
        "# gera 4 números aleatórios\n",
        "# entre [0.0,1.0)\n",
        "samples = np.random.random(4)\n",
        "samples"
      ],
      "execution_count": 36,
      "outputs": [
        {
          "output_type": "execute_result",
          "data": {
            "text/plain": [
              "array([0.8790011 , 0.45553675, 0.7182895 , 0.86650915])"
            ]
          },
          "metadata": {
            "tags": []
          },
          "execution_count": 36
        }
      ]
    },
    {
      "cell_type": "code",
      "metadata": {
        "id": "V-HEiTu0sw-y",
        "colab_type": "code",
        "colab": {
          "base_uri": "https://localhost:8080/",
          "height": 51
        },
        "outputId": "53611b8d-e207-42ea-c243-516d6e283ede"
      },
      "source": [
        "# A geração de números é determinística\n",
        "# Ou seja, é baseada num estado interno\n",
        "# que chamamos de seed\n",
        "np.random.seed(42) # set seed\n",
        "print(np.random.random())\n",
        "np.random.seed(42) # reset seed\n",
        "print(np.random.random())"
      ],
      "execution_count": 37,
      "outputs": [
        {
          "output_type": "stream",
          "text": [
            "0.3745401188473625\n",
            "0.3745401188473625\n"
          ],
          "name": "stdout"
        }
      ]
    },
    {
      "cell_type": "code",
      "metadata": {
        "id": "PJwYLlc0sw-0",
        "colab_type": "code",
        "colab": {
          "base_uri": "https://localhost:8080/",
          "height": 34
        },
        "outputId": "8f0a7a79-c728-409d-bed8-1f2dc62a3cdb"
      },
      "source": [
        "# shuffle reordena um array\n",
        "# é muito usado antes do processo\n",
        "# de treino de algoritmo de ML\n",
        "x = np.arange(10)\n",
        "np.random.shuffle(x)\n",
        "x"
      ],
      "execution_count": 38,
      "outputs": [
        {
          "output_type": "execute_result",
          "data": {
            "text/plain": [
              "array([3, 9, 0, 8, 5, 2, 1, 6, 4, 7])"
            ]
          },
          "metadata": {
            "tags": []
          },
          "execution_count": 38
        }
      ]
    },
    {
      "cell_type": "markdown",
      "metadata": {
        "id": "IbnBpMSEsw-4",
        "colab_type": "text"
      },
      "source": [
        "## Vectorize"
      ]
    },
    {
      "cell_type": "code",
      "metadata": {
        "id": "3q-ea1j-sw-4",
        "colab_type": "code",
        "colab": {
          "base_uri": "https://localhost:8080/",
          "height": 351
        },
        "outputId": "2e1bf846-f4f5-4790-c48f-ff092b12406e"
      },
      "source": [
        "def modulo(x):\n",
        "    if x % 2 == 1:\n",
        "        return x**2\n",
        "    else:\n",
        "        return x/2\n",
        "    \n",
        "print('x = 10 retorna ', modulo(10))\n",
        "print('x = 11 retorna ', modulo(11))\n",
        "print('x = [10, 11, 12] retorna ', modulo([10, 11, 12])) # Erro"
      ],
      "execution_count": 39,
      "outputs": [
        {
          "output_type": "stream",
          "text": [
            "x = 10 retorna  5.0\n",
            "x = 11 retorna  121\n"
          ],
          "name": "stdout"
        },
        {
          "output_type": "error",
          "ename": "TypeError",
          "evalue": "ignored",
          "traceback": [
            "\u001b[0;31m---------------------------------------------------------------------------\u001b[0m",
            "\u001b[0;31mTypeError\u001b[0m                                 Traceback (most recent call last)",
            "\u001b[0;32m<ipython-input-39-56b2ec81a989>\u001b[0m in \u001b[0;36m<module>\u001b[0;34m()\u001b[0m\n\u001b[1;32m      7\u001b[0m \u001b[0mprint\u001b[0m\u001b[0;34m(\u001b[0m\u001b[0;34m'x = 10 retorna '\u001b[0m\u001b[0;34m,\u001b[0m \u001b[0mmodulo\u001b[0m\u001b[0;34m(\u001b[0m\u001b[0;36m10\u001b[0m\u001b[0;34m)\u001b[0m\u001b[0;34m)\u001b[0m\u001b[0;34m\u001b[0m\u001b[0;34m\u001b[0m\u001b[0m\n\u001b[1;32m      8\u001b[0m \u001b[0mprint\u001b[0m\u001b[0;34m(\u001b[0m\u001b[0;34m'x = 11 retorna '\u001b[0m\u001b[0;34m,\u001b[0m \u001b[0mmodulo\u001b[0m\u001b[0;34m(\u001b[0m\u001b[0;36m11\u001b[0m\u001b[0;34m)\u001b[0m\u001b[0;34m)\u001b[0m\u001b[0;34m\u001b[0m\u001b[0;34m\u001b[0m\u001b[0m\n\u001b[0;32m----> 9\u001b[0;31m \u001b[0mprint\u001b[0m\u001b[0;34m(\u001b[0m\u001b[0;34m'x = [10, 11, 12] retorna '\u001b[0m\u001b[0;34m,\u001b[0m \u001b[0mmodulo\u001b[0m\u001b[0;34m(\u001b[0m\u001b[0;34m[\u001b[0m\u001b[0;36m10\u001b[0m\u001b[0;34m,\u001b[0m \u001b[0;36m11\u001b[0m\u001b[0;34m,\u001b[0m \u001b[0;36m12\u001b[0m\u001b[0;34m]\u001b[0m\u001b[0;34m)\u001b[0m\u001b[0;34m)\u001b[0m \u001b[0;31m# Erro\u001b[0m\u001b[0;34m\u001b[0m\u001b[0;34m\u001b[0m\u001b[0m\n\u001b[0m",
            "\u001b[0;32m<ipython-input-39-56b2ec81a989>\u001b[0m in \u001b[0;36mmodulo\u001b[0;34m(x)\u001b[0m\n\u001b[1;32m      1\u001b[0m \u001b[0;32mdef\u001b[0m \u001b[0mmodulo\u001b[0m\u001b[0;34m(\u001b[0m\u001b[0mx\u001b[0m\u001b[0;34m)\u001b[0m\u001b[0;34m:\u001b[0m\u001b[0;34m\u001b[0m\u001b[0;34m\u001b[0m\u001b[0m\n\u001b[0;32m----> 2\u001b[0;31m     \u001b[0;32mif\u001b[0m \u001b[0mx\u001b[0m \u001b[0;34m%\u001b[0m \u001b[0;36m2\u001b[0m \u001b[0;34m==\u001b[0m \u001b[0;36m1\u001b[0m\u001b[0;34m:\u001b[0m\u001b[0;34m\u001b[0m\u001b[0;34m\u001b[0m\u001b[0m\n\u001b[0m\u001b[1;32m      3\u001b[0m         \u001b[0;32mreturn\u001b[0m \u001b[0mx\u001b[0m\u001b[0;34m**\u001b[0m\u001b[0;36m2\u001b[0m\u001b[0;34m\u001b[0m\u001b[0;34m\u001b[0m\u001b[0m\n\u001b[1;32m      4\u001b[0m     \u001b[0;32melse\u001b[0m\u001b[0;34m:\u001b[0m\u001b[0;34m\u001b[0m\u001b[0;34m\u001b[0m\u001b[0m\n\u001b[1;32m      5\u001b[0m         \u001b[0;32mreturn\u001b[0m \u001b[0mx\u001b[0m\u001b[0;34m/\u001b[0m\u001b[0;36m2\u001b[0m\u001b[0;34m\u001b[0m\u001b[0;34m\u001b[0m\u001b[0m\n",
            "\u001b[0;31mTypeError\u001b[0m: unsupported operand type(s) for %: 'list' and 'int'"
          ]
        }
      ]
    },
    {
      "cell_type": "code",
      "metadata": {
        "id": "FN0Jo5dTsw-7",
        "colab_type": "code",
        "colab": {
          "base_uri": "https://localhost:8080/",
          "height": 68
        },
        "outputId": "095a8776-1b68-4089-bea8-a4ef4ad88f81"
      },
      "source": [
        "modulo_vect = np.vectorize(modulo, otypes=[float])\n",
        "\n",
        "print('x = [10, 11, 12] retorna ', modulo_vect([10, 11, 12]))\n",
        "print('x = [[10, 11, 12], [1, 2, 3]] retorna ', modulo_vect([[10, 11, 12], [1, 2, 3]]))"
      ],
      "execution_count": 40,
      "outputs": [
        {
          "output_type": "stream",
          "text": [
            "x = [10, 11, 12] retorna  [  5. 121.   6.]\n",
            "x = [[10, 11, 12], [1, 2, 3]] retorna  [[  5. 121.   6.]\n",
            " [  1.   1.   9.]]\n"
          ],
          "name": "stdout"
        }
      ]
    },
    {
      "cell_type": "markdown",
      "metadata": {
        "id": "KwwWZkkNsw-9",
        "colab_type": "text"
      },
      "source": [
        "## Aplicar uma função – coluna ou linha"
      ]
    },
    {
      "cell_type": "code",
      "metadata": {
        "id": "rivEFflrsw-9",
        "colab_type": "code",
        "colab": {
          "base_uri": "https://localhost:8080/",
          "height": 85
        },
        "outputId": "635a743f-482b-4521-bc84-4365fce6d983"
      },
      "source": [
        "#criando matriz\n",
        "np.random.seed(100)\n",
        "arr_x = np.random.randint(1,10,size=[4,10])\n",
        "arr_x"
      ],
      "execution_count": 41,
      "outputs": [
        {
          "output_type": "execute_result",
          "data": {
            "text/plain": [
              "array([[9, 9, 4, 8, 8, 1, 5, 3, 6, 3],\n",
              "       [3, 3, 2, 1, 9, 5, 1, 7, 3, 5],\n",
              "       [2, 6, 4, 5, 5, 4, 8, 2, 2, 8],\n",
              "       [8, 1, 3, 4, 3, 6, 9, 2, 1, 8]])"
            ]
          },
          "metadata": {
            "tags": []
          },
          "execution_count": 41
        }
      ]
    },
    {
      "cell_type": "code",
      "metadata": {
        "id": "vodCiPJasw-_",
        "colab_type": "code",
        "colab": {
          "base_uri": "https://localhost:8080/",
          "height": 51
        },
        "outputId": "7c3e3fcd-9698-4ec6-9f59-e07d8ca8a7d7"
      },
      "source": [
        "#função que calcula diferença\n",
        "def max_minus_min(x):\n",
        "    return np.max(x) - np.min(x)\n",
        "\n",
        "# aplicando nas linhas\n",
        "print('Por linha: ', np.apply_along_axis(max_minus_min, 1, arr=arr_x))\n",
        "\n",
        "# aplicando nas colunas\n",
        "print('Por coluna: ', np.apply_along_axis(max_minus_min, 0, arr=arr_x))"
      ],
      "execution_count": 42,
      "outputs": [
        {
          "output_type": "stream",
          "text": [
            "Por linha:  [8 8 6 8]\n",
            "Por coluna:  [7 8 2 7 6 5 8 5 5 5]\n"
          ],
          "name": "stdout"
        }
      ]
    },
    {
      "cell_type": "markdown",
      "metadata": {
        "id": "4lYNIOw8sw_B",
        "colab_type": "text"
      },
      "source": [
        "## Outros Métodos"
      ]
    },
    {
      "cell_type": "code",
      "metadata": {
        "id": "KmNvvT1Usw_C",
        "colab_type": "code",
        "colab": {}
      },
      "source": [
        "bools = np.array([False, False, True, False])\n",
        "print(bools.any()) # se houver pelo menos um True\n",
        "print(bools.all()) # se todos forem True"
      ],
      "execution_count": 0,
      "outputs": []
    },
    {
      "cell_type": "code",
      "metadata": {
        "id": "kefwrDdesw_E",
        "colab_type": "code",
        "colab": {}
      },
      "source": [
        "arr = np.random.randn(8)\n",
        "print(arr)\n",
        "arr.sort() #in-place\n",
        "print(arr)"
      ],
      "execution_count": 0,
      "outputs": []
    },
    {
      "cell_type": "code",
      "metadata": {
        "id": "rTfAVIAgsw_H",
        "colab_type": "code",
        "colab": {
          "base_uri": "https://localhost:8080/",
          "height": 51
        },
        "outputId": "2d28a841-ca27-494d-8883-09887a0ca191"
      },
      "source": [
        "names = np.array(['Bob', 'Joe', 'Will', 'Bob', 'Will', 'Joe', 'Joe'])\n",
        "print(np.unique(names))\n",
        "ints = np.array([3, 3, 3, 2, 2, 1, 1, 4, 4])\n",
        "print(np.unique(ints))"
      ],
      "execution_count": 43,
      "outputs": [
        {
          "output_type": "stream",
          "text": [
            "['Bob' 'Joe' 'Will']\n",
            "[1 2 3 4]\n"
          ],
          "name": "stdout"
        }
      ]
    },
    {
      "cell_type": "code",
      "metadata": {
        "id": "BWN-W2ydsw_J",
        "colab_type": "code",
        "colab": {
          "base_uri": "https://localhost:8080/",
          "height": 34
        },
        "outputId": "34851bb3-1d41-4385-95a6-ad44cfe0b230"
      },
      "source": [
        "values = np.array([6, 0, 0, 3, 2, 5, 6])\n",
        "np.in1d(values, [2, 3, 6])"
      ],
      "execution_count": 44,
      "outputs": [
        {
          "output_type": "execute_result",
          "data": {
            "text/plain": [
              "array([ True, False, False,  True,  True, False,  True])"
            ]
          },
          "metadata": {
            "tags": []
          },
          "execution_count": 44
        }
      ]
    },
    {
      "cell_type": "markdown",
      "metadata": {
        "id": "hSqAX10Dsw_L",
        "colab_type": "text"
      },
      "source": [
        "## TODO Section"
      ]
    },
    {
      "cell_type": "markdown",
      "metadata": {
        "id": "0e1jWfhPsw_M",
        "colab_type": "text"
      },
      "source": [
        "### Manipulação de Arrays\n",
        "\n",
        "Suponha dois arrays, A = [1,4,2,6,5,7,3,0] e B = [3,2,0,9,8,7]. \n",
        "\n",
        "Remove de A todo elemento pertencente a B"
      ]
    },
    {
      "cell_type": "code",
      "metadata": {
        "id": "wdayRXQ1sw_N",
        "colab_type": "code",
        "colab": {
          "base_uri": "https://localhost:8080/",
          "height": 34
        },
        "outputId": "31be4d92-a736-4165-ebbb-cc934aaff0b5"
      },
      "source": [
        "# TODO: sua resposta aqui\n",
        "import numpy as np\n",
        "import timeit\n",
        "a = [1,4,2,6,5,7,3,0]\n",
        "b = [3,2,0,9,8,7]\n",
        "\n",
        "retorno = np.setdiff1d(a,b)\n",
        "\n",
        "print(retorno)"
      ],
      "execution_count": 61,
      "outputs": [
        {
          "output_type": "stream",
          "text": [
            "[1 4 5 6]\n"
          ],
          "name": "stdout"
        }
      ]
    },
    {
      "cell_type": "markdown",
      "metadata": {
        "id": "lRppc7nusw_O",
        "colab_type": "text"
      },
      "source": [
        "### Manipulando arrays de acordo com valores escalares\n",
        "\n",
        "Seja um array, A = [10,3,7,5,8,23,15] e dois escalares, x = 6, y = 20. \n",
        "\n",
        "Crie uma função que retorne um novo array contendo elementos no intervalo [6,20]"
      ]
    },
    {
      "cell_type": "code",
      "metadata": {
        "id": "GOaOacQOsw_P",
        "colab_type": "code",
        "colab": {}
      },
      "source": [
        "# TODO: sua resposta aqui\n",
        "def interval (vetor, x=6, y=20):\n",
        "    return np.sort(vetor[(vetor > x) & (vetor <y)])"
      ],
      "execution_count": 0,
      "outputs": []
    },
    {
      "cell_type": "markdown",
      "metadata": {
        "id": "Kt97jHwfsw_S",
        "colab_type": "text"
      },
      "source": [
        "# Pandas"
      ]
    },
    {
      "cell_type": "markdown",
      "metadata": {
        "id": "V5tUxR2jsw_T",
        "colab_type": "text"
      },
      "source": [
        "## Estrutura de Dados"
      ]
    },
    {
      "cell_type": "code",
      "metadata": {
        "id": "OuvRKimpsw_U",
        "colab_type": "code",
        "colab": {
          "base_uri": "https://localhost:8080/",
          "height": 102
        },
        "outputId": "6dc74b74-8cdc-43ca-eb30-471378655504"
      },
      "source": [
        "from pandas import Series, DataFrame\n",
        "import pandas as pd\n",
        "obj = Series([4, 7, -5, 3])\n",
        "obj"
      ],
      "execution_count": 65,
      "outputs": [
        {
          "output_type": "execute_result",
          "data": {
            "text/plain": [
              "0    4\n",
              "1    7\n",
              "2   -5\n",
              "3    3\n",
              "dtype: int64"
            ]
          },
          "metadata": {
            "tags": []
          },
          "execution_count": 65
        }
      ]
    },
    {
      "cell_type": "code",
      "metadata": {
        "id": "490jUiVPsw_W",
        "colab_type": "code",
        "colab": {
          "base_uri": "https://localhost:8080/",
          "height": 51
        },
        "outputId": "57405f73-a99f-4d44-cc30-5dc8b604c7c9"
      },
      "source": [
        "print(obj.values)\n",
        "print(obj.index) #obj.index.values"
      ],
      "execution_count": 66,
      "outputs": [
        {
          "output_type": "stream",
          "text": [
            "[ 4  7 -5  3]\n",
            "RangeIndex(start=0, stop=4, step=1)\n"
          ],
          "name": "stdout"
        }
      ]
    },
    {
      "cell_type": "code",
      "metadata": {
        "id": "SXsQ32MZsw_Y",
        "colab_type": "code",
        "colab": {
          "base_uri": "https://localhost:8080/",
          "height": 102
        },
        "outputId": "a74c183b-e507-40ee-d992-98c021ebfe1c"
      },
      "source": [
        "obj2 = Series([4, 7, -5, 3], index=['d', 'b', 'a', 'c'])\n",
        "obj2"
      ],
      "execution_count": 67,
      "outputs": [
        {
          "output_type": "execute_result",
          "data": {
            "text/plain": [
              "d    4\n",
              "b    7\n",
              "a   -5\n",
              "c    3\n",
              "dtype: int64"
            ]
          },
          "metadata": {
            "tags": []
          },
          "execution_count": 67
        }
      ]
    },
    {
      "cell_type": "code",
      "metadata": {
        "id": "340YXjpQsw_a",
        "colab_type": "code",
        "colab": {
          "base_uri": "https://localhost:8080/",
          "height": 238
        },
        "outputId": "3c141d56-18bf-4405-82fc-c84a9eaf63df"
      },
      "source": [
        "import numpy as np\n",
        "print(obj2[(obj2 > 0) & (obj2 < 5)])\n",
        "print(obj2 * 2)\n",
        "print(np.exp(obj2))"
      ],
      "execution_count": 68,
      "outputs": [
        {
          "output_type": "stream",
          "text": [
            "d    4\n",
            "c    3\n",
            "dtype: int64\n",
            "d     8\n",
            "b    14\n",
            "a   -10\n",
            "c     6\n",
            "dtype: int64\n",
            "d      54.598150\n",
            "b    1096.633158\n",
            "a       0.006738\n",
            "c      20.085537\n",
            "dtype: float64\n"
          ],
          "name": "stdout"
        }
      ]
    },
    {
      "cell_type": "code",
      "metadata": {
        "id": "Gn1Vbzmhsw_c",
        "colab_type": "code",
        "colab": {
          "base_uri": "https://localhost:8080/",
          "height": 102
        },
        "outputId": "158d5eae-c42d-45f4-e2d7-bad1127f481c"
      },
      "source": [
        "sdata = {'Ohio': 35000, 'Texas': 71000, 'Oregon': 16000, 'Utah': 5000}\n",
        "obj3 = Series(sdata)\n",
        "obj3"
      ],
      "execution_count": 69,
      "outputs": [
        {
          "output_type": "execute_result",
          "data": {
            "text/plain": [
              "Ohio      35000\n",
              "Texas     71000\n",
              "Oregon    16000\n",
              "Utah       5000\n",
              "dtype: int64"
            ]
          },
          "metadata": {
            "tags": []
          },
          "execution_count": 69
        }
      ]
    },
    {
      "cell_type": "code",
      "metadata": {
        "id": "L4w81xt6sw_e",
        "colab_type": "code",
        "colab": {
          "base_uri": "https://localhost:8080/",
          "height": 102
        },
        "outputId": "4762dd3d-ce69-43c8-d17b-4f0f2ad42bca"
      },
      "source": [
        "states = ['Oregon', 'Texas','California', 'Ohio']\n",
        "obj4 = Series(sdata, index=states)\n",
        "obj4"
      ],
      "execution_count": 70,
      "outputs": [
        {
          "output_type": "execute_result",
          "data": {
            "text/plain": [
              "Oregon        16000.0\n",
              "Texas         71000.0\n",
              "California        NaN\n",
              "Ohio          35000.0\n",
              "dtype: float64"
            ]
          },
          "metadata": {
            "tags": []
          },
          "execution_count": 70
        }
      ]
    },
    {
      "cell_type": "code",
      "metadata": {
        "id": "UrJoMAn0sw_f",
        "colab_type": "code",
        "colab": {}
      },
      "source": [
        "print(pd.isnull(obj4)) # == obj4.isnull()\n",
        "print(pd.notnull(obj4))"
      ],
      "execution_count": 0,
      "outputs": []
    },
    {
      "cell_type": "code",
      "metadata": {
        "id": "V_v3ed5Zsw_g",
        "colab_type": "code",
        "colab": {}
      },
      "source": [
        "print(obj3)\n",
        "print(obj4)\n",
        "obj3 + obj4"
      ],
      "execution_count": 0,
      "outputs": []
    },
    {
      "cell_type": "code",
      "metadata": {
        "id": "2YdO-0URsw_i",
        "colab_type": "code",
        "colab": {}
      },
      "source": [
        "obj4.name = 'population'\n",
        "obj4.index.name = 'state'\n",
        "obj4"
      ],
      "execution_count": 0,
      "outputs": []
    },
    {
      "cell_type": "code",
      "metadata": {
        "id": "upuN_3YBsw_j",
        "colab_type": "code",
        "colab": {}
      },
      "source": [
        "obj.index = ['Bob', 'Steve', 'Jeff', 'Ryan']\n",
        "obj"
      ],
      "execution_count": 0,
      "outputs": []
    },
    {
      "cell_type": "code",
      "metadata": {
        "id": "XV9uuokVsw_k",
        "colab_type": "code",
        "colab": {
          "base_uri": "https://localhost:8080/",
          "height": 204
        },
        "outputId": "53becfaf-1180-4744-efe9-e4d75e60ae1c"
      },
      "source": [
        "data = {'state': ['Ohio', 'Ohio', 'Ohio', 'Nevada', 'Nevada'],\n",
        "        'year': [2000, 2001, 2002, 2001, 2002],\n",
        "        'pop': [1.5, 1.7, 3.6, 2.4, 2.9]}\n",
        "df = DataFrame(data)\n",
        "df"
      ],
      "execution_count": 71,
      "outputs": [
        {
          "output_type": "execute_result",
          "data": {
            "text/html": [
              "<div>\n",
              "<style scoped>\n",
              "    .dataframe tbody tr th:only-of-type {\n",
              "        vertical-align: middle;\n",
              "    }\n",
              "\n",
              "    .dataframe tbody tr th {\n",
              "        vertical-align: top;\n",
              "    }\n",
              "\n",
              "    .dataframe thead th {\n",
              "        text-align: right;\n",
              "    }\n",
              "</style>\n",
              "<table border=\"1\" class=\"dataframe\">\n",
              "  <thead>\n",
              "    <tr style=\"text-align: right;\">\n",
              "      <th></th>\n",
              "      <th>state</th>\n",
              "      <th>year</th>\n",
              "      <th>pop</th>\n",
              "    </tr>\n",
              "  </thead>\n",
              "  <tbody>\n",
              "    <tr>\n",
              "      <th>0</th>\n",
              "      <td>Ohio</td>\n",
              "      <td>2000</td>\n",
              "      <td>1.5</td>\n",
              "    </tr>\n",
              "    <tr>\n",
              "      <th>1</th>\n",
              "      <td>Ohio</td>\n",
              "      <td>2001</td>\n",
              "      <td>1.7</td>\n",
              "    </tr>\n",
              "    <tr>\n",
              "      <th>2</th>\n",
              "      <td>Ohio</td>\n",
              "      <td>2002</td>\n",
              "      <td>3.6</td>\n",
              "    </tr>\n",
              "    <tr>\n",
              "      <th>3</th>\n",
              "      <td>Nevada</td>\n",
              "      <td>2001</td>\n",
              "      <td>2.4</td>\n",
              "    </tr>\n",
              "    <tr>\n",
              "      <th>4</th>\n",
              "      <td>Nevada</td>\n",
              "      <td>2002</td>\n",
              "      <td>2.9</td>\n",
              "    </tr>\n",
              "  </tbody>\n",
              "</table>\n",
              "</div>"
            ],
            "text/plain": [
              "    state  year  pop\n",
              "0    Ohio  2000  1.5\n",
              "1    Ohio  2001  1.7\n",
              "2    Ohio  2002  3.6\n",
              "3  Nevada  2001  2.4\n",
              "4  Nevada  2002  2.9"
            ]
          },
          "metadata": {
            "tags": []
          },
          "execution_count": 71
        }
      ]
    },
    {
      "cell_type": "code",
      "metadata": {
        "id": "t93_TVXzsw_m",
        "colab_type": "code",
        "colab": {
          "base_uri": "https://localhost:8080/",
          "height": 204
        },
        "outputId": "cb371c3d-6279-40f4-918a-b2764a91fd4f"
      },
      "source": [
        "df2 = DataFrame(data, columns=['year', 'state', 'pop', 'debt'],\n",
        "                index=['one', 'two', 'three', 'four', 'five'])\n",
        "df2"
      ],
      "execution_count": 72,
      "outputs": [
        {
          "output_type": "execute_result",
          "data": {
            "text/html": [
              "<div>\n",
              "<style scoped>\n",
              "    .dataframe tbody tr th:only-of-type {\n",
              "        vertical-align: middle;\n",
              "    }\n",
              "\n",
              "    .dataframe tbody tr th {\n",
              "        vertical-align: top;\n",
              "    }\n",
              "\n",
              "    .dataframe thead th {\n",
              "        text-align: right;\n",
              "    }\n",
              "</style>\n",
              "<table border=\"1\" class=\"dataframe\">\n",
              "  <thead>\n",
              "    <tr style=\"text-align: right;\">\n",
              "      <th></th>\n",
              "      <th>year</th>\n",
              "      <th>state</th>\n",
              "      <th>pop</th>\n",
              "      <th>debt</th>\n",
              "    </tr>\n",
              "  </thead>\n",
              "  <tbody>\n",
              "    <tr>\n",
              "      <th>one</th>\n",
              "      <td>2000</td>\n",
              "      <td>Ohio</td>\n",
              "      <td>1.5</td>\n",
              "      <td>NaN</td>\n",
              "    </tr>\n",
              "    <tr>\n",
              "      <th>two</th>\n",
              "      <td>2001</td>\n",
              "      <td>Ohio</td>\n",
              "      <td>1.7</td>\n",
              "      <td>NaN</td>\n",
              "    </tr>\n",
              "    <tr>\n",
              "      <th>three</th>\n",
              "      <td>2002</td>\n",
              "      <td>Ohio</td>\n",
              "      <td>3.6</td>\n",
              "      <td>NaN</td>\n",
              "    </tr>\n",
              "    <tr>\n",
              "      <th>four</th>\n",
              "      <td>2001</td>\n",
              "      <td>Nevada</td>\n",
              "      <td>2.4</td>\n",
              "      <td>NaN</td>\n",
              "    </tr>\n",
              "    <tr>\n",
              "      <th>five</th>\n",
              "      <td>2002</td>\n",
              "      <td>Nevada</td>\n",
              "      <td>2.9</td>\n",
              "      <td>NaN</td>\n",
              "    </tr>\n",
              "  </tbody>\n",
              "</table>\n",
              "</div>"
            ],
            "text/plain": [
              "       year   state  pop debt\n",
              "one    2000    Ohio  1.5  NaN\n",
              "two    2001    Ohio  1.7  NaN\n",
              "three  2002    Ohio  3.6  NaN\n",
              "four   2001  Nevada  2.4  NaN\n",
              "five   2002  Nevada  2.9  NaN"
            ]
          },
          "metadata": {
            "tags": []
          },
          "execution_count": 72
        }
      ]
    },
    {
      "cell_type": "code",
      "metadata": {
        "id": "ZthQpY6qsw_n",
        "colab_type": "code",
        "colab": {
          "base_uri": "https://localhost:8080/",
          "height": 221
        },
        "outputId": "75edada7-9677-4dc5-cdae-e91d187a30f7"
      },
      "source": [
        "print(df['state'])\n",
        "print(df.year)"
      ],
      "execution_count": 73,
      "outputs": [
        {
          "output_type": "stream",
          "text": [
            "0      Ohio\n",
            "1      Ohio\n",
            "2      Ohio\n",
            "3    Nevada\n",
            "4    Nevada\n",
            "Name: state, dtype: object\n",
            "0    2000\n",
            "1    2001\n",
            "2    2002\n",
            "3    2001\n",
            "4    2002\n",
            "Name: year, dtype: int64\n"
          ],
          "name": "stdout"
        }
      ]
    },
    {
      "cell_type": "code",
      "metadata": {
        "id": "vg4WJSVDsw_r",
        "colab_type": "code",
        "colab": {
          "base_uri": "https://localhost:8080/",
          "height": 170
        },
        "outputId": "2ec7ab9e-706a-4905-c0e1-c3faf95b5b85"
      },
      "source": [
        "print(df2.loc['four']) #label\n",
        "print(df.iloc[0]) #int"
      ],
      "execution_count": 74,
      "outputs": [
        {
          "output_type": "stream",
          "text": [
            "year       2001\n",
            "state    Nevada\n",
            "pop         2.4\n",
            "debt        NaN\n",
            "Name: four, dtype: object\n",
            "state    Ohio\n",
            "year     2000\n",
            "pop       1.5\n",
            "Name: 0, dtype: object\n"
          ],
          "name": "stdout"
        }
      ]
    },
    {
      "cell_type": "code",
      "metadata": {
        "id": "unZSrIIPsw_t",
        "colab_type": "code",
        "colab": {}
      },
      "source": [
        "df2['debt'] = np.arange(5)"
      ],
      "execution_count": 0,
      "outputs": []
    },
    {
      "cell_type": "code",
      "metadata": {
        "id": "eRUeltHPsw_v",
        "colab_type": "code",
        "colab": {
          "base_uri": "https://localhost:8080/",
          "height": 204
        },
        "outputId": "c0bdb712-893d-4fd2-9d15-45b5529e677a"
      },
      "source": [
        "val = Series([-1.2, -1.5, -1.7], index=['two', 'four', 'five'])\n",
        "df2['debt'] = val\n",
        "df2"
      ],
      "execution_count": 77,
      "outputs": [
        {
          "output_type": "execute_result",
          "data": {
            "text/html": [
              "<div>\n",
              "<style scoped>\n",
              "    .dataframe tbody tr th:only-of-type {\n",
              "        vertical-align: middle;\n",
              "    }\n",
              "\n",
              "    .dataframe tbody tr th {\n",
              "        vertical-align: top;\n",
              "    }\n",
              "\n",
              "    .dataframe thead th {\n",
              "        text-align: right;\n",
              "    }\n",
              "</style>\n",
              "<table border=\"1\" class=\"dataframe\">\n",
              "  <thead>\n",
              "    <tr style=\"text-align: right;\">\n",
              "      <th></th>\n",
              "      <th>year</th>\n",
              "      <th>state</th>\n",
              "      <th>pop</th>\n",
              "      <th>debt</th>\n",
              "    </tr>\n",
              "  </thead>\n",
              "  <tbody>\n",
              "    <tr>\n",
              "      <th>one</th>\n",
              "      <td>2000</td>\n",
              "      <td>Ohio</td>\n",
              "      <td>1.5</td>\n",
              "      <td>NaN</td>\n",
              "    </tr>\n",
              "    <tr>\n",
              "      <th>two</th>\n",
              "      <td>2001</td>\n",
              "      <td>Ohio</td>\n",
              "      <td>1.7</td>\n",
              "      <td>-1.2</td>\n",
              "    </tr>\n",
              "    <tr>\n",
              "      <th>three</th>\n",
              "      <td>2002</td>\n",
              "      <td>Ohio</td>\n",
              "      <td>3.6</td>\n",
              "      <td>NaN</td>\n",
              "    </tr>\n",
              "    <tr>\n",
              "      <th>four</th>\n",
              "      <td>2001</td>\n",
              "      <td>Nevada</td>\n",
              "      <td>2.4</td>\n",
              "      <td>-1.5</td>\n",
              "    </tr>\n",
              "    <tr>\n",
              "      <th>five</th>\n",
              "      <td>2002</td>\n",
              "      <td>Nevada</td>\n",
              "      <td>2.9</td>\n",
              "      <td>-1.7</td>\n",
              "    </tr>\n",
              "  </tbody>\n",
              "</table>\n",
              "</div>"
            ],
            "text/plain": [
              "       year   state  pop  debt\n",
              "one    2000    Ohio  1.5   NaN\n",
              "two    2001    Ohio  1.7  -1.2\n",
              "three  2002    Ohio  3.6   NaN\n",
              "four   2001  Nevada  2.4  -1.5\n",
              "five   2002  Nevada  2.9  -1.7"
            ]
          },
          "metadata": {
            "tags": []
          },
          "execution_count": 77
        }
      ]
    },
    {
      "cell_type": "code",
      "metadata": {
        "id": "aJ2793posw_w",
        "colab_type": "code",
        "colab": {
          "base_uri": "https://localhost:8080/",
          "height": 204
        },
        "outputId": "cf525909-6058-4c82-8267-93b3ded7700b"
      },
      "source": [
        "df2['eastern'] = df2.state == 'Ohio'\n",
        "df2"
      ],
      "execution_count": 78,
      "outputs": [
        {
          "output_type": "execute_result",
          "data": {
            "text/html": [
              "<div>\n",
              "<style scoped>\n",
              "    .dataframe tbody tr th:only-of-type {\n",
              "        vertical-align: middle;\n",
              "    }\n",
              "\n",
              "    .dataframe tbody tr th {\n",
              "        vertical-align: top;\n",
              "    }\n",
              "\n",
              "    .dataframe thead th {\n",
              "        text-align: right;\n",
              "    }\n",
              "</style>\n",
              "<table border=\"1\" class=\"dataframe\">\n",
              "  <thead>\n",
              "    <tr style=\"text-align: right;\">\n",
              "      <th></th>\n",
              "      <th>year</th>\n",
              "      <th>state</th>\n",
              "      <th>pop</th>\n",
              "      <th>debt</th>\n",
              "      <th>eastern</th>\n",
              "    </tr>\n",
              "  </thead>\n",
              "  <tbody>\n",
              "    <tr>\n",
              "      <th>one</th>\n",
              "      <td>2000</td>\n",
              "      <td>Ohio</td>\n",
              "      <td>1.5</td>\n",
              "      <td>NaN</td>\n",
              "      <td>True</td>\n",
              "    </tr>\n",
              "    <tr>\n",
              "      <th>two</th>\n",
              "      <td>2001</td>\n",
              "      <td>Ohio</td>\n",
              "      <td>1.7</td>\n",
              "      <td>-1.2</td>\n",
              "      <td>True</td>\n",
              "    </tr>\n",
              "    <tr>\n",
              "      <th>three</th>\n",
              "      <td>2002</td>\n",
              "      <td>Ohio</td>\n",
              "      <td>3.6</td>\n",
              "      <td>NaN</td>\n",
              "      <td>True</td>\n",
              "    </tr>\n",
              "    <tr>\n",
              "      <th>four</th>\n",
              "      <td>2001</td>\n",
              "      <td>Nevada</td>\n",
              "      <td>2.4</td>\n",
              "      <td>-1.5</td>\n",
              "      <td>False</td>\n",
              "    </tr>\n",
              "    <tr>\n",
              "      <th>five</th>\n",
              "      <td>2002</td>\n",
              "      <td>Nevada</td>\n",
              "      <td>2.9</td>\n",
              "      <td>-1.7</td>\n",
              "      <td>False</td>\n",
              "    </tr>\n",
              "  </tbody>\n",
              "</table>\n",
              "</div>"
            ],
            "text/plain": [
              "       year   state  pop  debt  eastern\n",
              "one    2000    Ohio  1.5   NaN     True\n",
              "two    2001    Ohio  1.7  -1.2     True\n",
              "three  2002    Ohio  3.6   NaN     True\n",
              "four   2001  Nevada  2.4  -1.5    False\n",
              "five   2002  Nevada  2.9  -1.7    False"
            ]
          },
          "metadata": {
            "tags": []
          },
          "execution_count": 78
        }
      ]
    },
    {
      "cell_type": "code",
      "metadata": {
        "id": "YXqTmbSKsw_y",
        "colab_type": "code",
        "colab": {
          "base_uri": "https://localhost:8080/",
          "height": 204
        },
        "outputId": "bcc803d6-f2f4-4d4e-848c-8f5dc384563a"
      },
      "source": [
        "del df2['eastern']\n",
        "df2"
      ],
      "execution_count": 79,
      "outputs": [
        {
          "output_type": "execute_result",
          "data": {
            "text/html": [
              "<div>\n",
              "<style scoped>\n",
              "    .dataframe tbody tr th:only-of-type {\n",
              "        vertical-align: middle;\n",
              "    }\n",
              "\n",
              "    .dataframe tbody tr th {\n",
              "        vertical-align: top;\n",
              "    }\n",
              "\n",
              "    .dataframe thead th {\n",
              "        text-align: right;\n",
              "    }\n",
              "</style>\n",
              "<table border=\"1\" class=\"dataframe\">\n",
              "  <thead>\n",
              "    <tr style=\"text-align: right;\">\n",
              "      <th></th>\n",
              "      <th>year</th>\n",
              "      <th>state</th>\n",
              "      <th>pop</th>\n",
              "      <th>debt</th>\n",
              "    </tr>\n",
              "  </thead>\n",
              "  <tbody>\n",
              "    <tr>\n",
              "      <th>one</th>\n",
              "      <td>2000</td>\n",
              "      <td>Ohio</td>\n",
              "      <td>1.5</td>\n",
              "      <td>NaN</td>\n",
              "    </tr>\n",
              "    <tr>\n",
              "      <th>two</th>\n",
              "      <td>2001</td>\n",
              "      <td>Ohio</td>\n",
              "      <td>1.7</td>\n",
              "      <td>-1.2</td>\n",
              "    </tr>\n",
              "    <tr>\n",
              "      <th>three</th>\n",
              "      <td>2002</td>\n",
              "      <td>Ohio</td>\n",
              "      <td>3.6</td>\n",
              "      <td>NaN</td>\n",
              "    </tr>\n",
              "    <tr>\n",
              "      <th>four</th>\n",
              "      <td>2001</td>\n",
              "      <td>Nevada</td>\n",
              "      <td>2.4</td>\n",
              "      <td>-1.5</td>\n",
              "    </tr>\n",
              "    <tr>\n",
              "      <th>five</th>\n",
              "      <td>2002</td>\n",
              "      <td>Nevada</td>\n",
              "      <td>2.9</td>\n",
              "      <td>-1.7</td>\n",
              "    </tr>\n",
              "  </tbody>\n",
              "</table>\n",
              "</div>"
            ],
            "text/plain": [
              "       year   state  pop  debt\n",
              "one    2000    Ohio  1.5   NaN\n",
              "two    2001    Ohio  1.7  -1.2\n",
              "three  2002    Ohio  3.6   NaN\n",
              "four   2001  Nevada  2.4  -1.5\n",
              "five   2002  Nevada  2.9  -1.7"
            ]
          },
          "metadata": {
            "tags": []
          },
          "execution_count": 79
        }
      ]
    },
    {
      "cell_type": "code",
      "metadata": {
        "id": "6oC-TB9ksw_z",
        "colab_type": "code",
        "colab": {
          "base_uri": "https://localhost:8080/",
          "height": 102
        },
        "outputId": "aa09fc68-af13-4914-dc37-96c9b7ff716a"
      },
      "source": [
        "df.values"
      ],
      "execution_count": 80,
      "outputs": [
        {
          "output_type": "execute_result",
          "data": {
            "text/plain": [
              "array([['Ohio', 2000, 1.5],\n",
              "       ['Ohio', 2001, 1.7],\n",
              "       ['Ohio', 2002, 3.6],\n",
              "       ['Nevada', 2001, 2.4],\n",
              "       ['Nevada', 2002, 2.9]], dtype=object)"
            ]
          },
          "metadata": {
            "tags": []
          },
          "execution_count": 80
        }
      ]
    },
    {
      "cell_type": "code",
      "metadata": {
        "id": "bZbT--cjsw_1",
        "colab_type": "code",
        "colab": {}
      },
      "source": [
        "obj = Series(range(3), index=['a', 'b', 'c'])\n",
        "obj.index.values"
      ],
      "execution_count": 0,
      "outputs": []
    },
    {
      "cell_type": "code",
      "metadata": {
        "id": "aoUEEGUisw_4",
        "colab_type": "code",
        "colab": {}
      },
      "source": [
        "print('state' in df2.columns)\n",
        "print(0 in df.index)"
      ],
      "execution_count": 0,
      "outputs": []
    },
    {
      "cell_type": "markdown",
      "metadata": {
        "id": "EaSU1uU2sw_6",
        "colab_type": "text"
      },
      "source": [
        "## Aplicação de Função e Mapeamento"
      ]
    },
    {
      "cell_type": "code",
      "metadata": {
        "id": "lO0D7E48sw_6",
        "colab_type": "code",
        "colab": {}
      },
      "source": [
        "import pandas as pd\n",
        "from pandas import Series, DataFrame\n",
        "import numpy as np"
      ],
      "execution_count": 0,
      "outputs": []
    },
    {
      "cell_type": "code",
      "metadata": {
        "id": "tJw6z9wysw_8",
        "colab_type": "code",
        "colab": {
          "base_uri": "https://localhost:8080/",
          "height": 173
        },
        "outputId": "29ec6cb9-b0dc-4a4e-a223-e8419dbff770"
      },
      "source": [
        "df = DataFrame(np.random.randn(4, 3), columns=list('bde'),\n",
        "                  index=['Utah', 'Ohio', 'Texas', 'Oregon'])\n",
        "np.abs(df) #retorna valor absoluto"
      ],
      "execution_count": 81,
      "outputs": [
        {
          "output_type": "execute_result",
          "data": {
            "text/html": [
              "<div>\n",
              "<style scoped>\n",
              "    .dataframe tbody tr th:only-of-type {\n",
              "        vertical-align: middle;\n",
              "    }\n",
              "\n",
              "    .dataframe tbody tr th {\n",
              "        vertical-align: top;\n",
              "    }\n",
              "\n",
              "    .dataframe thead th {\n",
              "        text-align: right;\n",
              "    }\n",
              "</style>\n",
              "<table border=\"1\" class=\"dataframe\">\n",
              "  <thead>\n",
              "    <tr style=\"text-align: right;\">\n",
              "      <th></th>\n",
              "      <th>b</th>\n",
              "      <th>d</th>\n",
              "      <th>e</th>\n",
              "    </tr>\n",
              "  </thead>\n",
              "  <tbody>\n",
              "    <tr>\n",
              "      <th>Utah</th>\n",
              "      <td>0.464024</td>\n",
              "      <td>0.057027</td>\n",
              "      <td>0.275930</td>\n",
              "    </tr>\n",
              "    <tr>\n",
              "      <th>Ohio</th>\n",
              "      <td>1.494515</td>\n",
              "      <td>0.566821</td>\n",
              "      <td>2.303374</td>\n",
              "    </tr>\n",
              "    <tr>\n",
              "      <th>Texas</th>\n",
              "      <td>1.377001</td>\n",
              "      <td>1.187387</td>\n",
              "      <td>0.079393</td>\n",
              "    </tr>\n",
              "    <tr>\n",
              "      <th>Oregon</th>\n",
              "      <td>0.107969</td>\n",
              "      <td>0.506951</td>\n",
              "      <td>1.125589</td>\n",
              "    </tr>\n",
              "  </tbody>\n",
              "</table>\n",
              "</div>"
            ],
            "text/plain": [
              "               b         d         e\n",
              "Utah    0.464024  0.057027  0.275930\n",
              "Ohio    1.494515  0.566821  2.303374\n",
              "Texas   1.377001  1.187387  0.079393\n",
              "Oregon  0.107969  0.506951  1.125589"
            ]
          },
          "metadata": {
            "tags": []
          },
          "execution_count": 81
        }
      ]
    },
    {
      "cell_type": "code",
      "metadata": {
        "id": "SgWxNmEZsw_9",
        "colab_type": "code",
        "colab": {
          "base_uri": "https://localhost:8080/",
          "height": 170
        },
        "outputId": "3081bb72-16c2-424d-d667-8648f2e6ba61"
      },
      "source": [
        "f = lambda x: x.max() - x.min()\n",
        "print(df.apply(f))\n",
        "print(df.apply(f, axis=1))"
      ],
      "execution_count": 82,
      "outputs": [
        {
          "output_type": "stream",
          "text": [
            "b    1.958539\n",
            "d    1.754207\n",
            "e    3.428964\n",
            "dtype: float64\n",
            "Utah      0.739953\n",
            "Ohio      3.797889\n",
            "Texas     2.564388\n",
            "Oregon    1.017621\n",
            "dtype: float64\n"
          ],
          "name": "stdout"
        }
      ]
    },
    {
      "cell_type": "code",
      "metadata": {
        "id": "vC0Yp4znsw_-",
        "colab_type": "code",
        "colab": {
          "base_uri": "https://localhost:8080/",
          "height": 111
        },
        "outputId": "ffb46459-d58b-4929-e70f-22d2c835397f"
      },
      "source": [
        "def f2(x):\n",
        "    return Series([x.min(), x.max()], index=['min', 'max'])\n",
        "\n",
        "df.apply(f2)"
      ],
      "execution_count": 84,
      "outputs": [
        {
          "output_type": "execute_result",
          "data": {
            "text/html": [
              "<div>\n",
              "<style scoped>\n",
              "    .dataframe tbody tr th:only-of-type {\n",
              "        vertical-align: middle;\n",
              "    }\n",
              "\n",
              "    .dataframe tbody tr th {\n",
              "        vertical-align: top;\n",
              "    }\n",
              "\n",
              "    .dataframe thead th {\n",
              "        text-align: right;\n",
              "    }\n",
              "</style>\n",
              "<table border=\"1\" class=\"dataframe\">\n",
              "  <thead>\n",
              "    <tr style=\"text-align: right;\">\n",
              "      <th></th>\n",
              "      <th>b</th>\n",
              "      <th>d</th>\n",
              "      <th>e</th>\n",
              "    </tr>\n",
              "  </thead>\n",
              "  <tbody>\n",
              "    <tr>\n",
              "      <th>min</th>\n",
              "      <td>-0.464024</td>\n",
              "      <td>-1.187387</td>\n",
              "      <td>-2.303374</td>\n",
              "    </tr>\n",
              "    <tr>\n",
              "      <th>max</th>\n",
              "      <td>1.494515</td>\n",
              "      <td>0.566821</td>\n",
              "      <td>1.125589</td>\n",
              "    </tr>\n",
              "  </tbody>\n",
              "</table>\n",
              "</div>"
            ],
            "text/plain": [
              "            b         d         e\n",
              "min -0.464024 -1.187387 -2.303374\n",
              "max  1.494515  0.566821  1.125589"
            ]
          },
          "metadata": {
            "tags": []
          },
          "execution_count": 84
        }
      ]
    },
    {
      "cell_type": "code",
      "metadata": {
        "id": "dXbRMqDOsxAB",
        "colab_type": "code",
        "colab": {}
      },
      "source": [
        "format2 = lambda x: '%.2f' % x\n",
        "df.applymap(format2)"
      ],
      "execution_count": 0,
      "outputs": []
    },
    {
      "cell_type": "markdown",
      "metadata": {
        "id": "UtxP1lCOsxAD",
        "colab_type": "text"
      },
      "source": [
        "## Ordenação e Ranking"
      ]
    },
    {
      "cell_type": "code",
      "metadata": {
        "id": "c4ySnoHAsxAD",
        "colab_type": "code",
        "colab": {
          "base_uri": "https://localhost:8080/",
          "height": 340
        },
        "outputId": "972e45de-234a-4290-c6db-9d9df9332c04"
      },
      "source": [
        "obj = Series(range(4), index=['d', 'a', 'b', 'c'])\n",
        "df2 = DataFrame(np.arange(8).reshape((2, 4)), index=['three', 'one'],\n",
        "                  columns=['d', 'a', 'b', 'c'])\n",
        "print(obj)\n",
        "print(df2)\n",
        "print(obj.sort_index())\n",
        "print(df2.sort_index())\n",
        "print(df2.sort_index(axis=1))"
      ],
      "execution_count": 85,
      "outputs": [
        {
          "output_type": "stream",
          "text": [
            "d    0\n",
            "a    1\n",
            "b    2\n",
            "c    3\n",
            "dtype: int64\n",
            "       d  a  b  c\n",
            "three  0  1  2  3\n",
            "one    4  5  6  7\n",
            "a    1\n",
            "b    2\n",
            "c    3\n",
            "d    0\n",
            "dtype: int64\n",
            "       d  a  b  c\n",
            "one    4  5  6  7\n",
            "three  0  1  2  3\n",
            "       a  b  c  d\n",
            "three  1  2  3  0\n",
            "one    5  6  7  4\n"
          ],
          "name": "stdout"
        }
      ]
    },
    {
      "cell_type": "code",
      "metadata": {
        "id": "CmiyW1pNsxAE",
        "colab_type": "code",
        "colab": {
          "base_uri": "https://localhost:8080/",
          "height": 102
        },
        "outputId": "425c39b5-b631-48fb-ac57-e29817a52426"
      },
      "source": [
        "obj = Series([4, 7, -3, 2])\n",
        "obj.sort_values() #igual para pandas"
      ],
      "execution_count": 86,
      "outputs": [
        {
          "output_type": "execute_result",
          "data": {
            "text/plain": [
              "2   -3\n",
              "3    2\n",
              "0    4\n",
              "1    7\n",
              "dtype: int64"
            ]
          },
          "metadata": {
            "tags": []
          },
          "execution_count": 86
        }
      ]
    },
    {
      "cell_type": "code",
      "metadata": {
        "id": "CfIjrwAWsxAG",
        "colab_type": "code",
        "colab": {
          "base_uri": "https://localhost:8080/",
          "height": 340
        },
        "outputId": "9de04713-502b-4be7-e76e-1b9f550d94e9"
      },
      "source": [
        "df3 = DataFrame({'b': [4, 7, -3, 2], 'a': [0, 1, 0, 1]})\n",
        "print(df3)\n",
        "print(df3.sort_index(by='b'))\n",
        "print(df3.sort_index(by=['a','b']))"
      ],
      "execution_count": 87,
      "outputs": [
        {
          "output_type": "stream",
          "text": [
            "   b  a\n",
            "0  4  0\n",
            "1  7  1\n",
            "2 -3  0\n",
            "3  2  1\n",
            "   b  a\n",
            "2 -3  0\n",
            "3  2  1\n",
            "0  4  0\n",
            "1  7  1\n",
            "   b  a\n",
            "2 -3  0\n",
            "0  4  0\n",
            "3  2  1\n",
            "1  7  1\n"
          ],
          "name": "stdout"
        },
        {
          "output_type": "stream",
          "text": [
            "/usr/local/lib/python3.6/dist-packages/ipykernel_launcher.py:3: FutureWarning: by argument to sort_index is deprecated, please use .sort_values(by=...)\n",
            "  This is separate from the ipykernel package so we can avoid doing imports until\n",
            "/usr/local/lib/python3.6/dist-packages/ipykernel_launcher.py:4: FutureWarning: by argument to sort_index is deprecated, please use .sort_values(by=...)\n",
            "  after removing the cwd from sys.path.\n"
          ],
          "name": "stderr"
        }
      ]
    },
    {
      "cell_type": "code",
      "metadata": {
        "id": "QswPqJoxsxAH",
        "colab_type": "code",
        "colab": {
          "base_uri": "https://localhost:8080/",
          "height": 306
        },
        "outputId": "6f427167-8597-4be9-bb2f-b931959d5db6"
      },
      "source": [
        "data = {'name': ['Jason', 'Molly', 'Tina', 'Jake', 'Amy'], \n",
        "        'nota': [8, 7.5, 7.5, 10, 5]}\n",
        "df4 = DataFrame(data)\n",
        "print(df4)\n",
        "df4['rank'] = df4['nota'].rank(ascending=0)\n",
        "df4.sort_values('rank')"
      ],
      "execution_count": 90,
      "outputs": [
        {
          "output_type": "stream",
          "text": [
            "    name  nota\n",
            "0  Jason   8.0\n",
            "1  Molly   7.5\n",
            "2   Tina   7.5\n",
            "3   Jake  10.0\n",
            "4    Amy   5.0\n"
          ],
          "name": "stdout"
        },
        {
          "output_type": "execute_result",
          "data": {
            "text/html": [
              "<div>\n",
              "<style scoped>\n",
              "    .dataframe tbody tr th:only-of-type {\n",
              "        vertical-align: middle;\n",
              "    }\n",
              "\n",
              "    .dataframe tbody tr th {\n",
              "        vertical-align: top;\n",
              "    }\n",
              "\n",
              "    .dataframe thead th {\n",
              "        text-align: right;\n",
              "    }\n",
              "</style>\n",
              "<table border=\"1\" class=\"dataframe\">\n",
              "  <thead>\n",
              "    <tr style=\"text-align: right;\">\n",
              "      <th></th>\n",
              "      <th>name</th>\n",
              "      <th>nota</th>\n",
              "      <th>rank</th>\n",
              "    </tr>\n",
              "  </thead>\n",
              "  <tbody>\n",
              "    <tr>\n",
              "      <th>3</th>\n",
              "      <td>Jake</td>\n",
              "      <td>10.0</td>\n",
              "      <td>1.0</td>\n",
              "    </tr>\n",
              "    <tr>\n",
              "      <th>0</th>\n",
              "      <td>Jason</td>\n",
              "      <td>8.0</td>\n",
              "      <td>2.0</td>\n",
              "    </tr>\n",
              "    <tr>\n",
              "      <th>1</th>\n",
              "      <td>Molly</td>\n",
              "      <td>7.5</td>\n",
              "      <td>3.5</td>\n",
              "    </tr>\n",
              "    <tr>\n",
              "      <th>2</th>\n",
              "      <td>Tina</td>\n",
              "      <td>7.5</td>\n",
              "      <td>3.5</td>\n",
              "    </tr>\n",
              "    <tr>\n",
              "      <th>4</th>\n",
              "      <td>Amy</td>\n",
              "      <td>5.0</td>\n",
              "      <td>5.0</td>\n",
              "    </tr>\n",
              "  </tbody>\n",
              "</table>\n",
              "</div>"
            ],
            "text/plain": [
              "    name  nota  rank\n",
              "3   Jake  10.0   1.0\n",
              "0  Jason   8.0   2.0\n",
              "1  Molly   7.5   3.5\n",
              "2   Tina   7.5   3.5\n",
              "4    Amy   5.0   5.0"
            ]
          },
          "metadata": {
            "tags": []
          },
          "execution_count": 90
        }
      ]
    },
    {
      "cell_type": "markdown",
      "metadata": {
        "id": "zKcAjqFwsxAJ",
        "colab_type": "text"
      },
      "source": [
        "## Sumarização e Estatística Descritiva"
      ]
    },
    {
      "cell_type": "code",
      "metadata": {
        "id": "5MrC_WTYsxAJ",
        "colab_type": "code",
        "colab": {
          "base_uri": "https://localhost:8080/",
          "height": 306
        },
        "outputId": "2316eb08-fc43-46ee-99ae-a128cd901b9c"
      },
      "source": [
        "df5 = DataFrame([[1.4, np.nan], [7.1, -4.5],\n",
        "                [np.nan, np.nan], [0.75, -1.3]],\n",
        "               index=['a', 'b', 'c', 'd'],\n",
        "               columns=['one', 'two'])\n",
        "print(df5)\n",
        "print(df5.sum())\n",
        "print(df5.sum(axis=1))\n",
        "print(df5.count())\n",
        "print(df5.size)"
      ],
      "execution_count": 93,
      "outputs": [
        {
          "output_type": "stream",
          "text": [
            "    one  two\n",
            "a  1.40  NaN\n",
            "b  7.10 -4.5\n",
            "c   NaN  NaN\n",
            "d  0.75 -1.3\n",
            "one    9.25\n",
            "two   -5.80\n",
            "dtype: float64\n",
            "a    1.40\n",
            "b    2.60\n",
            "c    0.00\n",
            "d   -0.55\n",
            "dtype: float64\n",
            "one    3\n",
            "two    2\n",
            "dtype: int64\n",
            "8\n"
          ],
          "name": "stdout"
        }
      ]
    },
    {
      "cell_type": "code",
      "metadata": {
        "id": "ZY-PjknhsxAM",
        "colab_type": "code",
        "colab": {
          "base_uri": "https://localhost:8080/",
          "height": 297
        },
        "outputId": "1a3ca3a7-236a-4ce0-bed5-3b6cebe3f117"
      },
      "source": [
        "df5.describe()"
      ],
      "execution_count": 94,
      "outputs": [
        {
          "output_type": "execute_result",
          "data": {
            "text/html": [
              "<div>\n",
              "<style scoped>\n",
              "    .dataframe tbody tr th:only-of-type {\n",
              "        vertical-align: middle;\n",
              "    }\n",
              "\n",
              "    .dataframe tbody tr th {\n",
              "        vertical-align: top;\n",
              "    }\n",
              "\n",
              "    .dataframe thead th {\n",
              "        text-align: right;\n",
              "    }\n",
              "</style>\n",
              "<table border=\"1\" class=\"dataframe\">\n",
              "  <thead>\n",
              "    <tr style=\"text-align: right;\">\n",
              "      <th></th>\n",
              "      <th>one</th>\n",
              "      <th>two</th>\n",
              "    </tr>\n",
              "  </thead>\n",
              "  <tbody>\n",
              "    <tr>\n",
              "      <th>count</th>\n",
              "      <td>3.000000</td>\n",
              "      <td>2.000000</td>\n",
              "    </tr>\n",
              "    <tr>\n",
              "      <th>mean</th>\n",
              "      <td>3.083333</td>\n",
              "      <td>-2.900000</td>\n",
              "    </tr>\n",
              "    <tr>\n",
              "      <th>std</th>\n",
              "      <td>3.493685</td>\n",
              "      <td>2.262742</td>\n",
              "    </tr>\n",
              "    <tr>\n",
              "      <th>min</th>\n",
              "      <td>0.750000</td>\n",
              "      <td>-4.500000</td>\n",
              "    </tr>\n",
              "    <tr>\n",
              "      <th>25%</th>\n",
              "      <td>1.075000</td>\n",
              "      <td>-3.700000</td>\n",
              "    </tr>\n",
              "    <tr>\n",
              "      <th>50%</th>\n",
              "      <td>1.400000</td>\n",
              "      <td>-2.900000</td>\n",
              "    </tr>\n",
              "    <tr>\n",
              "      <th>75%</th>\n",
              "      <td>4.250000</td>\n",
              "      <td>-2.100000</td>\n",
              "    </tr>\n",
              "    <tr>\n",
              "      <th>max</th>\n",
              "      <td>7.100000</td>\n",
              "      <td>-1.300000</td>\n",
              "    </tr>\n",
              "  </tbody>\n",
              "</table>\n",
              "</div>"
            ],
            "text/plain": [
              "            one       two\n",
              "count  3.000000  2.000000\n",
              "mean   3.083333 -2.900000\n",
              "std    3.493685  2.262742\n",
              "min    0.750000 -4.500000\n",
              "25%    1.075000 -3.700000\n",
              "50%    1.400000 -2.900000\n",
              "75%    4.250000 -2.100000\n",
              "max    7.100000 -1.300000"
            ]
          },
          "metadata": {
            "tags": []
          },
          "execution_count": 94
        }
      ]
    },
    {
      "cell_type": "code",
      "metadata": {
        "id": "lbs8f1ersxAN",
        "colab_type": "code",
        "colab": {
          "base_uri": "https://localhost:8080/",
          "height": 34
        },
        "outputId": "cf7dc4f0-3bd9-41ec-8cac-496a3249310f"
      },
      "source": [
        "obj = Series(['c', 'a', 'd', 'a', 'a', 'b', 'b', 'c', 'c'])\n",
        "uniques = obj.unique()\n",
        "uniques"
      ],
      "execution_count": 95,
      "outputs": [
        {
          "output_type": "execute_result",
          "data": {
            "text/plain": [
              "array(['c', 'a', 'd', 'b'], dtype=object)"
            ]
          },
          "metadata": {
            "tags": []
          },
          "execution_count": 95
        }
      ]
    },
    {
      "cell_type": "code",
      "metadata": {
        "id": "K0VhogVesxAP",
        "colab_type": "code",
        "colab": {
          "base_uri": "https://localhost:8080/",
          "height": 187
        },
        "outputId": "ffd91097-0f16-44b5-93c3-65e880429714"
      },
      "source": [
        "mask = obj.isin(['b', 'c'])\n",
        "mask"
      ],
      "execution_count": 96,
      "outputs": [
        {
          "output_type": "execute_result",
          "data": {
            "text/plain": [
              "0     True\n",
              "1    False\n",
              "2    False\n",
              "3    False\n",
              "4    False\n",
              "5     True\n",
              "6     True\n",
              "7     True\n",
              "8     True\n",
              "dtype: bool"
            ]
          },
          "metadata": {
            "tags": []
          },
          "execution_count": 96
        }
      ]
    },
    {
      "cell_type": "markdown",
      "metadata": {
        "id": "mGIofhSpsxAR",
        "colab_type": "text"
      },
      "source": [
        "## Manipulação de Valores Faltantes "
      ]
    },
    {
      "cell_type": "code",
      "metadata": {
        "id": "2vgg3JYHsxAS",
        "colab_type": "code",
        "colab": {
          "base_uri": "https://localhost:8080/",
          "height": 272
        },
        "outputId": "c366007a-75d6-43a0-b969-b9d3a04660a7"
      },
      "source": [
        "string_data = Series(['laranja', 'uva', np.nan, 'abacate'])\n",
        "print(string_data)\n",
        "print(string_data.isnull())\n",
        "string_data[0] = None\n",
        "print(string_data.isnull())"
      ],
      "execution_count": 97,
      "outputs": [
        {
          "output_type": "stream",
          "text": [
            "0    laranja\n",
            "1        uva\n",
            "2        NaN\n",
            "3    abacate\n",
            "dtype: object\n",
            "0    False\n",
            "1    False\n",
            "2     True\n",
            "3    False\n",
            "dtype: bool\n",
            "0     True\n",
            "1    False\n",
            "2     True\n",
            "3    False\n",
            "dtype: bool\n"
          ],
          "name": "stdout"
        }
      ]
    },
    {
      "cell_type": "code",
      "metadata": {
        "id": "pfHla7XGsxAU",
        "colab_type": "code",
        "colab": {}
      },
      "source": [
        "data = DataFrame([[1., 6.5, 3.], [1., np.nan, np.nan],\n",
        "                  [np.nan, np.nan, np.nan], [np.nan, 6.5, 3.]])\n",
        "print(data)\n",
        "cleaned = data.dropna()\n",
        "print('\\n',cleaned)\n",
        "data.dropna(how='all')"
      ],
      "execution_count": 0,
      "outputs": []
    },
    {
      "cell_type": "code",
      "metadata": {
        "id": "z-ev_9q_sxAV",
        "colab_type": "code",
        "colab": {}
      },
      "source": [
        "print(data.fillna(0))\n",
        "print(data.fillna(data.mean()))"
      ],
      "execution_count": 0,
      "outputs": []
    },
    {
      "cell_type": "markdown",
      "metadata": {
        "id": "yeUqFW5JsxAW",
        "colab_type": "text"
      },
      "source": [
        "## TODO Section"
      ]
    },
    {
      "cell_type": "markdown",
      "metadata": {
        "id": "M8PRdpNDsxAX",
        "colab_type": "text"
      },
      "source": [
        "### Manipulação de DataFrame\n",
        "\n",
        "        > Crie, a partir do dicionário abaixo, um DataFrame cujo index seja os valores da variável labels\n",
        "        > encontre a média dos valores da coluna age e preencha os valores faltantes dessa coluna com o valor da média\n",
        "        > crie uma nova coluna chamada 'rank', que mostre os animais que receberam mais visitas\n",
        "        > qual o animal que recebeu a maior quantidade de visitas?"
      ]
    },
    {
      "cell_type": "code",
      "metadata": {
        "id": "l4EAffWisxAX",
        "colab_type": "code",
        "colab": {}
      },
      "source": [
        "data = {'animal': ['cat', 'cat', 'snake', 'dog', 'dog', 'cat', 'snake', 'cat', 'dog', 'dog'],\n",
        "        'age': [2.5, 3, 0.5, np.nan, 5, 2, 4.5, np.nan, 7, 3],\n",
        "        'visits': [1, 3, 2, 3, 2, 3, 1, 1, 2, 1],\n",
        "        'priority': ['yes', 'yes', 'no', 'yes', 'no', 'no', 'no', 'yes', 'no', 'no']}\n",
        "\n",
        "labels = ['a', 'b', 'c', 'd', 'e', 'f', 'g', 'h', 'i', 'j']"
      ],
      "execution_count": 0,
      "outputs": []
    },
    {
      "cell_type": "markdown",
      "metadata": {
        "id": "-t0P3wKRUIiZ",
        "colab_type": "text"
      },
      "source": [
        "Exercicio 1 -   > Crie, a partir do dicionário abaixo, um DataFrame cujo index seja os valores da variável labels"
      ]
    },
    {
      "cell_type": "code",
      "metadata": {
        "id": "x_t8rBarsxAa",
        "colab_type": "code",
        "colab": {
          "base_uri": "https://localhost:8080/",
          "height": 204
        },
        "outputId": "9b846875-e99e-48cd-d53f-e23a8984b429"
      },
      "source": [
        "# TODO: sua resposta aqui\n",
        "\n",
        "\n",
        "animais = DataFrame(data, index = labels)\n",
        "print(animais)\n",
        "\n"
      ],
      "execution_count": 111,
      "outputs": [
        {
          "output_type": "stream",
          "text": [
            "  animal  age  visits priority\n",
            "a    cat  2.5       1      yes\n",
            "b    cat  3.0       3      yes\n",
            "c  snake  0.5       2       no\n",
            "d    dog  NaN       3      yes\n",
            "e    dog  5.0       2       no\n",
            "f    cat  2.0       3       no\n",
            "g  snake  4.5       1       no\n",
            "h    cat  NaN       1      yes\n",
            "i    dog  7.0       2       no\n",
            "j    dog  3.0       1       no\n"
          ],
          "name": "stdout"
        }
      ]
    },
    {
      "cell_type": "markdown",
      "metadata": {
        "id": "o8Zn7wWYUSGw",
        "colab_type": "text"
      },
      "source": [
        "Exercicio 2 -encontre a média dos valores da coluna age e preencha os valores faltantes dessa coluna com o valor da média"
      ]
    },
    {
      "cell_type": "code",
      "metadata": {
        "id": "Ji2YueowUR4Y",
        "colab_type": "code",
        "colab": {
          "base_uri": "https://localhost:8080/",
          "height": 204
        },
        "outputId": "030a2e75-967e-4866-d24b-684e86fefc87"
      },
      "source": [
        "animais = animais.fillna(animais.age.mean())\n",
        "print(animais)\n"
      ],
      "execution_count": 117,
      "outputs": [
        {
          "output_type": "stream",
          "text": [
            "  animal     age  visits priority\n",
            "a    cat  2.5000       1      yes\n",
            "b    cat  3.0000       3      yes\n",
            "c  snake  0.5000       2       no\n",
            "d    dog  3.4375       3      yes\n",
            "e    dog  5.0000       2       no\n",
            "f    cat  2.0000       3       no\n",
            "g  snake  4.5000       1       no\n",
            "h    cat  3.4375       1      yes\n",
            "i    dog  7.0000       2       no\n",
            "j    dog  3.0000       1       no\n"
          ],
          "name": "stdout"
        }
      ]
    },
    {
      "cell_type": "markdown",
      "metadata": {
        "id": "wFPnyl6GVCQ5",
        "colab_type": "text"
      },
      "source": [
        "Exercício 3 - crie uma nova coluna chamada 'rank', que mostre os animais que receberam mais visitas"
      ]
    },
    {
      "cell_type": "code",
      "metadata": {
        "id": "HNs_f-C1Tsy6",
        "colab_type": "code",
        "colab": {
          "base_uri": "https://localhost:8080/",
          "height": 359
        },
        "outputId": "41bc51c3-93ea-4a83-a410-6bc382c244cf"
      },
      "source": [
        "animais['rank'] = animais['visits'].rank(ascending=0)\n",
        "animais.sort_values('rank')"
      ],
      "execution_count": 139,
      "outputs": [
        {
          "output_type": "execute_result",
          "data": {
            "text/html": [
              "<div>\n",
              "<style scoped>\n",
              "    .dataframe tbody tr th:only-of-type {\n",
              "        vertical-align: middle;\n",
              "    }\n",
              "\n",
              "    .dataframe tbody tr th {\n",
              "        vertical-align: top;\n",
              "    }\n",
              "\n",
              "    .dataframe thead th {\n",
              "        text-align: right;\n",
              "    }\n",
              "</style>\n",
              "<table border=\"1\" class=\"dataframe\">\n",
              "  <thead>\n",
              "    <tr style=\"text-align: right;\">\n",
              "      <th></th>\n",
              "      <th>animal</th>\n",
              "      <th>age</th>\n",
              "      <th>visits</th>\n",
              "      <th>priority</th>\n",
              "      <th>rank</th>\n",
              "    </tr>\n",
              "  </thead>\n",
              "  <tbody>\n",
              "    <tr>\n",
              "      <th>b</th>\n",
              "      <td>cat</td>\n",
              "      <td>3.0000</td>\n",
              "      <td>3</td>\n",
              "      <td>yes</td>\n",
              "      <td>2.0</td>\n",
              "    </tr>\n",
              "    <tr>\n",
              "      <th>d</th>\n",
              "      <td>dog</td>\n",
              "      <td>3.4375</td>\n",
              "      <td>3</td>\n",
              "      <td>yes</td>\n",
              "      <td>2.0</td>\n",
              "    </tr>\n",
              "    <tr>\n",
              "      <th>f</th>\n",
              "      <td>cat</td>\n",
              "      <td>2.0000</td>\n",
              "      <td>3</td>\n",
              "      <td>no</td>\n",
              "      <td>2.0</td>\n",
              "    </tr>\n",
              "    <tr>\n",
              "      <th>c</th>\n",
              "      <td>snake</td>\n",
              "      <td>0.5000</td>\n",
              "      <td>2</td>\n",
              "      <td>no</td>\n",
              "      <td>5.0</td>\n",
              "    </tr>\n",
              "    <tr>\n",
              "      <th>e</th>\n",
              "      <td>dog</td>\n",
              "      <td>5.0000</td>\n",
              "      <td>2</td>\n",
              "      <td>no</td>\n",
              "      <td>5.0</td>\n",
              "    </tr>\n",
              "    <tr>\n",
              "      <th>i</th>\n",
              "      <td>dog</td>\n",
              "      <td>7.0000</td>\n",
              "      <td>2</td>\n",
              "      <td>no</td>\n",
              "      <td>5.0</td>\n",
              "    </tr>\n",
              "    <tr>\n",
              "      <th>a</th>\n",
              "      <td>cat</td>\n",
              "      <td>2.5000</td>\n",
              "      <td>1</td>\n",
              "      <td>yes</td>\n",
              "      <td>8.5</td>\n",
              "    </tr>\n",
              "    <tr>\n",
              "      <th>g</th>\n",
              "      <td>snake</td>\n",
              "      <td>4.5000</td>\n",
              "      <td>1</td>\n",
              "      <td>no</td>\n",
              "      <td>8.5</td>\n",
              "    </tr>\n",
              "    <tr>\n",
              "      <th>h</th>\n",
              "      <td>cat</td>\n",
              "      <td>3.4375</td>\n",
              "      <td>1</td>\n",
              "      <td>yes</td>\n",
              "      <td>8.5</td>\n",
              "    </tr>\n",
              "    <tr>\n",
              "      <th>j</th>\n",
              "      <td>dog</td>\n",
              "      <td>3.0000</td>\n",
              "      <td>1</td>\n",
              "      <td>no</td>\n",
              "      <td>8.5</td>\n",
              "    </tr>\n",
              "  </tbody>\n",
              "</table>\n",
              "</div>"
            ],
            "text/plain": [
              "  animal     age  visits priority  rank\n",
              "b    cat  3.0000       3      yes   2.0\n",
              "d    dog  3.4375       3      yes   2.0\n",
              "f    cat  2.0000       3       no   2.0\n",
              "c  snake  0.5000       2       no   5.0\n",
              "e    dog  5.0000       2       no   5.0\n",
              "i    dog  7.0000       2       no   5.0\n",
              "a    cat  2.5000       1      yes   8.5\n",
              "g  snake  4.5000       1       no   8.5\n",
              "h    cat  3.4375       1      yes   8.5\n",
              "j    dog  3.0000       1       no   8.5"
            ]
          },
          "metadata": {
            "tags": []
          },
          "execution_count": 139
        }
      ]
    },
    {
      "cell_type": "markdown",
      "metadata": {
        "id": "TG8yHqMWV46s",
        "colab_type": "text"
      },
      "source": [
        "Exercício 4 -qual o animal que recebeu a maior quantidade de visitas?"
      ]
    },
    {
      "cell_type": "code",
      "metadata": {
        "id": "uCLSDYAjV3_x",
        "colab_type": "code",
        "colab": {
          "base_uri": "https://localhost:8080/",
          "height": 142
        },
        "outputId": "82ec2356-cb89-49ba-a9a5-e08c80b1ea05"
      },
      "source": [
        "animais[animais['visits'] == animais['visits'].max()]\n"
      ],
      "execution_count": 142,
      "outputs": [
        {
          "output_type": "execute_result",
          "data": {
            "text/html": [
              "<div>\n",
              "<style scoped>\n",
              "    .dataframe tbody tr th:only-of-type {\n",
              "        vertical-align: middle;\n",
              "    }\n",
              "\n",
              "    .dataframe tbody tr th {\n",
              "        vertical-align: top;\n",
              "    }\n",
              "\n",
              "    .dataframe thead th {\n",
              "        text-align: right;\n",
              "    }\n",
              "</style>\n",
              "<table border=\"1\" class=\"dataframe\">\n",
              "  <thead>\n",
              "    <tr style=\"text-align: right;\">\n",
              "      <th></th>\n",
              "      <th>animal</th>\n",
              "      <th>age</th>\n",
              "      <th>visits</th>\n",
              "      <th>priority</th>\n",
              "      <th>rank</th>\n",
              "    </tr>\n",
              "  </thead>\n",
              "  <tbody>\n",
              "    <tr>\n",
              "      <th>b</th>\n",
              "      <td>cat</td>\n",
              "      <td>3.0000</td>\n",
              "      <td>3</td>\n",
              "      <td>yes</td>\n",
              "      <td>2.0</td>\n",
              "    </tr>\n",
              "    <tr>\n",
              "      <th>d</th>\n",
              "      <td>dog</td>\n",
              "      <td>3.4375</td>\n",
              "      <td>3</td>\n",
              "      <td>yes</td>\n",
              "      <td>2.0</td>\n",
              "    </tr>\n",
              "    <tr>\n",
              "      <th>f</th>\n",
              "      <td>cat</td>\n",
              "      <td>2.0000</td>\n",
              "      <td>3</td>\n",
              "      <td>no</td>\n",
              "      <td>2.0</td>\n",
              "    </tr>\n",
              "  </tbody>\n",
              "</table>\n",
              "</div>"
            ],
            "text/plain": [
              "  animal     age  visits priority  rank\n",
              "b    cat  3.0000       3      yes   2.0\n",
              "d    dog  3.4375       3      yes   2.0\n",
              "f    cat  2.0000       3       no   2.0"
            ]
          },
          "metadata": {
            "tags": []
          },
          "execution_count": 142
        }
      ]
    },
    {
      "cell_type": "code",
      "metadata": {
        "id": "tWxRl6SMXLcF",
        "colab_type": "code",
        "colab": {}
      },
      "source": [
        ""
      ],
      "execution_count": 0,
      "outputs": []
    }
  ]
}