{
  "nbformat": 4,
  "nbformat_minor": 0,
  "metadata": {
    "colab": {
      "name": "8 - Exercicio 8.ipynb",
      "provenance": [],
      "collapsed_sections": [],
      "toc_visible": true,
      "authorship_tag": "ABX9TyMWxQpixakT+znz/L10hn0R",
      "include_colab_link": true
    },
    "kernelspec": {
      "name": "python3",
      "display_name": "Python 3"
    }
  },
  "cells": [
    {
      "cell_type": "markdown",
      "metadata": {
        "id": "view-in-github",
        "colab_type": "text"
      },
      "source": [
        "<a href=\"https://colab.research.google.com/github/douglassesi/Python/blob/douglas/8_Exercicio_8.ipynb\" target=\"_parent\"><img src=\"https://colab.research.google.com/assets/colab-badge.svg\" alt=\"Open In Colab\"/></a>"
      ]
    },
    {
      "cell_type": "markdown",
      "metadata": {
        "id": "QXPXBILNb5ST",
        "colab_type": "text"
      },
      "source": [
        "#Ativando o Google Drive"
      ]
    },
    {
      "cell_type": "code",
      "metadata": {
        "id": "mE06VngnqCyd",
        "colab_type": "code",
        "outputId": "cc4edf5d-06bb-44ca-f508-fee4e69621ea",
        "colab": {
          "base_uri": "https://localhost:8080/",
          "height": 34
        }
      },
      "source": [
        "from google.colab import drive\n",
        "drive.mount('/gdrive')"
      ],
      "execution_count": 0,
      "outputs": [
        {
          "output_type": "stream",
          "text": [
            "Drive already mounted at /gdrive; to attempt to forcibly remount, call drive.mount(\"/gdrive\", force_remount=True).\n"
          ],
          "name": "stdout"
        }
      ]
    },
    {
      "cell_type": "markdown",
      "metadata": {
        "id": "lVix0Cy5cFRW",
        "colab_type": "text"
      },
      "source": [
        "#Import das bibliotecas"
      ]
    },
    {
      "cell_type": "code",
      "metadata": {
        "id": "mjLRJyX3qedJ",
        "colab_type": "code",
        "outputId": "3450adb3-de0b-47d0-f8b1-aacd6a01a971",
        "colab": {
          "base_uri": "https://localhost:8080/",
          "height": 105
        }
      },
      "source": [
        "import pandas as pd\n",
        "import seaborn as sb\n",
        "import numpy as np\n",
        "import sklearn.metrics\n",
        "from sklearn.tree import DecisionTreeClassifier\n",
        "from sklearn.model_selection import train_test_split\n",
        "from sklearn.metrics import confusion_matrix\n",
        "from sklearn.externals.six import StringIO  \n",
        "from IPython.display import Image  \n",
        "from sklearn.tree import export_graphviz, plot_tree\n",
        "import pydotplus\n",
        "from IPython.display import display\n",
        "import graphviz\n",
        "from sklearn import tree\n",
        "from sklearn.preprocessing import StandardScaler\n",
        "from sklearn.decomposition import PCA\n",
        "from sklearn.cluster import KMeans\n",
        "import matplotlib.pyplot as plt\n",
        "from sklearn.neighbors import KNeighborsClassifier\n",
        "from sklearn.metrics import classification_report, plot_confusion_matrix\n",
        "from sklearn.svm import SVC\n",
        "from sklearn.linear_model import LinearRegression\n",
        "from sklearn.metrics import mean_squared_error, r2_score, accuracy_score\n",
        "from sklearn.pipeline import make_pipeline\n",
        "from sklearn.svm import SVR\n",
        "from xgboost import XGBClassifier\n",
        "from sklearn.linear_model import ElasticNet\n",
        "from sklearn.linear_model import LogisticRegression"
      ],
      "execution_count": 0,
      "outputs": [
        {
          "output_type": "stream",
          "text": [
            "/usr/local/lib/python3.6/dist-packages/statsmodels/tools/_testing.py:19: FutureWarning: pandas.util.testing is deprecated. Use the functions in the public API at pandas.testing instead.\n",
            "  import pandas.util.testing as tm\n",
            "/usr/local/lib/python3.6/dist-packages/sklearn/externals/six.py:31: FutureWarning: The module is deprecated in version 0.21 and will be removed in version 0.23 since we've dropped support for Python 2.7. Please rely on the official version of six (https://pypi.org/project/six/).\n",
            "  \"(https://pypi.org/project/six/).\", FutureWarning)\n"
          ],
          "name": "stderr"
        }
      ]
    },
    {
      "cell_type": "code",
      "metadata": {
        "id": "3j5mvkqrtL1L",
        "colab_type": "code",
        "colab": {}
      },
      "source": [
        "from sklearn.model_selection import GridSearchCV"
      ],
      "execution_count": 0,
      "outputs": []
    },
    {
      "cell_type": "markdown",
      "metadata": {
        "id": "RzbSJws0cKNg",
        "colab_type": "text"
      },
      "source": [
        "#Carregando o arquivo"
      ]
    },
    {
      "cell_type": "code",
      "metadata": {
        "id": "TUNoZ0dYqiIM",
        "colab_type": "code",
        "outputId": "3fc3c996-2825-418d-8cfe-930bb1f7c5ab",
        "colab": {
          "base_uri": "https://localhost:8080/",
          "height": 419
        }
      },
      "source": [
        "filename = '/gdrive/My Drive/Trabalhos 11IA/Modelos de IA/8 - Exercício 8/TrabalhoEx8.csv'\n",
        "\n",
        "df =  pd.read_csv(filename, sep=\";\")\n",
        "df "
      ],
      "execution_count": 0,
      "outputs": [
        {
          "output_type": "execute_result",
          "data": {
            "text/html": [
              "<div>\n",
              "<style scoped>\n",
              "    .dataframe tbody tr th:only-of-type {\n",
              "        vertical-align: middle;\n",
              "    }\n",
              "\n",
              "    .dataframe tbody tr th {\n",
              "        vertical-align: top;\n",
              "    }\n",
              "\n",
              "    .dataframe thead th {\n",
              "        text-align: right;\n",
              "    }\n",
              "</style>\n",
              "<table border=\"1\" class=\"dataframe\">\n",
              "  <thead>\n",
              "    <tr style=\"text-align: right;\">\n",
              "      <th></th>\n",
              "      <th>V1</th>\n",
              "      <th>V2</th>\n",
              "      <th>V3</th>\n",
              "      <th>V4</th>\n",
              "      <th>V5</th>\n",
              "      <th>V6</th>\n",
              "      <th>V7</th>\n",
              "      <th>V8</th>\n",
              "      <th>V9</th>\n",
              "      <th>V10</th>\n",
              "    </tr>\n",
              "  </thead>\n",
              "  <tbody>\n",
              "    <tr>\n",
              "      <th>0</th>\n",
              "      <td>-122.23</td>\n",
              "      <td>452600.0</td>\n",
              "      <td>129.0</td>\n",
              "      <td>41.0</td>\n",
              "      <td>880.0</td>\n",
              "      <td>D</td>\n",
              "      <td>126.0</td>\n",
              "      <td>322.0</td>\n",
              "      <td>83.252</td>\n",
              "      <td>37.88</td>\n",
              "    </tr>\n",
              "    <tr>\n",
              "      <th>1</th>\n",
              "      <td>-122.22</td>\n",
              "      <td>358500.0</td>\n",
              "      <td>1106.0</td>\n",
              "      <td>21.0</td>\n",
              "      <td>7099.0</td>\n",
              "      <td>D</td>\n",
              "      <td>1138.0</td>\n",
              "      <td>2401.0</td>\n",
              "      <td>83.014</td>\n",
              "      <td>37.86</td>\n",
              "    </tr>\n",
              "    <tr>\n",
              "      <th>2</th>\n",
              "      <td>-122.24</td>\n",
              "      <td>352100.0</td>\n",
              "      <td>190.0</td>\n",
              "      <td>52.0</td>\n",
              "      <td>1467.0</td>\n",
              "      <td>D</td>\n",
              "      <td>177.0</td>\n",
              "      <td>496.0</td>\n",
              "      <td>72.574</td>\n",
              "      <td>37.85</td>\n",
              "    </tr>\n",
              "    <tr>\n",
              "      <th>3</th>\n",
              "      <td>-122.25</td>\n",
              "      <td>341300.0</td>\n",
              "      <td>235.0</td>\n",
              "      <td>52.0</td>\n",
              "      <td>1274.0</td>\n",
              "      <td>D</td>\n",
              "      <td>219.0</td>\n",
              "      <td>558.0</td>\n",
              "      <td>56.431</td>\n",
              "      <td>37.85</td>\n",
              "    </tr>\n",
              "    <tr>\n",
              "      <th>4</th>\n",
              "      <td>-122.25</td>\n",
              "      <td>342200.0</td>\n",
              "      <td>280.0</td>\n",
              "      <td>52.0</td>\n",
              "      <td>1627.0</td>\n",
              "      <td>D</td>\n",
              "      <td>259.0</td>\n",
              "      <td>565.0</td>\n",
              "      <td>38.462</td>\n",
              "      <td>37.85</td>\n",
              "    </tr>\n",
              "    <tr>\n",
              "      <th>...</th>\n",
              "      <td>...</td>\n",
              "      <td>...</td>\n",
              "      <td>...</td>\n",
              "      <td>...</td>\n",
              "      <td>...</td>\n",
              "      <td>...</td>\n",
              "      <td>...</td>\n",
              "      <td>...</td>\n",
              "      <td>...</td>\n",
              "      <td>...</td>\n",
              "    </tr>\n",
              "    <tr>\n",
              "      <th>20635</th>\n",
              "      <td>-121.09</td>\n",
              "      <td>78100.0</td>\n",
              "      <td>374.0</td>\n",
              "      <td>25.0</td>\n",
              "      <td>1665.0</td>\n",
              "      <td>B</td>\n",
              "      <td>330.0</td>\n",
              "      <td>845.0</td>\n",
              "      <td>15.603</td>\n",
              "      <td>39.48</td>\n",
              "    </tr>\n",
              "    <tr>\n",
              "      <th>20636</th>\n",
              "      <td>-121.21</td>\n",
              "      <td>77100.0</td>\n",
              "      <td>150.0</td>\n",
              "      <td>18.0</td>\n",
              "      <td>697.0</td>\n",
              "      <td>B</td>\n",
              "      <td>114.0</td>\n",
              "      <td>356.0</td>\n",
              "      <td>25.568</td>\n",
              "      <td>39.49</td>\n",
              "    </tr>\n",
              "    <tr>\n",
              "      <th>20637</th>\n",
              "      <td>-121.22</td>\n",
              "      <td>92300.0</td>\n",
              "      <td>485.0</td>\n",
              "      <td>17.0</td>\n",
              "      <td>2254.0</td>\n",
              "      <td>B</td>\n",
              "      <td>433.0</td>\n",
              "      <td>1007.0</td>\n",
              "      <td>1.700</td>\n",
              "      <td>39.43</td>\n",
              "    </tr>\n",
              "    <tr>\n",
              "      <th>20638</th>\n",
              "      <td>-121.32</td>\n",
              "      <td>84700.0</td>\n",
              "      <td>409.0</td>\n",
              "      <td>18.0</td>\n",
              "      <td>1860.0</td>\n",
              "      <td>B</td>\n",
              "      <td>349.0</td>\n",
              "      <td>741.0</td>\n",
              "      <td>18.672</td>\n",
              "      <td>39.43</td>\n",
              "    </tr>\n",
              "    <tr>\n",
              "      <th>20639</th>\n",
              "      <td>-121.24</td>\n",
              "      <td>89400.0</td>\n",
              "      <td>616.0</td>\n",
              "      <td>16.0</td>\n",
              "      <td>2785.0</td>\n",
              "      <td>B</td>\n",
              "      <td>530.0</td>\n",
              "      <td>1387.0</td>\n",
              "      <td>23.886</td>\n",
              "      <td>39.37</td>\n",
              "    </tr>\n",
              "  </tbody>\n",
              "</table>\n",
              "<p>20640 rows × 10 columns</p>\n",
              "</div>"
            ],
            "text/plain": [
              "           V1        V2      V3    V4      V5 V6      V7      V8      V9    V10\n",
              "0     -122.23  452600.0   129.0  41.0   880.0  D   126.0   322.0  83.252  37.88\n",
              "1     -122.22  358500.0  1106.0  21.0  7099.0  D  1138.0  2401.0  83.014  37.86\n",
              "2     -122.24  352100.0   190.0  52.0  1467.0  D   177.0   496.0  72.574  37.85\n",
              "3     -122.25  341300.0   235.0  52.0  1274.0  D   219.0   558.0  56.431  37.85\n",
              "4     -122.25  342200.0   280.0  52.0  1627.0  D   259.0   565.0  38.462  37.85\n",
              "...       ...       ...     ...   ...     ... ..     ...     ...     ...    ...\n",
              "20635 -121.09   78100.0   374.0  25.0  1665.0  B   330.0   845.0  15.603  39.48\n",
              "20636 -121.21   77100.0   150.0  18.0   697.0  B   114.0   356.0  25.568  39.49\n",
              "20637 -121.22   92300.0   485.0  17.0  2254.0  B   433.0  1007.0   1.700  39.43\n",
              "20638 -121.32   84700.0   409.0  18.0  1860.0  B   349.0   741.0  18.672  39.43\n",
              "20639 -121.24   89400.0   616.0  16.0  2785.0  B   530.0  1387.0  23.886  39.37\n",
              "\n",
              "[20640 rows x 10 columns]"
            ]
          },
          "metadata": {
            "tags": []
          },
          "execution_count": 4
        }
      ]
    },
    {
      "cell_type": "markdown",
      "metadata": {
        "id": "cDRZBh9McVWH",
        "colab_type": "text"
      },
      "source": [
        "##Pré-análise"
      ]
    },
    {
      "cell_type": "markdown",
      "metadata": {
        "id": "sJu7Fg08z7JL",
        "colab_type": "text"
      },
      "source": [
        "###Identificando casos em branco"
      ]
    },
    {
      "cell_type": "code",
      "metadata": {
        "id": "LsdLEZgoq8nV",
        "colab_type": "code",
        "outputId": "5ea12493-8a3f-44a5-8ab7-39a4b849616b",
        "colab": {
          "base_uri": "https://localhost:8080/",
          "height": 204
        }
      },
      "source": [
        "df.isnull().sum()"
      ],
      "execution_count": 0,
      "outputs": [
        {
          "output_type": "execute_result",
          "data": {
            "text/plain": [
              "V1       0\n",
              "V2       0\n",
              "V3     207\n",
              "V4       0\n",
              "V5       0\n",
              "V6       0\n",
              "V7       0\n",
              "V8       0\n",
              "V9       0\n",
              "V10      0\n",
              "dtype: int64"
            ]
          },
          "metadata": {
            "tags": []
          },
          "execution_count": 5
        }
      ]
    },
    {
      "cell_type": "markdown",
      "metadata": {
        "id": "i1luEwXg0DCl",
        "colab_type": "text"
      },
      "source": [
        "###A coluna V6 aparenta ser categórica"
      ]
    },
    {
      "cell_type": "code",
      "metadata": {
        "id": "QH4nxy8gzjFx",
        "colab_type": "code",
        "outputId": "acd7925b-ceaa-449e-cbf2-667bb4fa07e7",
        "colab": {
          "base_uri": "https://localhost:8080/",
          "height": 34
        }
      },
      "source": [
        "np.unique(df['V6'])"
      ],
      "execution_count": 0,
      "outputs": [
        {
          "output_type": "execute_result",
          "data": {
            "text/plain": [
              "array(['A', 'B', 'C', 'D', 'E'], dtype=object)"
            ]
          },
          "metadata": {
            "tags": []
          },
          "execution_count": 6
        }
      ]
    },
    {
      "cell_type": "markdown",
      "metadata": {
        "id": "5lKASFXXcbhK",
        "colab_type": "text"
      },
      "source": [
        "#Pré-processamento"
      ]
    },
    {
      "cell_type": "markdown",
      "metadata": {
        "id": "2XLeoqpo0MtX",
        "colab_type": "text"
      },
      "source": [
        "###Removendo os itens vazios"
      ]
    },
    {
      "cell_type": "code",
      "metadata": {
        "id": "juAbhwDFzAsf",
        "colab_type": "code",
        "colab": {}
      },
      "source": [
        "df.fillna(method='ffill', inplace=True)"
      ],
      "execution_count": 0,
      "outputs": []
    },
    {
      "cell_type": "code",
      "metadata": {
        "id": "Z4dbqjaEza5n",
        "colab_type": "code",
        "outputId": "957e5b10-0778-46bc-bbdc-f57063664b5b",
        "colab": {
          "base_uri": "https://localhost:8080/",
          "height": 204
        }
      },
      "source": [
        "df.isnull().sum()"
      ],
      "execution_count": 0,
      "outputs": [
        {
          "output_type": "execute_result",
          "data": {
            "text/plain": [
              "V1     0\n",
              "V2     0\n",
              "V3     0\n",
              "V4     0\n",
              "V5     0\n",
              "V6     0\n",
              "V7     0\n",
              "V8     0\n",
              "V9     0\n",
              "V10    0\n",
              "dtype: int64"
            ]
          },
          "metadata": {
            "tags": []
          },
          "execution_count": 8
        }
      ]
    },
    {
      "cell_type": "markdown",
      "metadata": {
        "id": "F7OVcaZIcdeJ",
        "colab_type": "text"
      },
      "source": [
        "##Separando os dados Categóricos"
      ]
    },
    {
      "cell_type": "code",
      "metadata": {
        "id": "esc4ZRnSuldT",
        "colab_type": "code",
        "colab": {}
      },
      "source": [
        "cat_df = pd.get_dummies(data=df,\n",
        "                     columns=['V6'], drop_first=False)\n"
      ],
      "execution_count": 0,
      "outputs": []
    },
    {
      "cell_type": "markdown",
      "metadata": {
        "id": "iIgDEynXclTj",
        "colab_type": "text"
      },
      "source": [
        "###Drop das colunas categóricas antes do tratamento"
      ]
    },
    {
      "cell_type": "code",
      "metadata": {
        "id": "rDHhKO4XSuro",
        "colab_type": "code",
        "colab": {}
      },
      "source": [
        "drop_df = df.drop(['V6'], axis=1, inplace=True)"
      ],
      "execution_count": 0,
      "outputs": []
    },
    {
      "cell_type": "markdown",
      "metadata": {
        "id": "uwjHaGupcqm6",
        "colab_type": "text"
      },
      "source": [
        "##Concatenando os dados Categóricos com os dados numéricos"
      ]
    },
    {
      "cell_type": "code",
      "metadata": {
        "id": "68u-DRi4Suff",
        "colab_type": "code",
        "outputId": "a4ed4626-edb0-498e-ea05-2a2e02b8e8f0",
        "colab": {
          "base_uri": "https://localhost:8080/",
          "height": 419
        }
      },
      "source": [
        "df_dmy = pd.concat([drop_df,cat_df],axis=1)\n",
        "df_dmy"
      ],
      "execution_count": 0,
      "outputs": [
        {
          "output_type": "execute_result",
          "data": {
            "text/html": [
              "<div>\n",
              "<style scoped>\n",
              "    .dataframe tbody tr th:only-of-type {\n",
              "        vertical-align: middle;\n",
              "    }\n",
              "\n",
              "    .dataframe tbody tr th {\n",
              "        vertical-align: top;\n",
              "    }\n",
              "\n",
              "    .dataframe thead th {\n",
              "        text-align: right;\n",
              "    }\n",
              "</style>\n",
              "<table border=\"1\" class=\"dataframe\">\n",
              "  <thead>\n",
              "    <tr style=\"text-align: right;\">\n",
              "      <th></th>\n",
              "      <th>V1</th>\n",
              "      <th>V2</th>\n",
              "      <th>V3</th>\n",
              "      <th>V4</th>\n",
              "      <th>V5</th>\n",
              "      <th>V7</th>\n",
              "      <th>V8</th>\n",
              "      <th>V9</th>\n",
              "      <th>V10</th>\n",
              "      <th>V6_A</th>\n",
              "      <th>V6_B</th>\n",
              "      <th>V6_C</th>\n",
              "      <th>V6_D</th>\n",
              "      <th>V6_E</th>\n",
              "    </tr>\n",
              "  </thead>\n",
              "  <tbody>\n",
              "    <tr>\n",
              "      <th>0</th>\n",
              "      <td>-122.23</td>\n",
              "      <td>452600.0</td>\n",
              "      <td>129.0</td>\n",
              "      <td>41.0</td>\n",
              "      <td>880.0</td>\n",
              "      <td>126.0</td>\n",
              "      <td>322.0</td>\n",
              "      <td>83.252</td>\n",
              "      <td>37.88</td>\n",
              "      <td>0</td>\n",
              "      <td>0</td>\n",
              "      <td>0</td>\n",
              "      <td>1</td>\n",
              "      <td>0</td>\n",
              "    </tr>\n",
              "    <tr>\n",
              "      <th>1</th>\n",
              "      <td>-122.22</td>\n",
              "      <td>358500.0</td>\n",
              "      <td>1106.0</td>\n",
              "      <td>21.0</td>\n",
              "      <td>7099.0</td>\n",
              "      <td>1138.0</td>\n",
              "      <td>2401.0</td>\n",
              "      <td>83.014</td>\n",
              "      <td>37.86</td>\n",
              "      <td>0</td>\n",
              "      <td>0</td>\n",
              "      <td>0</td>\n",
              "      <td>1</td>\n",
              "      <td>0</td>\n",
              "    </tr>\n",
              "    <tr>\n",
              "      <th>2</th>\n",
              "      <td>-122.24</td>\n",
              "      <td>352100.0</td>\n",
              "      <td>190.0</td>\n",
              "      <td>52.0</td>\n",
              "      <td>1467.0</td>\n",
              "      <td>177.0</td>\n",
              "      <td>496.0</td>\n",
              "      <td>72.574</td>\n",
              "      <td>37.85</td>\n",
              "      <td>0</td>\n",
              "      <td>0</td>\n",
              "      <td>0</td>\n",
              "      <td>1</td>\n",
              "      <td>0</td>\n",
              "    </tr>\n",
              "    <tr>\n",
              "      <th>3</th>\n",
              "      <td>-122.25</td>\n",
              "      <td>341300.0</td>\n",
              "      <td>235.0</td>\n",
              "      <td>52.0</td>\n",
              "      <td>1274.0</td>\n",
              "      <td>219.0</td>\n",
              "      <td>558.0</td>\n",
              "      <td>56.431</td>\n",
              "      <td>37.85</td>\n",
              "      <td>0</td>\n",
              "      <td>0</td>\n",
              "      <td>0</td>\n",
              "      <td>1</td>\n",
              "      <td>0</td>\n",
              "    </tr>\n",
              "    <tr>\n",
              "      <th>4</th>\n",
              "      <td>-122.25</td>\n",
              "      <td>342200.0</td>\n",
              "      <td>280.0</td>\n",
              "      <td>52.0</td>\n",
              "      <td>1627.0</td>\n",
              "      <td>259.0</td>\n",
              "      <td>565.0</td>\n",
              "      <td>38.462</td>\n",
              "      <td>37.85</td>\n",
              "      <td>0</td>\n",
              "      <td>0</td>\n",
              "      <td>0</td>\n",
              "      <td>1</td>\n",
              "      <td>0</td>\n",
              "    </tr>\n",
              "    <tr>\n",
              "      <th>...</th>\n",
              "      <td>...</td>\n",
              "      <td>...</td>\n",
              "      <td>...</td>\n",
              "      <td>...</td>\n",
              "      <td>...</td>\n",
              "      <td>...</td>\n",
              "      <td>...</td>\n",
              "      <td>...</td>\n",
              "      <td>...</td>\n",
              "      <td>...</td>\n",
              "      <td>...</td>\n",
              "      <td>...</td>\n",
              "      <td>...</td>\n",
              "      <td>...</td>\n",
              "    </tr>\n",
              "    <tr>\n",
              "      <th>20635</th>\n",
              "      <td>-121.09</td>\n",
              "      <td>78100.0</td>\n",
              "      <td>374.0</td>\n",
              "      <td>25.0</td>\n",
              "      <td>1665.0</td>\n",
              "      <td>330.0</td>\n",
              "      <td>845.0</td>\n",
              "      <td>15.603</td>\n",
              "      <td>39.48</td>\n",
              "      <td>0</td>\n",
              "      <td>1</td>\n",
              "      <td>0</td>\n",
              "      <td>0</td>\n",
              "      <td>0</td>\n",
              "    </tr>\n",
              "    <tr>\n",
              "      <th>20636</th>\n",
              "      <td>-121.21</td>\n",
              "      <td>77100.0</td>\n",
              "      <td>150.0</td>\n",
              "      <td>18.0</td>\n",
              "      <td>697.0</td>\n",
              "      <td>114.0</td>\n",
              "      <td>356.0</td>\n",
              "      <td>25.568</td>\n",
              "      <td>39.49</td>\n",
              "      <td>0</td>\n",
              "      <td>1</td>\n",
              "      <td>0</td>\n",
              "      <td>0</td>\n",
              "      <td>0</td>\n",
              "    </tr>\n",
              "    <tr>\n",
              "      <th>20637</th>\n",
              "      <td>-121.22</td>\n",
              "      <td>92300.0</td>\n",
              "      <td>485.0</td>\n",
              "      <td>17.0</td>\n",
              "      <td>2254.0</td>\n",
              "      <td>433.0</td>\n",
              "      <td>1007.0</td>\n",
              "      <td>1.700</td>\n",
              "      <td>39.43</td>\n",
              "      <td>0</td>\n",
              "      <td>1</td>\n",
              "      <td>0</td>\n",
              "      <td>0</td>\n",
              "      <td>0</td>\n",
              "    </tr>\n",
              "    <tr>\n",
              "      <th>20638</th>\n",
              "      <td>-121.32</td>\n",
              "      <td>84700.0</td>\n",
              "      <td>409.0</td>\n",
              "      <td>18.0</td>\n",
              "      <td>1860.0</td>\n",
              "      <td>349.0</td>\n",
              "      <td>741.0</td>\n",
              "      <td>18.672</td>\n",
              "      <td>39.43</td>\n",
              "      <td>0</td>\n",
              "      <td>1</td>\n",
              "      <td>0</td>\n",
              "      <td>0</td>\n",
              "      <td>0</td>\n",
              "    </tr>\n",
              "    <tr>\n",
              "      <th>20639</th>\n",
              "      <td>-121.24</td>\n",
              "      <td>89400.0</td>\n",
              "      <td>616.0</td>\n",
              "      <td>16.0</td>\n",
              "      <td>2785.0</td>\n",
              "      <td>530.0</td>\n",
              "      <td>1387.0</td>\n",
              "      <td>23.886</td>\n",
              "      <td>39.37</td>\n",
              "      <td>0</td>\n",
              "      <td>1</td>\n",
              "      <td>0</td>\n",
              "      <td>0</td>\n",
              "      <td>0</td>\n",
              "    </tr>\n",
              "  </tbody>\n",
              "</table>\n",
              "<p>20640 rows × 14 columns</p>\n",
              "</div>"
            ],
            "text/plain": [
              "           V1        V2      V3    V4      V5  ...  V6_A  V6_B  V6_C  V6_D  V6_E\n",
              "0     -122.23  452600.0   129.0  41.0   880.0  ...     0     0     0     1     0\n",
              "1     -122.22  358500.0  1106.0  21.0  7099.0  ...     0     0     0     1     0\n",
              "2     -122.24  352100.0   190.0  52.0  1467.0  ...     0     0     0     1     0\n",
              "3     -122.25  341300.0   235.0  52.0  1274.0  ...     0     0     0     1     0\n",
              "4     -122.25  342200.0   280.0  52.0  1627.0  ...     0     0     0     1     0\n",
              "...       ...       ...     ...   ...     ...  ...   ...   ...   ...   ...   ...\n",
              "20635 -121.09   78100.0   374.0  25.0  1665.0  ...     0     1     0     0     0\n",
              "20636 -121.21   77100.0   150.0  18.0   697.0  ...     0     1     0     0     0\n",
              "20637 -121.22   92300.0   485.0  17.0  2254.0  ...     0     1     0     0     0\n",
              "20638 -121.32   84700.0   409.0  18.0  1860.0  ...     0     1     0     0     0\n",
              "20639 -121.24   89400.0   616.0  16.0  2785.0  ...     0     1     0     0     0\n",
              "\n",
              "[20640 rows x 14 columns]"
            ]
          },
          "metadata": {
            "tags": []
          },
          "execution_count": 11
        }
      ]
    },
    {
      "cell_type": "markdown",
      "metadata": {
        "id": "TLu-lwmGGqeY",
        "colab_type": "text"
      },
      "source": [
        "#Clusterização"
      ]
    },
    {
      "cell_type": "markdown",
      "metadata": {
        "id": "xjrk8EqSHC7G",
        "colab_type": "text"
      },
      "source": [
        "##Modelo K-Means"
      ]
    },
    {
      "cell_type": "markdown",
      "metadata": {
        "id": "Xu-t0rD-GV2F",
        "colab_type": "text"
      },
      "source": [
        "###Normalizando os dados"
      ]
    },
    {
      "cell_type": "code",
      "metadata": {
        "id": "Ly9dq4PW1Dpt",
        "colab_type": "code",
        "colab": {}
      },
      "source": [
        "df_normalizacao = StandardScaler().fit_transform(df_dmy.iloc[:,:8])\n",
        "df_cluster = StandardScaler().fit_transform(df_normalizacao)"
      ],
      "execution_count": 0,
      "outputs": []
    },
    {
      "cell_type": "code",
      "metadata": {
        "id": "RZTVGa_f9wuq",
        "colab_type": "code",
        "outputId": "dfa3a6ea-7cb2-4425-fe5c-aaab8dd25895",
        "colab": {
          "base_uri": "https://localhost:8080/",
          "height": 238
        }
      },
      "source": [
        "df_cluster"
      ],
      "execution_count": 0,
      "outputs": [
        {
          "output_type": "execute_result",
          "data": {
            "text/plain": [
              "array([[-1.32783522,  2.12963148, -0.97095437, ..., -0.97703285,\n",
              "        -0.9744286 ,  2.26896309],\n",
              "       [-1.32284391,  1.31415614,  1.35044693, ...,  1.66996103,\n",
              "         0.86143887,  2.25807484],\n",
              "       [-1.33282653,  1.25869341, -0.8260153 , ..., -0.84363692,\n",
              "        -0.82077735,  1.78045608],\n",
              "       ...,\n",
              "       [-0.8237132 , -0.99274649, -0.12508041, ..., -0.17404163,\n",
              "        -0.3695372 , -1.46195311],\n",
              "       [-0.87362627, -1.05860847, -0.30566024, ..., -0.39375258,\n",
              "        -0.60442933, -0.68550238],\n",
              "       [-0.83369581, -1.01787803,  0.1861822 , ...,  0.07967221,\n",
              "        -0.03397701, -0.4469675 ]])"
            ]
          },
          "metadata": {
            "tags": []
          },
          "execution_count": 13
        }
      ]
    },
    {
      "cell_type": "markdown",
      "metadata": {
        "id": "9LWi7AxIGdbq",
        "colab_type": "text"
      },
      "source": [
        "###Redução de dimensionalidade com PCA"
      ]
    },
    {
      "cell_type": "code",
      "metadata": {
        "id": "_-m6neVR2CwN",
        "colab_type": "code",
        "colab": {}
      },
      "source": [
        "pca = PCA(n_components=2)\n",
        "\n",
        "principalComponents = pca.fit_transform(df_cluster)\n",
        "\n",
        "#principalComponents.index = df_cluster.index\n",
        "\n",
        "principalDf = pd.DataFrame(data = principalComponents\n",
        "             , columns = ['principal component 1', 'principal component 2'])"
      ],
      "execution_count": 0,
      "outputs": []
    },
    {
      "cell_type": "code",
      "metadata": {
        "id": "AWMibKTw3E43",
        "colab_type": "code",
        "outputId": "4c1f916b-2a17-4e79-eb30-2f57b97b2770",
        "colab": {
          "base_uri": "https://localhost:8080/",
          "height": 419
        }
      },
      "source": [
        "principalDf"
      ],
      "execution_count": 0,
      "outputs": [
        {
          "output_type": "execute_result",
          "data": {
            "text/html": [
              "<div>\n",
              "<style scoped>\n",
              "    .dataframe tbody tr th:only-of-type {\n",
              "        vertical-align: middle;\n",
              "    }\n",
              "\n",
              "    .dataframe tbody tr th {\n",
              "        vertical-align: top;\n",
              "    }\n",
              "\n",
              "    .dataframe thead th {\n",
              "        text-align: right;\n",
              "    }\n",
              "</style>\n",
              "<table border=\"1\" class=\"dataframe\">\n",
              "  <thead>\n",
              "    <tr style=\"text-align: right;\">\n",
              "      <th></th>\n",
              "      <th>principal component 1</th>\n",
              "      <th>principal component 2</th>\n",
              "    </tr>\n",
              "  </thead>\n",
              "  <tbody>\n",
              "    <tr>\n",
              "      <th>0</th>\n",
              "      <td>-1.871269</td>\n",
              "      <td>3.383173</td>\n",
              "    </tr>\n",
              "    <tr>\n",
              "      <th>1</th>\n",
              "      <td>3.142388</td>\n",
              "      <td>2.516581</td>\n",
              "    </tr>\n",
              "    <tr>\n",
              "      <th>2</th>\n",
              "      <td>-1.786123</td>\n",
              "      <td>2.490188</td>\n",
              "    </tr>\n",
              "    <tr>\n",
              "      <th>3</th>\n",
              "      <td>-1.745100</td>\n",
              "      <td>1.897218</td>\n",
              "    </tr>\n",
              "    <tr>\n",
              "      <th>4</th>\n",
              "      <td>-1.608217</td>\n",
              "      <td>1.338559</td>\n",
              "    </tr>\n",
              "    <tr>\n",
              "      <th>...</th>\n",
              "      <td>...</td>\n",
              "      <td>...</td>\n",
              "    </tr>\n",
              "    <tr>\n",
              "      <th>20635</th>\n",
              "      <td>-0.940174</td>\n",
              "      <td>-1.242995</td>\n",
              "    </tr>\n",
              "    <tr>\n",
              "      <th>20636</th>\n",
              "      <td>-1.755177</td>\n",
              "      <td>-0.915518</td>\n",
              "    </tr>\n",
              "    <tr>\n",
              "      <th>20637</th>\n",
              "      <td>-0.376783</td>\n",
              "      <td>-1.648523</td>\n",
              "    </tr>\n",
              "    <tr>\n",
              "      <th>20638</th>\n",
              "      <td>-0.748705</td>\n",
              "      <td>-1.125402</td>\n",
              "    </tr>\n",
              "    <tr>\n",
              "      <th>20639</th>\n",
              "      <td>0.254793</td>\n",
              "      <td>-1.008934</td>\n",
              "    </tr>\n",
              "  </tbody>\n",
              "</table>\n",
              "<p>20640 rows × 2 columns</p>\n",
              "</div>"
            ],
            "text/plain": [
              "       principal component 1  principal component 2\n",
              "0                  -1.871269               3.383173\n",
              "1                   3.142388               2.516581\n",
              "2                  -1.786123               2.490188\n",
              "3                  -1.745100               1.897218\n",
              "4                  -1.608217               1.338559\n",
              "...                      ...                    ...\n",
              "20635              -0.940174              -1.242995\n",
              "20636              -1.755177              -0.915518\n",
              "20637              -0.376783              -1.648523\n",
              "20638              -0.748705              -1.125402\n",
              "20639               0.254793              -1.008934\n",
              "\n",
              "[20640 rows x 2 columns]"
            ]
          },
          "metadata": {
            "tags": []
          },
          "execution_count": 15
        }
      ]
    },
    {
      "cell_type": "markdown",
      "metadata": {
        "id": "5qD71T63GxYo",
        "colab_type": "text"
      },
      "source": [
        "####Aplicação do Método Elbow para identificar a quantidade de clusters a ser utilizado"
      ]
    },
    {
      "cell_type": "code",
      "metadata": {
        "id": "r2WbMBfE2Ytf",
        "colab_type": "code",
        "colab": {}
      },
      "source": [
        "inertias =[]\n",
        "for i in range(1, 20):\n",
        "    kmeans = KMeans(n_clusters = i, max_iter=1000).fit(principalDf)    \n",
        "    #somatório dos erros quadráticos das instâncias de cada cluster\n",
        "    inertias.append(kmeans.inertia_)"
      ],
      "execution_count": 0,
      "outputs": []
    },
    {
      "cell_type": "code",
      "metadata": {
        "id": "VM6Ol6Td5KfN",
        "colab_type": "code",
        "outputId": "e82ae42f-9163-4055-d4a8-f4e69934ec3f",
        "colab": {
          "base_uri": "https://localhost:8080/",
          "height": 295
        }
      },
      "source": [
        "plt.figure(1)\n",
        "plt.plot(range(1, 20), inertias)\n",
        "plt.title('O Metodo Elbow')\n",
        "plt.xlabel('No de clusters')\n",
        "plt.ylabel('WSS - within cluster sum of squares')\n",
        "plt.show()"
      ],
      "execution_count": 0,
      "outputs": [
        {
          "output_type": "display_data",
          "data": {
            "image/png": "[encoded data removed]",
            "text/plain": [
              "<Figure size 432x288 with 1 Axes>"
            ]
          },
          "metadata": {
            "tags": [],
            "needs_background": "light"
          }
        }
      ]
    },
    {
      "cell_type": "code",
      "metadata": {
        "id": "ipadAhQbXtZ1",
        "colab_type": "code",
        "colab": {}
      },
      "source": [
        ""
      ],
      "execution_count": 0,
      "outputs": []
    },
    {
      "cell_type": "markdown",
      "metadata": {
        "id": "7n2aCc5gHVcR",
        "colab_type": "text"
      },
      "source": [
        "####Treinando o modelo K-Means para 5 clusters"
      ]
    },
    {
      "cell_type": "code",
      "metadata": {
        "id": "lNpVic6F3bY0",
        "colab_type": "code",
        "colab": {}
      },
      "source": [
        "kmeans5 = KMeans(n_clusters=5)"
      ],
      "execution_count": 0,
      "outputs": []
    },
    {
      "cell_type": "code",
      "metadata": {
        "id": "RI7wgMdC3cJH",
        "colab_type": "code",
        "outputId": "5f964f89-4662-47f4-bda9-85b02fba6701",
        "colab": {
          "base_uri": "https://localhost:8080/",
          "height": 68
        }
      },
      "source": [
        "kmeans5.fit(principalDf)"
      ],
      "execution_count": 0,
      "outputs": [
        {
          "output_type": "execute_result",
          "data": {
            "text/plain": [
              "KMeans(algorithm='auto', copy_x=True, init='k-means++', max_iter=300,\n",
              "       n_clusters=5, n_init=10, n_jobs=None, precompute_distances='auto',\n",
              "       random_state=None, tol=0.0001, verbose=0)"
            ]
          },
          "metadata": {
            "tags": []
          },
          "execution_count": 19
        }
      ]
    },
    {
      "cell_type": "markdown",
      "metadata": {
        "id": "36zY8wc5Hspu",
        "colab_type": "text"
      },
      "source": [
        "####Incluindo o ID do Cluster no Dataset"
      ]
    },
    {
      "cell_type": "code",
      "metadata": {
        "id": "CNaE1ss33eJS",
        "colab_type": "code",
        "colab": {}
      },
      "source": [
        "principalDf[\"clusters\"] = kmeans5.labels_\n",
        "df_dmy['cluster'] = kmeans5.labels_"
      ],
      "execution_count": 0,
      "outputs": []
    },
    {
      "cell_type": "markdown",
      "metadata": {
        "id": "CSGRIOJNHj38",
        "colab_type": "text"
      },
      "source": [
        "####Plot dos dados (PCA) e os clusters identificados"
      ]
    },
    {
      "cell_type": "code",
      "metadata": {
        "id": "XCc9JdBM3gDE",
        "colab_type": "code",
        "outputId": "3536fa00-a575-4005-e85b-a8ac6073ec03",
        "colab": {
          "base_uri": "https://localhost:8080/",
          "height": 281
        }
      },
      "source": [
        "fig, ax = plt.subplots()\n",
        "plt.scatter(principalDf['principal component 1'],principalDf['principal component 2'],c=principalDf.clusters, s=100)\n",
        "plt.scatter(kmeans5.cluster_centers_[:,0],kmeans5.cluster_centers_[:,1],s=100,c='black',label=\"Centroids\",marker='+')\n",
        "plt.title(\"K-Means - circulos\")\n",
        "ax.legend()\n",
        "ax.grid(True)\n",
        "plt.show()"
      ],
      "execution_count": 0,
      "outputs": [
        {
          "output_type": "display_data",
          "data": {
            "image/png": "[encoded data removed]",
            "text/plain": [
              "<Figure size 432x288 with 1 Axes>"
            ]
          },
          "metadata": {
            "tags": [],
            "needs_background": "light"
          }
        }
      ]
    },
    {
      "cell_type": "code",
      "metadata": {
        "id": "cTIPiz7JZtsG",
        "colab_type": "code",
        "outputId": "592df19a-7cfd-4ef7-dcb6-8b7e104fa13d",
        "colab": {
          "base_uri": "https://localhost:8080/",
          "height": 419
        }
      },
      "source": [
        "df_dmy"
      ],
      "execution_count": 0,
      "outputs": [
        {
          "output_type": "execute_result",
          "data": {
            "text/html": [
              "<div>\n",
              "<style scoped>\n",
              "    .dataframe tbody tr th:only-of-type {\n",
              "        vertical-align: middle;\n",
              "    }\n",
              "\n",
              "    .dataframe tbody tr th {\n",
              "        vertical-align: top;\n",
              "    }\n",
              "\n",
              "    .dataframe thead th {\n",
              "        text-align: right;\n",
              "    }\n",
              "</style>\n",
              "<table border=\"1\" class=\"dataframe\">\n",
              "  <thead>\n",
              "    <tr style=\"text-align: right;\">\n",
              "      <th></th>\n",
              "      <th>V1</th>\n",
              "      <th>V2</th>\n",
              "      <th>V3</th>\n",
              "      <th>V4</th>\n",
              "      <th>V5</th>\n",
              "      <th>V7</th>\n",
              "      <th>V8</th>\n",
              "      <th>V9</th>\n",
              "      <th>V10</th>\n",
              "      <th>V6_A</th>\n",
              "      <th>V6_B</th>\n",
              "      <th>V6_C</th>\n",
              "      <th>V6_D</th>\n",
              "      <th>V6_E</th>\n",
              "      <th>cluster</th>\n",
              "    </tr>\n",
              "  </thead>\n",
              "  <tbody>\n",
              "    <tr>\n",
              "      <th>0</th>\n",
              "      <td>-122.23</td>\n",
              "      <td>452600.0</td>\n",
              "      <td>129.0</td>\n",
              "      <td>41.0</td>\n",
              "      <td>880.0</td>\n",
              "      <td>126.0</td>\n",
              "      <td>322.0</td>\n",
              "      <td>83.252</td>\n",
              "      <td>37.88</td>\n",
              "      <td>0</td>\n",
              "      <td>0</td>\n",
              "      <td>0</td>\n",
              "      <td>1</td>\n",
              "      <td>0</td>\n",
              "      <td>2</td>\n",
              "    </tr>\n",
              "    <tr>\n",
              "      <th>1</th>\n",
              "      <td>-122.22</td>\n",
              "      <td>358500.0</td>\n",
              "      <td>1106.0</td>\n",
              "      <td>21.0</td>\n",
              "      <td>7099.0</td>\n",
              "      <td>1138.0</td>\n",
              "      <td>2401.0</td>\n",
              "      <td>83.014</td>\n",
              "      <td>37.86</td>\n",
              "      <td>0</td>\n",
              "      <td>0</td>\n",
              "      <td>0</td>\n",
              "      <td>1</td>\n",
              "      <td>0</td>\n",
              "      <td>3</td>\n",
              "    </tr>\n",
              "    <tr>\n",
              "      <th>2</th>\n",
              "      <td>-122.24</td>\n",
              "      <td>352100.0</td>\n",
              "      <td>190.0</td>\n",
              "      <td>52.0</td>\n",
              "      <td>1467.0</td>\n",
              "      <td>177.0</td>\n",
              "      <td>496.0</td>\n",
              "      <td>72.574</td>\n",
              "      <td>37.85</td>\n",
              "      <td>0</td>\n",
              "      <td>0</td>\n",
              "      <td>0</td>\n",
              "      <td>1</td>\n",
              "      <td>0</td>\n",
              "      <td>2</td>\n",
              "    </tr>\n",
              "    <tr>\n",
              "      <th>3</th>\n",
              "      <td>-122.25</td>\n",
              "      <td>341300.0</td>\n",
              "      <td>235.0</td>\n",
              "      <td>52.0</td>\n",
              "      <td>1274.0</td>\n",
              "      <td>219.0</td>\n",
              "      <td>558.0</td>\n",
              "      <td>56.431</td>\n",
              "      <td>37.85</td>\n",
              "      <td>0</td>\n",
              "      <td>0</td>\n",
              "      <td>0</td>\n",
              "      <td>1</td>\n",
              "      <td>0</td>\n",
              "      <td>2</td>\n",
              "    </tr>\n",
              "    <tr>\n",
              "      <th>4</th>\n",
              "      <td>-122.25</td>\n",
              "      <td>342200.0</td>\n",
              "      <td>280.0</td>\n",
              "      <td>52.0</td>\n",
              "      <td>1627.0</td>\n",
              "      <td>259.0</td>\n",
              "      <td>565.0</td>\n",
              "      <td>38.462</td>\n",
              "      <td>37.85</td>\n",
              "      <td>0</td>\n",
              "      <td>0</td>\n",
              "      <td>0</td>\n",
              "      <td>1</td>\n",
              "      <td>0</td>\n",
              "      <td>2</td>\n",
              "    </tr>\n",
              "    <tr>\n",
              "      <th>...</th>\n",
              "      <td>...</td>\n",
              "      <td>...</td>\n",
              "      <td>...</td>\n",
              "      <td>...</td>\n",
              "      <td>...</td>\n",
              "      <td>...</td>\n",
              "      <td>...</td>\n",
              "      <td>...</td>\n",
              "      <td>...</td>\n",
              "      <td>...</td>\n",
              "      <td>...</td>\n",
              "      <td>...</td>\n",
              "      <td>...</td>\n",
              "      <td>...</td>\n",
              "      <td>...</td>\n",
              "    </tr>\n",
              "    <tr>\n",
              "      <th>20635</th>\n",
              "      <td>-121.09</td>\n",
              "      <td>78100.0</td>\n",
              "      <td>374.0</td>\n",
              "      <td>25.0</td>\n",
              "      <td>1665.0</td>\n",
              "      <td>330.0</td>\n",
              "      <td>845.0</td>\n",
              "      <td>15.603</td>\n",
              "      <td>39.48</td>\n",
              "      <td>0</td>\n",
              "      <td>1</td>\n",
              "      <td>0</td>\n",
              "      <td>0</td>\n",
              "      <td>0</td>\n",
              "      <td>1</td>\n",
              "    </tr>\n",
              "    <tr>\n",
              "      <th>20636</th>\n",
              "      <td>-121.21</td>\n",
              "      <td>77100.0</td>\n",
              "      <td>150.0</td>\n",
              "      <td>18.0</td>\n",
              "      <td>697.0</td>\n",
              "      <td>114.0</td>\n",
              "      <td>356.0</td>\n",
              "      <td>25.568</td>\n",
              "      <td>39.49</td>\n",
              "      <td>0</td>\n",
              "      <td>1</td>\n",
              "      <td>0</td>\n",
              "      <td>0</td>\n",
              "      <td>0</td>\n",
              "      <td>1</td>\n",
              "    </tr>\n",
              "    <tr>\n",
              "      <th>20637</th>\n",
              "      <td>-121.22</td>\n",
              "      <td>92300.0</td>\n",
              "      <td>485.0</td>\n",
              "      <td>17.0</td>\n",
              "      <td>2254.0</td>\n",
              "      <td>433.0</td>\n",
              "      <td>1007.0</td>\n",
              "      <td>1.700</td>\n",
              "      <td>39.43</td>\n",
              "      <td>0</td>\n",
              "      <td>1</td>\n",
              "      <td>0</td>\n",
              "      <td>0</td>\n",
              "      <td>0</td>\n",
              "      <td>1</td>\n",
              "    </tr>\n",
              "    <tr>\n",
              "      <th>20638</th>\n",
              "      <td>-121.32</td>\n",
              "      <td>84700.0</td>\n",
              "      <td>409.0</td>\n",
              "      <td>18.0</td>\n",
              "      <td>1860.0</td>\n",
              "      <td>349.0</td>\n",
              "      <td>741.0</td>\n",
              "      <td>18.672</td>\n",
              "      <td>39.43</td>\n",
              "      <td>0</td>\n",
              "      <td>1</td>\n",
              "      <td>0</td>\n",
              "      <td>0</td>\n",
              "      <td>0</td>\n",
              "      <td>1</td>\n",
              "    </tr>\n",
              "    <tr>\n",
              "      <th>20639</th>\n",
              "      <td>-121.24</td>\n",
              "      <td>89400.0</td>\n",
              "      <td>616.0</td>\n",
              "      <td>16.0</td>\n",
              "      <td>2785.0</td>\n",
              "      <td>530.0</td>\n",
              "      <td>1387.0</td>\n",
              "      <td>23.886</td>\n",
              "      <td>39.37</td>\n",
              "      <td>0</td>\n",
              "      <td>1</td>\n",
              "      <td>0</td>\n",
              "      <td>0</td>\n",
              "      <td>0</td>\n",
              "      <td>0</td>\n",
              "    </tr>\n",
              "  </tbody>\n",
              "</table>\n",
              "<p>20640 rows × 15 columns</p>\n",
              "</div>"
            ],
            "text/plain": [
              "           V1        V2      V3    V4      V5  ...  V6_B  V6_C  V6_D  V6_E  cluster\n",
              "0     -122.23  452600.0   129.0  41.0   880.0  ...     0     0     1     0        2\n",
              "1     -122.22  358500.0  1106.0  21.0  7099.0  ...     0     0     1     0        3\n",
              "2     -122.24  352100.0   190.0  52.0  1467.0  ...     0     0     1     0        2\n",
              "3     -122.25  341300.0   235.0  52.0  1274.0  ...     0     0     1     0        2\n",
              "4     -122.25  342200.0   280.0  52.0  1627.0  ...     0     0     1     0        2\n",
              "...       ...       ...     ...   ...     ...  ...   ...   ...   ...   ...      ...\n",
              "20635 -121.09   78100.0   374.0  25.0  1665.0  ...     1     0     0     0        1\n",
              "20636 -121.21   77100.0   150.0  18.0   697.0  ...     1     0     0     0        1\n",
              "20637 -121.22   92300.0   485.0  17.0  2254.0  ...     1     0     0     0        1\n",
              "20638 -121.32   84700.0   409.0  18.0  1860.0  ...     1     0     0     0        1\n",
              "20639 -121.24   89400.0   616.0  16.0  2785.0  ...     1     0     0     0        0\n",
              "\n",
              "[20640 rows x 15 columns]"
            ]
          },
          "metadata": {
            "tags": []
          },
          "execution_count": 22
        }
      ]
    },
    {
      "cell_type": "code",
      "metadata": {
        "id": "xNvAJpkpmA7s",
        "colab_type": "code",
        "colab": {}
      },
      "source": [
        "#df_dmy.groupby('cluster').count()"
      ],
      "execution_count": 0,
      "outputs": []
    },
    {
      "cell_type": "markdown",
      "metadata": {
        "id": "Qzv-xSygnMUz",
        "colab_type": "text"
      },
      "source": [
        "Há um cluster que tem volume muito pequeno de dados comparado aos demais."
      ]
    },
    {
      "cell_type": "markdown",
      "metadata": {
        "id": "NXndArsFc4u5",
        "colab_type": "text"
      },
      "source": [
        "#Classificação"
      ]
    },
    {
      "cell_type": "markdown",
      "metadata": {
        "id": "Wvg7CslHZ722",
        "colab_type": "text"
      },
      "source": [
        "##Determinação de Features"
      ]
    },
    {
      "cell_type": "code",
      "metadata": {
        "id": "Ci4btto_Z56w",
        "colab_type": "code",
        "outputId": "372d1e85-1fe2-4b2b-80b8-be844221f6ed",
        "colab": {
          "base_uri": "https://localhost:8080/",
          "height": 419
        }
      },
      "source": [
        "X = df_dmy.iloc[:,0:14]\n",
        "X"
      ],
      "execution_count": 0,
      "outputs": [
        {
          "output_type": "execute_result",
          "data": {
            "text/html": [
              "<div>\n",
              "<style scoped>\n",
              "    .dataframe tbody tr th:only-of-type {\n",
              "        vertical-align: middle;\n",
              "    }\n",
              "\n",
              "    .dataframe tbody tr th {\n",
              "        vertical-align: top;\n",
              "    }\n",
              "\n",
              "    .dataframe thead th {\n",
              "        text-align: right;\n",
              "    }\n",
              "</style>\n",
              "<table border=\"1\" class=\"dataframe\">\n",
              "  <thead>\n",
              "    <tr style=\"text-align: right;\">\n",
              "      <th></th>\n",
              "      <th>V1</th>\n",
              "      <th>V2</th>\n",
              "      <th>V3</th>\n",
              "      <th>V4</th>\n",
              "      <th>V5</th>\n",
              "      <th>V7</th>\n",
              "      <th>V8</th>\n",
              "      <th>V9</th>\n",
              "      <th>V10</th>\n",
              "      <th>V6_A</th>\n",
              "      <th>V6_B</th>\n",
              "      <th>V6_C</th>\n",
              "      <th>V6_D</th>\n",
              "      <th>V6_E</th>\n",
              "    </tr>\n",
              "  </thead>\n",
              "  <tbody>\n",
              "    <tr>\n",
              "      <th>0</th>\n",
              "      <td>-122.23</td>\n",
              "      <td>452600.0</td>\n",
              "      <td>129.0</td>\n",
              "      <td>41.0</td>\n",
              "      <td>880.0</td>\n",
              "      <td>126.0</td>\n",
              "      <td>322.0</td>\n",
              "      <td>83.252</td>\n",
              "      <td>37.88</td>\n",
              "      <td>0</td>\n",
              "      <td>0</td>\n",
              "      <td>0</td>\n",
              "      <td>1</td>\n",
              "      <td>0</td>\n",
              "    </tr>\n",
              "    <tr>\n",
              "      <th>1</th>\n",
              "      <td>-122.22</td>\n",
              "      <td>358500.0</td>\n",
              "      <td>1106.0</td>\n",
              "      <td>21.0</td>\n",
              "      <td>7099.0</td>\n",
              "      <td>1138.0</td>\n",
              "      <td>2401.0</td>\n",
              "      <td>83.014</td>\n",
              "      <td>37.86</td>\n",
              "      <td>0</td>\n",
              "      <td>0</td>\n",
              "      <td>0</td>\n",
              "      <td>1</td>\n",
              "      <td>0</td>\n",
              "    </tr>\n",
              "    <tr>\n",
              "      <th>2</th>\n",
              "      <td>-122.24</td>\n",
              "      <td>352100.0</td>\n",
              "      <td>190.0</td>\n",
              "      <td>52.0</td>\n",
              "      <td>1467.0</td>\n",
              "      <td>177.0</td>\n",
              "      <td>496.0</td>\n",
              "      <td>72.574</td>\n",
              "      <td>37.85</td>\n",
              "      <td>0</td>\n",
              "      <td>0</td>\n",
              "      <td>0</td>\n",
              "      <td>1</td>\n",
              "      <td>0</td>\n",
              "    </tr>\n",
              "    <tr>\n",
              "      <th>3</th>\n",
              "      <td>-122.25</td>\n",
              "      <td>341300.0</td>\n",
              "      <td>235.0</td>\n",
              "      <td>52.0</td>\n",
              "      <td>1274.0</td>\n",
              "      <td>219.0</td>\n",
              "      <td>558.0</td>\n",
              "      <td>56.431</td>\n",
              "      <td>37.85</td>\n",
              "      <td>0</td>\n",
              "      <td>0</td>\n",
              "      <td>0</td>\n",
              "      <td>1</td>\n",
              "      <td>0</td>\n",
              "    </tr>\n",
              "    <tr>\n",
              "      <th>4</th>\n",
              "      <td>-122.25</td>\n",
              "      <td>342200.0</td>\n",
              "      <td>280.0</td>\n",
              "      <td>52.0</td>\n",
              "      <td>1627.0</td>\n",
              "      <td>259.0</td>\n",
              "      <td>565.0</td>\n",
              "      <td>38.462</td>\n",
              "      <td>37.85</td>\n",
              "      <td>0</td>\n",
              "      <td>0</td>\n",
              "      <td>0</td>\n",
              "      <td>1</td>\n",
              "      <td>0</td>\n",
              "    </tr>\n",
              "    <tr>\n",
              "      <th>...</th>\n",
              "      <td>...</td>\n",
              "      <td>...</td>\n",
              "      <td>...</td>\n",
              "      <td>...</td>\n",
              "      <td>...</td>\n",
              "      <td>...</td>\n",
              "      <td>...</td>\n",
              "      <td>...</td>\n",
              "      <td>...</td>\n",
              "      <td>...</td>\n",
              "      <td>...</td>\n",
              "      <td>...</td>\n",
              "      <td>...</td>\n",
              "      <td>...</td>\n",
              "    </tr>\n",
              "    <tr>\n",
              "      <th>20635</th>\n",
              "      <td>-121.09</td>\n",
              "      <td>78100.0</td>\n",
              "      <td>374.0</td>\n",
              "      <td>25.0</td>\n",
              "      <td>1665.0</td>\n",
              "      <td>330.0</td>\n",
              "      <td>845.0</td>\n",
              "      <td>15.603</td>\n",
              "      <td>39.48</td>\n",
              "      <td>0</td>\n",
              "      <td>1</td>\n",
              "      <td>0</td>\n",
              "      <td>0</td>\n",
              "      <td>0</td>\n",
              "    </tr>\n",
              "    <tr>\n",
              "      <th>20636</th>\n",
              "      <td>-121.21</td>\n",
              "      <td>77100.0</td>\n",
              "      <td>150.0</td>\n",
              "      <td>18.0</td>\n",
              "      <td>697.0</td>\n",
              "      <td>114.0</td>\n",
              "      <td>356.0</td>\n",
              "      <td>25.568</td>\n",
              "      <td>39.49</td>\n",
              "      <td>0</td>\n",
              "      <td>1</td>\n",
              "      <td>0</td>\n",
              "      <td>0</td>\n",
              "      <td>0</td>\n",
              "    </tr>\n",
              "    <tr>\n",
              "      <th>20637</th>\n",
              "      <td>-121.22</td>\n",
              "      <td>92300.0</td>\n",
              "      <td>485.0</td>\n",
              "      <td>17.0</td>\n",
              "      <td>2254.0</td>\n",
              "      <td>433.0</td>\n",
              "      <td>1007.0</td>\n",
              "      <td>1.700</td>\n",
              "      <td>39.43</td>\n",
              "      <td>0</td>\n",
              "      <td>1</td>\n",
              "      <td>0</td>\n",
              "      <td>0</td>\n",
              "      <td>0</td>\n",
              "    </tr>\n",
              "    <tr>\n",
              "      <th>20638</th>\n",
              "      <td>-121.32</td>\n",
              "      <td>84700.0</td>\n",
              "      <td>409.0</td>\n",
              "      <td>18.0</td>\n",
              "      <td>1860.0</td>\n",
              "      <td>349.0</td>\n",
              "      <td>741.0</td>\n",
              "      <td>18.672</td>\n",
              "      <td>39.43</td>\n",
              "      <td>0</td>\n",
              "      <td>1</td>\n",
              "      <td>0</td>\n",
              "      <td>0</td>\n",
              "      <td>0</td>\n",
              "    </tr>\n",
              "    <tr>\n",
              "      <th>20639</th>\n",
              "      <td>-121.24</td>\n",
              "      <td>89400.0</td>\n",
              "      <td>616.0</td>\n",
              "      <td>16.0</td>\n",
              "      <td>2785.0</td>\n",
              "      <td>530.0</td>\n",
              "      <td>1387.0</td>\n",
              "      <td>23.886</td>\n",
              "      <td>39.37</td>\n",
              "      <td>0</td>\n",
              "      <td>1</td>\n",
              "      <td>0</td>\n",
              "      <td>0</td>\n",
              "      <td>0</td>\n",
              "    </tr>\n",
              "  </tbody>\n",
              "</table>\n",
              "<p>20640 rows × 14 columns</p>\n",
              "</div>"
            ],
            "text/plain": [
              "           V1        V2      V3    V4      V5  ...  V6_A  V6_B  V6_C  V6_D  V6_E\n",
              "0     -122.23  452600.0   129.0  41.0   880.0  ...     0     0     0     1     0\n",
              "1     -122.22  358500.0  1106.0  21.0  7099.0  ...     0     0     0     1     0\n",
              "2     -122.24  352100.0   190.0  52.0  1467.0  ...     0     0     0     1     0\n",
              "3     -122.25  341300.0   235.0  52.0  1274.0  ...     0     0     0     1     0\n",
              "4     -122.25  342200.0   280.0  52.0  1627.0  ...     0     0     0     1     0\n",
              "...       ...       ...     ...   ...     ...  ...   ...   ...   ...   ...   ...\n",
              "20635 -121.09   78100.0   374.0  25.0  1665.0  ...     0     1     0     0     0\n",
              "20636 -121.21   77100.0   150.0  18.0   697.0  ...     0     1     0     0     0\n",
              "20637 -121.22   92300.0   485.0  17.0  2254.0  ...     0     1     0     0     0\n",
              "20638 -121.32   84700.0   409.0  18.0  1860.0  ...     0     1     0     0     0\n",
              "20639 -121.24   89400.0   616.0  16.0  2785.0  ...     0     1     0     0     0\n",
              "\n",
              "[20640 rows x 14 columns]"
            ]
          },
          "metadata": {
            "tags": []
          },
          "execution_count": 24
        }
      ]
    },
    {
      "cell_type": "markdown",
      "metadata": {
        "id": "OkTufGAyalAf",
        "colab_type": "text"
      },
      "source": [
        "##Determinação de Target"
      ]
    },
    {
      "cell_type": "code",
      "metadata": {
        "id": "IzwGP660ammE",
        "colab_type": "code",
        "outputId": "43ea5797-a080-4611-b580-4b56d245bfc8",
        "colab": {
          "base_uri": "https://localhost:8080/",
          "height": 221
        }
      },
      "source": [
        "y = df_dmy['cluster']\n",
        "y"
      ],
      "execution_count": 0,
      "outputs": [
        {
          "output_type": "execute_result",
          "data": {
            "text/plain": [
              "0        2\n",
              "1        3\n",
              "2        2\n",
              "3        2\n",
              "4        2\n",
              "        ..\n",
              "20635    1\n",
              "20636    1\n",
              "20637    1\n",
              "20638    1\n",
              "20639    0\n",
              "Name: cluster, Length: 20640, dtype: int32"
            ]
          },
          "metadata": {
            "tags": []
          },
          "execution_count": 25
        }
      ]
    },
    {
      "cell_type": "markdown",
      "metadata": {
        "id": "wBAegEl0c6bd",
        "colab_type": "text"
      },
      "source": [
        "##Separação da massa de teste e treino"
      ]
    },
    {
      "cell_type": "code",
      "metadata": {
        "id": "JkVap5Qssvc_",
        "colab_type": "code",
        "colab": {}
      },
      "source": [
        "X_train, X_test, y_train, y_test = train_test_split(X, y, test_size= .2, random_state=30)"
      ],
      "execution_count": 0,
      "outputs": []
    },
    {
      "cell_type": "markdown",
      "metadata": {
        "id": "woU_9dSbdB_R",
        "colab_type": "text"
      },
      "source": [
        "###Modelo de Árvore de Decisão "
      ]
    },
    {
      "cell_type": "code",
      "metadata": {
        "id": "b5Al11GNwbZE",
        "colab_type": "code",
        "colab": {}
      },
      "source": [
        "model_tree = DecisionTreeClassifier(max_depth=7)\n",
        "model_tree.fit(X_train, y_train)\n",
        "y_pred_tree = model_tree.predict(X_test)"
      ],
      "execution_count": 0,
      "outputs": []
    },
    {
      "cell_type": "code",
      "metadata": {
        "id": "OlAPeofux0Fa",
        "colab_type": "code",
        "colab": {}
      },
      "source": [
        "cm = confusion_matrix(y_test,y_pred_tree)"
      ],
      "execution_count": 0,
      "outputs": []
    },
    {
      "cell_type": "markdown",
      "metadata": {
        "id": "q2lI4cZydFan",
        "colab_type": "text"
      },
      "source": [
        "####Resultado"
      ]
    },
    {
      "cell_type": "code",
      "metadata": {
        "id": "vrk4iJEQbwdb",
        "colab_type": "code",
        "outputId": "59e3faaa-79d7-4ccb-ba7a-dc7e3b7dc511",
        "colab": {
          "base_uri": "https://localhost:8080/",
          "height": 500
        }
      },
      "source": [
        "plot_confusion_matrix(model_tree, X_test, y_test, normalize = 'true')\n",
        "\n",
        "print(classification_report(y_test, y_pred_tree))\n",
        "print(accuracy_score(y_test, y_pred_tree))\n"
      ],
      "execution_count": 0,
      "outputs": [
        {
          "output_type": "stream",
          "text": [
            "              precision    recall  f1-score   support\n",
            "\n",
            "           0       0.88      0.91      0.89      1050\n",
            "           1       0.95      0.95      0.95      1875\n",
            "           2       0.93      0.91      0.92       850\n",
            "           3       0.94      0.92      0.93       314\n",
            "           4       0.95      0.90      0.92        39\n",
            "\n",
            "    accuracy                           0.93      4128\n",
            "   macro avg       0.93      0.92      0.92      4128\n",
            "weighted avg       0.93      0.93      0.93      4128\n",
            "\n",
            "0.9285368217054264\n"
          ],
          "name": "stdout"
        },
        {
          "output_type": "display_data",
          "data": {
            "image/png": "[encoded data removed]",
            "text/plain": [
              "<Figure size 432x288 with 2 Axes>"
            ]
          },
          "metadata": {
            "tags": [],
            "needs_background": "light"
          }
        }
      ]
    },
    {
      "cell_type": "markdown",
      "metadata": {
        "id": "8SzH51madIx5",
        "colab_type": "text"
      },
      "source": [
        "####Plot da Árvore de decisão"
      ]
    },
    {
      "cell_type": "code",
      "metadata": {
        "id": "rs97YQWyzHaQ",
        "colab_type": "code",
        "outputId": "0ee0352e-6741-45cb-e292-66260543e9c3",
        "colab": {
          "base_uri": "https://localhost:8080/",
          "height": 1000
        }
      },
      "source": [
        "display(\n",
        "    graphviz.Source(tree.export_graphviz(\n",
        "        model_tree, \n",
        "        feature_names=df_dmy.columns.values[0:14],  \n",
        "        filled=True)))"
      ],
      "execution_count": 0,
      "outputs": [
        {
          "output_type": "display_data",
          "data": {
            "text/plain": [
              "<graphviz.files.Source at 0x7f9432e1cd68>"
            ],
            "image/svg+xml": "<?xml version=\"1.0\" encoding=\"UTF-8\" standalone=\"no\"?>\n<!DOCTYPE svg PUBLIC \"-//W3C//DTD SVG 1.1//EN\"\n \"http://www.w3.org/Graphics/SVG/1.1/DTD/svg11.dtd\">\n<!-- Generated by graphviz version 2.40.1 (20161225.0304)\n -->\n<!-- Title: Tree Pages: 1 -->\n<svg width=\"16989pt\" height=\"789pt\"\n viewBox=\"0.00 0.00 16989.00 789.00\" xmlns=\"http://www.w3.org/2000/svg\" xmlns:xlink=\"http://www.w3.org/1999/xlink\">\n<g id=\"graph0\" class=\"graph\" transform=\"scale(1 1) rotate(0) translate(4 785)\">\n<title>Tree</title>\n<polygon fill=\"#ffffff\" stroke=\"transparent\" points=\"-4,4 -4,-785 16985,-785 16985,4 -4,4\"/>\n<!-- 0 -->\n<g id=\"node1\" class=\"node\">\n<title>0</title>\n<polygon fill=\"#dff9cf\" stroke=\"#000000\" points=\"10225,-781 9980,-781 9980,-713 10225,-713 10225,-781\"/>\n<text text-anchor=\"middle\" x=\"10102.5\" y=\"-765.8\" font-family=\"Times,serif\" font-size=\"14.00\" fill=\"#000000\">V7 &lt;= 471.5</text>\n<text text-anchor=\"middle\" x=\"10102.5\" y=\"-750.8\" font-family=\"Times,serif\" font-size=\"14.00\" fill=\"#000000\">gini = 0.684</text>\n<text text-anchor=\"middle\" x=\"10102.5\" y=\"-735.8\" font-family=\"Times,serif\" font-size=\"14.00\" fill=\"#000000\">samples = 16512</text>\n<text text-anchor=\"middle\" x=\"10102.5\" y=\"-720.8\" font-family=\"Times,serif\" font-size=\"14.00\" fill=\"#000000\">value = [4423, 7352, 3325, 1246, 166]</text>\n</g>\n<!-- 1 -->\n<g id=\"node2\" class=\"node\">\n<title>1</title>\n<polygon fill=\"#aeef86\" stroke=\"#000000\" points=\"7331.5,-677 7131.5,-677 7131.5,-609 7331.5,-609 7331.5,-677\"/>\n<text text-anchor=\"middle\" x=\"7231.5\" y=\"-661.8\" font-family=\"Times,serif\" font-size=\"14.00\" fill=\"#000000\">V2 &lt;= 240400.0</text>\n<text text-anchor=\"middle\" x=\"7231.5\" y=\"-646.8\" font-family=\"Times,serif\" font-size=\"14.00\" fill=\"#000000\">gini = 0.441</text>\n<text text-anchor=\"middle\" x=\"7231.5\" y=\"-631.8\" font-family=\"Times,serif\" font-size=\"14.00\" fill=\"#000000\">samples = 9875</text>\n<text text-anchor=\"middle\" x=\"7231.5\" y=\"-616.8\" font-family=\"Times,serif\" font-size=\"14.00\" fill=\"#000000\">value = [495, 6964, 2410, 6, 0]</text>\n</g>\n<!-- 0&#45;&gt;1 -->\n<g id=\"edge1\" class=\"edge\">\n<title>0&#45;&gt;1</title>\n<path fill=\"none\" stroke=\"#000000\" d=\"M9979.5963,-742.5479C9504.7937,-725.3485 7794.3381,-663.3884 7341.9187,-646.9998\"/>\n<polygon fill=\"#000000\" stroke=\"#000000\" points=\"7341.909,-643.4973 7331.7888,-646.6329 7341.6555,-650.4927 7341.909,-643.4973\"/>\n<text text-anchor=\"middle\" x=\"7348.8149\" y=\"-661.2389\" font-family=\"Times,serif\" font-size=\"14.00\" fill=\"#000000\">True</text>\n</g>\n<!-- 118 -->\n<g id=\"node119\" class=\"node\">\n<title>118</title>\n<polygon fill=\"#f2c09c\" stroke=\"#000000\" points=\"11853.5,-677 11623.5,-677 11623.5,-609 11853.5,-609 11853.5,-677\"/>\n<text text-anchor=\"middle\" x=\"11738.5\" y=\"-661.8\" font-family=\"Times,serif\" font-size=\"14.00\" fill=\"#000000\">V7 &lt;= 962.5</text>\n<text text-anchor=\"middle\" x=\"11738.5\" y=\"-646.8\" font-family=\"Times,serif\" font-size=\"14.00\" fill=\"#000000\">gini = 0.592</text>\n<text text-anchor=\"middle\" x=\"11738.5\" y=\"-631.8\" font-family=\"Times,serif\" font-size=\"14.00\" fill=\"#000000\">samples = 6637</text>\n<text text-anchor=\"middle\" x=\"11738.5\" y=\"-616.8\" font-family=\"Times,serif\" font-size=\"14.00\" fill=\"#000000\">value = [3928, 388, 915, 1240, 166]</text>\n</g>\n<!-- 0&#45;&gt;118 -->\n<g id=\"edge118\" class=\"edge\">\n<title>0&#45;&gt;118</title>\n<path fill=\"none\" stroke=\"#000000\" d=\"M10225.1312,-739.2044C10527.7737,-719.9655 11307.7445,-670.383 11613.1863,-650.9661\"/>\n<polygon fill=\"#000000\" stroke=\"#000000\" points=\"11613.6512,-654.4438 11623.4089,-650.3163 11613.207,-647.4579 11613.6512,-654.4438\"/>\n<text text-anchor=\"middle\" x=\"11606.8884\" y=\"-665.3799\" font-family=\"Times,serif\" font-size=\"14.00\" fill=\"#000000\">False</text>\n</g>\n<!-- 2 -->\n<g id=\"node3\" class=\"node\">\n<title>2</title>\n<polygon fill=\"#8ae84f\" stroke=\"#000000\" points=\"4138.5,-573 3946.5,-573 3946.5,-505 4138.5,-505 4138.5,-573\"/>\n<text text-anchor=\"middle\" x=\"4042.5\" y=\"-557.8\" font-family=\"Times,serif\" font-size=\"14.00\" fill=\"#000000\">V5 &lt;= 2448.5</text>\n<text text-anchor=\"middle\" x=\"4042.5\" y=\"-542.8\" font-family=\"Times,serif\" font-size=\"14.00\" fill=\"#000000\">gini = 0.191</text>\n<text text-anchor=\"middle\" x=\"4042.5\" y=\"-527.8\" font-family=\"Times,serif\" font-size=\"14.00\" fill=\"#000000\">samples = 7046</text>\n<text text-anchor=\"middle\" x=\"4042.5\" y=\"-512.8\" font-family=\"Times,serif\" font-size=\"14.00\" fill=\"#000000\">value = [456, 6316, 269, 5, 0]</text>\n</g>\n<!-- 1&#45;&gt;2 -->\n<g id=\"edge2\" class=\"edge\">\n<title>1&#45;&gt;2</title>\n<path fill=\"none\" stroke=\"#000000\" d=\"M7131.2364,-639.7302C6656.3866,-624.2443 4636.4098,-558.3686 4148.7659,-542.4656\"/>\n<polygon fill=\"#000000\" stroke=\"#000000\" points=\"4148.678,-538.9609 4138.5692,-542.133 4148.4498,-545.9572 4148.678,-538.9609\"/>\n</g>\n<!-- 65 -->\n<g id=\"node66\" class=\"node\">\n<title>65</title>\n<polygon fill=\"#77edd7\" stroke=\"#000000\" points=\"7324,-573 7139,-573 7139,-505 7324,-505 7324,-573\"/>\n<text text-anchor=\"middle\" x=\"7231.5\" y=\"-557.8\" font-family=\"Times,serif\" font-size=\"14.00\" fill=\"#000000\">V9 &lt;= 37.151</text>\n<text text-anchor=\"middle\" x=\"7231.5\" y=\"-542.8\" font-family=\"Times,serif\" font-size=\"14.00\" fill=\"#000000\">gini = 0.375</text>\n<text text-anchor=\"middle\" x=\"7231.5\" y=\"-527.8\" font-family=\"Times,serif\" font-size=\"14.00\" fill=\"#000000\">samples = 2829</text>\n<text text-anchor=\"middle\" x=\"7231.5\" y=\"-512.8\" font-family=\"Times,serif\" font-size=\"14.00\" fill=\"#000000\">value = [39, 648, 2141, 1, 0]</text>\n</g>\n<!-- 1&#45;&gt;65 -->\n<g id=\"edge65\" class=\"edge\">\n<title>1&#45;&gt;65</title>\n<path fill=\"none\" stroke=\"#000000\" d=\"M7231.5,-608.9465C7231.5,-600.776 7231.5,-591.9318 7231.5,-583.3697\"/>\n<polygon fill=\"#000000\" stroke=\"#000000\" points=\"7235.0001,-583.13 7231.5,-573.13 7228.0001,-583.13 7235.0001,-583.13\"/>\n</g>\n<!-- 3 -->\n<g id=\"node4\" class=\"node\">\n<title>3</title>\n<polygon fill=\"#83e746\" stroke=\"#000000\" points=\"2233.5,-469 2041.5,-469 2041.5,-401 2233.5,-401 2233.5,-469\"/>\n<text text-anchor=\"middle\" x=\"2137.5\" y=\"-453.8\" font-family=\"Times,serif\" font-size=\"14.00\" fill=\"#000000\">V9 &lt;= 52.621</text>\n<text text-anchor=\"middle\" x=\"2137.5\" y=\"-438.8\" font-family=\"Times,serif\" font-size=\"14.00\" fill=\"#000000\">gini = 0.117</text>\n<text text-anchor=\"middle\" x=\"2137.5\" y=\"-423.8\" font-family=\"Times,serif\" font-size=\"14.00\" fill=\"#000000\">samples = 6557</text>\n<text text-anchor=\"middle\" x=\"2137.5\" y=\"-408.8\" font-family=\"Times,serif\" font-size=\"14.00\" fill=\"#000000\">value = [200, 6155, 202, 0, 0]</text>\n</g>\n<!-- 2&#45;&gt;3 -->\n<g id=\"edge3\" class=\"edge\">\n<title>2&#45;&gt;3</title>\n<path fill=\"none\" stroke=\"#000000\" d=\"M3946.3976,-533.7535C3623.8675,-516.1455 2581.3888,-459.2333 2243.956,-440.8118\"/>\n<polygon fill=\"#000000\" stroke=\"#000000\" points=\"2243.8731,-437.3021 2233.6971,-440.2517 2243.4914,-444.2917 2243.8731,-437.3021\"/>\n</g>\n<!-- 34 -->\n<g id=\"node35\" class=\"node\">\n<title>34</title>\n<polygon fill=\"#f7dbc6\" stroke=\"#000000\" points=\"4131,-469 3954,-469 3954,-401 4131,-401 4131,-469\"/>\n<text text-anchor=\"middle\" x=\"4042.5\" y=\"-453.8\" font-family=\"Times,serif\" font-size=\"14.00\" fill=\"#000000\">V4 &lt;= 26.5</text>\n<text text-anchor=\"middle\" x=\"4042.5\" y=\"-438.8\" font-family=\"Times,serif\" font-size=\"14.00\" fill=\"#000000\">gini = 0.599</text>\n<text text-anchor=\"middle\" x=\"4042.5\" y=\"-423.8\" font-family=\"Times,serif\" font-size=\"14.00\" fill=\"#000000\">samples = 489</text>\n<text text-anchor=\"middle\" x=\"4042.5\" y=\"-408.8\" font-family=\"Times,serif\" font-size=\"14.00\" fill=\"#000000\">value = [256, 161, 67, 5, 0]</text>\n</g>\n<!-- 2&#45;&gt;34 -->\n<g id=\"edge34\" class=\"edge\">\n<title>2&#45;&gt;34</title>\n<path fill=\"none\" stroke=\"#000000\" d=\"M4042.5,-504.9465C4042.5,-496.776 4042.5,-487.9318 4042.5,-479.3697\"/>\n<polygon fill=\"#000000\" stroke=\"#000000\" points=\"4046.0001,-479.13 4042.5,-469.13 4039.0001,-479.13 4046.0001,-479.13\"/>\n</g>\n<!-- 4 -->\n<g id=\"node5\" class=\"node\">\n<title>4</title>\n<polygon fill=\"#81e641\" stroke=\"#000000\" points=\"1148,-365 963,-365 963,-297 1148,-297 1148,-365\"/>\n<text text-anchor=\"middle\" x=\"1055.5\" y=\"-349.8\" font-family=\"Times,serif\" font-size=\"14.00\" fill=\"#000000\">V7 &lt;= 425.5</text>\n<text text-anchor=\"middle\" x=\"1055.5\" y=\"-334.8\" font-family=\"Times,serif\" font-size=\"14.00\" fill=\"#000000\">gini = 0.079</text>\n<text text-anchor=\"middle\" x=\"1055.5\" y=\"-319.8\" font-family=\"Times,serif\" font-size=\"14.00\" fill=\"#000000\">samples = 6318</text>\n<text text-anchor=\"middle\" x=\"1055.5\" y=\"-304.8\" font-family=\"Times,serif\" font-size=\"14.00\" fill=\"#000000\">value = [196, 6059, 63, 0, 0]</text>\n</g>\n<!-- 3&#45;&gt;4 -->\n<g id=\"edge4\" class=\"edge\">\n<title>3&#45;&gt;4</title>\n<path fill=\"none\" stroke=\"#000000\" d=\"M2041.4797,-425.7707C1838.4424,-406.2551 1367.1111,-360.9515 1158.2728,-340.8783\"/>\n<polygon fill=\"#000000\" stroke=\"#000000\" points=\"1158.5148,-337.3856 1148.2258,-339.9126 1157.845,-344.3534 1158.5148,-337.3856\"/>\n</g>\n<!-- 19 -->\n<g id=\"node20\" class=\"node\">\n<title>19</title>\n<polygon fill=\"#c3f7ee\" stroke=\"#000000\" points=\"2218.5,-365 2056.5,-365 2056.5,-297 2218.5,-297 2218.5,-365\"/>\n<text text-anchor=\"middle\" x=\"2137.5\" y=\"-349.8\" font-family=\"Times,serif\" font-size=\"14.00\" fill=\"#000000\">V2 &lt;= 195800.0</text>\n<text text-anchor=\"middle\" x=\"2137.5\" y=\"-334.8\" font-family=\"Times,serif\" font-size=\"14.00\" fill=\"#000000\">gini = 0.5</text>\n<text text-anchor=\"middle\" x=\"2137.5\" y=\"-319.8\" font-family=\"Times,serif\" font-size=\"14.00\" fill=\"#000000\">samples = 239</text>\n<text text-anchor=\"middle\" x=\"2137.5\" y=\"-304.8\" font-family=\"Times,serif\" font-size=\"14.00\" fill=\"#000000\">value = [4, 96, 139, 0, 0]</text>\n</g>\n<!-- 3&#45;&gt;19 -->\n<g id=\"edge19\" class=\"edge\">\n<title>3&#45;&gt;19</title>\n<path fill=\"none\" stroke=\"#000000\" d=\"M2137.5,-400.9465C2137.5,-392.776 2137.5,-383.9318 2137.5,-375.3697\"/>\n<polygon fill=\"#000000\" stroke=\"#000000\" points=\"2141.0001,-375.13 2137.5,-365.13 2134.0001,-375.13 2141.0001,-375.13\"/>\n</g>\n<!-- 5 -->\n<g id=\"node6\" class=\"node\">\n<title>5</title>\n<polygon fill=\"#7ee63d\" stroke=\"#000000\" points=\"634,-261 457,-261 457,-193 634,-193 634,-261\"/>\n<text text-anchor=\"middle\" x=\"545.5\" y=\"-245.8\" font-family=\"Times,serif\" font-size=\"14.00\" fill=\"#000000\">V9 &lt;= 47.783</text>\n<text text-anchor=\"middle\" x=\"545.5\" y=\"-230.8\" font-family=\"Times,serif\" font-size=\"14.00\" fill=\"#000000\">gini = 0.043</text>\n<text text-anchor=\"middle\" x=\"545.5\" y=\"-215.8\" font-family=\"Times,serif\" font-size=\"14.00\" fill=\"#000000\">samples = 5752</text>\n<text text-anchor=\"middle\" x=\"545.5\" y=\"-200.8\" font-family=\"Times,serif\" font-size=\"14.00\" fill=\"#000000\">value = [68, 5626, 58, 0, 0]</text>\n</g>\n<!-- 4&#45;&gt;5 -->\n<g id=\"edge5\" class=\"edge\">\n<title>4&#45;&gt;5</title>\n<path fill=\"none\" stroke=\"#000000\" d=\"M962.8472,-312.1061C872.6571,-293.7144 736.084,-265.8642 643.9639,-247.0789\"/>\n<polygon fill=\"#000000\" stroke=\"#000000\" points=\"644.5732,-243.6312 634.0755,-245.0625 643.1745,-250.49 644.5732,-243.6312\"/>\n</g>\n<!-- 12 -->\n<g id=\"node13\" class=\"node\">\n<title>12</title>\n<polygon fill=\"#a3ed75\" stroke=\"#000000\" points=\"1140.5,-261 970.5,-261 970.5,-193 1140.5,-193 1140.5,-261\"/>\n<text text-anchor=\"middle\" x=\"1055.5\" y=\"-245.8\" font-family=\"Times,serif\" font-size=\"14.00\" fill=\"#000000\">V4 &lt;= 24.5</text>\n<text text-anchor=\"middle\" x=\"1055.5\" y=\"-230.8\" font-family=\"Times,serif\" font-size=\"14.00\" fill=\"#000000\">gini = 0.364</text>\n<text text-anchor=\"middle\" x=\"1055.5\" y=\"-215.8\" font-family=\"Times,serif\" font-size=\"14.00\" fill=\"#000000\">samples = 566</text>\n<text text-anchor=\"middle\" x=\"1055.5\" y=\"-200.8\" font-family=\"Times,serif\" font-size=\"14.00\" fill=\"#000000\">value = [128, 433, 5, 0, 0]</text>\n</g>\n<!-- 4&#45;&gt;12 -->\n<g id=\"edge12\" class=\"edge\">\n<title>4&#45;&gt;12</title>\n<path fill=\"none\" stroke=\"#000000\" d=\"M1055.5,-296.9465C1055.5,-288.776 1055.5,-279.9318 1055.5,-271.3697\"/>\n<polygon fill=\"#000000\" stroke=\"#000000\" points=\"1059.0001,-271.13 1055.5,-261.13 1052.0001,-271.13 1059.0001,-271.13\"/>\n</g>\n<!-- 6 -->\n<g id=\"node7\" class=\"node\">\n<title>6</title>\n<polygon fill=\"#7de53b\" stroke=\"#000000\" points=\"361,-157 184,-157 184,-89 361,-89 361,-157\"/>\n<text text-anchor=\"middle\" x=\"272.5\" y=\"-141.8\" font-family=\"Times,serif\" font-size=\"14.00\" fill=\"#000000\">V8 &lt;= 1966.5</text>\n<text text-anchor=\"middle\" x=\"272.5\" y=\"-126.8\" font-family=\"Times,serif\" font-size=\"14.00\" fill=\"#000000\">gini = 0.025</text>\n<text text-anchor=\"middle\" x=\"272.5\" y=\"-111.8\" font-family=\"Times,serif\" font-size=\"14.00\" fill=\"#000000\">samples = 5473</text>\n<text text-anchor=\"middle\" x=\"272.5\" y=\"-96.8\" font-family=\"Times,serif\" font-size=\"14.00\" fill=\"#000000\">value = [55, 5405, 13, 0, 0]</text>\n</g>\n<!-- 5&#45;&gt;6 -->\n<g id=\"edge6\" class=\"edge\">\n<title>5&#45;&gt;6</title>\n<path fill=\"none\" stroke=\"#000000\" d=\"M456.8647,-193.2342C429.3085,-182.7366 398.7723,-171.1038 370.6095,-160.3751\"/>\n<polygon fill=\"#000000\" stroke=\"#000000\" points=\"371.7483,-157.0635 361.1574,-156.7742 369.2563,-163.605 371.7483,-157.0635\"/>\n</g>\n<!-- 9 -->\n<g id=\"node10\" class=\"node\">\n<title>9</title>\n<polygon fill=\"#9ceb6a\" stroke=\"#000000\" points=\"630.5,-157 460.5,-157 460.5,-89 630.5,-89 630.5,-157\"/>\n<text text-anchor=\"middle\" x=\"545.5\" y=\"-141.8\" font-family=\"Times,serif\" font-size=\"14.00\" fill=\"#000000\">V2 &lt;= 217000.0</text>\n<text text-anchor=\"middle\" x=\"545.5\" y=\"-126.8\" font-family=\"Times,serif\" font-size=\"14.00\" fill=\"#000000\">gini = 0.344</text>\n<text text-anchor=\"middle\" x=\"545.5\" y=\"-111.8\" font-family=\"Times,serif\" font-size=\"14.00\" fill=\"#000000\">samples = 279</text>\n<text text-anchor=\"middle\" x=\"545.5\" y=\"-96.8\" font-family=\"Times,serif\" font-size=\"14.00\" fill=\"#000000\">value = [13, 221, 45, 0, 0]</text>\n</g>\n<!-- 5&#45;&gt;9 -->\n<g id=\"edge9\" class=\"edge\">\n<title>5&#45;&gt;9</title>\n<path fill=\"none\" stroke=\"#000000\" d=\"M545.5,-192.9465C545.5,-184.776 545.5,-175.9318 545.5,-167.3697\"/>\n<polygon fill=\"#000000\" stroke=\"#000000\" points=\"549.0001,-167.13 545.5,-157.13 542.0001,-167.13 549.0001,-167.13\"/>\n</g>\n<!-- 7 -->\n<g id=\"node8\" class=\"node\">\n<title>7</title>\n<polygon fill=\"#7ce53b\" stroke=\"#000000\" points=\"177,-53 0,-53 0,0 177,0 177,-53\"/>\n<text text-anchor=\"middle\" x=\"88.5\" y=\"-37.8\" font-family=\"Times,serif\" font-size=\"14.00\" fill=\"#000000\">gini = 0.02</text>\n<text text-anchor=\"middle\" x=\"88.5\" y=\"-22.8\" font-family=\"Times,serif\" font-size=\"14.00\" fill=\"#000000\">samples = 5436</text>\n<text text-anchor=\"middle\" x=\"88.5\" y=\"-7.8\" font-family=\"Times,serif\" font-size=\"14.00\" fill=\"#000000\">value = [41, 5382, 13, 0, 0]</text>\n</g>\n<!-- 6&#45;&gt;7 -->\n<g id=\"edge7\" class=\"edge\">\n<title>6&#45;&gt;7</title>\n<path fill=\"none\" stroke=\"#000000\" d=\"M207.6285,-88.9777C188.2459,-78.8124 167.0991,-67.7218 148.0738,-57.7439\"/>\n<polygon fill=\"#000000\" stroke=\"#000000\" points=\"149.6913,-54.6401 139.2097,-53.095 146.44,-60.8392 149.6913,-54.6401\"/>\n</g>\n<!-- 8 -->\n<g id=\"node9\" class=\"node\">\n<title>8</title>\n<polygon fill=\"#cbf5b2\" stroke=\"#000000\" points=\"350,-53 195,-53 195,0 350,0 350,-53\"/>\n<text text-anchor=\"middle\" x=\"272.5\" y=\"-37.8\" font-family=\"Times,serif\" font-size=\"14.00\" fill=\"#000000\">gini = 0.47</text>\n<text text-anchor=\"middle\" x=\"272.5\" y=\"-22.8\" font-family=\"Times,serif\" font-size=\"14.00\" fill=\"#000000\">samples = 37</text>\n<text text-anchor=\"middle\" x=\"272.5\" y=\"-7.8\" font-family=\"Times,serif\" font-size=\"14.00\" fill=\"#000000\">value = [14, 23, 0, 0, 0]</text>\n</g>\n<!-- 6&#45;&gt;8 -->\n<g id=\"edge8\" class=\"edge\">\n<title>6&#45;&gt;8</title>\n<path fill=\"none\" stroke=\"#000000\" d=\"M272.5,-88.9777C272.5,-80.7364 272.5,-71.887 272.5,-63.5153\"/>\n<polygon fill=\"#000000\" stroke=\"#000000\" points=\"276.0001,-63.2484 272.5,-53.2485 269.0001,-63.2485 276.0001,-63.2484\"/>\n</g>\n<!-- 10 -->\n<g id=\"node11\" class=\"node\">\n<title>10</title>\n<polygon fill=\"#88e74c\" stroke=\"#000000\" points=\"530.5,-53 368.5,-53 368.5,0 530.5,0 530.5,-53\"/>\n<text text-anchor=\"middle\" x=\"449.5\" y=\"-37.8\" font-family=\"Times,serif\" font-size=\"14.00\" fill=\"#000000\">gini = 0.166</text>\n<text text-anchor=\"middle\" x=\"449.5\" y=\"-22.8\" font-family=\"Times,serif\" font-size=\"14.00\" fill=\"#000000\">samples = 213</text>\n<text text-anchor=\"middle\" x=\"449.5\" y=\"-7.8\" font-family=\"Times,serif\" font-size=\"14.00\" fill=\"#000000\">value = [13, 194, 6, 0, 0]</text>\n</g>\n<!-- 9&#45;&gt;10 -->\n<g id=\"edge10\" class=\"edge\">\n<title>9&#45;&gt;10</title>\n<path fill=\"none\" stroke=\"#000000\" d=\"M511.654,-88.9777C502.4534,-79.7292 492.4908,-69.7147 483.2931,-60.4691\"/>\n<polygon fill=\"#000000\" stroke=\"#000000\" points=\"485.6439,-57.8695 476.1099,-53.2485 480.6813,-62.8064 485.6439,-57.8695\"/>\n</g>\n<!-- 11 -->\n<g id=\"node12\" class=\"node\">\n<title>11</title>\n<polygon fill=\"#c2f7ed\" stroke=\"#000000\" points=\"704,-53 549,-53 549,0 704,0 704,-53\"/>\n<text text-anchor=\"middle\" x=\"626.5\" y=\"-37.8\" font-family=\"Times,serif\" font-size=\"14.00\" fill=\"#000000\">gini = 0.483</text>\n<text text-anchor=\"middle\" x=\"626.5\" y=\"-22.8\" font-family=\"Times,serif\" font-size=\"14.00\" fill=\"#000000\">samples = 66</text>\n<text text-anchor=\"middle\" x=\"626.5\" y=\"-7.8\" font-family=\"Times,serif\" font-size=\"14.00\" fill=\"#000000\">value = [0, 27, 39, 0, 0]</text>\n</g>\n<!-- 9&#45;&gt;11 -->\n<g id=\"edge11\" class=\"edge\">\n<title>9&#45;&gt;11</title>\n<path fill=\"none\" stroke=\"#000000\" d=\"M574.0576,-88.9777C581.6669,-79.9123 589.8939,-70.111 597.5253,-61.0192\"/>\n<polygon fill=\"#000000\" stroke=\"#000000\" points=\"600.2995,-63.1581 604.0479,-53.2485 594.938,-58.6577 600.2995,-63.1581\"/>\n</g>\n<!-- 13 -->\n<g id=\"node14\" class=\"node\">\n<title>13</title>\n<polygon fill=\"#fcefe6\" stroke=\"#000000\" points=\"1044,-157 889,-157 889,-89 1044,-89 1044,-157\"/>\n<text text-anchor=\"middle\" x=\"966.5\" y=\"-141.8\" font-family=\"Times,serif\" font-size=\"14.00\" fill=\"#000000\">V8 &lt;= 1350.5</text>\n<text text-anchor=\"middle\" x=\"966.5\" y=\"-126.8\" font-family=\"Times,serif\" font-size=\"14.00\" fill=\"#000000\">gini = 0.504</text>\n<text text-anchor=\"middle\" x=\"966.5\" y=\"-111.8\" font-family=\"Times,serif\" font-size=\"14.00\" fill=\"#000000\">samples = 149</text>\n<text text-anchor=\"middle\" x=\"966.5\" y=\"-96.8\" font-family=\"Times,serif\" font-size=\"14.00\" fill=\"#000000\">value = [79, 69, 1, 0, 0]</text>\n</g>\n<!-- 12&#45;&gt;13 -->\n<g id=\"edge13\" class=\"edge\">\n<title>12&#45;&gt;13</title>\n<path fill=\"none\" stroke=\"#000000\" d=\"M1026.3581,-192.9465C1018.6745,-183.968 1010.2947,-174.1758 1002.3041,-164.8385\"/>\n<polygon fill=\"#000000\" stroke=\"#000000\" points=\"1004.8685,-162.4521 995.7074,-157.13 999.5501,-167.0034 1004.8685,-162.4521\"/>\n</g>\n<!-- 16 -->\n<g id=\"node17\" class=\"node\">\n<title>16</title>\n<polygon fill=\"#8ee956\" stroke=\"#000000\" points=\"1224.5,-157 1062.5,-157 1062.5,-89 1224.5,-89 1224.5,-157\"/>\n<text text-anchor=\"middle\" x=\"1143.5\" y=\"-141.8\" font-family=\"Times,serif\" font-size=\"14.00\" fill=\"#000000\">V9 &lt;= 34.436</text>\n<text text-anchor=\"middle\" x=\"1143.5\" y=\"-126.8\" font-family=\"Times,serif\" font-size=\"14.00\" fill=\"#000000\">gini = 0.224</text>\n<text text-anchor=\"middle\" x=\"1143.5\" y=\"-111.8\" font-family=\"Times,serif\" font-size=\"14.00\" fill=\"#000000\">samples = 417</text>\n<text text-anchor=\"middle\" x=\"1143.5\" y=\"-96.8\" font-family=\"Times,serif\" font-size=\"14.00\" fill=\"#000000\">value = [49, 364, 4, 0, 0]</text>\n</g>\n<!-- 12&#45;&gt;16 -->\n<g id=\"edge16\" class=\"edge\">\n<title>12&#45;&gt;16</title>\n<path fill=\"none\" stroke=\"#000000\" d=\"M1084.3145,-192.9465C1091.9117,-183.968 1100.1974,-174.1758 1108.0982,-164.8385\"/>\n<polygon fill=\"#000000\" stroke=\"#000000\" points=\"1110.8332,-167.0247 1114.6208,-157.13 1105.4895,-162.5031 1110.8332,-167.0247\"/>\n</g>\n<!-- 14 -->\n<g id=\"node15\" class=\"node\">\n<title>14</title>\n<polygon fill=\"#b1f08a\" stroke=\"#000000\" points=\"877,-53 722,-53 722,0 877,0 877,-53\"/>\n<text text-anchor=\"middle\" x=\"799.5\" y=\"-37.8\" font-family=\"Times,serif\" font-size=\"14.00\" fill=\"#000000\">gini = 0.422</text>\n<text text-anchor=\"middle\" x=\"799.5\" y=\"-22.8\" font-family=\"Times,serif\" font-size=\"14.00\" fill=\"#000000\">samples = 85</text>\n<text text-anchor=\"middle\" x=\"799.5\" y=\"-7.8\" font-family=\"Times,serif\" font-size=\"14.00\" fill=\"#000000\">value = [24, 60, 1, 0, 0]</text>\n</g>\n<!-- 13&#45;&gt;14 -->\n<g id=\"edge14\" class=\"edge\">\n<title>13&#45;&gt;14</title>\n<path fill=\"none\" stroke=\"#000000\" d=\"M907.622,-88.9777C890.2691,-78.9504 871.358,-68.0228 854.274,-58.1508\"/>\n<polygon fill=\"#000000\" stroke=\"#000000\" points=\"855.9341,-55.0678 845.5246,-53.095 852.4318,-61.1287 855.9341,-55.0678\"/>\n</g>\n<!-- 15 -->\n<g id=\"node16\" class=\"node\">\n<title>15</title>\n<polygon fill=\"#e99659\" stroke=\"#000000\" points=\"1042,-53 895,-53 895,0 1042,0 1042,-53\"/>\n<text text-anchor=\"middle\" x=\"968.5\" y=\"-37.8\" font-family=\"Times,serif\" font-size=\"14.00\" fill=\"#000000\">gini = 0.242</text>\n<text text-anchor=\"middle\" x=\"968.5\" y=\"-22.8\" font-family=\"Times,serif\" font-size=\"14.00\" fill=\"#000000\">samples = 64</text>\n<text text-anchor=\"middle\" x=\"968.5\" y=\"-7.8\" font-family=\"Times,serif\" font-size=\"14.00\" fill=\"#000000\">value = [55, 9, 0, 0, 0]</text>\n</g>\n<!-- 13&#45;&gt;15 -->\n<g id=\"edge15\" class=\"edge\">\n<title>13&#45;&gt;15</title>\n<path fill=\"none\" stroke=\"#000000\" d=\"M967.2051,-88.9777C967.3759,-80.7364 967.5593,-71.887 967.7328,-63.5153\"/>\n<polygon fill=\"#000000\" stroke=\"#000000\" points=\"971.2376,-63.3189 967.9456,-53.2485 964.2391,-63.1738 971.2376,-63.3189\"/>\n</g>\n<!-- 17 -->\n<g id=\"node18\" class=\"node\">\n<title>17</title>\n<polygon fill=\"#85e748\" stroke=\"#000000\" points=\"1222.5,-53 1060.5,-53 1060.5,0 1222.5,0 1222.5,-53\"/>\n<text text-anchor=\"middle\" x=\"1141.5\" y=\"-37.8\" font-family=\"Times,serif\" font-size=\"14.00\" fill=\"#000000\">gini = 0.132</text>\n<text text-anchor=\"middle\" x=\"1141.5\" y=\"-22.8\" font-family=\"Times,serif\" font-size=\"14.00\" fill=\"#000000\">samples = 352</text>\n<text text-anchor=\"middle\" x=\"1141.5\" y=\"-7.8\" font-family=\"Times,serif\" font-size=\"14.00\" fill=\"#000000\">value = [25, 327, 0, 0, 0]</text>\n</g>\n<!-- 16&#45;&gt;17 -->\n<g id=\"edge17\" class=\"edge\">\n<title>16&#45;&gt;17</title>\n<path fill=\"none\" stroke=\"#000000\" d=\"M1142.7949,-88.9777C1142.6241,-80.7364 1142.4407,-71.887 1142.2672,-63.5153\"/>\n<polygon fill=\"#000000\" stroke=\"#000000\" points=\"1145.7609,-63.1738 1142.0544,-53.2485 1138.7624,-63.3189 1145.7609,-63.1738\"/>\n</g>\n<!-- 18 -->\n<g id=\"node19\" class=\"node\">\n<title>18</title>\n<polygon fill=\"#d5f7c0\" stroke=\"#000000\" points=\"1396,-53 1241,-53 1241,0 1396,0 1396,-53\"/>\n<text text-anchor=\"middle\" x=\"1318.5\" y=\"-37.8\" font-family=\"Times,serif\" font-size=\"14.00\" fill=\"#000000\">gini = 0.536</text>\n<text text-anchor=\"middle\" x=\"1318.5\" y=\"-22.8\" font-family=\"Times,serif\" font-size=\"14.00\" fill=\"#000000\">samples = 65</text>\n<text text-anchor=\"middle\" x=\"1318.5\" y=\"-7.8\" font-family=\"Times,serif\" font-size=\"14.00\" fill=\"#000000\">value = [24, 37, 4, 0, 0]</text>\n</g>\n<!-- 16&#45;&gt;18 -->\n<g id=\"edge18\" class=\"edge\">\n<title>16&#45;&gt;18</title>\n<path fill=\"none\" stroke=\"#000000\" d=\"M1205.1985,-88.9777C1223.3827,-78.9504 1243.1997,-68.0228 1261.1021,-58.1508\"/>\n<polygon fill=\"#000000\" stroke=\"#000000\" points=\"1263.2039,-60.9888 1270.2707,-53.095 1259.8237,-54.859 1263.2039,-60.9888\"/>\n</g>\n<!-- 20 -->\n<g id=\"node21\" class=\"node\">\n<title>20</title>\n<polygon fill=\"#9eec6d\" stroke=\"#000000\" points=\"1974,-261 1819,-261 1819,-193 1974,-193 1974,-261\"/>\n<text text-anchor=\"middle\" x=\"1896.5\" y=\"-245.8\" font-family=\"Times,serif\" font-size=\"14.00\" fill=\"#000000\">V9 &lt;= 64.283</text>\n<text text-anchor=\"middle\" x=\"1896.5\" y=\"-230.8\" font-family=\"Times,serif\" font-size=\"14.00\" fill=\"#000000\">gini = 0.347</text>\n<text text-anchor=\"middle\" x=\"1896.5\" y=\"-215.8\" font-family=\"Times,serif\" font-size=\"14.00\" fill=\"#000000\">samples = 103</text>\n<text text-anchor=\"middle\" x=\"1896.5\" y=\"-200.8\" font-family=\"Times,serif\" font-size=\"14.00\" fill=\"#000000\">value = [3, 81, 19, 0, 0]</text>\n</g>\n<!-- 19&#45;&gt;20 -->\n<g id=\"edge20\" class=\"edge\">\n<title>19&#45;&gt;20</title>\n<path fill=\"none\" stroke=\"#000000\" d=\"M2058.5876,-296.9465C2034.6076,-286.5983 2008.123,-275.1693 1983.6343,-264.6015\"/>\n<polygon fill=\"#000000\" stroke=\"#000000\" points=\"1984.9242,-261.3462 1974.3558,-260.5975 1982.1506,-267.7733 1984.9242,-261.3462\"/>\n</g>\n<!-- 27 -->\n<g id=\"node28\" class=\"node\">\n<title>27</title>\n<polygon fill=\"#53e8cd\" stroke=\"#000000\" points=\"2301.5,-261 2139.5,-261 2139.5,-193 2301.5,-193 2301.5,-261\"/>\n<text text-anchor=\"middle\" x=\"2220.5\" y=\"-245.8\" font-family=\"Times,serif\" font-size=\"14.00\" fill=\"#000000\">V5 &lt;= 1256.0</text>\n<text text-anchor=\"middle\" x=\"2220.5\" y=\"-230.8\" font-family=\"Times,serif\" font-size=\"14.00\" fill=\"#000000\">gini = 0.209</text>\n<text text-anchor=\"middle\" x=\"2220.5\" y=\"-215.8\" font-family=\"Times,serif\" font-size=\"14.00\" fill=\"#000000\">samples = 136</text>\n<text text-anchor=\"middle\" x=\"2220.5\" y=\"-200.8\" font-family=\"Times,serif\" font-size=\"14.00\" fill=\"#000000\">value = [1, 15, 120, 0, 0]</text>\n</g>\n<!-- 19&#45;&gt;27 -->\n<g id=\"edge27\" class=\"edge\">\n<title>19&#45;&gt;27</title>\n<path fill=\"none\" stroke=\"#000000\" d=\"M2164.6773,-296.9465C2171.7712,-288.0578 2179.5015,-278.3716 2186.886,-269.1188\"/>\n<polygon fill=\"#000000\" stroke=\"#000000\" points=\"2189.7594,-271.1293 2193.2616,-261.13 2184.2882,-266.7628 2189.7594,-271.1293\"/>\n</g>\n<!-- 21 -->\n<g id=\"node22\" class=\"node\">\n<title>21</title>\n<polygon fill=\"#8ce853\" stroke=\"#000000\" points=\"1726,-157 1579,-157 1579,-89 1726,-89 1726,-157\"/>\n<text text-anchor=\"middle\" x=\"1652.5\" y=\"-141.8\" font-family=\"Times,serif\" font-size=\"14.00\" fill=\"#000000\">V5 &lt;= 1887.0</text>\n<text text-anchor=\"middle\" x=\"1652.5\" y=\"-126.8\" font-family=\"Times,serif\" font-size=\"14.00\" fill=\"#000000\">gini = 0.218</text>\n<text text-anchor=\"middle\" x=\"1652.5\" y=\"-111.8\" font-family=\"Times,serif\" font-size=\"14.00\" fill=\"#000000\">samples = 91</text>\n<text text-anchor=\"middle\" x=\"1652.5\" y=\"-96.8\" font-family=\"Times,serif\" font-size=\"14.00\" fill=\"#000000\">value = [3, 80, 8, 0, 0]</text>\n</g>\n<!-- 20&#45;&gt;21 -->\n<g id=\"edge21\" class=\"edge\">\n<title>20&#45;&gt;21</title>\n<path fill=\"none\" stroke=\"#000000\" d=\"M1818.9616,-193.9509C1792.3735,-182.6182 1762.5215,-169.8944 1735.517,-158.3843\"/>\n<polygon fill=\"#000000\" stroke=\"#000000\" points=\"1736.6655,-155.0692 1726.0939,-154.3679 1733.9208,-161.5087 1736.6655,-155.0692\"/>\n</g>\n<!-- 24 -->\n<g id=\"node25\" class=\"node\">\n<title>24</title>\n<polygon fill=\"#4be7ca\" stroke=\"#000000\" points=\"1969.5,-157 1823.5,-157 1823.5,-89 1969.5,-89 1969.5,-157\"/>\n<text text-anchor=\"middle\" x=\"1896.5\" y=\"-141.8\" font-family=\"Times,serif\" font-size=\"14.00\" fill=\"#000000\">V2 &lt;= 129250.0</text>\n<text text-anchor=\"middle\" x=\"1896.5\" y=\"-126.8\" font-family=\"Times,serif\" font-size=\"14.00\" fill=\"#000000\">gini = 0.153</text>\n<text text-anchor=\"middle\" x=\"1896.5\" y=\"-111.8\" font-family=\"Times,serif\" font-size=\"14.00\" fill=\"#000000\">samples = 12</text>\n<text text-anchor=\"middle\" x=\"1896.5\" y=\"-96.8\" font-family=\"Times,serif\" font-size=\"14.00\" fill=\"#000000\">value = [0, 1, 11, 0, 0]</text>\n</g>\n<!-- 20&#45;&gt;24 -->\n<g id=\"edge24\" class=\"edge\">\n<title>20&#45;&gt;24</title>\n<path fill=\"none\" stroke=\"#000000\" d=\"M1896.5,-192.9465C1896.5,-184.776 1896.5,-175.9318 1896.5,-167.3697\"/>\n<polygon fill=\"#000000\" stroke=\"#000000\" points=\"1900.0001,-167.13 1896.5,-157.13 1893.0001,-167.13 1900.0001,-167.13\"/>\n</g>\n<!-- 22 -->\n<g id=\"node23\" class=\"node\">\n<title>22</title>\n<polygon fill=\"#81e642\" stroke=\"#000000\" points=\"1561,-53 1414,-53 1414,0 1561,0 1561,-53\"/>\n<text text-anchor=\"middle\" x=\"1487.5\" y=\"-37.8\" font-family=\"Times,serif\" font-size=\"14.00\" fill=\"#000000\">gini = 0.083</text>\n<text text-anchor=\"middle\" x=\"1487.5\" y=\"-22.8\" font-family=\"Times,serif\" font-size=\"14.00\" fill=\"#000000\">samples = 69</text>\n<text text-anchor=\"middle\" x=\"1487.5\" y=\"-7.8\" font-family=\"Times,serif\" font-size=\"14.00\" fill=\"#000000\">value = [0, 66, 3, 0, 0]</text>\n</g>\n<!-- 21&#45;&gt;22 -->\n<g id=\"edge22\" class=\"edge\">\n<title>21&#45;&gt;22</title>\n<path fill=\"none\" stroke=\"#000000\" d=\"M1594.3272,-88.9777C1577.182,-78.9504 1558.4975,-68.0228 1541.618,-58.1508\"/>\n<polygon fill=\"#000000\" stroke=\"#000000\" points=\"1543.3724,-55.1223 1532.9734,-53.095 1539.8385,-61.1648 1543.3724,-55.1223\"/>\n</g>\n<!-- 23 -->\n<g id=\"node24\" class=\"node\">\n<title>23</title>\n<polygon fill=\"#b9f196\" stroke=\"#000000\" points=\"1726,-53 1579,-53 1579,0 1726,0 1726,-53\"/>\n<text text-anchor=\"middle\" x=\"1652.5\" y=\"-37.8\" font-family=\"Times,serif\" font-size=\"14.00\" fill=\"#000000\">gini = 0.525</text>\n<text text-anchor=\"middle\" x=\"1652.5\" y=\"-22.8\" font-family=\"Times,serif\" font-size=\"14.00\" fill=\"#000000\">samples = 22</text>\n<text text-anchor=\"middle\" x=\"1652.5\" y=\"-7.8\" font-family=\"Times,serif\" font-size=\"14.00\" fill=\"#000000\">value = [3, 14, 5, 0, 0]</text>\n</g>\n<!-- 21&#45;&gt;23 -->\n<g id=\"edge23\" class=\"edge\">\n<title>21&#45;&gt;23</title>\n<path fill=\"none\" stroke=\"#000000\" d=\"M1652.5,-88.9777C1652.5,-80.7364 1652.5,-71.887 1652.5,-63.5153\"/>\n<polygon fill=\"#000000\" stroke=\"#000000\" points=\"1656.0001,-63.2484 1652.5,-53.2485 1649.0001,-63.2485 1656.0001,-63.2484\"/>\n</g>\n<!-- 25 -->\n<g id=\"node26\" class=\"node\">\n<title>25</title>\n<polygon fill=\"#7be539\" stroke=\"#000000\" points=\"1884.5,-53 1744.5,-53 1744.5,0 1884.5,0 1884.5,-53\"/>\n<text text-anchor=\"middle\" x=\"1814.5\" y=\"-37.8\" font-family=\"Times,serif\" font-size=\"14.00\" fill=\"#000000\">gini = 0.0</text>\n<text text-anchor=\"middle\" x=\"1814.5\" y=\"-22.8\" font-family=\"Times,serif\" font-size=\"14.00\" fill=\"#000000\">samples = 1</text>\n<text text-anchor=\"middle\" x=\"1814.5\" y=\"-7.8\" font-family=\"Times,serif\" font-size=\"14.00\" fill=\"#000000\">value = [0, 1, 0, 0, 0]</text>\n</g>\n<!-- 24&#45;&gt;25 -->\n<g id=\"edge25\" class=\"edge\">\n<title>24&#45;&gt;25</title>\n<path fill=\"none\" stroke=\"#000000\" d=\"M1867.5899,-88.9777C1859.8866,-79.9123 1851.5581,-70.111 1843.8324,-61.0192\"/>\n<polygon fill=\"#000000\" stroke=\"#000000\" points=\"1846.3718,-58.6025 1837.2293,-53.2485 1841.0375,-63.1352 1846.3718,-58.6025\"/>\n</g>\n<!-- 26 -->\n<g id=\"node27\" class=\"node\">\n<title>26</title>\n<polygon fill=\"#39e5c5\" stroke=\"#000000\" points=\"2048.5,-53 1902.5,-53 1902.5,0 2048.5,0 2048.5,-53\"/>\n<text text-anchor=\"middle\" x=\"1975.5\" y=\"-37.8\" font-family=\"Times,serif\" font-size=\"14.00\" fill=\"#000000\">gini = 0.0</text>\n<text text-anchor=\"middle\" x=\"1975.5\" y=\"-22.8\" font-family=\"Times,serif\" font-size=\"14.00\" fill=\"#000000\">samples = 11</text>\n<text text-anchor=\"middle\" x=\"1975.5\" y=\"-7.8\" font-family=\"Times,serif\" font-size=\"14.00\" fill=\"#000000\">value = [0, 0, 11, 0, 0]</text>\n</g>\n<!-- 24&#45;&gt;26 -->\n<g id=\"edge26\" class=\"edge\">\n<title>24&#45;&gt;26</title>\n<path fill=\"none\" stroke=\"#000000\" d=\"M1924.3524,-88.9777C1931.7739,-79.9123 1939.7977,-70.111 1947.2407,-61.0192\"/>\n<polygon fill=\"#000000\" stroke=\"#000000\" points=\"1949.9759,-63.2034 1953.6023,-53.2485 1944.5595,-58.7692 1949.9759,-63.2034\"/>\n</g>\n<!-- 28 -->\n<g id=\"node29\" class=\"node\">\n<title>28</title>\n<polygon fill=\"#9cf2e2\" stroke=\"#000000\" points=\"2297.5,-157 2143.5,-157 2143.5,-89 2297.5,-89 2297.5,-157\"/>\n<text text-anchor=\"middle\" x=\"2220.5\" y=\"-141.8\" font-family=\"Times,serif\" font-size=\"14.00\" fill=\"#000000\">V9 &lt;= 58.023</text>\n<text text-anchor=\"middle\" x=\"2220.5\" y=\"-126.8\" font-family=\"Times,serif\" font-size=\"14.00\" fill=\"#000000\">gini = 0.444</text>\n<text text-anchor=\"middle\" x=\"2220.5\" y=\"-111.8\" font-family=\"Times,serif\" font-size=\"14.00\" fill=\"#000000\">samples = 33</text>\n<text text-anchor=\"middle\" x=\"2220.5\" y=\"-96.8\" font-family=\"Times,serif\" font-size=\"14.00\" fill=\"#000000\">value = [0, 11, 22, 0, 0]</text>\n</g>\n<!-- 27&#45;&gt;28 -->\n<g id=\"edge28\" class=\"edge\">\n<title>27&#45;&gt;28</title>\n<path fill=\"none\" stroke=\"#000000\" d=\"M2220.5,-192.9465C2220.5,-184.776 2220.5,-175.9318 2220.5,-167.3697\"/>\n<polygon fill=\"#000000\" stroke=\"#000000\" points=\"2224.0001,-167.13 2220.5,-157.13 2217.0001,-167.13 2224.0001,-167.13\"/>\n</g>\n<!-- 31 -->\n<g id=\"node32\" class=\"node\">\n<title>31</title>\n<polygon fill=\"#43e6c8\" stroke=\"#000000\" points=\"2543,-157 2396,-157 2396,-89 2543,-89 2543,-157\"/>\n<text text-anchor=\"middle\" x=\"2469.5\" y=\"-141.8\" font-family=\"Times,serif\" font-size=\"14.00\" fill=\"#000000\">V1 &lt;= &#45;117.14</text>\n<text text-anchor=\"middle\" x=\"2469.5\" y=\"-126.8\" font-family=\"Times,serif\" font-size=\"14.00\" fill=\"#000000\">gini = 0.093</text>\n<text text-anchor=\"middle\" x=\"2469.5\" y=\"-111.8\" font-family=\"Times,serif\" font-size=\"14.00\" fill=\"#000000\">samples = 103</text>\n<text text-anchor=\"middle\" x=\"2469.5\" y=\"-96.8\" font-family=\"Times,serif\" font-size=\"14.00\" fill=\"#000000\">value = [1, 4, 98, 0, 0]</text>\n</g>\n<!-- 27&#45;&gt;31 -->\n<g id=\"edge31\" class=\"edge\">\n<title>27&#45;&gt;31</title>\n<path fill=\"none\" stroke=\"#000000\" d=\"M2301.6874,-193.0904C2328.8551,-181.7433 2359.1662,-169.0832 2386.4724,-157.6782\"/>\n<polygon fill=\"#000000\" stroke=\"#000000\" points=\"2388.1169,-160.7844 2395.9955,-153.7007 2385.4191,-154.3252 2388.1169,-160.7844\"/>\n</g>\n<!-- 29 -->\n<g id=\"node30\" class=\"node\">\n<title>29</title>\n<polygon fill=\"#c3f3a5\" stroke=\"#000000\" points=\"2212.5,-53 2066.5,-53 2066.5,0 2212.5,0 2212.5,-53\"/>\n<text text-anchor=\"middle\" x=\"2139.5\" y=\"-37.8\" font-family=\"Times,serif\" font-size=\"14.00\" fill=\"#000000\">gini = 0.457</text>\n<text text-anchor=\"middle\" x=\"2139.5\" y=\"-22.8\" font-family=\"Times,serif\" font-size=\"14.00\" fill=\"#000000\">samples = 17</text>\n<text text-anchor=\"middle\" x=\"2139.5\" y=\"-7.8\" font-family=\"Times,serif\" font-size=\"14.00\" fill=\"#000000\">value = [0, 11, 6, 0, 0]</text>\n</g>\n<!-- 28&#45;&gt;29 -->\n<g id=\"edge29\" class=\"edge\">\n<title>28&#45;&gt;29</title>\n<path fill=\"none\" stroke=\"#000000\" d=\"M2191.9424,-88.9777C2184.3331,-79.9123 2176.1061,-70.111 2168.4747,-61.0192\"/>\n<polygon fill=\"#000000\" stroke=\"#000000\" points=\"2171.062,-58.6577 2161.9521,-53.2485 2165.7005,-63.1581 2171.062,-58.6577\"/>\n</g>\n<!-- 30 -->\n<g id=\"node31\" class=\"node\">\n<title>30</title>\n<polygon fill=\"#39e5c5\" stroke=\"#000000\" points=\"2378,-53 2231,-53 2231,0 2378,0 2378,-53\"/>\n<text text-anchor=\"middle\" x=\"2304.5\" y=\"-37.8\" font-family=\"Times,serif\" font-size=\"14.00\" fill=\"#000000\">gini = 0.0</text>\n<text text-anchor=\"middle\" x=\"2304.5\" y=\"-22.8\" font-family=\"Times,serif\" font-size=\"14.00\" fill=\"#000000\">samples = 16</text>\n<text text-anchor=\"middle\" x=\"2304.5\" y=\"-7.8\" font-family=\"Times,serif\" font-size=\"14.00\" fill=\"#000000\">value = [0, 0, 16, 0, 0]</text>\n</g>\n<!-- 28&#45;&gt;30 -->\n<g id=\"edge30\" class=\"edge\">\n<title>28&#45;&gt;30</title>\n<path fill=\"none\" stroke=\"#000000\" d=\"M2250.1153,-88.9777C2258.0064,-79.9123 2266.5381,-70.111 2274.4522,-61.0192\"/>\n<polygon fill=\"#000000\" stroke=\"#000000\" points=\"2277.2906,-63.0892 2281.2164,-53.2485 2272.0107,-58.4932 2277.2906,-63.0892\"/>\n</g>\n<!-- 32 -->\n<g id=\"node33\" class=\"node\">\n<title>32</title>\n<polygon fill=\"#3fe6c7\" stroke=\"#000000\" points=\"2543,-53 2396,-53 2396,0 2543,0 2543,-53\"/>\n<text text-anchor=\"middle\" x=\"2469.5\" y=\"-37.8\" font-family=\"Times,serif\" font-size=\"14.00\" fill=\"#000000\">gini = 0.06</text>\n<text text-anchor=\"middle\" x=\"2469.5\" y=\"-22.8\" font-family=\"Times,serif\" font-size=\"14.00\" fill=\"#000000\">samples = 98</text>\n<text text-anchor=\"middle\" x=\"2469.5\" y=\"-7.8\" font-family=\"Times,serif\" font-size=\"14.00\" fill=\"#000000\">value = [1, 2, 95, 0, 0]</text>\n</g>\n<!-- 31&#45;&gt;32 -->\n<g id=\"edge32\" class=\"edge\">\n<title>31&#45;&gt;32</title>\n<path fill=\"none\" stroke=\"#000000\" d=\"M2469.5,-88.9777C2469.5,-80.7364 2469.5,-71.887 2469.5,-63.5153\"/>\n<polygon fill=\"#000000\" stroke=\"#000000\" points=\"2473.0001,-63.2484 2469.5,-53.2485 2466.0001,-63.2485 2473.0001,-63.2484\"/>\n</g>\n<!-- 33 -->\n<g id=\"node34\" class=\"node\">\n<title>33</title>\n<polygon fill=\"#bdf6ec\" stroke=\"#000000\" points=\"2701.5,-53 2561.5,-53 2561.5,0 2701.5,0 2701.5,-53\"/>\n<text text-anchor=\"middle\" x=\"2631.5\" y=\"-37.8\" font-family=\"Times,serif\" font-size=\"14.00\" fill=\"#000000\">gini = 0.48</text>\n<text text-anchor=\"middle\" x=\"2631.5\" y=\"-22.8\" font-family=\"Times,serif\" font-size=\"14.00\" fill=\"#000000\">samples = 5</text>\n<text text-anchor=\"middle\" x=\"2631.5\" y=\"-7.8\" font-family=\"Times,serif\" font-size=\"14.00\" fill=\"#000000\">value = [0, 2, 3, 0, 0]</text>\n</g>\n<!-- 31&#45;&gt;33 -->\n<g id=\"edge33\" class=\"edge\">\n<title>31&#45;&gt;33</title>\n<path fill=\"none\" stroke=\"#000000\" d=\"M2526.6151,-88.9777C2543.2941,-79.0424 2561.4569,-68.2232 2577.9094,-58.4228\"/>\n<polygon fill=\"#000000\" stroke=\"#000000\" points=\"2580.0533,-61.2197 2586.8534,-53.095 2576.471,-55.2058 2580.0533,-61.2197\"/>\n</g>\n<!-- 35 -->\n<g id=\"node36\" class=\"node\">\n<title>35</title>\n<polygon fill=\"#efb286\" stroke=\"#000000\" points=\"3804.5,-365 3634.5,-365 3634.5,-297 3804.5,-297 3804.5,-365\"/>\n<text text-anchor=\"middle\" x=\"3719.5\" y=\"-349.8\" font-family=\"Times,serif\" font-size=\"14.00\" fill=\"#000000\">V9 &lt;= 53.452</text>\n<text text-anchor=\"middle\" x=\"3719.5\" y=\"-334.8\" font-family=\"Times,serif\" font-size=\"14.00\" fill=\"#000000\">gini = 0.484</text>\n<text text-anchor=\"middle\" x=\"3719.5\" y=\"-319.8\" font-family=\"Times,serif\" font-size=\"14.00\" fill=\"#000000\">samples = 328</text>\n<text text-anchor=\"middle\" x=\"3719.5\" y=\"-304.8\" font-family=\"Times,serif\" font-size=\"14.00\" fill=\"#000000\">value = [224, 62, 38, 4, 0]</text>\n</g>\n<!-- 34&#45;&gt;35 -->\n<g id=\"edge35\" class=\"edge\">\n<title>34&#45;&gt;35</title>\n<path fill=\"none\" stroke=\"#000000\" d=\"M3953.8116,-406.444C3910.4874,-392.4944 3858.3217,-375.698 3814.2201,-361.4981\"/>\n<polygon fill=\"#000000\" stroke=\"#000000\" points=\"3815.2406,-358.1498 3804.6491,-358.4164 3813.0951,-364.8129 3815.2406,-358.1498\"/>\n</g>\n<!-- 50 -->\n<g id=\"node51\" class=\"node\">\n<title>50</title>\n<polygon fill=\"#baf198\" stroke=\"#000000\" points=\"4451.5,-365 4289.5,-365 4289.5,-297 4451.5,-297 4451.5,-365\"/>\n<text text-anchor=\"middle\" x=\"4370.5\" y=\"-349.8\" font-family=\"Times,serif\" font-size=\"14.00\" fill=\"#000000\">V9 &lt;= 46.091</text>\n<text text-anchor=\"middle\" x=\"4370.5\" y=\"-334.8\" font-family=\"Times,serif\" font-size=\"14.00\" fill=\"#000000\">gini = 0.55</text>\n<text text-anchor=\"middle\" x=\"4370.5\" y=\"-319.8\" font-family=\"Times,serif\" font-size=\"14.00\" fill=\"#000000\">samples = 161</text>\n<text text-anchor=\"middle\" x=\"4370.5\" y=\"-304.8\" font-family=\"Times,serif\" font-size=\"14.00\" fill=\"#000000\">value = [32, 99, 29, 1, 0]</text>\n</g>\n<!-- 34&#45;&gt;50 -->\n<g id=\"edge50\" class=\"edge\">\n<title>34&#45;&gt;50</title>\n<path fill=\"none\" stroke=\"#000000\" d=\"M4131.2615,-406.8561C4177.2255,-392.2822 4233.2561,-374.5163 4279.5356,-359.8424\"/>\n<polygon fill=\"#000000\" stroke=\"#000000\" points=\"4280.7815,-363.1191 4289.256,-356.7603 4278.6658,-356.4465 4280.7815,-363.1191\"/>\n</g>\n<!-- 36 -->\n<g id=\"node37\" class=\"node\">\n<title>36</title>\n<polygon fill=\"#eead7e\" stroke=\"#000000\" points=\"3306.5,-261 3144.5,-261 3144.5,-193 3306.5,-193 3306.5,-261\"/>\n<text text-anchor=\"middle\" x=\"3225.5\" y=\"-245.8\" font-family=\"Times,serif\" font-size=\"14.00\" fill=\"#000000\">V7 &lt;= 390.5</text>\n<text text-anchor=\"middle\" x=\"3225.5\" y=\"-230.8\" font-family=\"Times,serif\" font-size=\"14.00\" fill=\"#000000\">gini = 0.411</text>\n<text text-anchor=\"middle\" x=\"3225.5\" y=\"-215.8\" font-family=\"Times,serif\" font-size=\"14.00\" fill=\"#000000\">samples = 273</text>\n<text text-anchor=\"middle\" x=\"3225.5\" y=\"-200.8\" font-family=\"Times,serif\" font-size=\"14.00\" fill=\"#000000\">value = [200, 62, 8, 3, 0]</text>\n</g>\n<!-- 35&#45;&gt;36 -->\n<g id=\"edge36\" class=\"edge\">\n<title>35&#45;&gt;36</title>\n<path fill=\"none\" stroke=\"#000000\" d=\"M3634.2972,-313.0626C3545.7077,-294.4121 3407.5362,-265.3234 3316.7626,-246.2132\"/>\n<polygon fill=\"#000000\" stroke=\"#000000\" points=\"3317.2655,-242.7424 3306.7589,-244.1071 3315.8234,-249.5923 3317.2655,-242.7424\"/>\n</g>\n<!-- 43 -->\n<g id=\"node44\" class=\"node\">\n<title>43</title>\n<polygon fill=\"#d9faf4\" stroke=\"#000000\" points=\"3797,-261 3642,-261 3642,-193 3797,-193 3797,-261\"/>\n<text text-anchor=\"middle\" x=\"3719.5\" y=\"-245.8\" font-family=\"Times,serif\" font-size=\"14.00\" fill=\"#000000\">V2 &lt;= 187100.0</text>\n<text text-anchor=\"middle\" x=\"3719.5\" y=\"-230.8\" font-family=\"Times,serif\" font-size=\"14.00\" fill=\"#000000\">gini = 0.512</text>\n<text text-anchor=\"middle\" x=\"3719.5\" y=\"-215.8\" font-family=\"Times,serif\" font-size=\"14.00\" fill=\"#000000\">samples = 55</text>\n<text text-anchor=\"middle\" x=\"3719.5\" y=\"-200.8\" font-family=\"Times,serif\" font-size=\"14.00\" fill=\"#000000\">value = [24, 0, 30, 1, 0]</text>\n</g>\n<!-- 35&#45;&gt;43 -->\n<g id=\"edge43\" class=\"edge\">\n<title>35&#45;&gt;43</title>\n<path fill=\"none\" stroke=\"#000000\" d=\"M3719.5,-296.9465C3719.5,-288.776 3719.5,-279.9318 3719.5,-271.3697\"/>\n<polygon fill=\"#000000\" stroke=\"#000000\" points=\"3723.0001,-271.13 3719.5,-261.13 3716.0001,-271.13 3723.0001,-271.13\"/>\n</g>\n<!-- 37 -->\n<g id=\"node38\" class=\"node\">\n<title>37</title>\n<polygon fill=\"#f9fef6\" stroke=\"#000000\" points=\"3044,-157 2889,-157 2889,-89 3044,-89 3044,-157\"/>\n<text text-anchor=\"middle\" x=\"2966.5\" y=\"-141.8\" font-family=\"Times,serif\" font-size=\"14.00\" fill=\"#000000\">V3 &lt;= 706.5</text>\n<text text-anchor=\"middle\" x=\"2966.5\" y=\"-126.8\" font-family=\"Times,serif\" font-size=\"14.00\" fill=\"#000000\">gini = 0.534</text>\n<text text-anchor=\"middle\" x=\"2966.5\" y=\"-111.8\" font-family=\"Times,serif\" font-size=\"14.00\" fill=\"#000000\">samples = 83</text>\n<text text-anchor=\"middle\" x=\"2966.5\" y=\"-96.8\" font-family=\"Times,serif\" font-size=\"14.00\" fill=\"#000000\">value = [39, 41, 2, 1, 0]</text>\n</g>\n<!-- 36&#45;&gt;37 -->\n<g id=\"edge37\" class=\"edge\">\n<title>36&#45;&gt;37</title>\n<path fill=\"none\" stroke=\"#000000\" d=\"M3144.2614,-194.3791C3115.4805,-182.8223 3082.9884,-169.7753 3053.7297,-158.0266\"/>\n<polygon fill=\"#000000\" stroke=\"#000000\" points=\"3054.9366,-154.7396 3044.3526,-154.2613 3052.3282,-161.2355 3054.9366,-154.7396\"/>\n</g>\n<!-- 40 -->\n<g id=\"node41\" class=\"node\">\n<title>40</title>\n<polygon fill=\"#e9975b\" stroke=\"#000000\" points=\"3306.5,-157 3144.5,-157 3144.5,-89 3306.5,-89 3306.5,-157\"/>\n<text text-anchor=\"middle\" x=\"3225.5\" y=\"-141.8\" font-family=\"Times,serif\" font-size=\"14.00\" fill=\"#000000\">V9 &lt;= 25.49</text>\n<text text-anchor=\"middle\" x=\"3225.5\" y=\"-126.8\" font-family=\"Times,serif\" font-size=\"14.00\" fill=\"#000000\">gini = 0.269</text>\n<text text-anchor=\"middle\" x=\"3225.5\" y=\"-111.8\" font-family=\"Times,serif\" font-size=\"14.00\" fill=\"#000000\">samples = 190</text>\n<text text-anchor=\"middle\" x=\"3225.5\" y=\"-96.8\" font-family=\"Times,serif\" font-size=\"14.00\" fill=\"#000000\">value = [161, 21, 6, 2, 0]</text>\n</g>\n<!-- 36&#45;&gt;40 -->\n<g id=\"edge40\" class=\"edge\">\n<title>36&#45;&gt;40</title>\n<path fill=\"none\" stroke=\"#000000\" d=\"M3225.5,-192.9465C3225.5,-184.776 3225.5,-175.9318 3225.5,-167.3697\"/>\n<polygon fill=\"#000000\" stroke=\"#000000\" points=\"3229.0001,-167.13 3225.5,-157.13 3222.0001,-167.13 3229.0001,-167.13\"/>\n</g>\n<!-- 38 -->\n<g id=\"node39\" class=\"node\">\n<title>38</title>\n<polygon fill=\"#bbf29a\" stroke=\"#000000\" points=\"2875,-53 2720,-53 2720,0 2875,0 2875,-53\"/>\n<text text-anchor=\"middle\" x=\"2797.5\" y=\"-37.8\" font-family=\"Times,serif\" font-size=\"14.00\" fill=\"#000000\">gini = 0.468</text>\n<text text-anchor=\"middle\" x=\"2797.5\" y=\"-22.8\" font-family=\"Times,serif\" font-size=\"14.00\" fill=\"#000000\">samples = 62</text>\n<text text-anchor=\"middle\" x=\"2797.5\" y=\"-7.8\" font-family=\"Times,serif\" font-size=\"14.00\" fill=\"#000000\">value = [19, 41, 2, 0, 0]</text>\n</g>\n<!-- 37&#45;&gt;38 -->\n<g id=\"edge38\" class=\"edge\">\n<title>37&#45;&gt;38</title>\n<path fill=\"none\" stroke=\"#000000\" d=\"M2906.9169,-88.9777C2889.3561,-78.9504 2870.2186,-68.0228 2852.9299,-58.1508\"/>\n<polygon fill=\"#000000\" stroke=\"#000000\" points=\"2854.4953,-55.0143 2844.0757,-53.095 2851.0242,-61.0931 2854.4953,-55.0143\"/>\n</g>\n<!-- 39 -->\n<g id=\"node40\" class=\"node\">\n<title>39</title>\n<polygon fill=\"#e68743\" stroke=\"#000000\" points=\"3040,-53 2893,-53 2893,0 3040,0 3040,-53\"/>\n<text text-anchor=\"middle\" x=\"2966.5\" y=\"-37.8\" font-family=\"Times,serif\" font-size=\"14.00\" fill=\"#000000\">gini = 0.091</text>\n<text text-anchor=\"middle\" x=\"2966.5\" y=\"-22.8\" font-family=\"Times,serif\" font-size=\"14.00\" fill=\"#000000\">samples = 21</text>\n<text text-anchor=\"middle\" x=\"2966.5\" y=\"-7.8\" font-family=\"Times,serif\" font-size=\"14.00\" fill=\"#000000\">value = [20, 0, 0, 1, 0]</text>\n</g>\n<!-- 37&#45;&gt;39 -->\n<g id=\"edge39\" class=\"edge\">\n<title>37&#45;&gt;39</title>\n<path fill=\"none\" stroke=\"#000000\" d=\"M2966.5,-88.9777C2966.5,-80.7364 2966.5,-71.887 2966.5,-63.5153\"/>\n<polygon fill=\"#000000\" stroke=\"#000000\" points=\"2970.0001,-63.2484 2966.5,-53.2485 2963.0001,-63.2485 2970.0001,-63.2484\"/>\n</g>\n<!-- 41 -->\n<g id=\"node42\" class=\"node\">\n<title>41</title>\n<polygon fill=\"#f5ceb2\" stroke=\"#000000\" points=\"3213,-53 3058,-53 3058,0 3213,0 3213,-53\"/>\n<text text-anchor=\"middle\" x=\"3135.5\" y=\"-37.8\" font-family=\"Times,serif\" font-size=\"14.00\" fill=\"#000000\">gini = 0.495</text>\n<text text-anchor=\"middle\" x=\"3135.5\" y=\"-22.8\" font-family=\"Times,serif\" font-size=\"14.00\" fill=\"#000000\">samples = 36</text>\n<text text-anchor=\"middle\" x=\"3135.5\" y=\"-7.8\" font-family=\"Times,serif\" font-size=\"14.00\" fill=\"#000000\">value = [22, 13, 0, 1, 0]</text>\n</g>\n<!-- 40&#45;&gt;41 -->\n<g id=\"edge41\" class=\"edge\">\n<title>40&#45;&gt;41</title>\n<path fill=\"none\" stroke=\"#000000\" d=\"M3193.7694,-88.9777C3185.2292,-79.8207 3175.9887,-69.9129 3167.4374,-60.744\"/>\n<polygon fill=\"#000000\" stroke=\"#000000\" points=\"3169.8269,-58.1744 3160.4468,-53.2485 3164.7077,-62.9488 3169.8269,-58.1744\"/>\n</g>\n<!-- 42 -->\n<g id=\"node43\" class=\"node\">\n<title>42</title>\n<polygon fill=\"#e88e4d\" stroke=\"#000000\" points=\"3386,-53 3231,-53 3231,0 3386,0 3386,-53\"/>\n<text text-anchor=\"middle\" x=\"3308.5\" y=\"-37.8\" font-family=\"Times,serif\" font-size=\"14.00\" fill=\"#000000\">gini = 0.181</text>\n<text text-anchor=\"middle\" x=\"3308.5\" y=\"-22.8\" font-family=\"Times,serif\" font-size=\"14.00\" fill=\"#000000\">samples = 154</text>\n<text text-anchor=\"middle\" x=\"3308.5\" y=\"-7.8\" font-family=\"Times,serif\" font-size=\"14.00\" fill=\"#000000\">value = [139, 8, 6, 1, 0]</text>\n</g>\n<!-- 40&#45;&gt;42 -->\n<g id=\"edge42\" class=\"edge\">\n<title>40&#45;&gt;42</title>\n<path fill=\"none\" stroke=\"#000000\" d=\"M3254.7627,-88.9777C3262.5599,-79.9123 3270.99,-70.111 3278.8099,-61.0192\"/>\n<polygon fill=\"#000000\" stroke=\"#000000\" points=\"3281.6262,-63.1123 3285.4935,-53.2485 3276.3191,-58.5477 3281.6262,-63.1123\"/>\n</g>\n<!-- 44 -->\n<g id=\"node45\" class=\"node\">\n<title>44</title>\n<polygon fill=\"#ea9c63\" stroke=\"#000000\" points=\"3711,-157 3564,-157 3564,-89 3711,-89 3711,-157\"/>\n<text text-anchor=\"middle\" x=\"3637.5\" y=\"-141.8\" font-family=\"Times,serif\" font-size=\"14.00\" fill=\"#000000\">V9 &lt;= 63.739</text>\n<text text-anchor=\"middle\" x=\"3637.5\" y=\"-126.8\" font-family=\"Times,serif\" font-size=\"14.00\" fill=\"#000000\">gini = 0.287</text>\n<text text-anchor=\"middle\" x=\"3637.5\" y=\"-111.8\" font-family=\"Times,serif\" font-size=\"14.00\" fill=\"#000000\">samples = 23</text>\n<text text-anchor=\"middle\" x=\"3637.5\" y=\"-96.8\" font-family=\"Times,serif\" font-size=\"14.00\" fill=\"#000000\">value = [19, 0, 4, 0, 0]</text>\n</g>\n<!-- 43&#45;&gt;44 -->\n<g id=\"edge44\" class=\"edge\">\n<title>43&#45;&gt;44</title>\n<path fill=\"none\" stroke=\"#000000\" d=\"M3692.6501,-192.9465C3685.6417,-184.0578 3678.0045,-174.3716 3670.709,-165.1188\"/>\n<polygon fill=\"#000000\" stroke=\"#000000\" points=\"3673.3502,-162.8157 3664.4102,-157.13 3667.8533,-167.1498 3673.3502,-162.8157\"/>\n</g>\n<!-- 47 -->\n<g id=\"node48\" class=\"node\">\n<title>47</title>\n<polygon fill=\"#65ebd2\" stroke=\"#000000\" points=\"3876,-157 3729,-157 3729,-89 3876,-89 3876,-157\"/>\n<text text-anchor=\"middle\" x=\"3802.5\" y=\"-141.8\" font-family=\"Times,serif\" font-size=\"14.00\" fill=\"#000000\">V7 &lt;= 460.5</text>\n<text text-anchor=\"middle\" x=\"3802.5\" y=\"-126.8\" font-family=\"Times,serif\" font-size=\"14.00\" fill=\"#000000\">gini = 0.314</text>\n<text text-anchor=\"middle\" x=\"3802.5\" y=\"-111.8\" font-family=\"Times,serif\" font-size=\"14.00\" fill=\"#000000\">samples = 32</text>\n<text text-anchor=\"middle\" x=\"3802.5\" y=\"-96.8\" font-family=\"Times,serif\" font-size=\"14.00\" fill=\"#000000\">value = [5, 0, 26, 1, 0]</text>\n</g>\n<!-- 43&#45;&gt;47 -->\n<g id=\"edge47\" class=\"edge\">\n<title>43&#45;&gt;47</title>\n<path fill=\"none\" stroke=\"#000000\" d=\"M3746.6773,-192.9465C3753.7712,-184.0578 3761.5015,-174.3716 3768.886,-165.1188\"/>\n<polygon fill=\"#000000\" stroke=\"#000000\" points=\"3771.7594,-167.1293 3775.2616,-157.13 3766.2882,-162.7628 3771.7594,-167.1293\"/>\n</g>\n<!-- 45 -->\n<g id=\"node46\" class=\"node\">\n<title>45</title>\n<polygon fill=\"#e88e4e\" stroke=\"#000000\" points=\"3551,-53 3404,-53 3404,0 3551,0 3551,-53\"/>\n<text text-anchor=\"middle\" x=\"3477.5\" y=\"-37.8\" font-family=\"Times,serif\" font-size=\"14.00\" fill=\"#000000\">gini = 0.172</text>\n<text text-anchor=\"middle\" x=\"3477.5\" y=\"-22.8\" font-family=\"Times,serif\" font-size=\"14.00\" fill=\"#000000\">samples = 21</text>\n<text text-anchor=\"middle\" x=\"3477.5\" y=\"-7.8\" font-family=\"Times,serif\" font-size=\"14.00\" fill=\"#000000\">value = [19, 0, 2, 0, 0]</text>\n</g>\n<!-- 44&#45;&gt;45 -->\n<g id=\"edge45\" class=\"edge\">\n<title>44&#45;&gt;45</title>\n<path fill=\"none\" stroke=\"#000000\" d=\"M3581.09,-88.9777C3564.6169,-79.0424 3546.6783,-68.2232 3530.429,-58.4228\"/>\n<polygon fill=\"#000000\" stroke=\"#000000\" points=\"3531.9661,-55.2626 3521.5954,-53.095 3528.3509,-61.2568 3531.9661,-55.2626\"/>\n</g>\n<!-- 46 -->\n<g id=\"node47\" class=\"node\">\n<title>46</title>\n<polygon fill=\"#39e5c5\" stroke=\"#000000\" points=\"3709.5,-53 3569.5,-53 3569.5,0 3709.5,0 3709.5,-53\"/>\n<text text-anchor=\"middle\" x=\"3639.5\" y=\"-37.8\" font-family=\"Times,serif\" font-size=\"14.00\" fill=\"#000000\">gini = 0.0</text>\n<text text-anchor=\"middle\" x=\"3639.5\" y=\"-22.8\" font-family=\"Times,serif\" font-size=\"14.00\" fill=\"#000000\">samples = 2</text>\n<text text-anchor=\"middle\" x=\"3639.5\" y=\"-7.8\" font-family=\"Times,serif\" font-size=\"14.00\" fill=\"#000000\">value = [0, 0, 2, 0, 0]</text>\n</g>\n<!-- 44&#45;&gt;46 -->\n<g id=\"edge46\" class=\"edge\">\n<title>44&#45;&gt;46</title>\n<path fill=\"none\" stroke=\"#000000\" d=\"M3638.2051,-88.9777C3638.3759,-80.7364 3638.5593,-71.887 3638.7328,-63.5153\"/>\n<polygon fill=\"#000000\" stroke=\"#000000\" points=\"3642.2376,-63.3189 3638.9456,-53.2485 3635.2391,-63.1738 3642.2376,-63.3189\"/>\n</g>\n<!-- 48 -->\n<g id=\"node49\" class=\"node\">\n<title>48</title>\n<polygon fill=\"#49e7ca\" stroke=\"#000000\" points=\"3875,-53 3728,-53 3728,0 3875,0 3875,-53\"/>\n<text text-anchor=\"middle\" x=\"3801.5\" y=\"-37.8\" font-family=\"Times,serif\" font-size=\"14.00\" fill=\"#000000\">gini = 0.145</text>\n<text text-anchor=\"middle\" x=\"3801.5\" y=\"-22.8\" font-family=\"Times,serif\" font-size=\"14.00\" fill=\"#000000\">samples = 26</text>\n<text text-anchor=\"middle\" x=\"3801.5\" y=\"-7.8\" font-family=\"Times,serif\" font-size=\"14.00\" fill=\"#000000\">value = [1, 0, 24, 1, 0]</text>\n</g>\n<!-- 47&#45;&gt;48 -->\n<g id=\"edge48\" class=\"edge\">\n<title>47&#45;&gt;48</title>\n<path fill=\"none\" stroke=\"#000000\" d=\"M3802.1474,-88.9777C3802.062,-80.7364 3801.9703,-71.887 3801.8836,-63.5153\"/>\n<polygon fill=\"#000000\" stroke=\"#000000\" points=\"3805.3807,-63.2116 3801.7772,-53.2485 3798.3811,-63.2842 3805.3807,-63.2116\"/>\n</g>\n<!-- 49 -->\n<g id=\"node50\" class=\"node\">\n<title>49</title>\n<polygon fill=\"#f2c09c\" stroke=\"#000000\" points=\"4033.5,-53 3893.5,-53 3893.5,0 4033.5,0 4033.5,-53\"/>\n<text text-anchor=\"middle\" x=\"3963.5\" y=\"-37.8\" font-family=\"Times,serif\" font-size=\"14.00\" fill=\"#000000\">gini = 0.444</text>\n<text text-anchor=\"middle\" x=\"3963.5\" y=\"-22.8\" font-family=\"Times,serif\" font-size=\"14.00\" fill=\"#000000\">samples = 6</text>\n<text text-anchor=\"middle\" x=\"3963.5\" y=\"-7.8\" font-family=\"Times,serif\" font-size=\"14.00\" fill=\"#000000\">value = [4, 0, 2, 0, 0]</text>\n</g>\n<!-- 47&#45;&gt;49 -->\n<g id=\"edge49\" class=\"edge\">\n<title>47&#45;&gt;49</title>\n<path fill=\"none\" stroke=\"#000000\" d=\"M3859.2626,-88.9777C3875.8386,-79.0424 3893.8893,-68.2232 3910.2402,-58.4228\"/>\n<polygon fill=\"#000000\" stroke=\"#000000\" points=\"3912.3511,-61.2382 3919.129,-53.095 3908.7523,-55.2341 3912.3511,-61.2382\"/>\n</g>\n<!-- 51 -->\n<g id=\"node52\" class=\"node\">\n<title>51</title>\n<polygon fill=\"#9eec6e\" stroke=\"#000000\" points=\"4448,-261 4293,-261 4293,-193 4448,-193 4448,-261\"/>\n<text text-anchor=\"middle\" x=\"4370.5\" y=\"-245.8\" font-family=\"Times,serif\" font-size=\"14.00\" fill=\"#000000\">V1 &lt;= &#45;118.115</text>\n<text text-anchor=\"middle\" x=\"4370.5\" y=\"-230.8\" font-family=\"Times,serif\" font-size=\"14.00\" fill=\"#000000\">gini = 0.34</text>\n<text text-anchor=\"middle\" x=\"4370.5\" y=\"-215.8\" font-family=\"Times,serif\" font-size=\"14.00\" fill=\"#000000\">samples = 117</text>\n<text text-anchor=\"middle\" x=\"4370.5\" y=\"-200.8\" font-family=\"Times,serif\" font-size=\"14.00\" fill=\"#000000\">value = [24, 92, 0, 1, 0]</text>\n</g>\n<!-- 50&#45;&gt;51 -->\n<g id=\"edge51\" class=\"edge\">\n<title>50&#45;&gt;51</title>\n<path fill=\"none\" stroke=\"#000000\" d=\"M4370.5,-296.9465C4370.5,-288.776 4370.5,-279.9318 4370.5,-271.3697\"/>\n<polygon fill=\"#000000\" stroke=\"#000000\" points=\"4374.0001,-271.13 4370.5,-261.13 4367.0001,-271.13 4374.0001,-271.13\"/>\n</g>\n<!-- 58 -->\n<g id=\"node59\" class=\"node\">\n<title>58</title>\n<polygon fill=\"#8cf0dd\" stroke=\"#000000\" points=\"4929,-261 4782,-261 4782,-193 4929,-193 4929,-261\"/>\n<text text-anchor=\"middle\" x=\"4855.5\" y=\"-245.8\" font-family=\"Times,serif\" font-size=\"14.00\" fill=\"#000000\">V2 &lt;= 200000.0</text>\n<text text-anchor=\"middle\" x=\"4855.5\" y=\"-230.8\" font-family=\"Times,serif\" font-size=\"14.00\" fill=\"#000000\">gini = 0.507</text>\n<text text-anchor=\"middle\" x=\"4855.5\" y=\"-215.8\" font-family=\"Times,serif\" font-size=\"14.00\" fill=\"#000000\">samples = 44</text>\n<text text-anchor=\"middle\" x=\"4855.5\" y=\"-200.8\" font-family=\"Times,serif\" font-size=\"14.00\" fill=\"#000000\">value = [8, 7, 29, 0, 0]</text>\n</g>\n<!-- 50&#45;&gt;58 -->\n<g id=\"edge58\" class=\"edge\">\n<title>50&#45;&gt;58</title>\n<path fill=\"none\" stroke=\"#000000\" d=\"M4451.6781,-313.5927C4540.4407,-294.5591 4681.9774,-264.209 4771.7457,-244.9597\"/>\n<polygon fill=\"#000000\" stroke=\"#000000\" points=\"4772.5735,-248.3618 4781.6174,-242.8429 4771.1058,-241.5174 4772.5735,-248.3618\"/>\n</g>\n<!-- 52 -->\n<g id=\"node53\" class=\"node\">\n<title>52</title>\n<polygon fill=\"#89e84d\" stroke=\"#000000\" points=\"4360,-157 4213,-157 4213,-89 4360,-89 4360,-157\"/>\n<text text-anchor=\"middle\" x=\"4286.5\" y=\"-141.8\" font-family=\"Times,serif\" font-size=\"14.00\" fill=\"#000000\">V8 &lt;= 1333.5</text>\n<text text-anchor=\"middle\" x=\"4286.5\" y=\"-126.8\" font-family=\"Times,serif\" font-size=\"14.00\" fill=\"#000000\">gini = 0.169</text>\n<text text-anchor=\"middle\" x=\"4286.5\" y=\"-111.8\" font-family=\"Times,serif\" font-size=\"14.00\" fill=\"#000000\">samples = 86</text>\n<text text-anchor=\"middle\" x=\"4286.5\" y=\"-96.8\" font-family=\"Times,serif\" font-size=\"14.00\" fill=\"#000000\">value = [8, 78, 0, 0, 0]</text>\n</g>\n<!-- 51&#45;&gt;52 -->\n<g id=\"edge52\" class=\"edge\">\n<title>51&#45;&gt;52</title>\n<path fill=\"none\" stroke=\"#000000\" d=\"M4342.9953,-192.9465C4335.8159,-184.0578 4327.9924,-174.3716 4320.519,-165.1188\"/>\n<polygon fill=\"#000000\" stroke=\"#000000\" points=\"4323.0727,-162.7102 4314.0665,-157.13 4317.6271,-167.1086 4323.0727,-162.7102\"/>\n</g>\n<!-- 55 -->\n<g id=\"node56\" class=\"node\">\n<title>55</title>\n<polygon fill=\"#fcf0e8\" stroke=\"#000000\" points=\"4533,-157 4378,-157 4378,-89 4533,-89 4533,-157\"/>\n<text text-anchor=\"middle\" x=\"4455.5\" y=\"-141.8\" font-family=\"Times,serif\" font-size=\"14.00\" fill=\"#000000\">V5 &lt;= 2528.0</text>\n<text text-anchor=\"middle\" x=\"4455.5\" y=\"-126.8\" font-family=\"Times,serif\" font-size=\"14.00\" fill=\"#000000\">gini = 0.529</text>\n<text text-anchor=\"middle\" x=\"4455.5\" y=\"-111.8\" font-family=\"Times,serif\" font-size=\"14.00\" fill=\"#000000\">samples = 31</text>\n<text text-anchor=\"middle\" x=\"4455.5\" y=\"-96.8\" font-family=\"Times,serif\" font-size=\"14.00\" fill=\"#000000\">value = [16, 14, 0, 1, 0]</text>\n</g>\n<!-- 51&#45;&gt;55 -->\n<g id=\"edge55\" class=\"edge\">\n<title>51&#45;&gt;55</title>\n<path fill=\"none\" stroke=\"#000000\" d=\"M4398.3322,-192.9465C4405.597,-184.0578 4413.5136,-174.3716 4421.076,-165.1188\"/>\n<polygon fill=\"#000000\" stroke=\"#000000\" points=\"4423.987,-167.0878 4427.6053,-157.13 4418.5669,-162.658 4423.987,-167.0878\"/>\n</g>\n<!-- 53 -->\n<g id=\"node54\" class=\"node\">\n<title>53</title>\n<polygon fill=\"#81e642\" stroke=\"#000000\" points=\"4199,-53 4052,-53 4052,0 4199,0 4199,-53\"/>\n<text text-anchor=\"middle\" x=\"4125.5\" y=\"-37.8\" font-family=\"Times,serif\" font-size=\"14.00\" fill=\"#000000\">gini = 0.081</text>\n<text text-anchor=\"middle\" x=\"4125.5\" y=\"-22.8\" font-family=\"Times,serif\" font-size=\"14.00\" fill=\"#000000\">samples = 71</text>\n<text text-anchor=\"middle\" x=\"4125.5\" y=\"-7.8\" font-family=\"Times,serif\" font-size=\"14.00\" fill=\"#000000\">value = [3, 68, 0, 0, 0]</text>\n</g>\n<!-- 52&#45;&gt;53 -->\n<g id=\"edge53\" class=\"edge\">\n<title>52&#45;&gt;53</title>\n<path fill=\"none\" stroke=\"#000000\" d=\"M4229.7374,-88.9777C4213.1614,-79.0424 4195.1107,-68.2232 4178.7598,-58.4228\"/>\n<polygon fill=\"#000000\" stroke=\"#000000\" points=\"4180.2477,-55.2341 4169.871,-53.095 4176.6489,-61.2382 4180.2477,-55.2341\"/>\n</g>\n<!-- 54 -->\n<g id=\"node55\" class=\"node\">\n<title>54</title>\n<polygon fill=\"#bdf29c\" stroke=\"#000000\" points=\"4364,-53 4217,-53 4217,0 4364,0 4364,-53\"/>\n<text text-anchor=\"middle\" x=\"4290.5\" y=\"-37.8\" font-family=\"Times,serif\" font-size=\"14.00\" fill=\"#000000\">gini = 0.444</text>\n<text text-anchor=\"middle\" x=\"4290.5\" y=\"-22.8\" font-family=\"Times,serif\" font-size=\"14.00\" fill=\"#000000\">samples = 15</text>\n<text text-anchor=\"middle\" x=\"4290.5\" y=\"-7.8\" font-family=\"Times,serif\" font-size=\"14.00\" fill=\"#000000\">value = [5, 10, 0, 0, 0]</text>\n</g>\n<!-- 52&#45;&gt;54 -->\n<g id=\"edge54\" class=\"edge\">\n<title>52&#45;&gt;54</title>\n<path fill=\"none\" stroke=\"#000000\" d=\"M4287.9103,-88.9777C4288.2519,-80.7364 4288.6187,-71.887 4288.9657,-63.5153\"/>\n<polygon fill=\"#000000\" stroke=\"#000000\" points=\"4292.474,-63.3849 4289.3913,-53.2485 4285.48,-63.0949 4292.474,-63.3849\"/>\n</g>\n<!-- 56 -->\n<g id=\"node57\" class=\"node\">\n<title>56</title>\n<polygon fill=\"#7be539\" stroke=\"#000000\" points=\"4522.5,-53 4382.5,-53 4382.5,0 4522.5,0 4522.5,-53\"/>\n<text text-anchor=\"middle\" x=\"4452.5\" y=\"-37.8\" font-family=\"Times,serif\" font-size=\"14.00\" fill=\"#000000\">gini = 0.0</text>\n<text text-anchor=\"middle\" x=\"4452.5\" y=\"-22.8\" font-family=\"Times,serif\" font-size=\"14.00\" fill=\"#000000\">samples = 8</text>\n<text text-anchor=\"middle\" x=\"4452.5\" y=\"-7.8\" font-family=\"Times,serif\" font-size=\"14.00\" fill=\"#000000\">value = [0, 8, 0, 0, 0]</text>\n</g>\n<!-- 55&#45;&gt;56 -->\n<g id=\"edge56\" class=\"edge\">\n<title>55&#45;&gt;56</title>\n<path fill=\"none\" stroke=\"#000000\" d=\"M4454.4423,-88.9777C4454.1861,-80.7364 4453.911,-71.887 4453.6507,-63.5153\"/>\n<polygon fill=\"#000000\" stroke=\"#000000\" points=\"4457.1407,-63.1349 4453.3316,-53.2485 4450.1441,-63.3524 4457.1407,-63.1349\"/>\n</g>\n<!-- 57 -->\n<g id=\"node58\" class=\"node\">\n<title>57</title>\n<polygon fill=\"#f0b58b\" stroke=\"#000000\" points=\"4688,-53 4541,-53 4541,0 4688,0 4688,-53\"/>\n<text text-anchor=\"middle\" x=\"4614.5\" y=\"-37.8\" font-family=\"Times,serif\" font-size=\"14.00\" fill=\"#000000\">gini = 0.446</text>\n<text text-anchor=\"middle\" x=\"4614.5\" y=\"-22.8\" font-family=\"Times,serif\" font-size=\"14.00\" fill=\"#000000\">samples = 23</text>\n<text text-anchor=\"middle\" x=\"4614.5\" y=\"-7.8\" font-family=\"Times,serif\" font-size=\"14.00\" fill=\"#000000\">value = [16, 6, 0, 1, 0]</text>\n</g>\n<!-- 55&#45;&gt;57 -->\n<g id=\"edge57\" class=\"edge\">\n<title>55&#45;&gt;57</title>\n<path fill=\"none\" stroke=\"#000000\" d=\"M4511.5575,-88.9777C4527.9276,-79.0424 4545.754,-68.2232 4561.9018,-58.4228\"/>\n<polygon fill=\"#000000\" stroke=\"#000000\" points=\"4563.9474,-61.2755 4570.6802,-53.095 4560.3155,-55.2914 4563.9474,-61.2755\"/>\n</g>\n<!-- 59 -->\n<g id=\"node60\" class=\"node\">\n<title>59</title>\n<polygon fill=\"#ffffff\" stroke=\"#000000\" points=\"4925.5,-157 4785.5,-157 4785.5,-89 4925.5,-89 4925.5,-157\"/>\n<text text-anchor=\"middle\" x=\"4855.5\" y=\"-141.8\" font-family=\"Times,serif\" font-size=\"14.00\" fill=\"#000000\">V3 &lt;= 442.0</text>\n<text text-anchor=\"middle\" x=\"4855.5\" y=\"-126.8\" font-family=\"Times,serif\" font-size=\"14.00\" fill=\"#000000\">gini = 0.648</text>\n<text text-anchor=\"middle\" x=\"4855.5\" y=\"-111.8\" font-family=\"Times,serif\" font-size=\"14.00\" fill=\"#000000\">samples = 18</text>\n<text text-anchor=\"middle\" x=\"4855.5\" y=\"-96.8\" font-family=\"Times,serif\" font-size=\"14.00\" fill=\"#000000\">value = [7, 7, 4, 0, 0]</text>\n</g>\n<!-- 58&#45;&gt;59 -->\n<g id=\"edge59\" class=\"edge\">\n<title>58&#45;&gt;59</title>\n<path fill=\"none\" stroke=\"#000000\" d=\"M4855.5,-192.9465C4855.5,-184.776 4855.5,-175.9318 4855.5,-167.3697\"/>\n<polygon fill=\"#000000\" stroke=\"#000000\" points=\"4859.0001,-167.13 4855.5,-157.13 4852.0001,-167.13 4859.0001,-167.13\"/>\n</g>\n<!-- 62 -->\n<g id=\"node63\" class=\"node\">\n<title>62</title>\n<polygon fill=\"#41e6c7\" stroke=\"#000000\" points=\"5170,-157 5023,-157 5023,-89 5170,-89 5170,-157\"/>\n<text text-anchor=\"middle\" x=\"5096.5\" y=\"-141.8\" font-family=\"Times,serif\" font-size=\"14.00\" fill=\"#000000\">V8 &lt;= 1459.5</text>\n<text text-anchor=\"middle\" x=\"5096.5\" y=\"-126.8\" font-family=\"Times,serif\" font-size=\"14.00\" fill=\"#000000\">gini = 0.074</text>\n<text text-anchor=\"middle\" x=\"5096.5\" y=\"-111.8\" font-family=\"Times,serif\" font-size=\"14.00\" fill=\"#000000\">samples = 26</text>\n<text text-anchor=\"middle\" x=\"5096.5\" y=\"-96.8\" font-family=\"Times,serif\" font-size=\"14.00\" fill=\"#000000\">value = [1, 0, 25, 0, 0]</text>\n</g>\n<!-- 58&#45;&gt;62 -->\n<g id=\"edge62\" class=\"edge\">\n<title>58&#45;&gt;62</title>\n<path fill=\"none\" stroke=\"#000000\" d=\"M4929.1175,-195.2315C4955.8562,-183.6927 4986.2438,-170.5794 5013.7211,-158.722\"/>\n<polygon fill=\"#000000\" stroke=\"#000000\" points=\"5015.1236,-161.9288 5022.9184,-154.753 5012.3501,-155.5017 5015.1236,-161.9288\"/>\n</g>\n<!-- 60 -->\n<g id=\"node61\" class=\"node\">\n<title>60</title>\n<polygon fill=\"#b4f08e\" stroke=\"#000000\" points=\"4846.5,-53 4706.5,-53 4706.5,0 4846.5,0 4846.5,-53\"/>\n<text text-anchor=\"middle\" x=\"4776.5\" y=\"-37.8\" font-family=\"Times,serif\" font-size=\"14.00\" fill=\"#000000\">gini = 0.42</text>\n<text text-anchor=\"middle\" x=\"4776.5\" y=\"-22.8\" font-family=\"Times,serif\" font-size=\"14.00\" fill=\"#000000\">samples = 10</text>\n<text text-anchor=\"middle\" x=\"4776.5\" y=\"-7.8\" font-family=\"Times,serif\" font-size=\"14.00\" fill=\"#000000\">value = [0, 7, 3, 0, 0]</text>\n</g>\n<!-- 59&#45;&gt;60 -->\n<g id=\"edge60\" class=\"edge\">\n<title>59&#45;&gt;60</title>\n<path fill=\"none\" stroke=\"#000000\" d=\"M4827.6476,-88.9777C4820.2261,-79.9123 4812.2023,-70.111 4804.7593,-61.0192\"/>\n<polygon fill=\"#000000\" stroke=\"#000000\" points=\"4807.4405,-58.7692 4798.3977,-53.2485 4802.0241,-63.2034 4807.4405,-58.7692\"/>\n</g>\n<!-- 61 -->\n<g id=\"node62\" class=\"node\">\n<title>61</title>\n<polygon fill=\"#e99355\" stroke=\"#000000\" points=\"5004.5,-53 4864.5,-53 4864.5,0 5004.5,0 5004.5,-53\"/>\n<text text-anchor=\"middle\" x=\"4934.5\" y=\"-37.8\" font-family=\"Times,serif\" font-size=\"14.00\" fill=\"#000000\">gini = 0.219</text>\n<text text-anchor=\"middle\" x=\"4934.5\" y=\"-22.8\" font-family=\"Times,serif\" font-size=\"14.00\" fill=\"#000000\">samples = 8</text>\n<text text-anchor=\"middle\" x=\"4934.5\" y=\"-7.8\" font-family=\"Times,serif\" font-size=\"14.00\" fill=\"#000000\">value = [7, 0, 1, 0, 0]</text>\n</g>\n<!-- 59&#45;&gt;61 -->\n<g id=\"edge61\" class=\"edge\">\n<title>59&#45;&gt;61</title>\n<path fill=\"none\" stroke=\"#000000\" d=\"M4883.3524,-88.9777C4890.7739,-79.9123 4898.7977,-70.111 4906.2407,-61.0192\"/>\n<polygon fill=\"#000000\" stroke=\"#000000\" points=\"4908.9759,-63.2034 4912.6023,-53.2485 4903.5595,-58.7692 4908.9759,-63.2034\"/>\n</g>\n<!-- 63 -->\n<g id=\"node64\" class=\"node\">\n<title>63</title>\n<polygon fill=\"#39e5c5\" stroke=\"#000000\" points=\"5170,-53 5023,-53 5023,0 5170,0 5170,-53\"/>\n<text text-anchor=\"middle\" x=\"5096.5\" y=\"-37.8\" font-family=\"Times,serif\" font-size=\"14.00\" fill=\"#000000\">gini = 0.0</text>\n<text text-anchor=\"middle\" x=\"5096.5\" y=\"-22.8\" font-family=\"Times,serif\" font-size=\"14.00\" fill=\"#000000\">samples = 25</text>\n<text text-anchor=\"middle\" x=\"5096.5\" y=\"-7.8\" font-family=\"Times,serif\" font-size=\"14.00\" fill=\"#000000\">value = [0, 0, 25, 0, 0]</text>\n</g>\n<!-- 62&#45;&gt;63 -->\n<g id=\"edge63\" class=\"edge\">\n<title>62&#45;&gt;63</title>\n<path fill=\"none\" stroke=\"#000000\" d=\"M5096.5,-88.9777C5096.5,-80.7364 5096.5,-71.887 5096.5,-63.5153\"/>\n<polygon fill=\"#000000\" stroke=\"#000000\" points=\"5100.0001,-63.2484 5096.5,-53.2485 5093.0001,-63.2485 5100.0001,-63.2484\"/>\n</g>\n<!-- 64 -->\n<g id=\"node65\" class=\"node\">\n<title>64</title>\n<polygon fill=\"#e58139\" stroke=\"#000000\" points=\"5328.5,-53 5188.5,-53 5188.5,0 5328.5,0 5328.5,-53\"/>\n<text text-anchor=\"middle\" x=\"5258.5\" y=\"-37.8\" font-family=\"Times,serif\" font-size=\"14.00\" fill=\"#000000\">gini = 0.0</text>\n<text text-anchor=\"middle\" x=\"5258.5\" y=\"-22.8\" font-family=\"Times,serif\" font-size=\"14.00\" fill=\"#000000\">samples = 1</text>\n<text text-anchor=\"middle\" x=\"5258.5\" y=\"-7.8\" font-family=\"Times,serif\" font-size=\"14.00\" fill=\"#000000\">value = [1, 0, 0, 0, 0]</text>\n</g>\n<!-- 62&#45;&gt;64 -->\n<g id=\"edge64\" class=\"edge\">\n<title>62&#45;&gt;64</title>\n<path fill=\"none\" stroke=\"#000000\" d=\"M5153.6151,-88.9777C5170.2941,-79.0424 5188.4569,-68.2232 5204.9094,-58.4228\"/>\n<polygon fill=\"#000000\" stroke=\"#000000\" points=\"5207.0533,-61.2197 5213.8534,-53.095 5203.471,-55.2058 5207.0533,-61.2197\"/>\n</g>\n<!-- 66 -->\n<g id=\"node67\" class=\"node\">\n<title>66</title>\n<polygon fill=\"#b3f08d\" stroke=\"#000000\" points=\"6910,-469 6733,-469 6733,-401 6910,-401 6910,-469\"/>\n<text text-anchor=\"middle\" x=\"6821.5\" y=\"-453.8\" font-family=\"Times,serif\" font-size=\"14.00\" fill=\"#000000\">V2 &lt;= 417850.0</text>\n<text text-anchor=\"middle\" x=\"6821.5\" y=\"-438.8\" font-family=\"Times,serif\" font-size=\"14.00\" fill=\"#000000\">gini = 0.444</text>\n<text text-anchor=\"middle\" x=\"6821.5\" y=\"-423.8\" font-family=\"Times,serif\" font-size=\"14.00\" fill=\"#000000\">samples = 824</text>\n<text text-anchor=\"middle\" x=\"6821.5\" y=\"-408.8\" font-family=\"Times,serif\" font-size=\"14.00\" fill=\"#000000\">value = [26, 570, 228, 0, 0]</text>\n</g>\n<!-- 65&#45;&gt;66 -->\n<g id=\"edge66\" class=\"edge\">\n<title>65&#45;&gt;66</title>\n<path fill=\"none\" stroke=\"#000000\" d=\"M7138.9768,-515.5307C7073.8283,-499.0052 6986.7293,-476.9118 6920.2408,-460.0464\"/>\n<polygon fill=\"#000000\" stroke=\"#000000\" points=\"6920.7236,-456.5581 6910.17,-457.4919 6919.0024,-463.3432 6920.7236,-456.5581\"/>\n</g>\n<!-- 93 -->\n<g id=\"node94\" class=\"node\">\n<title>93</title>\n<polygon fill=\"#42e6c8\" stroke=\"#000000\" points=\"8055,-469 7878,-469 7878,-401 8055,-401 8055,-469\"/>\n<text text-anchor=\"middle\" x=\"7966.5\" y=\"-453.8\" font-family=\"Times,serif\" font-size=\"14.00\" fill=\"#000000\">V2 &lt;= 266850.0</text>\n<text text-anchor=\"middle\" x=\"7966.5\" y=\"-438.8\" font-family=\"Times,serif\" font-size=\"14.00\" fill=\"#000000\">gini = 0.088</text>\n<text text-anchor=\"middle\" x=\"7966.5\" y=\"-423.8\" font-family=\"Times,serif\" font-size=\"14.00\" fill=\"#000000\">samples = 2005</text>\n<text text-anchor=\"middle\" x=\"7966.5\" y=\"-408.8\" font-family=\"Times,serif\" font-size=\"14.00\" fill=\"#000000\">value = [13, 78, 1913, 1, 0]</text>\n</g>\n<!-- 65&#45;&gt;93 -->\n<g id=\"edge93\" class=\"edge\">\n<title>65&#45;&gt;93</title>\n<path fill=\"none\" stroke=\"#000000\" d=\"M7324.2159,-525.881C7463.378,-506.1901 7725.1068,-469.1563 7867.7301,-448.9756\"/>\n<polygon fill=\"#000000\" stroke=\"#000000\" points=\"7868.3789,-452.4188 7877.7899,-447.5522 7867.3981,-445.4878 7868.3789,-452.4188\"/>\n</g>\n<!-- 67 -->\n<g id=\"node68\" class=\"node\">\n<title>67</title>\n<polygon fill=\"#95ea60\" stroke=\"#000000\" points=\"6414.5,-365 6244.5,-365 6244.5,-297 6414.5,-297 6414.5,-365\"/>\n<text text-anchor=\"middle\" x=\"6329.5\" y=\"-349.8\" font-family=\"Times,serif\" font-size=\"14.00\" fill=\"#000000\">V9 &lt;= 30.502</text>\n<text text-anchor=\"middle\" x=\"6329.5\" y=\"-334.8\" font-family=\"Times,serif\" font-size=\"14.00\" fill=\"#000000\">gini = 0.293</text>\n<text text-anchor=\"middle\" x=\"6329.5\" y=\"-319.8\" font-family=\"Times,serif\" font-size=\"14.00\" fill=\"#000000\">samples = 669</text>\n<text text-anchor=\"middle\" x=\"6329.5\" y=\"-304.8\" font-family=\"Times,serif\" font-size=\"14.00\" fill=\"#000000\">value = [25, 555, 89, 0, 0]</text>\n</g>\n<!-- 66&#45;&gt;67 -->\n<g id=\"edge67\" class=\"edge\">\n<title>66&#45;&gt;67</title>\n<path fill=\"none\" stroke=\"#000000\" d=\"M6732.972,-416.2868C6646.0398,-397.9108 6513.8455,-369.9673 6424.6873,-351.1209\"/>\n<polygon fill=\"#000000\" stroke=\"#000000\" points=\"6425.3541,-347.6846 6414.8465,-349.0407 6423.9064,-354.5332 6425.3541,-347.6846\"/>\n</g>\n<!-- 82 -->\n<g id=\"node83\" class=\"node\">\n<title>82</title>\n<polygon fill=\"#50e8cc\" stroke=\"#000000\" points=\"6902.5,-365 6740.5,-365 6740.5,-297 6902.5,-297 6902.5,-365\"/>\n<text text-anchor=\"middle\" x=\"6821.5\" y=\"-349.8\" font-family=\"Times,serif\" font-size=\"14.00\" fill=\"#000000\">V9 &lt;= 2.96</text>\n<text text-anchor=\"middle\" x=\"6821.5\" y=\"-334.8\" font-family=\"Times,serif\" font-size=\"14.00\" fill=\"#000000\">gini = 0.186</text>\n<text text-anchor=\"middle\" x=\"6821.5\" y=\"-319.8\" font-family=\"Times,serif\" font-size=\"14.00\" fill=\"#000000\">samples = 155</text>\n<text text-anchor=\"middle\" x=\"6821.5\" y=\"-304.8\" font-family=\"Times,serif\" font-size=\"14.00\" fill=\"#000000\">value = [1, 15, 139, 0, 0]</text>\n</g>\n<!-- 66&#45;&gt;82 -->\n<g id=\"edge82\" class=\"edge\">\n<title>66&#45;&gt;82</title>\n<path fill=\"none\" stroke=\"#000000\" d=\"M6821.5,-400.9465C6821.5,-392.776 6821.5,-383.9318 6821.5,-375.3697\"/>\n<polygon fill=\"#000000\" stroke=\"#000000\" points=\"6825.0001,-375.13 6821.5,-365.13 6818.0001,-375.13 6825.0001,-375.13\"/>\n</g>\n<!-- 68 -->\n<g id=\"node69\" class=\"node\">\n<title>68</title>\n<polygon fill=\"#85e749\" stroke=\"#000000\" points=\"5929.5,-261 5759.5,-261 5759.5,-193 5929.5,-193 5929.5,-261\"/>\n<text text-anchor=\"middle\" x=\"5844.5\" y=\"-245.8\" font-family=\"Times,serif\" font-size=\"14.00\" fill=\"#000000\">V5 &lt;= 2798.5</text>\n<text text-anchor=\"middle\" x=\"5844.5\" y=\"-230.8\" font-family=\"Times,serif\" font-size=\"14.00\" fill=\"#000000\">gini = 0.142</text>\n<text text-anchor=\"middle\" x=\"5844.5\" y=\"-215.8\" font-family=\"Times,serif\" font-size=\"14.00\" fill=\"#000000\">samples = 479</text>\n<text text-anchor=\"middle\" x=\"5844.5\" y=\"-200.8\" font-family=\"Times,serif\" font-size=\"14.00\" fill=\"#000000\">value = [22, 443, 14, 0, 0]</text>\n</g>\n<!-- 67&#45;&gt;68 -->\n<g id=\"edge68\" class=\"edge\">\n<title>67&#45;&gt;68</title>\n<path fill=\"none\" stroke=\"#000000\" d=\"M6244.4645,-312.7656C6159.2305,-294.4886 6028.2724,-266.4069 5939.6313,-247.3993\"/>\n<polygon fill=\"#000000\" stroke=\"#000000\" points=\"5940.3572,-243.9754 5929.8456,-245.3009 5938.8895,-250.8199 5940.3572,-243.9754\"/>\n</g>\n<!-- 75 -->\n<g id=\"node76\" class=\"node\">\n<title>75</title>\n<polygon fill=\"#d5f7bf\" stroke=\"#000000\" points=\"6410,-261 6249,-261 6249,-193 6410,-193 6410,-261\"/>\n<text text-anchor=\"middle\" x=\"6329.5\" y=\"-245.8\" font-family=\"Times,serif\" font-size=\"14.00\" fill=\"#000000\">V2 &lt;= 303900.0</text>\n<text text-anchor=\"middle\" x=\"6329.5\" y=\"-230.8\" font-family=\"Times,serif\" font-size=\"14.00\" fill=\"#000000\">gini = 0.496</text>\n<text text-anchor=\"middle\" x=\"6329.5\" y=\"-215.8\" font-family=\"Times,serif\" font-size=\"14.00\" fill=\"#000000\">samples = 190</text>\n<text text-anchor=\"middle\" x=\"6329.5\" y=\"-200.8\" font-family=\"Times,serif\" font-size=\"14.00\" fill=\"#000000\">value = [3, 112, 75, 0, 0]</text>\n</g>\n<!-- 67&#45;&gt;75 -->\n<g id=\"edge75\" class=\"edge\">\n<title>67&#45;&gt;75</title>\n<path fill=\"none\" stroke=\"#000000\" d=\"M6329.5,-296.9465C6329.5,-288.776 6329.5,-279.9318 6329.5,-271.3697\"/>\n<polygon fill=\"#000000\" stroke=\"#000000\" points=\"6333.0001,-271.13 6329.5,-261.13 6326.0001,-271.13 6333.0001,-271.13\"/>\n</g>\n<!-- 69 -->\n<g id=\"node70\" class=\"node\">\n<title>69</title>\n<polygon fill=\"#82e644\" stroke=\"#000000\" points=\"5678.5,-157 5508.5,-157 5508.5,-89 5678.5,-89 5678.5,-157\"/>\n<text text-anchor=\"middle\" x=\"5593.5\" y=\"-141.8\" font-family=\"Times,serif\" font-size=\"14.00\" fill=\"#000000\">V3 &lt;= 480.0</text>\n<text text-anchor=\"middle\" x=\"5593.5\" y=\"-126.8\" font-family=\"Times,serif\" font-size=\"14.00\" fill=\"#000000\">gini = 0.1</text>\n<text text-anchor=\"middle\" x=\"5593.5\" y=\"-111.8\" font-family=\"Times,serif\" font-size=\"14.00\" fill=\"#000000\">samples = 463</text>\n<text text-anchor=\"middle\" x=\"5593.5\" y=\"-96.8\" font-family=\"Times,serif\" font-size=\"14.00\" fill=\"#000000\">value = [10, 439, 14, 0, 0]</text>\n</g>\n<!-- 68&#45;&gt;69 -->\n<g id=\"edge69\" class=\"edge\">\n<title>68&#45;&gt;69</title>\n<path fill=\"none\" stroke=\"#000000\" d=\"M5762.3132,-192.9465C5737.7185,-182.7559 5710.5942,-171.5171 5685.4164,-161.0849\"/>\n<polygon fill=\"#000000\" stroke=\"#000000\" points=\"5686.4496,-157.7245 5675.8714,-157.13 5683.77,-164.1913 5686.4496,-157.7245\"/>\n</g>\n<!-- 72 -->\n<g id=\"node73\" class=\"node\">\n<title>72</title>\n<polygon fill=\"#eeab7b\" stroke=\"#000000\" points=\"5918,-157 5771,-157 5771,-89 5918,-89 5918,-157\"/>\n<text text-anchor=\"middle\" x=\"5844.5\" y=\"-141.8\" font-family=\"Times,serif\" font-size=\"14.00\" fill=\"#000000\">V8 &lt;= 1080.0</text>\n<text text-anchor=\"middle\" x=\"5844.5\" y=\"-126.8\" font-family=\"Times,serif\" font-size=\"14.00\" fill=\"#000000\">gini = 0.375</text>\n<text text-anchor=\"middle\" x=\"5844.5\" y=\"-111.8\" font-family=\"Times,serif\" font-size=\"14.00\" fill=\"#000000\">samples = 16</text>\n<text text-anchor=\"middle\" x=\"5844.5\" y=\"-96.8\" font-family=\"Times,serif\" font-size=\"14.00\" fill=\"#000000\">value = [12, 4, 0, 0, 0]</text>\n</g>\n<!-- 68&#45;&gt;72 -->\n<g id=\"edge72\" class=\"edge\">\n<title>68&#45;&gt;72</title>\n<path fill=\"none\" stroke=\"#000000\" d=\"M5844.5,-192.9465C5844.5,-184.776 5844.5,-175.9318 5844.5,-167.3697\"/>\n<polygon fill=\"#000000\" stroke=\"#000000\" points=\"5848.0001,-167.13 5844.5,-157.13 5841.0001,-167.13 5848.0001,-167.13\"/>\n</g>\n<!-- 70 -->\n<g id=\"node71\" class=\"node\">\n<title>70</title>\n<polygon fill=\"#7fe640\" stroke=\"#000000\" points=\"5502,-53 5347,-53 5347,0 5502,0 5502,-53\"/>\n<text text-anchor=\"middle\" x=\"5424.5\" y=\"-37.8\" font-family=\"Times,serif\" font-size=\"14.00\" fill=\"#000000\">gini = 0.063</text>\n<text text-anchor=\"middle\" x=\"5424.5\" y=\"-22.8\" font-family=\"Times,serif\" font-size=\"14.00\" fill=\"#000000\">samples = 434</text>\n<text text-anchor=\"middle\" x=\"5424.5\" y=\"-7.8\" font-family=\"Times,serif\" font-size=\"14.00\" fill=\"#000000\">value = [6, 420, 8, 0, 0]</text>\n</g>\n<!-- 69&#45;&gt;70 -->\n<g id=\"edge70\" class=\"edge\">\n<title>69&#45;&gt;70</title>\n<path fill=\"none\" stroke=\"#000000\" d=\"M5533.9169,-88.9777C5516.3561,-78.9504 5497.2186,-68.0228 5479.9299,-58.1508\"/>\n<polygon fill=\"#000000\" stroke=\"#000000\" points=\"5481.4953,-55.0143 5471.0757,-53.095 5478.0242,-61.0931 5481.4953,-55.0143\"/>\n</g>\n<!-- 71 -->\n<g id=\"node72\" class=\"node\">\n<title>71</title>\n<polygon fill=\"#b4f08f\" stroke=\"#000000\" points=\"5667,-53 5520,-53 5520,0 5667,0 5667,-53\"/>\n<text text-anchor=\"middle\" x=\"5593.5\" y=\"-37.8\" font-family=\"Times,serif\" font-size=\"14.00\" fill=\"#000000\">gini = 0.509</text>\n<text text-anchor=\"middle\" x=\"5593.5\" y=\"-22.8\" font-family=\"Times,serif\" font-size=\"14.00\" fill=\"#000000\">samples = 29</text>\n<text text-anchor=\"middle\" x=\"5593.5\" y=\"-7.8\" font-family=\"Times,serif\" font-size=\"14.00\" fill=\"#000000\">value = [4, 19, 6, 0, 0]</text>\n</g>\n<!-- 69&#45;&gt;71 -->\n<g id=\"edge71\" class=\"edge\">\n<title>69&#45;&gt;71</title>\n<path fill=\"none\" stroke=\"#000000\" d=\"M5593.5,-88.9777C5593.5,-80.7364 5593.5,-71.887 5593.5,-63.5153\"/>\n<polygon fill=\"#000000\" stroke=\"#000000\" points=\"5597.0001,-63.2484 5593.5,-53.2485 5590.0001,-63.2485 5597.0001,-63.2484\"/>\n</g>\n<!-- 73 -->\n<g id=\"node74\" class=\"node\">\n<title>73</title>\n<polygon fill=\"#7be539\" stroke=\"#000000\" points=\"5825.5,-53 5685.5,-53 5685.5,0 5825.5,0 5825.5,-53\"/>\n<text text-anchor=\"middle\" x=\"5755.5\" y=\"-37.8\" font-family=\"Times,serif\" font-size=\"14.00\" fill=\"#000000\">gini = 0.0</text>\n<text text-anchor=\"middle\" x=\"5755.5\" y=\"-22.8\" font-family=\"Times,serif\" font-size=\"14.00\" fill=\"#000000\">samples = 4</text>\n<text text-anchor=\"middle\" x=\"5755.5\" y=\"-7.8\" font-family=\"Times,serif\" font-size=\"14.00\" fill=\"#000000\">value = [0, 4, 0, 0, 0]</text>\n</g>\n<!-- 72&#45;&gt;73 -->\n<g id=\"edge73\" class=\"edge\">\n<title>72&#45;&gt;73</title>\n<path fill=\"none\" stroke=\"#000000\" d=\"M5813.1219,-88.9777C5804.6766,-79.8207 5795.5389,-69.9129 5787.0825,-60.744\"/>\n<polygon fill=\"#000000\" stroke=\"#000000\" points=\"5789.5221,-58.2266 5780.1696,-53.2485 5784.3764,-62.9723 5789.5221,-58.2266\"/>\n</g>\n<!-- 74 -->\n<g id=\"node75\" class=\"node\">\n<title>74</title>\n<polygon fill=\"#e58139\" stroke=\"#000000\" points=\"5991,-53 5844,-53 5844,0 5991,0 5991,-53\"/>\n<text text-anchor=\"middle\" x=\"5917.5\" y=\"-37.8\" font-family=\"Times,serif\" font-size=\"14.00\" fill=\"#000000\">gini = 0.0</text>\n<text text-anchor=\"middle\" x=\"5917.5\" y=\"-22.8\" font-family=\"Times,serif\" font-size=\"14.00\" fill=\"#000000\">samples = 12</text>\n<text text-anchor=\"middle\" x=\"5917.5\" y=\"-7.8\" font-family=\"Times,serif\" font-size=\"14.00\" fill=\"#000000\">value = [12, 0, 0, 0, 0]</text>\n</g>\n<!-- 72&#45;&gt;74 -->\n<g id=\"edge74\" class=\"edge\">\n<title>72&#45;&gt;74</title>\n<path fill=\"none\" stroke=\"#000000\" d=\"M5870.2371,-88.9777C5877.0256,-80.0039 5884.3596,-70.3089 5891.1784,-61.295\"/>\n<polygon fill=\"#000000\" stroke=\"#000000\" points=\"5894.0237,-63.3352 5897.2654,-53.2485 5888.441,-59.1121 5894.0237,-63.3352\"/>\n</g>\n<!-- 76 -->\n<g id=\"node77\" class=\"node\">\n<title>76</title>\n<polygon fill=\"#8be851\" stroke=\"#000000\" points=\"6324.5,-157 6162.5,-157 6162.5,-89 6324.5,-89 6324.5,-157\"/>\n<text text-anchor=\"middle\" x=\"6243.5\" y=\"-141.8\" font-family=\"Times,serif\" font-size=\"14.00\" fill=\"#000000\">V3 &lt;= 471.0</text>\n<text text-anchor=\"middle\" x=\"6243.5\" y=\"-126.8\" font-family=\"Times,serif\" font-size=\"14.00\" fill=\"#000000\">gini = 0.199</text>\n<text text-anchor=\"middle\" x=\"6243.5\" y=\"-111.8\" font-family=\"Times,serif\" font-size=\"14.00\" fill=\"#000000\">samples = 119</text>\n<text text-anchor=\"middle\" x=\"6243.5\" y=\"-96.8\" font-family=\"Times,serif\" font-size=\"14.00\" fill=\"#000000\">value = [3, 106, 10, 0, 0]</text>\n</g>\n<!-- 75&#45;&gt;76 -->\n<g id=\"edge76\" class=\"edge\">\n<title>75&#45;&gt;76</title>\n<path fill=\"none\" stroke=\"#000000\" d=\"M6301.3404,-192.9465C6293.9158,-183.968 6285.8185,-174.1758 6278.0972,-164.8385\"/>\n<polygon fill=\"#000000\" stroke=\"#000000\" points=\"6280.7928,-162.606 6271.7229,-157.13 6275.3983,-167.0669 6280.7928,-162.606\"/>\n</g>\n<!-- 79 -->\n<g id=\"node80\" class=\"node\">\n<title>79</title>\n<polygon fill=\"#4be7ca\" stroke=\"#000000\" points=\"6490,-157 6343,-157 6343,-89 6490,-89 6490,-157\"/>\n<text text-anchor=\"middle\" x=\"6416.5\" y=\"-141.8\" font-family=\"Times,serif\" font-size=\"14.00\" fill=\"#000000\">V2 &lt;= 325400.0</text>\n<text text-anchor=\"middle\" x=\"6416.5\" y=\"-126.8\" font-family=\"Times,serif\" font-size=\"14.00\" fill=\"#000000\">gini = 0.155</text>\n<text text-anchor=\"middle\" x=\"6416.5\" y=\"-111.8\" font-family=\"Times,serif\" font-size=\"14.00\" fill=\"#000000\">samples = 71</text>\n<text text-anchor=\"middle\" x=\"6416.5\" y=\"-96.8\" font-family=\"Times,serif\" font-size=\"14.00\" fill=\"#000000\">value = [0, 6, 65, 0, 0]</text>\n</g>\n<!-- 75&#45;&gt;79 -->\n<g id=\"edge79\" class=\"edge\">\n<title>75&#45;&gt;79</title>\n<path fill=\"none\" stroke=\"#000000\" d=\"M6357.9871,-192.9465C6365.4979,-183.968 6373.6895,-174.1758 6381.5005,-164.8385\"/>\n<polygon fill=\"#000000\" stroke=\"#000000\" points=\"6384.2171,-167.0459 6387.9489,-157.13 6378.848,-162.5544 6384.2171,-167.0459\"/>\n</g>\n<!-- 77 -->\n<g id=\"node78\" class=\"node\">\n<title>77</title>\n<polygon fill=\"#83e745\" stroke=\"#000000\" points=\"6164,-53 6009,-53 6009,0 6164,0 6164,-53\"/>\n<text text-anchor=\"middle\" x=\"6086.5\" y=\"-37.8\" font-family=\"Times,serif\" font-size=\"14.00\" fill=\"#000000\">gini = 0.107</text>\n<text text-anchor=\"middle\" x=\"6086.5\" y=\"-22.8\" font-family=\"Times,serif\" font-size=\"14.00\" fill=\"#000000\">samples = 106</text>\n<text text-anchor=\"middle\" x=\"6086.5\" y=\"-7.8\" font-family=\"Times,serif\" font-size=\"14.00\" fill=\"#000000\">value = [0, 100, 6, 0, 0]</text>\n</g>\n<!-- 76&#45;&gt;77 -->\n<g id=\"edge77\" class=\"edge\">\n<title>76&#45;&gt;77</title>\n<path fill=\"none\" stroke=\"#000000\" d=\"M6188.1477,-88.9777C6172.058,-79.0882 6154.5434,-68.3229 6138.6571,-58.5583\"/>\n<polygon fill=\"#000000\" stroke=\"#000000\" points=\"6140.3704,-55.5032 6130.0182,-53.2485 6136.7049,-61.4667 6140.3704,-55.5032\"/>\n</g>\n<!-- 78 -->\n<g id=\"node79\" class=\"node\">\n<title>78</title>\n<polygon fill=\"#e2f9d3\" stroke=\"#000000\" points=\"6322.5,-53 6182.5,-53 6182.5,0 6322.5,0 6322.5,-53\"/>\n<text text-anchor=\"middle\" x=\"6252.5\" y=\"-37.8\" font-family=\"Times,serif\" font-size=\"14.00\" fill=\"#000000\">gini = 0.639</text>\n<text text-anchor=\"middle\" x=\"6252.5\" y=\"-22.8\" font-family=\"Times,serif\" font-size=\"14.00\" fill=\"#000000\">samples = 13</text>\n<text text-anchor=\"middle\" x=\"6252.5\" y=\"-7.8\" font-family=\"Times,serif\" font-size=\"14.00\" fill=\"#000000\">value = [3, 6, 4, 0, 0]</text>\n</g>\n<!-- 76&#45;&gt;78 -->\n<g id=\"edge78\" class=\"edge\">\n<title>76&#45;&gt;78</title>\n<path fill=\"none\" stroke=\"#000000\" d=\"M6246.6731,-88.9777C6247.4502,-80.6449 6248.2854,-71.6903 6249.0738,-63.2364\"/>\n<polygon fill=\"#000000\" stroke=\"#000000\" points=\"6252.5615,-63.5303 6250.0053,-53.2485 6245.5917,-62.8802 6252.5615,-63.5303\"/>\n</g>\n<!-- 80 -->\n<g id=\"node81\" class=\"node\">\n<title>80</title>\n<polygon fill=\"#8ef0de\" stroke=\"#000000\" points=\"6488,-53 6341,-53 6341,0 6488,0 6488,-53\"/>\n<text text-anchor=\"middle\" x=\"6414.5\" y=\"-37.8\" font-family=\"Times,serif\" font-size=\"14.00\" fill=\"#000000\">gini = 0.42</text>\n<text text-anchor=\"middle\" x=\"6414.5\" y=\"-22.8\" font-family=\"Times,serif\" font-size=\"14.00\" fill=\"#000000\">samples = 20</text>\n<text text-anchor=\"middle\" x=\"6414.5\" y=\"-7.8\" font-family=\"Times,serif\" font-size=\"14.00\" fill=\"#000000\">value = [0, 6, 14, 0, 0]</text>\n</g>\n<!-- 79&#45;&gt;80 -->\n<g id=\"edge80\" class=\"edge\">\n<title>79&#45;&gt;80</title>\n<path fill=\"none\" stroke=\"#000000\" d=\"M6415.7949,-88.9777C6415.6241,-80.7364 6415.4407,-71.887 6415.2672,-63.5153\"/>\n<polygon fill=\"#000000\" stroke=\"#000000\" points=\"6418.7609,-63.1738 6415.0544,-53.2485 6411.7624,-63.3189 6418.7609,-63.1738\"/>\n</g>\n<!-- 81 -->\n<g id=\"node82\" class=\"node\">\n<title>81</title>\n<polygon fill=\"#39e5c5\" stroke=\"#000000\" points=\"6653,-53 6506,-53 6506,0 6653,0 6653,-53\"/>\n<text text-anchor=\"middle\" x=\"6579.5\" y=\"-37.8\" font-family=\"Times,serif\" font-size=\"14.00\" fill=\"#000000\">gini = 0.0</text>\n<text text-anchor=\"middle\" x=\"6579.5\" y=\"-22.8\" font-family=\"Times,serif\" font-size=\"14.00\" fill=\"#000000\">samples = 51</text>\n<text text-anchor=\"middle\" x=\"6579.5\" y=\"-7.8\" font-family=\"Times,serif\" font-size=\"14.00\" fill=\"#000000\">value = [0, 0, 51, 0, 0]</text>\n</g>\n<!-- 79&#45;&gt;81 -->\n<g id=\"edge81\" class=\"edge\">\n<title>79&#45;&gt;81</title>\n<path fill=\"none\" stroke=\"#000000\" d=\"M6473.9677,-88.9777C6490.7496,-79.0424 6509.0246,-68.2232 6525.5786,-58.4228\"/>\n<polygon fill=\"#000000\" stroke=\"#000000\" points=\"6527.7558,-61.2013 6534.5778,-53.095 6524.1897,-55.1777 6527.7558,-61.2013\"/>\n</g>\n<!-- 83 -->\n<g id=\"node84\" class=\"node\">\n<title>83</title>\n<polygon fill=\"#9cec6a\" stroke=\"#000000\" points=\"6806.5,-261 6666.5,-261 6666.5,-193 6806.5,-193 6806.5,-261\"/>\n<text text-anchor=\"middle\" x=\"6736.5\" y=\"-245.8\" font-family=\"Times,serif\" font-size=\"14.00\" fill=\"#000000\">V10 &lt;= 36.53</text>\n<text text-anchor=\"middle\" x=\"6736.5\" y=\"-230.8\" font-family=\"Times,serif\" font-size=\"14.00\" fill=\"#000000\">gini = 0.32</text>\n<text text-anchor=\"middle\" x=\"6736.5\" y=\"-215.8\" font-family=\"Times,serif\" font-size=\"14.00\" fill=\"#000000\">samples = 5</text>\n<text text-anchor=\"middle\" x=\"6736.5\" y=\"-200.8\" font-family=\"Times,serif\" font-size=\"14.00\" fill=\"#000000\">value = [0, 4, 1, 0, 0]</text>\n</g>\n<!-- 82&#45;&gt;83 -->\n<g id=\"edge83\" class=\"edge\">\n<title>82&#45;&gt;83</title>\n<path fill=\"none\" stroke=\"#000000\" d=\"M6793.6678,-296.9465C6786.403,-288.0578 6778.4864,-278.3716 6770.924,-269.1188\"/>\n<polygon fill=\"#000000\" stroke=\"#000000\" points=\"6773.4331,-266.658 6764.3947,-261.13 6768.013,-271.0878 6773.4331,-266.658\"/>\n</g>\n<!-- 86 -->\n<g id=\"node87\" class=\"node\">\n<title>86</title>\n<polygon fill=\"#4ae7ca\" stroke=\"#000000\" points=\"6986,-261 6825,-261 6825,-193 6986,-193 6986,-261\"/>\n<text text-anchor=\"middle\" x=\"6905.5\" y=\"-245.8\" font-family=\"Times,serif\" font-size=\"14.00\" fill=\"#000000\">V2 &lt;= 448700.0</text>\n<text text-anchor=\"middle\" x=\"6905.5\" y=\"-230.8\" font-family=\"Times,serif\" font-size=\"14.00\" fill=\"#000000\">gini = 0.148</text>\n<text text-anchor=\"middle\" x=\"6905.5\" y=\"-215.8\" font-family=\"Times,serif\" font-size=\"14.00\" fill=\"#000000\">samples = 150</text>\n<text text-anchor=\"middle\" x=\"6905.5\" y=\"-200.8\" font-family=\"Times,serif\" font-size=\"14.00\" fill=\"#000000\">value = [1, 11, 138, 0, 0]</text>\n</g>\n<!-- 82&#45;&gt;86 -->\n<g id=\"edge86\" class=\"edge\">\n<title>82&#45;&gt;86</title>\n<path fill=\"none\" stroke=\"#000000\" d=\"M6849.0047,-296.9465C6856.1841,-288.0578 6864.0076,-278.3716 6871.481,-269.1188\"/>\n<polygon fill=\"#000000\" stroke=\"#000000\" points=\"6874.3729,-271.1086 6877.9335,-261.13 6868.9273,-266.7102 6874.3729,-271.1086\"/>\n</g>\n<!-- 84 -->\n<g id=\"node85\" class=\"node\">\n<title>84</title>\n<polygon fill=\"#7be539\" stroke=\"#000000\" points=\"6650.5,-149.5 6510.5,-149.5 6510.5,-96.5 6650.5,-96.5 6650.5,-149.5\"/>\n<text text-anchor=\"middle\" x=\"6580.5\" y=\"-134.3\" font-family=\"Times,serif\" font-size=\"14.00\" fill=\"#000000\">gini = 0.0</text>\n<text text-anchor=\"middle\" x=\"6580.5\" y=\"-119.3\" font-family=\"Times,serif\" font-size=\"14.00\" fill=\"#000000\">samples = 4</text>\n<text text-anchor=\"middle\" x=\"6580.5\" y=\"-104.3\" font-family=\"Times,serif\" font-size=\"14.00\" fill=\"#000000\">value = [0, 4, 0, 0, 0]</text>\n</g>\n<!-- 83&#45;&gt;84 -->\n<g id=\"edge84\" class=\"edge\">\n<title>83&#45;&gt;84</title>\n<path fill=\"none\" stroke=\"#000000\" d=\"M6685.4198,-192.9465C6667.2452,-180.8301 6646.848,-167.232 6628.9044,-155.2696\"/>\n<polygon fill=\"#000000\" stroke=\"#000000\" points=\"6630.5752,-152.177 6620.3132,-149.5422 6626.6923,-158.0014 6630.5752,-152.177\"/>\n</g>\n<!-- 85 -->\n<g id=\"node86\" class=\"node\">\n<title>85</title>\n<polygon fill=\"#39e5c5\" stroke=\"#000000\" points=\"6808.5,-149.5 6668.5,-149.5 6668.5,-96.5 6808.5,-96.5 6808.5,-149.5\"/>\n<text text-anchor=\"middle\" x=\"6738.5\" y=\"-134.3\" font-family=\"Times,serif\" font-size=\"14.00\" fill=\"#000000\">gini = 0.0</text>\n<text text-anchor=\"middle\" x=\"6738.5\" y=\"-119.3\" font-family=\"Times,serif\" font-size=\"14.00\" fill=\"#000000\">samples = 1</text>\n<text text-anchor=\"middle\" x=\"6738.5\" y=\"-104.3\" font-family=\"Times,serif\" font-size=\"14.00\" fill=\"#000000\">value = [0, 0, 1, 0, 0]</text>\n</g>\n<!-- 83&#45;&gt;85 -->\n<g id=\"edge85\" class=\"edge\">\n<title>83&#45;&gt;85</title>\n<path fill=\"none\" stroke=\"#000000\" d=\"M6737.1549,-192.9465C6737.3603,-182.2621 6737.588,-170.4254 6737.7966,-159.5742\"/>\n<polygon fill=\"#000000\" stroke=\"#000000\" points=\"6741.2966,-159.6076 6737.9896,-149.5422 6734.2979,-159.473 6741.2966,-159.6076\"/>\n</g>\n<!-- 87 -->\n<g id=\"node88\" class=\"node\">\n<title>87</title>\n<polygon fill=\"#9cf2e2\" stroke=\"#000000\" points=\"6977,-157 6830,-157 6830,-89 6977,-89 6977,-157\"/>\n<text text-anchor=\"middle\" x=\"6903.5\" y=\"-141.8\" font-family=\"Times,serif\" font-size=\"14.00\" fill=\"#000000\">V9 &lt;= 11.152</text>\n<text text-anchor=\"middle\" x=\"6903.5\" y=\"-126.8\" font-family=\"Times,serif\" font-size=\"14.00\" fill=\"#000000\">gini = 0.444</text>\n<text text-anchor=\"middle\" x=\"6903.5\" y=\"-111.8\" font-family=\"Times,serif\" font-size=\"14.00\" fill=\"#000000\">samples = 24</text>\n<text text-anchor=\"middle\" x=\"6903.5\" y=\"-96.8\" font-family=\"Times,serif\" font-size=\"14.00\" fill=\"#000000\">value = [0, 8, 16, 0, 0]</text>\n</g>\n<!-- 86&#45;&gt;87 -->\n<g id=\"edge87\" class=\"edge\">\n<title>86&#45;&gt;87</title>\n<path fill=\"none\" stroke=\"#000000\" d=\"M6904.8451,-192.9465C6904.688,-184.776 6904.5179,-175.9318 6904.3533,-167.3697\"/>\n<polygon fill=\"#000000\" stroke=\"#000000\" points=\"6907.8481,-167.0608 6904.1563,-157.13 6900.8494,-167.1955 6907.8481,-167.0608\"/>\n</g>\n<!-- 90 -->\n<g id=\"node91\" class=\"node\">\n<title>90</title>\n<polygon fill=\"#3fe6c7\" stroke=\"#000000\" points=\"7150,-157 6995,-157 6995,-89 7150,-89 7150,-157\"/>\n<text text-anchor=\"middle\" x=\"7072.5\" y=\"-141.8\" font-family=\"Times,serif\" font-size=\"14.00\" fill=\"#000000\">V1 &lt;= &#45;117.265</text>\n<text text-anchor=\"middle\" x=\"7072.5\" y=\"-126.8\" font-family=\"Times,serif\" font-size=\"14.00\" fill=\"#000000\">gini = 0.062</text>\n<text text-anchor=\"middle\" x=\"7072.5\" y=\"-111.8\" font-family=\"Times,serif\" font-size=\"14.00\" fill=\"#000000\">samples = 126</text>\n<text text-anchor=\"middle\" x=\"7072.5\" y=\"-96.8\" font-family=\"Times,serif\" font-size=\"14.00\" fill=\"#000000\">value = [1, 3, 122, 0, 0]</text>\n</g>\n<!-- 86&#45;&gt;90 -->\n<g id=\"edge90\" class=\"edge\">\n<title>86&#45;&gt;90</title>\n<path fill=\"none\" stroke=\"#000000\" d=\"M6960.182,-192.9465C6975.7529,-183.2497 6992.8476,-172.6039 7008.9004,-162.6069\"/>\n<polygon fill=\"#000000\" stroke=\"#000000\" points=\"7011.0568,-165.3873 7017.6951,-157.13 7007.3563,-159.4453 7011.0568,-165.3873\"/>\n</g>\n<!-- 88 -->\n<g id=\"node89\" class=\"node\">\n<title>88</title>\n<polygon fill=\"#9cec6a\" stroke=\"#000000\" points=\"6811.5,-53 6671.5,-53 6671.5,0 6811.5,0 6811.5,-53\"/>\n<text text-anchor=\"middle\" x=\"6741.5\" y=\"-37.8\" font-family=\"Times,serif\" font-size=\"14.00\" fill=\"#000000\">gini = 0.32</text>\n<text text-anchor=\"middle\" x=\"6741.5\" y=\"-22.8\" font-family=\"Times,serif\" font-size=\"14.00\" fill=\"#000000\">samples = 10</text>\n<text text-anchor=\"middle\" x=\"6741.5\" y=\"-7.8\" font-family=\"Times,serif\" font-size=\"14.00\" fill=\"#000000\">value = [0, 8, 2, 0, 0]</text>\n</g>\n<!-- 87&#45;&gt;88 -->\n<g id=\"edge88\" class=\"edge\">\n<title>87&#45;&gt;88</title>\n<path fill=\"none\" stroke=\"#000000\" d=\"M6846.3849,-88.9777C6829.7059,-79.0424 6811.5431,-68.2232 6795.0906,-58.4228\"/>\n<polygon fill=\"#000000\" stroke=\"#000000\" points=\"6796.529,-55.2058 6786.1466,-53.095 6792.9467,-61.2197 6796.529,-55.2058\"/>\n</g>\n<!-- 89 -->\n<g id=\"node90\" class=\"node\">\n<title>89</title>\n<polygon fill=\"#39e5c5\" stroke=\"#000000\" points=\"6977,-53 6830,-53 6830,0 6977,0 6977,-53\"/>\n<text text-anchor=\"middle\" x=\"6903.5\" y=\"-37.8\" font-family=\"Times,serif\" font-size=\"14.00\" fill=\"#000000\">gini = 0.0</text>\n<text text-anchor=\"middle\" x=\"6903.5\" y=\"-22.8\" font-family=\"Times,serif\" font-size=\"14.00\" fill=\"#000000\">samples = 14</text>\n<text text-anchor=\"middle\" x=\"6903.5\" y=\"-7.8\" font-family=\"Times,serif\" font-size=\"14.00\" fill=\"#000000\">value = [0, 0, 14, 0, 0]</text>\n</g>\n<!-- 87&#45;&gt;89 -->\n<g id=\"edge89\" class=\"edge\">\n<title>87&#45;&gt;89</title>\n<path fill=\"none\" stroke=\"#000000\" d=\"M6903.5,-88.9777C6903.5,-80.7364 6903.5,-71.887 6903.5,-63.5153\"/>\n<polygon fill=\"#000000\" stroke=\"#000000\" points=\"6907.0001,-63.2484 6903.5,-53.2485 6900.0001,-63.2485 6907.0001,-63.2484\"/>\n</g>\n<!-- 91 -->\n<g id=\"node92\" class=\"node\">\n<title>91</title>\n<polygon fill=\"#3be5c5\" stroke=\"#000000\" points=\"7149.5,-53 6995.5,-53 6995.5,0 7149.5,0 7149.5,-53\"/>\n<text text-anchor=\"middle\" x=\"7072.5\" y=\"-37.8\" font-family=\"Times,serif\" font-size=\"14.00\" fill=\"#000000\">gini = 0.017</text>\n<text text-anchor=\"middle\" x=\"7072.5\" y=\"-22.8\" font-family=\"Times,serif\" font-size=\"14.00\" fill=\"#000000\">samples = 120</text>\n<text text-anchor=\"middle\" x=\"7072.5\" y=\"-7.8\" font-family=\"Times,serif\" font-size=\"14.00\" fill=\"#000000\">value = [1, 0, 119, 0, 0]</text>\n</g>\n<!-- 90&#45;&gt;91 -->\n<g id=\"edge91\" class=\"edge\">\n<title>90&#45;&gt;91</title>\n<path fill=\"none\" stroke=\"#000000\" d=\"M7072.5,-88.9777C7072.5,-80.7364 7072.5,-71.887 7072.5,-63.5153\"/>\n<polygon fill=\"#000000\" stroke=\"#000000\" points=\"7076.0001,-63.2484 7072.5,-53.2485 7069.0001,-63.2485 7076.0001,-63.2484\"/>\n</g>\n<!-- 92 -->\n<g id=\"node93\" class=\"node\">\n<title>92</title>\n<polygon fill=\"#ffffff\" stroke=\"#000000\" points=\"7307.5,-53 7167.5,-53 7167.5,0 7307.5,0 7307.5,-53\"/>\n<text text-anchor=\"middle\" x=\"7237.5\" y=\"-37.8\" font-family=\"Times,serif\" font-size=\"14.00\" fill=\"#000000\">gini = 0.5</text>\n<text text-anchor=\"middle\" x=\"7237.5\" y=\"-22.8\" font-family=\"Times,serif\" font-size=\"14.00\" fill=\"#000000\">samples = 6</text>\n<text text-anchor=\"middle\" x=\"7237.5\" y=\"-7.8\" font-family=\"Times,serif\" font-size=\"14.00\" fill=\"#000000\">value = [0, 3, 3, 0, 0]</text>\n</g>\n<!-- 90&#45;&gt;92 -->\n<g id=\"edge92\" class=\"edge\">\n<title>90&#45;&gt;92</title>\n<path fill=\"none\" stroke=\"#000000\" d=\"M7130.6728,-88.9777C7147.818,-78.9504 7166.5025,-68.0228 7183.382,-58.1508\"/>\n<polygon fill=\"#000000\" stroke=\"#000000\" points=\"7185.1615,-61.1648 7192.0266,-53.095 7181.6276,-55.1223 7185.1615,-61.1648\"/>\n</g>\n<!-- 94 -->\n<g id=\"node95\" class=\"node\">\n<title>94</title>\n<polygon fill=\"#70ecd5\" stroke=\"#000000\" points=\"8047.5,-365 7885.5,-365 7885.5,-297 8047.5,-297 8047.5,-365\"/>\n<text text-anchor=\"middle\" x=\"7966.5\" y=\"-349.8\" font-family=\"Times,serif\" font-size=\"14.00\" fill=\"#000000\">V9 &lt;= 46.655</text>\n<text text-anchor=\"middle\" x=\"7966.5\" y=\"-334.8\" font-family=\"Times,serif\" font-size=\"14.00\" fill=\"#000000\">gini = 0.359</text>\n<text text-anchor=\"middle\" x=\"7966.5\" y=\"-319.8\" font-family=\"Times,serif\" font-size=\"14.00\" fill=\"#000000\">samples = 329</text>\n<text text-anchor=\"middle\" x=\"7966.5\" y=\"-304.8\" font-family=\"Times,serif\" font-size=\"14.00\" fill=\"#000000\">value = [9, 65, 255, 0, 0]</text>\n</g>\n<!-- 93&#45;&gt;94 -->\n<g id=\"edge94\" class=\"edge\">\n<title>93&#45;&gt;94</title>\n<path fill=\"none\" stroke=\"#000000\" d=\"M7966.5,-400.9465C7966.5,-392.776 7966.5,-383.9318 7966.5,-375.3697\"/>\n<polygon fill=\"#000000\" stroke=\"#000000\" points=\"7970.0001,-375.13 7966.5,-365.13 7963.0001,-375.13 7970.0001,-375.13\"/>\n</g>\n<!-- 109 -->\n<g id=\"node110\" class=\"node\">\n<title>109</title>\n<polygon fill=\"#3be5c6\" stroke=\"#000000\" points=\"8848.5,-365 8678.5,-365 8678.5,-297 8848.5,-297 8848.5,-365\"/>\n<text text-anchor=\"middle\" x=\"8763.5\" y=\"-349.8\" font-family=\"Times,serif\" font-size=\"14.00\" fill=\"#000000\">V5 &lt;= 7721.0</text>\n<text text-anchor=\"middle\" x=\"8763.5\" y=\"-334.8\" font-family=\"Times,serif\" font-size=\"14.00\" fill=\"#000000\">gini = 0.021</text>\n<text text-anchor=\"middle\" x=\"8763.5\" y=\"-319.8\" font-family=\"Times,serif\" font-size=\"14.00\" fill=\"#000000\">samples = 1676</text>\n<text text-anchor=\"middle\" x=\"8763.5\" y=\"-304.8\" font-family=\"Times,serif\" font-size=\"14.00\" fill=\"#000000\">value = [4, 13, 1658, 1, 0]</text>\n</g>\n<!-- 93&#45;&gt;109 -->\n<g id=\"edge109\" class=\"edge\">\n<title>93&#45;&gt;109</title>\n<path fill=\"none\" stroke=\"#000000\" d=\"M8055.2218,-423.4228C8206.4898,-403.6839 8512.9994,-363.6877 8668.4679,-343.4007\"/>\n<polygon fill=\"#000000\" stroke=\"#000000\" points=\"8669.0236,-346.8579 8678.4866,-342.0933 8668.1178,-339.9168 8669.0236,-346.8579\"/>\n</g>\n<!-- 95 -->\n<g id=\"node96\" class=\"node\">\n<title>95</title>\n<polygon fill=\"#e5fad7\" stroke=\"#000000\" points=\"7883,-261 7728,-261 7728,-193 7883,-193 7883,-261\"/>\n<text text-anchor=\"middle\" x=\"7805.5\" y=\"-245.8\" font-family=\"Times,serif\" font-size=\"14.00\" fill=\"#000000\">V5 &lt;= 1617.5</text>\n<text text-anchor=\"middle\" x=\"7805.5\" y=\"-230.8\" font-family=\"Times,serif\" font-size=\"14.00\" fill=\"#000000\">gini = 0.543</text>\n<text text-anchor=\"middle\" x=\"7805.5\" y=\"-215.8\" font-family=\"Times,serif\" font-size=\"14.00\" fill=\"#000000\">samples = 111</text>\n<text text-anchor=\"middle\" x=\"7805.5\" y=\"-200.8\" font-family=\"Times,serif\" font-size=\"14.00\" fill=\"#000000\">value = [6, 59, 46, 0, 0]</text>\n</g>\n<!-- 94&#45;&gt;95 -->\n<g id=\"edge95\" class=\"edge\">\n<title>94&#45;&gt;95</title>\n<path fill=\"none\" stroke=\"#000000\" d=\"M7913.7826,-296.9465C7898.7712,-287.2497 7882.2906,-276.6039 7866.8146,-266.6069\"/>\n<polygon fill=\"#000000\" stroke=\"#000000\" points=\"7868.6349,-263.6161 7858.3359,-261.13 7864.8367,-269.496 7868.6349,-263.6161\"/>\n</g>\n<!-- 102 -->\n<g id=\"node103\" class=\"node\">\n<title>102</title>\n<polygon fill=\"#41e6c7\" stroke=\"#000000\" points=\"8215,-261 8060,-261 8060,-193 8215,-193 8215,-261\"/>\n<text text-anchor=\"middle\" x=\"8137.5\" y=\"-245.8\" font-family=\"Times,serif\" font-size=\"14.00\" fill=\"#000000\">V3 &lt;= 501.0</text>\n<text text-anchor=\"middle\" x=\"8137.5\" y=\"-230.8\" font-family=\"Times,serif\" font-size=\"14.00\" fill=\"#000000\">gini = 0.08</text>\n<text text-anchor=\"middle\" x=\"8137.5\" y=\"-215.8\" font-family=\"Times,serif\" font-size=\"14.00\" fill=\"#000000\">samples = 218</text>\n<text text-anchor=\"middle\" x=\"8137.5\" y=\"-200.8\" font-family=\"Times,serif\" font-size=\"14.00\" fill=\"#000000\">value = [3, 6, 209, 0, 0]</text>\n</g>\n<!-- 94&#45;&gt;102 -->\n<g id=\"edge102\" class=\"edge\">\n<title>94&#45;&gt;102</title>\n<path fill=\"none\" stroke=\"#000000\" d=\"M8022.4918,-296.9465C8038.5832,-287.1599 8056.2641,-276.4066 8072.8334,-266.3294\"/>\n<polygon fill=\"#000000\" stroke=\"#000000\" points=\"8074.6572,-269.3167 8081.3824,-261.13 8071.0198,-263.336 8074.6572,-269.3167\"/>\n</g>\n<!-- 96 -->\n<g id=\"node97\" class=\"node\">\n<title>96</title>\n<polygon fill=\"#8ce852\" stroke=\"#000000\" points=\"7635,-157 7488,-157 7488,-89 7635,-89 7635,-157\"/>\n<text text-anchor=\"middle\" x=\"7561.5\" y=\"-141.8\" font-family=\"Times,serif\" font-size=\"14.00\" fill=\"#000000\">V8 &lt;= 1114.5</text>\n<text text-anchor=\"middle\" x=\"7561.5\" y=\"-126.8\" font-family=\"Times,serif\" font-size=\"14.00\" fill=\"#000000\">gini = 0.201</text>\n<text text-anchor=\"middle\" x=\"7561.5\" y=\"-111.8\" font-family=\"Times,serif\" font-size=\"14.00\" fill=\"#000000\">samples = 44</text>\n<text text-anchor=\"middle\" x=\"7561.5\" y=\"-96.8\" font-family=\"Times,serif\" font-size=\"14.00\" fill=\"#000000\">value = [0, 39, 5, 0, 0]</text>\n</g>\n<!-- 95&#45;&gt;96 -->\n<g id=\"edge96\" class=\"edge\">\n<title>95&#45;&gt;96</title>\n<path fill=\"none\" stroke=\"#000000\" d=\"M7727.9616,-193.9509C7701.3735,-182.6182 7671.5215,-169.8944 7644.517,-158.3843\"/>\n<polygon fill=\"#000000\" stroke=\"#000000\" points=\"7645.6655,-155.0692 7635.0939,-154.3679 7642.9208,-161.5087 7645.6655,-155.0692\"/>\n</g>\n<!-- 99 -->\n<g id=\"node100\" class=\"node\">\n<title>99</title>\n<polygon fill=\"#a7f3e5\" stroke=\"#000000\" points=\"7883,-157 7728,-157 7728,-89 7883,-89 7883,-157\"/>\n<text text-anchor=\"middle\" x=\"7805.5\" y=\"-141.8\" font-family=\"Times,serif\" font-size=\"14.00\" fill=\"#000000\">V10 &lt;= 34.845</text>\n<text text-anchor=\"middle\" x=\"7805.5\" y=\"-126.8\" font-family=\"Times,serif\" font-size=\"14.00\" fill=\"#000000\">gini = 0.528</text>\n<text text-anchor=\"middle\" x=\"7805.5\" y=\"-111.8\" font-family=\"Times,serif\" font-size=\"14.00\" fill=\"#000000\">samples = 67</text>\n<text text-anchor=\"middle\" x=\"7805.5\" y=\"-96.8\" font-family=\"Times,serif\" font-size=\"14.00\" fill=\"#000000\">value = [6, 20, 41, 0, 0]</text>\n</g>\n<!-- 95&#45;&gt;99 -->\n<g id=\"edge99\" class=\"edge\">\n<title>95&#45;&gt;99</title>\n<path fill=\"none\" stroke=\"#000000\" d=\"M7805.5,-192.9465C7805.5,-184.776 7805.5,-175.9318 7805.5,-167.3697\"/>\n<polygon fill=\"#000000\" stroke=\"#000000\" points=\"7809.0001,-167.13 7805.5,-157.13 7802.0001,-167.13 7809.0001,-167.13\"/>\n</g>\n<!-- 97 -->\n<g id=\"node98\" class=\"node\">\n<title>97</title>\n<polygon fill=\"#85e748\" stroke=\"#000000\" points=\"7473,-53 7326,-53 7326,0 7473,0 7473,-53\"/>\n<text text-anchor=\"middle\" x=\"7399.5\" y=\"-37.8\" font-family=\"Times,serif\" font-size=\"14.00\" fill=\"#000000\">gini = 0.133</text>\n<text text-anchor=\"middle\" x=\"7399.5\" y=\"-22.8\" font-family=\"Times,serif\" font-size=\"14.00\" fill=\"#000000\">samples = 42</text>\n<text text-anchor=\"middle\" x=\"7399.5\" y=\"-7.8\" font-family=\"Times,serif\" font-size=\"14.00\" fill=\"#000000\">value = [0, 39, 3, 0, 0]</text>\n</g>\n<!-- 96&#45;&gt;97 -->\n<g id=\"edge97\" class=\"edge\">\n<title>96&#45;&gt;97</title>\n<path fill=\"none\" stroke=\"#000000\" d=\"M7504.3849,-88.9777C7487.7059,-79.0424 7469.5431,-68.2232 7453.0906,-58.4228\"/>\n<polygon fill=\"#000000\" stroke=\"#000000\" points=\"7454.529,-55.2058 7444.1466,-53.095 7450.9467,-61.2197 7454.529,-55.2058\"/>\n</g>\n<!-- 98 -->\n<g id=\"node99\" class=\"node\">\n<title>98</title>\n<polygon fill=\"#39e5c5\" stroke=\"#000000\" points=\"7631.5,-53 7491.5,-53 7491.5,0 7631.5,0 7631.5,-53\"/>\n<text text-anchor=\"middle\" x=\"7561.5\" y=\"-37.8\" font-family=\"Times,serif\" font-size=\"14.00\" fill=\"#000000\">gini = 0.0</text>\n<text text-anchor=\"middle\" x=\"7561.5\" y=\"-22.8\" font-family=\"Times,serif\" font-size=\"14.00\" fill=\"#000000\">samples = 2</text>\n<text text-anchor=\"middle\" x=\"7561.5\" y=\"-7.8\" font-family=\"Times,serif\" font-size=\"14.00\" fill=\"#000000\">value = [0, 0, 2, 0, 0]</text>\n</g>\n<!-- 96&#45;&gt;98 -->\n<g id=\"edge98\" class=\"edge\">\n<title>96&#45;&gt;98</title>\n<path fill=\"none\" stroke=\"#000000\" d=\"M7561.5,-88.9777C7561.5,-80.7364 7561.5,-71.887 7561.5,-63.5153\"/>\n<polygon fill=\"#000000\" stroke=\"#000000\" points=\"7565.0001,-63.2484 7561.5,-53.2485 7558.0001,-63.2485 7565.0001,-63.2484\"/>\n</g>\n<!-- 100 -->\n<g id=\"node101\" class=\"node\">\n<title>100</title>\n<polygon fill=\"#c3f3a5\" stroke=\"#000000\" points=\"7797,-53 7650,-53 7650,0 7797,0 7797,-53\"/>\n<text text-anchor=\"middle\" x=\"7723.5\" y=\"-37.8\" font-family=\"Times,serif\" font-size=\"14.00\" fill=\"#000000\">gini = 0.568</text>\n<text text-anchor=\"middle\" x=\"7723.5\" y=\"-22.8\" font-family=\"Times,serif\" font-size=\"14.00\" fill=\"#000000\">samples = 29</text>\n<text text-anchor=\"middle\" x=\"7723.5\" y=\"-7.8\" font-family=\"Times,serif\" font-size=\"14.00\" fill=\"#000000\">value = [5, 17, 7, 0, 0]</text>\n</g>\n<!-- 99&#45;&gt;100 -->\n<g id=\"edge100\" class=\"edge\">\n<title>99&#45;&gt;100</title>\n<path fill=\"none\" stroke=\"#000000\" d=\"M7776.5899,-88.9777C7768.8866,-79.9123 7760.5581,-70.111 7752.8324,-61.0192\"/>\n<polygon fill=\"#000000\" stroke=\"#000000\" points=\"7755.3718,-58.6025 7746.2293,-53.2485 7750.0375,-63.1352 7755.3718,-58.6025\"/>\n</g>\n<!-- 101 -->\n<g id=\"node102\" class=\"node\">\n<title>101</title>\n<polygon fill=\"#50e8cc\" stroke=\"#000000\" points=\"7962,-53 7815,-53 7815,0 7962,0 7962,-53\"/>\n<text text-anchor=\"middle\" x=\"7888.5\" y=\"-37.8\" font-family=\"Times,serif\" font-size=\"14.00\" fill=\"#000000\">gini = 0.193</text>\n<text text-anchor=\"middle\" x=\"7888.5\" y=\"-22.8\" font-family=\"Times,serif\" font-size=\"14.00\" fill=\"#000000\">samples = 38</text>\n<text text-anchor=\"middle\" x=\"7888.5\" y=\"-7.8\" font-family=\"Times,serif\" font-size=\"14.00\" fill=\"#000000\">value = [1, 3, 34, 0, 0]</text>\n</g>\n<!-- 99&#45;&gt;101 -->\n<g id=\"edge101\" class=\"edge\">\n<title>99&#45;&gt;101</title>\n<path fill=\"none\" stroke=\"#000000\" d=\"M7834.7627,-88.9777C7842.5599,-79.9123 7850.99,-70.111 7858.8099,-61.0192\"/>\n<polygon fill=\"#000000\" stroke=\"#000000\" points=\"7861.6262,-63.1123 7865.4935,-53.2485 7856.3191,-58.5477 7861.6262,-63.1123\"/>\n</g>\n<!-- 103 -->\n<g id=\"node104\" class=\"node\">\n<title>103</title>\n<polygon fill=\"#3fe6c7\" stroke=\"#000000\" points=\"8215,-157 8060,-157 8060,-89 8215,-89 8215,-157\"/>\n<text text-anchor=\"middle\" x=\"8137.5\" y=\"-141.8\" font-family=\"Times,serif\" font-size=\"14.00\" fill=\"#000000\">V9 &lt;= 49.276</text>\n<text text-anchor=\"middle\" x=\"8137.5\" y=\"-126.8\" font-family=\"Times,serif\" font-size=\"14.00\" fill=\"#000000\">gini = 0.055</text>\n<text text-anchor=\"middle\" x=\"8137.5\" y=\"-111.8\" font-family=\"Times,serif\" font-size=\"14.00\" fill=\"#000000\">samples = 211</text>\n<text text-anchor=\"middle\" x=\"8137.5\" y=\"-96.8\" font-family=\"Times,serif\" font-size=\"14.00\" fill=\"#000000\">value = [0, 6, 205, 0, 0]</text>\n</g>\n<!-- 102&#45;&gt;103 -->\n<g id=\"edge103\" class=\"edge\">\n<title>102&#45;&gt;103</title>\n<path fill=\"none\" stroke=\"#000000\" d=\"M8137.5,-192.9465C8137.5,-184.776 8137.5,-175.9318 8137.5,-167.3697\"/>\n<polygon fill=\"#000000\" stroke=\"#000000\" points=\"8141.0001,-167.13 8137.5,-157.13 8134.0001,-167.13 8141.0001,-167.13\"/>\n</g>\n<!-- 106 -->\n<g id=\"node107\" class=\"node\">\n<title>106</title>\n<polygon fill=\"#cef8f0\" stroke=\"#000000\" points=\"8458.5,-157 8318.5,-157 8318.5,-89 8458.5,-89 8458.5,-157\"/>\n<text text-anchor=\"middle\" x=\"8388.5\" y=\"-141.8\" font-family=\"Times,serif\" font-size=\"14.00\" fill=\"#000000\">V9 &lt;= 55.753</text>\n<text text-anchor=\"middle\" x=\"8388.5\" y=\"-126.8\" font-family=\"Times,serif\" font-size=\"14.00\" fill=\"#000000\">gini = 0.49</text>\n<text text-anchor=\"middle\" x=\"8388.5\" y=\"-111.8\" font-family=\"Times,serif\" font-size=\"14.00\" fill=\"#000000\">samples = 7</text>\n<text text-anchor=\"middle\" x=\"8388.5\" y=\"-96.8\" font-family=\"Times,serif\" font-size=\"14.00\" fill=\"#000000\">value = [3, 0, 4, 0, 0]</text>\n</g>\n<!-- 102&#45;&gt;106 -->\n<g id=\"edge106\" class=\"edge\">\n<title>102&#45;&gt;106</title>\n<path fill=\"none\" stroke=\"#000000\" d=\"M8215.199,-194.806C8244.9499,-182.4789 8278.9144,-168.406 8308.8454,-156.0043\"/>\n<polygon fill=\"#000000\" stroke=\"#000000\" points=\"8310.5125,-159.1022 8318.4111,-152.0408 8307.833,-152.6353 8310.5125,-159.1022\"/>\n</g>\n<!-- 104 -->\n<g id=\"node105\" class=\"node\">\n<title>104</title>\n<polygon fill=\"#61ead1\" stroke=\"#000000\" points=\"8127,-53 7980,-53 7980,0 8127,0 8127,-53\"/>\n<text text-anchor=\"middle\" x=\"8053.5\" y=\"-37.8\" font-family=\"Times,serif\" font-size=\"14.00\" fill=\"#000000\">gini = 0.278</text>\n<text text-anchor=\"middle\" x=\"8053.5\" y=\"-22.8\" font-family=\"Times,serif\" font-size=\"14.00\" fill=\"#000000\">samples = 30</text>\n<text text-anchor=\"middle\" x=\"8053.5\" y=\"-7.8\" font-family=\"Times,serif\" font-size=\"14.00\" fill=\"#000000\">value = [0, 5, 25, 0, 0]</text>\n</g>\n<!-- 103&#45;&gt;104 -->\n<g id=\"edge104\" class=\"edge\">\n<title>103&#45;&gt;104</title>\n<path fill=\"none\" stroke=\"#000000\" d=\"M8107.8847,-88.9777C8099.9936,-79.9123 8091.4619,-70.111 8083.5478,-61.0192\"/>\n<polygon fill=\"#000000\" stroke=\"#000000\" points=\"8085.9893,-58.4932 8076.7836,-53.2485 8080.7094,-63.0892 8085.9893,-58.4932\"/>\n</g>\n<!-- 105 -->\n<g id=\"node106\" class=\"node\">\n<title>105</title>\n<polygon fill=\"#3ae5c5\" stroke=\"#000000\" points=\"8300,-53 8145,-53 8145,0 8300,0 8300,-53\"/>\n<text text-anchor=\"middle\" x=\"8222.5\" y=\"-37.8\" font-family=\"Times,serif\" font-size=\"14.00\" fill=\"#000000\">gini = 0.011</text>\n<text text-anchor=\"middle\" x=\"8222.5\" y=\"-22.8\" font-family=\"Times,serif\" font-size=\"14.00\" fill=\"#000000\">samples = 181</text>\n<text text-anchor=\"middle\" x=\"8222.5\" y=\"-7.8\" font-family=\"Times,serif\" font-size=\"14.00\" fill=\"#000000\">value = [0, 1, 180, 0, 0]</text>\n</g>\n<!-- 103&#45;&gt;105 -->\n<g id=\"edge105\" class=\"edge\">\n<title>103&#45;&gt;105</title>\n<path fill=\"none\" stroke=\"#000000\" d=\"M8167.4678,-88.9777C8175.4529,-79.9123 8184.0862,-70.111 8192.0944,-61.0192\"/>\n<polygon fill=\"#000000\" stroke=\"#000000\" points=\"8194.9558,-63.066 8198.9392,-53.2485 8189.7029,-58.4391 8194.9558,-63.066\"/>\n</g>\n<!-- 107 -->\n<g id=\"node108\" class=\"node\">\n<title>107</title>\n<polygon fill=\"#eeab7b\" stroke=\"#000000\" points=\"8458.5,-53 8318.5,-53 8318.5,0 8458.5,0 8458.5,-53\"/>\n<text text-anchor=\"middle\" x=\"8388.5\" y=\"-37.8\" font-family=\"Times,serif\" font-size=\"14.00\" fill=\"#000000\">gini = 0.375</text>\n<text text-anchor=\"middle\" x=\"8388.5\" y=\"-22.8\" font-family=\"Times,serif\" font-size=\"14.00\" fill=\"#000000\">samples = 4</text>\n<text text-anchor=\"middle\" x=\"8388.5\" y=\"-7.8\" font-family=\"Times,serif\" font-size=\"14.00\" fill=\"#000000\">value = [3, 0, 1, 0, 0]</text>\n</g>\n<!-- 106&#45;&gt;107 -->\n<g id=\"edge107\" class=\"edge\">\n<title>106&#45;&gt;107</title>\n<path fill=\"none\" stroke=\"#000000\" d=\"M8388.5,-88.9777C8388.5,-80.7364 8388.5,-71.887 8388.5,-63.5153\"/>\n<polygon fill=\"#000000\" stroke=\"#000000\" points=\"8392.0001,-63.2484 8388.5,-53.2485 8385.0001,-63.2485 8392.0001,-63.2484\"/>\n</g>\n<!-- 108 -->\n<g id=\"node109\" class=\"node\">\n<title>108</title>\n<polygon fill=\"#39e5c5\" stroke=\"#000000\" points=\"8616.5,-53 8476.5,-53 8476.5,0 8616.5,0 8616.5,-53\"/>\n<text text-anchor=\"middle\" x=\"8546.5\" y=\"-37.8\" font-family=\"Times,serif\" font-size=\"14.00\" fill=\"#000000\">gini = 0.0</text>\n<text text-anchor=\"middle\" x=\"8546.5\" y=\"-22.8\" font-family=\"Times,serif\" font-size=\"14.00\" fill=\"#000000\">samples = 3</text>\n<text text-anchor=\"middle\" x=\"8546.5\" y=\"-7.8\" font-family=\"Times,serif\" font-size=\"14.00\" fill=\"#000000\">value = [0, 0, 3, 0, 0]</text>\n</g>\n<!-- 106&#45;&gt;108 -->\n<g id=\"edge108\" class=\"edge\">\n<title>106&#45;&gt;108</title>\n<path fill=\"none\" stroke=\"#000000\" d=\"M8444.2049,-88.9777C8460.472,-79.0424 8478.1864,-68.2232 8494.2326,-58.4228\"/>\n<polygon fill=\"#000000\" stroke=\"#000000\" points=\"8496.246,-61.2943 8502.9558,-53.095 8492.5973,-55.3204 8496.246,-61.2943\"/>\n</g>\n<!-- 110 -->\n<g id=\"node111\" class=\"node\">\n<title>110</title>\n<polygon fill=\"#3be5c6\" stroke=\"#000000\" points=\"8848.5,-261 8678.5,-261 8678.5,-193 8848.5,-193 8848.5,-261\"/>\n<text text-anchor=\"middle\" x=\"8763.5\" y=\"-245.8\" font-family=\"Times,serif\" font-size=\"14.00\" fill=\"#000000\">V10 &lt;= 39.195</text>\n<text text-anchor=\"middle\" x=\"8763.5\" y=\"-230.8\" font-family=\"Times,serif\" font-size=\"14.00\" fill=\"#000000\">gini = 0.019</text>\n<text text-anchor=\"middle\" x=\"8763.5\" y=\"-215.8\" font-family=\"Times,serif\" font-size=\"14.00\" fill=\"#000000\">samples = 1674</text>\n<text text-anchor=\"middle\" x=\"8763.5\" y=\"-200.8\" font-family=\"Times,serif\" font-size=\"14.00\" fill=\"#000000\">value = [3, 13, 1658, 0, 0]</text>\n</g>\n<!-- 109&#45;&gt;110 -->\n<g id=\"edge110\" class=\"edge\">\n<title>109&#45;&gt;110</title>\n<path fill=\"none\" stroke=\"#000000\" d=\"M8763.5,-296.9465C8763.5,-288.776 8763.5,-279.9318 8763.5,-271.3697\"/>\n<polygon fill=\"#000000\" stroke=\"#000000\" points=\"8767.0001,-271.13 8763.5,-261.13 8760.0001,-271.13 8767.0001,-271.13\"/>\n</g>\n<!-- 115 -->\n<g id=\"node116\" class=\"node\">\n<title>115</title>\n<polygon fill=\"#ffffff\" stroke=\"#000000\" points=\"9085.5,-261 8945.5,-261 8945.5,-193 9085.5,-193 9085.5,-261\"/>\n<text text-anchor=\"middle\" x=\"9015.5\" y=\"-245.8\" font-family=\"Times,serif\" font-size=\"14.00\" fill=\"#000000\">V3 &lt;= 1462.0</text>\n<text text-anchor=\"middle\" x=\"9015.5\" y=\"-230.8\" font-family=\"Times,serif\" font-size=\"14.00\" fill=\"#000000\">gini = 0.5</text>\n<text text-anchor=\"middle\" x=\"9015.5\" y=\"-215.8\" font-family=\"Times,serif\" font-size=\"14.00\" fill=\"#000000\">samples = 2</text>\n<text text-anchor=\"middle\" x=\"9015.5\" y=\"-200.8\" font-family=\"Times,serif\" font-size=\"14.00\" fill=\"#000000\">value = [1, 0, 0, 1, 0]</text>\n</g>\n<!-- 109&#45;&gt;115 -->\n<g id=\"edge115\" class=\"edge\">\n<title>109&#45;&gt;115</title>\n<path fill=\"none\" stroke=\"#000000\" d=\"M8846.0142,-296.9465C8874.9022,-285.0245 8907.2661,-271.6679 8935.9102,-259.8466\"/>\n<polygon fill=\"#000000\" stroke=\"#000000\" points=\"8937.5628,-262.951 8945.4713,-255.9007 8934.8924,-256.4803 8937.5628,-262.951\"/>\n</g>\n<!-- 111 -->\n<g id=\"node112\" class=\"node\">\n<title>111</title>\n<polygon fill=\"#3be5c6\" stroke=\"#000000\" points=\"8769.5,-157 8599.5,-157 8599.5,-89 8769.5,-89 8769.5,-157\"/>\n<text text-anchor=\"middle\" x=\"8684.5\" y=\"-141.8\" font-family=\"Times,serif\" font-size=\"14.00\" fill=\"#000000\">V9 &lt;= 42.844</text>\n<text text-anchor=\"middle\" x=\"8684.5\" y=\"-126.8\" font-family=\"Times,serif\" font-size=\"14.00\" fill=\"#000000\">gini = 0.018</text>\n<text text-anchor=\"middle\" x=\"8684.5\" y=\"-111.8\" font-family=\"Times,serif\" font-size=\"14.00\" fill=\"#000000\">samples = 1673</text>\n<text text-anchor=\"middle\" x=\"8684.5\" y=\"-96.8\" font-family=\"Times,serif\" font-size=\"14.00\" fill=\"#000000\">value = [3, 12, 1658, 0, 0]</text>\n</g>\n<!-- 110&#45;&gt;111 -->\n<g id=\"edge111\" class=\"edge\">\n<title>110&#45;&gt;111</title>\n<path fill=\"none\" stroke=\"#000000\" d=\"M8737.6324,-192.9465C8730.8804,-184.0578 8723.5226,-174.3716 8716.4941,-165.1188\"/>\n<polygon fill=\"#000000\" stroke=\"#000000\" points=\"8719.2617,-162.976 8710.4257,-157.13 8713.6875,-167.2102 8719.2617,-162.976\"/>\n</g>\n<!-- 114 -->\n<g id=\"node115\" class=\"node\">\n<title>114</title>\n<polygon fill=\"#7be539\" stroke=\"#000000\" points=\"8927.5,-149.5 8787.5,-149.5 8787.5,-96.5 8927.5,-96.5 8927.5,-149.5\"/>\n<text text-anchor=\"middle\" x=\"8857.5\" y=\"-134.3\" font-family=\"Times,serif\" font-size=\"14.00\" fill=\"#000000\">gini = 0.0</text>\n<text text-anchor=\"middle\" x=\"8857.5\" y=\"-119.3\" font-family=\"Times,serif\" font-size=\"14.00\" fill=\"#000000\">samples = 1</text>\n<text text-anchor=\"middle\" x=\"8857.5\" y=\"-104.3\" font-family=\"Times,serif\" font-size=\"14.00\" fill=\"#000000\">value = [0, 1, 0, 0, 0]</text>\n</g>\n<!-- 110&#45;&gt;114 -->\n<g id=\"edge114\" class=\"edge\">\n<title>110&#45;&gt;114</title>\n<path fill=\"none\" stroke=\"#000000\" d=\"M8794.2791,-192.9465C8804.6331,-181.491 8816.1842,-168.711 8826.5513,-157.2412\"/>\n<polygon fill=\"#000000\" stroke=\"#000000\" points=\"8829.4011,-159.3078 8833.51,-149.5422 8824.208,-154.614 8829.4011,-159.3078\"/>\n</g>\n<!-- 112 -->\n<g id=\"node113\" class=\"node\">\n<title>112</title>\n<polygon fill=\"#49e7ca\" stroke=\"#000000\" points=\"8796,-53 8635,-53 8635,0 8796,0 8796,-53\"/>\n<text text-anchor=\"middle\" x=\"8715.5\" y=\"-37.8\" font-family=\"Times,serif\" font-size=\"14.00\" fill=\"#000000\">gini = 0.143</text>\n<text text-anchor=\"middle\" x=\"8715.5\" y=\"-22.8\" font-family=\"Times,serif\" font-size=\"14.00\" fill=\"#000000\">samples = 184</text>\n<text text-anchor=\"middle\" x=\"8715.5\" y=\"-7.8\" font-family=\"Times,serif\" font-size=\"14.00\" fill=\"#000000\">value = [3, 11, 170, 0, 0]</text>\n</g>\n<!-- 111&#45;&gt;112 -->\n<g id=\"edge112\" class=\"edge\">\n<title>111&#45;&gt;112</title>\n<path fill=\"none\" stroke=\"#000000\" d=\"M8695.4294,-88.9777C8698.1357,-80.5533 8701.0462,-71.4934 8703.7881,-62.9579\"/>\n<polygon fill=\"#000000\" stroke=\"#000000\" points=\"8707.1809,-63.8398 8706.9072,-53.2485 8700.5164,-61.6988 8707.1809,-63.8398\"/>\n</g>\n<!-- 113 -->\n<g id=\"node114\" class=\"node\">\n<title>113</title>\n<polygon fill=\"#39e5c5\" stroke=\"#000000\" points=\"8976.5,-53 8814.5,-53 8814.5,0 8976.5,0 8976.5,-53\"/>\n<text text-anchor=\"middle\" x=\"8895.5\" y=\"-37.8\" font-family=\"Times,serif\" font-size=\"14.00\" fill=\"#000000\">gini = 0.001</text>\n<text text-anchor=\"middle\" x=\"8895.5\" y=\"-22.8\" font-family=\"Times,serif\" font-size=\"14.00\" fill=\"#000000\">samples = 1489</text>\n<text text-anchor=\"middle\" x=\"8895.5\" y=\"-7.8\" font-family=\"Times,serif\" font-size=\"14.00\" fill=\"#000000\">value = [0, 1, 1488, 0, 0]</text>\n</g>\n<!-- 111&#45;&gt;113 -->\n<g id=\"edge113\" class=\"edge\">\n<title>111&#45;&gt;113</title>\n<path fill=\"none\" stroke=\"#000000\" d=\"M8758.8907,-88.9777C8781.4191,-78.6744 8806.0261,-67.4205 8828.0715,-57.3381\"/>\n<polygon fill=\"#000000\" stroke=\"#000000\" points=\"8829.7109,-60.4371 8837.3492,-53.095 8826.7994,-54.0713 8829.7109,-60.4371\"/>\n</g>\n<!-- 116 -->\n<g id=\"node117\" class=\"node\">\n<title>116</title>\n<polygon fill=\"#e58139\" stroke=\"#000000\" points=\"9085.5,-149.5 8945.5,-149.5 8945.5,-96.5 9085.5,-96.5 9085.5,-149.5\"/>\n<text text-anchor=\"middle\" x=\"9015.5\" y=\"-134.3\" font-family=\"Times,serif\" font-size=\"14.00\" fill=\"#000000\">gini = 0.0</text>\n<text text-anchor=\"middle\" x=\"9015.5\" y=\"-119.3\" font-family=\"Times,serif\" font-size=\"14.00\" fill=\"#000000\">samples = 1</text>\n<text text-anchor=\"middle\" x=\"9015.5\" y=\"-104.3\" font-family=\"Times,serif\" font-size=\"14.00\" fill=\"#000000\">value = [1, 0, 0, 0, 0]</text>\n</g>\n<!-- 115&#45;&gt;116 -->\n<g id=\"edge116\" class=\"edge\">\n<title>115&#45;&gt;116</title>\n<path fill=\"none\" stroke=\"#000000\" d=\"M9015.5,-192.9465C9015.5,-182.2621 9015.5,-170.4254 9015.5,-159.5742\"/>\n<polygon fill=\"#000000\" stroke=\"#000000\" points=\"9019.0001,-159.5421 9015.5,-149.5422 9012.0001,-159.5422 9019.0001,-159.5421\"/>\n</g>\n<!-- 117 -->\n<g id=\"node118\" class=\"node\">\n<title>117</title>\n<polygon fill=\"#3c39e5\" stroke=\"#000000\" points=\"9243.5,-149.5 9103.5,-149.5 9103.5,-96.5 9243.5,-96.5 9243.5,-149.5\"/>\n<text text-anchor=\"middle\" x=\"9173.5\" y=\"-134.3\" font-family=\"Times,serif\" font-size=\"14.00\" fill=\"#000000\">gini = 0.0</text>\n<text text-anchor=\"middle\" x=\"9173.5\" y=\"-119.3\" font-family=\"Times,serif\" font-size=\"14.00\" fill=\"#000000\">samples = 1</text>\n<text text-anchor=\"middle\" x=\"9173.5\" y=\"-104.3\" font-family=\"Times,serif\" font-size=\"14.00\" fill=\"#000000\">value = [0, 0, 0, 1, 0]</text>\n</g>\n<!-- 115&#45;&gt;117 -->\n<g id=\"edge117\" class=\"edge\">\n<title>115&#45;&gt;117</title>\n<path fill=\"none\" stroke=\"#000000\" d=\"M9067.2351,-192.9465C9085.6427,-180.8301 9106.3013,-167.232 9124.4751,-155.2696\"/>\n<polygon fill=\"#000000\" stroke=\"#000000\" points=\"9126.7478,-157.9638 9133.1763,-149.5422 9122.8991,-152.1168 9126.7478,-157.9638\"/>\n</g>\n<!-- 119 -->\n<g id=\"node120\" class=\"node\">\n<title>119</title>\n<polygon fill=\"#eeac7c\" stroke=\"#000000\" points=\"11842,-573 11635,-573 11635,-505 11842,-505 11842,-573\"/>\n<text text-anchor=\"middle\" x=\"11738.5\" y=\"-557.8\" font-family=\"Times,serif\" font-size=\"14.00\" fill=\"#000000\">V2 &lt;= 293500.0</text>\n<text text-anchor=\"middle\" x=\"11738.5\" y=\"-542.8\" font-family=\"Times,serif\" font-size=\"14.00\" fill=\"#000000\">gini = 0.447</text>\n<text text-anchor=\"middle\" x=\"11738.5\" y=\"-527.8\" font-family=\"Times,serif\" font-size=\"14.00\" fill=\"#000000\">samples = 5264</text>\n<text text-anchor=\"middle\" x=\"11738.5\" y=\"-512.8\" font-family=\"Times,serif\" font-size=\"14.00\" fill=\"#000000\">value = [3783, 388, 903, 190, 0]</text>\n</g>\n<!-- 118&#45;&gt;119 -->\n<g id=\"edge119\" class=\"edge\">\n<title>118&#45;&gt;119</title>\n<path fill=\"none\" stroke=\"#000000\" d=\"M11738.5,-608.9465C11738.5,-600.776 11738.5,-591.9318 11738.5,-583.3697\"/>\n<polygon fill=\"#000000\" stroke=\"#000000\" points=\"11742.0001,-583.13 11738.5,-573.13 11735.0001,-583.13 11742.0001,-583.13\"/>\n</g>\n<!-- 180 -->\n<g id=\"node181\" class=\"node\">\n<title>180</title>\n<polygon fill=\"#706eec\" stroke=\"#000000\" points=\"15450.5,-573 15250.5,-573 15250.5,-505 15450.5,-505 15450.5,-573\"/>\n<text text-anchor=\"middle\" x=\"15350.5\" y=\"-557.8\" font-family=\"Times,serif\" font-size=\"14.00\" fill=\"#000000\">V7 &lt;= 1969.5</text>\n<text text-anchor=\"middle\" x=\"15350.5\" y=\"-542.8\" font-family=\"Times,serif\" font-size=\"14.00\" fill=\"#000000\">gini = 0.389</text>\n<text text-anchor=\"middle\" x=\"15350.5\" y=\"-527.8\" font-family=\"Times,serif\" font-size=\"14.00\" fill=\"#000000\">samples = 1373</text>\n<text text-anchor=\"middle\" x=\"15350.5\" y=\"-512.8\" font-family=\"Times,serif\" font-size=\"14.00\" fill=\"#000000\">value = [145, 0, 12, 1050, 166]</text>\n</g>\n<!-- 118&#45;&gt;180 -->\n<g id=\"edge180\" class=\"edge\">\n<title>118&#45;&gt;180</title>\n<path fill=\"none\" stroke=\"#000000\" d=\"M11853.5742,-639.6867C12397.4861,-624.0259 14706.4176,-557.545 15240.0975,-542.1788\"/>\n<polygon fill=\"#000000\" stroke=\"#000000\" points=\"15240.5907,-545.6662 15250.4857,-541.8797 15240.3891,-538.6691 15240.5907,-545.6662\"/>\n</g>\n<!-- 120 -->\n<g id=\"node121\" class=\"node\">\n<title>120</title>\n<polygon fill=\"#ea975c\" stroke=\"#000000\" points=\"11231,-469 11024,-469 11024,-401 11231,-401 11231,-469\"/>\n<text text-anchor=\"middle\" x=\"11127.5\" y=\"-453.8\" font-family=\"Times,serif\" font-size=\"14.00\" fill=\"#000000\">V7 &lt;= 528.5</text>\n<text text-anchor=\"middle\" x=\"11127.5\" y=\"-438.8\" font-family=\"Times,serif\" font-size=\"14.00\" fill=\"#000000\">gini = 0.285</text>\n<text text-anchor=\"middle\" x=\"11127.5\" y=\"-423.8\" font-family=\"Times,serif\" font-size=\"14.00\" fill=\"#000000\">samples = 4244</text>\n<text text-anchor=\"middle\" x=\"11127.5\" y=\"-408.8\" font-family=\"Times,serif\" font-size=\"14.00\" fill=\"#000000\">value = [3563, 369, 178, 134, 0]</text>\n</g>\n<!-- 119&#45;&gt;120 -->\n<g id=\"edge120\" class=\"edge\">\n<title>119&#45;&gt;120</title>\n<path fill=\"none\" stroke=\"#000000\" d=\"M11634.8522,-521.3578C11525.6233,-502.7657 11354.0811,-473.567 11241.2019,-454.3535\"/>\n<polygon fill=\"#000000\" stroke=\"#000000\" points=\"11241.5907,-450.8694 11231.1451,-452.6417 11240.416,-457.7702 11241.5907,-450.8694\"/>\n</g>\n<!-- 151 -->\n<g id=\"node152\" class=\"node\">\n<title>151</title>\n<polygon fill=\"#82efda\" stroke=\"#000000\" points=\"12611,-469 12426,-469 12426,-401 12611,-401 12611,-469\"/>\n<text text-anchor=\"middle\" x=\"12518.5\" y=\"-453.8\" font-family=\"Times,serif\" font-size=\"14.00\" fill=\"#000000\">V9 &lt;= 35.511</text>\n<text text-anchor=\"middle\" x=\"12518.5\" y=\"-438.8\" font-family=\"Times,serif\" font-size=\"14.00\" fill=\"#000000\">gini = 0.445</text>\n<text text-anchor=\"middle\" x=\"12518.5\" y=\"-423.8\" font-family=\"Times,serif\" font-size=\"14.00\" fill=\"#000000\">samples = 1020</text>\n<text text-anchor=\"middle\" x=\"12518.5\" y=\"-408.8\" font-family=\"Times,serif\" font-size=\"14.00\" fill=\"#000000\">value = [220, 19, 725, 56, 0]</text>\n</g>\n<!-- 119&#45;&gt;151 -->\n<g id=\"edge151\" class=\"edge\">\n<title>119&#45;&gt;151</title>\n<path fill=\"none\" stroke=\"#000000\" d=\"M11842.078,-525.1896C11991.66,-505.2453 12266.5253,-468.5966 12415.6818,-448.7091\"/>\n<polygon fill=\"#000000\" stroke=\"#000000\" points=\"12416.3115,-452.1562 12425.7612,-447.3652 12415.3863,-445.2176 12416.3115,-452.1562\"/>\n</g>\n<!-- 121 -->\n<g id=\"node122\" class=\"node\">\n<title>121</title>\n<polygon fill=\"#f3c4a2\" stroke=\"#000000\" points=\"10192,-365 10015,-365 10015,-297 10192,-297 10192,-365\"/>\n<text text-anchor=\"middle\" x=\"10103.5\" y=\"-349.8\" font-family=\"Times,serif\" font-size=\"14.00\" fill=\"#000000\">V4 &lt;= 36.5</text>\n<text text-anchor=\"middle\" x=\"10103.5\" y=\"-334.8\" font-family=\"Times,serif\" font-size=\"14.00\" fill=\"#000000\">gini = 0.528</text>\n<text text-anchor=\"middle\" x=\"10103.5\" y=\"-319.8\" font-family=\"Times,serif\" font-size=\"14.00\" fill=\"#000000\">samples = 1006</text>\n<text text-anchor=\"middle\" x=\"10103.5\" y=\"-304.8\" font-family=\"Times,serif\" font-size=\"14.00\" fill=\"#000000\">value = [622, 285, 98, 1, 0]</text>\n</g>\n<!-- 120&#45;&gt;121 -->\n<g id=\"edge121\" class=\"edge\">\n<title>120&#45;&gt;121</title>\n<path fill=\"none\" stroke=\"#000000\" d=\"M11023.6782,-424.4556C10825.6184,-404.3401 10396.3106,-360.7386 10202.2631,-341.0306\"/>\n<polygon fill=\"#000000\" stroke=\"#000000\" points=\"10202.3781,-337.5244 10192.0756,-339.996 10201.6708,-344.4886 10202.3781,-337.5244\"/>\n</g>\n<!-- 136 -->\n<g id=\"node137\" class=\"node\">\n<title>136</title>\n<polygon fill=\"#e78d4c\" stroke=\"#000000\" points=\"11223.5,-365 11031.5,-365 11031.5,-297 11223.5,-297 11223.5,-365\"/>\n<text text-anchor=\"middle\" x=\"11127.5\" y=\"-349.8\" font-family=\"Times,serif\" font-size=\"14.00\" fill=\"#000000\">V5 &lt;= 5381.5</text>\n<text text-anchor=\"middle\" x=\"11127.5\" y=\"-334.8\" font-family=\"Times,serif\" font-size=\"14.00\" fill=\"#000000\">gini = 0.172</text>\n<text text-anchor=\"middle\" x=\"11127.5\" y=\"-319.8\" font-family=\"Times,serif\" font-size=\"14.00\" fill=\"#000000\">samples = 3238</text>\n<text text-anchor=\"middle\" x=\"11127.5\" y=\"-304.8\" font-family=\"Times,serif\" font-size=\"14.00\" fill=\"#000000\">value = [2941, 84, 80, 133, 0]</text>\n</g>\n<!-- 120&#45;&gt;136 -->\n<g id=\"edge136\" class=\"edge\">\n<title>120&#45;&gt;136</title>\n<path fill=\"none\" stroke=\"#000000\" d=\"M11127.5,-400.9465C11127.5,-392.776 11127.5,-383.9318 11127.5,-375.3697\"/>\n<polygon fill=\"#000000\" stroke=\"#000000\" points=\"11131.0001,-375.13 11127.5,-365.13 11124.0001,-375.13 11131.0001,-375.13\"/>\n</g>\n<!-- 122 -->\n<g id=\"node123\" class=\"node\">\n<title>122</title>\n<polygon fill=\"#eda775\" stroke=\"#000000\" points=\"9702,-261 9525,-261 9525,-193 9702,-193 9702,-261\"/>\n<text text-anchor=\"middle\" x=\"9613.5\" y=\"-245.8\" font-family=\"Times,serif\" font-size=\"14.00\" fill=\"#000000\">V2 &lt;= 227750.0</text>\n<text text-anchor=\"middle\" x=\"9613.5\" y=\"-230.8\" font-family=\"Times,serif\" font-size=\"14.00\" fill=\"#000000\">gini = 0.411</text>\n<text text-anchor=\"middle\" x=\"9613.5\" y=\"-215.8\" font-family=\"Times,serif\" font-size=\"14.00\" fill=\"#000000\">samples = 783</text>\n<text text-anchor=\"middle\" x=\"9613.5\" y=\"-200.8\" font-family=\"Times,serif\" font-size=\"14.00\" fill=\"#000000\">value = [583, 128, 71, 1, 0]</text>\n</g>\n<!-- 121&#45;&gt;122 -->\n<g id=\"edge122\" class=\"edge\">\n<title>121&#45;&gt;122</title>\n<path fill=\"none\" stroke=\"#000000\" d=\"M10014.7647,-312.1664C9929.5213,-294.0739 9800.9624,-266.7879 9712.452,-248.002\"/>\n<polygon fill=\"#000000\" stroke=\"#000000\" points=\"9712.9105,-244.5215 9702.4017,-245.8689 9711.4571,-251.3689 9712.9105,-244.5215\"/>\n</g>\n<!-- 129 -->\n<g id=\"node130\" class=\"node\">\n<title>129</title>\n<polygon fill=\"#aaee80\" stroke=\"#000000\" points=\"10188.5,-261 10018.5,-261 10018.5,-193 10188.5,-193 10188.5,-261\"/>\n<text text-anchor=\"middle\" x=\"10103.5\" y=\"-245.8\" font-family=\"Times,serif\" font-size=\"14.00\" fill=\"#000000\">V9 &lt;= 39.16</text>\n<text text-anchor=\"middle\" x=\"10103.5\" y=\"-230.8\" font-family=\"Times,serif\" font-size=\"14.00\" fill=\"#000000\">gini = 0.459</text>\n<text text-anchor=\"middle\" x=\"10103.5\" y=\"-215.8\" font-family=\"Times,serif\" font-size=\"14.00\" fill=\"#000000\">samples = 223</text>\n<text text-anchor=\"middle\" x=\"10103.5\" y=\"-200.8\" font-family=\"Times,serif\" font-size=\"14.00\" fill=\"#000000\">value = [39, 157, 27, 0, 0]</text>\n</g>\n<!-- 121&#45;&gt;129 -->\n<g id=\"edge129\" class=\"edge\">\n<title>121&#45;&gt;129</title>\n<path fill=\"none\" stroke=\"#000000\" d=\"M10103.5,-296.9465C10103.5,-288.776 10103.5,-279.9318 10103.5,-271.3697\"/>\n<polygon fill=\"#000000\" stroke=\"#000000\" points=\"10107.0001,-271.13 10103.5,-261.13 10100.0001,-271.13 10107.0001,-271.13\"/>\n</g>\n<!-- 123 -->\n<g id=\"node124\" class=\"node\">\n<title>123</title>\n<polygon fill=\"#eb9e67\" stroke=\"#000000\" points=\"9431,-157 9262,-157 9262,-89 9431,-89 9431,-157\"/>\n<text text-anchor=\"middle\" x=\"9346.5\" y=\"-141.8\" font-family=\"Times,serif\" font-size=\"14.00\" fill=\"#000000\">V9 &lt;= 25.491</text>\n<text text-anchor=\"middle\" x=\"9346.5\" y=\"-126.8\" font-family=\"Times,serif\" font-size=\"14.00\" fill=\"#000000\">gini = 0.313</text>\n<text text-anchor=\"middle\" x=\"9346.5\" y=\"-111.8\" font-family=\"Times,serif\" font-size=\"14.00\" fill=\"#000000\">samples = 658</text>\n<text text-anchor=\"middle\" x=\"9346.5\" y=\"-96.8\" font-family=\"Times,serif\" font-size=\"14.00\" fill=\"#000000\">value = [533, 116, 8, 1, 0]</text>\n</g>\n<!-- 122&#45;&gt;123 -->\n<g id=\"edge123\" class=\"edge\">\n<title>122&#45;&gt;123</title>\n<path fill=\"none\" stroke=\"#000000\" d=\"M9526.0742,-192.9465C9498.8649,-182.3481 9468.7451,-170.6161 9441.0711,-159.8367\"/>\n<polygon fill=\"#000000\" stroke=\"#000000\" points=\"9441.9817,-156.4353 9431.3932,-156.067 9439.4409,-162.9579 9441.9817,-156.4353\"/>\n</g>\n<!-- 126 -->\n<g id=\"node127\" class=\"node\">\n<title>126</title>\n<polygon fill=\"#ddfaf5\" stroke=\"#000000\" points=\"9694.5,-157 9532.5,-157 9532.5,-89 9694.5,-89 9694.5,-157\"/>\n<text text-anchor=\"middle\" x=\"9613.5\" y=\"-141.8\" font-family=\"Times,serif\" font-size=\"14.00\" fill=\"#000000\">V9 &lt;= 38.351</text>\n<text text-anchor=\"middle\" x=\"9613.5\" y=\"-126.8\" font-family=\"Times,serif\" font-size=\"14.00\" fill=\"#000000\">gini = 0.577</text>\n<text text-anchor=\"middle\" x=\"9613.5\" y=\"-111.8\" font-family=\"Times,serif\" font-size=\"14.00\" fill=\"#000000\">samples = 125</text>\n<text text-anchor=\"middle\" x=\"9613.5\" y=\"-96.8\" font-family=\"Times,serif\" font-size=\"14.00\" fill=\"#000000\">value = [50, 12, 63, 0, 0]</text>\n</g>\n<!-- 122&#45;&gt;126 -->\n<g id=\"edge126\" class=\"edge\">\n<title>122&#45;&gt;126</title>\n<path fill=\"none\" stroke=\"#000000\" d=\"M9613.5,-192.9465C9613.5,-184.776 9613.5,-175.9318 9613.5,-167.3697\"/>\n<polygon fill=\"#000000\" stroke=\"#000000\" points=\"9617.0001,-167.13 9613.5,-157.13 9610.0001,-167.13 9617.0001,-167.13\"/>\n</g>\n<!-- 124 -->\n<g id=\"node125\" class=\"node\">\n<title>124</title>\n<polygon fill=\"#f3c7a7\" stroke=\"#000000\" points=\"9217.5,-53 9055.5,-53 9055.5,0 9217.5,0 9217.5,-53\"/>\n<text text-anchor=\"middle\" x=\"9136.5\" y=\"-37.8\" font-family=\"Times,serif\" font-size=\"14.00\" fill=\"#000000\">gini = 0.459</text>\n<text text-anchor=\"middle\" x=\"9136.5\" y=\"-22.8\" font-family=\"Times,serif\" font-size=\"14.00\" fill=\"#000000\">samples = 260</text>\n<text text-anchor=\"middle\" x=\"9136.5\" y=\"-7.8\" font-family=\"Times,serif\" font-size=\"14.00\" fill=\"#000000\">value = [167, 93, 0, 0, 0]</text>\n</g>\n<!-- 123&#45;&gt;124 -->\n<g id=\"edge124\" class=\"edge\">\n<title>123&#45;&gt;124</title>\n<path fill=\"none\" stroke=\"#000000\" d=\"M9272.4619,-88.9777C9250.0402,-78.6744 9225.5499,-67.4205 9203.6089,-57.3381\"/>\n<polygon fill=\"#000000\" stroke=\"#000000\" points=\"9204.9232,-54.0903 9194.3752,-53.095 9202.0003,-60.4509 9204.9232,-54.0903\"/>\n</g>\n<!-- 125 -->\n<g id=\"node126\" class=\"node\">\n<title>125</title>\n<polygon fill=\"#e78c4a\" stroke=\"#000000\" points=\"9397.5,-53 9235.5,-53 9235.5,0 9397.5,0 9397.5,-53\"/>\n<text text-anchor=\"middle\" x=\"9316.5\" y=\"-37.8\" font-family=\"Times,serif\" font-size=\"14.00\" fill=\"#000000\">gini = 0.151</text>\n<text text-anchor=\"middle\" x=\"9316.5\" y=\"-22.8\" font-family=\"Times,serif\" font-size=\"14.00\" fill=\"#000000\">samples = 398</text>\n<text text-anchor=\"middle\" x=\"9316.5\" y=\"-7.8\" font-family=\"Times,serif\" font-size=\"14.00\" fill=\"#000000\">value = [366, 23, 8, 1, 0]</text>\n</g>\n<!-- 123&#45;&gt;125 -->\n<g id=\"edge125\" class=\"edge\">\n<title>123&#45;&gt;125</title>\n<path fill=\"none\" stroke=\"#000000\" d=\"M9335.9231,-88.9777C9333.3041,-80.5533 9330.4876,-71.4934 9327.8341,-62.9579\"/>\n<polygon fill=\"#000000\" stroke=\"#000000\" points=\"9331.1265,-61.7586 9324.8156,-53.2485 9324.4421,-63.8367 9331.1265,-61.7586\"/>\n</g>\n<!-- 127 -->\n<g id=\"node128\" class=\"node\">\n<title>127</title>\n<polygon fill=\"#efb286\" stroke=\"#000000\" points=\"9571,-53 9416,-53 9416,0 9571,0 9571,-53\"/>\n<text text-anchor=\"middle\" x=\"9493.5\" y=\"-37.8\" font-family=\"Times,serif\" font-size=\"14.00\" fill=\"#000000\">gini = 0.402</text>\n<text text-anchor=\"middle\" x=\"9493.5\" y=\"-22.8\" font-family=\"Times,serif\" font-size=\"14.00\" fill=\"#000000\">samples = 43</text>\n<text text-anchor=\"middle\" x=\"9493.5\" y=\"-7.8\" font-family=\"Times,serif\" font-size=\"14.00\" fill=\"#000000\">value = [31, 12, 0, 0, 0]</text>\n</g>\n<!-- 126&#45;&gt;127 -->\n<g id=\"edge127\" class=\"edge\">\n<title>126&#45;&gt;127</title>\n<path fill=\"none\" stroke=\"#000000\" d=\"M9571.1925,-88.9777C9559.3501,-79.4545 9546.4979,-69.1191 9534.7195,-59.6473\"/>\n<polygon fill=\"#000000\" stroke=\"#000000\" points=\"9536.7486,-56.7877 9526.7624,-53.2485 9532.3618,-62.2427 9536.7486,-56.7877\"/>\n</g>\n<!-- 128 -->\n<g id=\"node129\" class=\"node\">\n<title>128</title>\n<polygon fill=\"#75edd6\" stroke=\"#000000\" points=\"9744,-53 9589,-53 9589,0 9744,0 9744,-53\"/>\n<text text-anchor=\"middle\" x=\"9666.5\" y=\"-37.8\" font-family=\"Times,serif\" font-size=\"14.00\" fill=\"#000000\">gini = 0.356</text>\n<text text-anchor=\"middle\" x=\"9666.5\" y=\"-22.8\" font-family=\"Times,serif\" font-size=\"14.00\" fill=\"#000000\">samples = 82</text>\n<text text-anchor=\"middle\" x=\"9666.5\" y=\"-7.8\" font-family=\"Times,serif\" font-size=\"14.00\" fill=\"#000000\">value = [19, 0, 63, 0, 0]</text>\n</g>\n<!-- 126&#45;&gt;128 -->\n<g id=\"edge128\" class=\"edge\">\n<title>126&#45;&gt;128</title>\n<path fill=\"none\" stroke=\"#000000\" d=\"M9632.1858,-88.9777C9636.9636,-80.2786 9642.1135,-70.9018 9646.9341,-62.1247\"/>\n<polygon fill=\"#000000\" stroke=\"#000000\" points=\"9650.0629,-63.6984 9651.8091,-53.2485 9643.9274,-60.3286 9650.0629,-63.6984\"/>\n</g>\n<!-- 130 -->\n<g id=\"node131\" class=\"node\">\n<title>130</title>\n<polygon fill=\"#98eb65\" stroke=\"#000000\" points=\"10098.5,-157 9936.5,-157 9936.5,-89 10098.5,-89 10098.5,-157\"/>\n<text text-anchor=\"middle\" x=\"10017.5\" y=\"-141.8\" font-family=\"Times,serif\" font-size=\"14.00\" fill=\"#000000\">V8 &lt;= 1952.0</text>\n<text text-anchor=\"middle\" x=\"10017.5\" y=\"-126.8\" font-family=\"Times,serif\" font-size=\"14.00\" fill=\"#000000\">gini = 0.305</text>\n<text text-anchor=\"middle\" x=\"10017.5\" y=\"-111.8\" font-family=\"Times,serif\" font-size=\"14.00\" fill=\"#000000\">samples = 191</text>\n<text text-anchor=\"middle\" x=\"10017.5\" y=\"-96.8\" font-family=\"Times,serif\" font-size=\"14.00\" fill=\"#000000\">value = [32, 156, 3, 0, 0]</text>\n</g>\n<!-- 129&#45;&gt;130 -->\n<g id=\"edge130\" class=\"edge\">\n<title>129&#45;&gt;130</title>\n<path fill=\"none\" stroke=\"#000000\" d=\"M10075.3404,-192.9465C10067.9158,-183.968 10059.8185,-174.1758 10052.0972,-164.8385\"/>\n<polygon fill=\"#000000\" stroke=\"#000000\" points=\"10054.7928,-162.606 10045.7229,-157.13 10049.3983,-167.0669 10054.7928,-162.606\"/>\n</g>\n<!-- 133 -->\n<g id=\"node134\" class=\"node\">\n<title>133</title>\n<polygon fill=\"#78edd8\" stroke=\"#000000\" points=\"10264,-157 10117,-157 10117,-89 10264,-89 10264,-157\"/>\n<text text-anchor=\"middle\" x=\"10190.5\" y=\"-141.8\" font-family=\"Times,serif\" font-size=\"14.00\" fill=\"#000000\">V2 &lt;= 219950.0</text>\n<text text-anchor=\"middle\" x=\"10190.5\" y=\"-126.8\" font-family=\"Times,serif\" font-size=\"14.00\" fill=\"#000000\">gini = 0.389</text>\n<text text-anchor=\"middle\" x=\"10190.5\" y=\"-111.8\" font-family=\"Times,serif\" font-size=\"14.00\" fill=\"#000000\">samples = 32</text>\n<text text-anchor=\"middle\" x=\"10190.5\" y=\"-96.8\" font-family=\"Times,serif\" font-size=\"14.00\" fill=\"#000000\">value = [7, 1, 24, 0, 0]</text>\n</g>\n<!-- 129&#45;&gt;133 -->\n<g id=\"edge133\" class=\"edge\">\n<title>129&#45;&gt;133</title>\n<path fill=\"none\" stroke=\"#000000\" d=\"M10131.9871,-192.9465C10139.4979,-183.968 10147.6895,-174.1758 10155.5005,-164.8385\"/>\n<polygon fill=\"#000000\" stroke=\"#000000\" points=\"10158.2171,-167.0459 10161.9489,-157.13 10152.848,-162.5544 10158.2171,-167.0459\"/>\n</g>\n<!-- 131 -->\n<g id=\"node132\" class=\"node\">\n<title>131</title>\n<polygon fill=\"#8ee956\" stroke=\"#000000\" points=\"9924.5,-53 9762.5,-53 9762.5,0 9924.5,0 9924.5,-53\"/>\n<text text-anchor=\"middle\" x=\"9843.5\" y=\"-37.8\" font-family=\"Times,serif\" font-size=\"14.00\" fill=\"#000000\">gini = 0.23</text>\n<text text-anchor=\"middle\" x=\"9843.5\" y=\"-22.8\" font-family=\"Times,serif\" font-size=\"14.00\" fill=\"#000000\">samples = 162</text>\n<text text-anchor=\"middle\" x=\"9843.5\" y=\"-7.8\" font-family=\"Times,serif\" font-size=\"14.00\" fill=\"#000000\">value = [18, 141, 3, 0, 0]</text>\n</g>\n<!-- 130&#45;&gt;131 -->\n<g id=\"edge131\" class=\"edge\">\n<title>130&#45;&gt;131</title>\n<path fill=\"none\" stroke=\"#000000\" d=\"M9956.1541,-88.9777C9938.0738,-78.9504 9918.37,-68.0228 9900.5699,-58.1508\"/>\n<polygon fill=\"#000000\" stroke=\"#000000\" points=\"9901.8964,-54.8843 9891.4537,-53.095 9898.5013,-61.0059 9901.8964,-54.8843\"/>\n</g>\n<!-- 132 -->\n<g id=\"node133\" class=\"node\">\n<title>132</title>\n<polygon fill=\"#f6fdf2\" stroke=\"#000000\" points=\"10098,-53 9943,-53 9943,0 10098,0 10098,-53\"/>\n<text text-anchor=\"middle\" x=\"10020.5\" y=\"-37.8\" font-family=\"Times,serif\" font-size=\"14.00\" fill=\"#000000\">gini = 0.499</text>\n<text text-anchor=\"middle\" x=\"10020.5\" y=\"-22.8\" font-family=\"Times,serif\" font-size=\"14.00\" fill=\"#000000\">samples = 29</text>\n<text text-anchor=\"middle\" x=\"10020.5\" y=\"-7.8\" font-family=\"Times,serif\" font-size=\"14.00\" fill=\"#000000\">value = [14, 15, 0, 0, 0]</text>\n</g>\n<!-- 130&#45;&gt;132 -->\n<g id=\"edge132\" class=\"edge\">\n<title>130&#45;&gt;132</title>\n<path fill=\"none\" stroke=\"#000000\" d=\"M10018.5577,-88.9777C10018.8139,-80.7364 10019.089,-71.887 10019.3493,-63.5153\"/>\n<polygon fill=\"#000000\" stroke=\"#000000\" points=\"10022.8559,-63.3524 10019.6684,-53.2485 10015.8593,-63.1349 10022.8559,-63.3524\"/>\n</g>\n<!-- 134 -->\n<g id=\"node135\" class=\"node\">\n<title>134</title>\n<polygon fill=\"#ea9a61\" stroke=\"#000000\" points=\"10256.5,-53 10116.5,-53 10116.5,0 10256.5,0 10256.5,-53\"/>\n<text text-anchor=\"middle\" x=\"10186.5\" y=\"-37.8\" font-family=\"Times,serif\" font-size=\"14.00\" fill=\"#000000\">gini = 0.278</text>\n<text text-anchor=\"middle\" x=\"10186.5\" y=\"-22.8\" font-family=\"Times,serif\" font-size=\"14.00\" fill=\"#000000\">samples = 6</text>\n<text text-anchor=\"middle\" x=\"10186.5\" y=\"-7.8\" font-family=\"Times,serif\" font-size=\"14.00\" fill=\"#000000\">value = [5, 1, 0, 0, 0]</text>\n</g>\n<!-- 133&#45;&gt;134 -->\n<g id=\"edge134\" class=\"edge\">\n<title>133&#45;&gt;134</title>\n<path fill=\"none\" stroke=\"#000000\" d=\"M10189.0897,-88.9777C10188.7481,-80.7364 10188.3813,-71.887 10188.0343,-63.5153\"/>\n<polygon fill=\"#000000\" stroke=\"#000000\" points=\"10191.52,-63.0949 10187.6087,-53.2485 10184.526,-63.3849 10191.52,-63.0949\"/>\n</g>\n<!-- 135 -->\n<g id=\"node136\" class=\"node\">\n<title>135</title>\n<polygon fill=\"#49e7ca\" stroke=\"#000000\" points=\"10422,-53 10275,-53 10275,0 10422,0 10422,-53\"/>\n<text text-anchor=\"middle\" x=\"10348.5\" y=\"-37.8\" font-family=\"Times,serif\" font-size=\"14.00\" fill=\"#000000\">gini = 0.142</text>\n<text text-anchor=\"middle\" x=\"10348.5\" y=\"-22.8\" font-family=\"Times,serif\" font-size=\"14.00\" fill=\"#000000\">samples = 26</text>\n<text text-anchor=\"middle\" x=\"10348.5\" y=\"-7.8\" font-family=\"Times,serif\" font-size=\"14.00\" fill=\"#000000\">value = [2, 0, 24, 0, 0]</text>\n</g>\n<!-- 133&#45;&gt;135 -->\n<g id=\"edge135\" class=\"edge\">\n<title>133&#45;&gt;135</title>\n<path fill=\"none\" stroke=\"#000000\" d=\"M10246.2049,-88.9777C10262.472,-79.0424 10280.1864,-68.2232 10296.2326,-58.4228\"/>\n<polygon fill=\"#000000\" stroke=\"#000000\" points=\"10298.246,-61.2943 10304.9558,-53.095 10294.5973,-55.3204 10298.246,-61.2943\"/>\n</g>\n<!-- 137 -->\n<g id=\"node138\" class=\"node\">\n<title>137</title>\n<polygon fill=\"#e78a47\" stroke=\"#000000\" points=\"11092,-261 10907,-261 10907,-193 11092,-193 11092,-261\"/>\n<text text-anchor=\"middle\" x=\"10999.5\" y=\"-245.8\" font-family=\"Times,serif\" font-size=\"14.00\" fill=\"#000000\">V9 &lt;= 55.105</text>\n<text text-anchor=\"middle\" x=\"10999.5\" y=\"-230.8\" font-family=\"Times,serif\" font-size=\"14.00\" fill=\"#000000\">gini = 0.13</text>\n<text text-anchor=\"middle\" x=\"10999.5\" y=\"-215.8\" font-family=\"Times,serif\" font-size=\"14.00\" fill=\"#000000\">samples = 3134</text>\n<text text-anchor=\"middle\" x=\"10999.5\" y=\"-200.8\" font-family=\"Times,serif\" font-size=\"14.00\" fill=\"#000000\">value = [2920, 84, 80, 50, 0]</text>\n</g>\n<!-- 136&#45;&gt;137 -->\n<g id=\"edge137\" class=\"edge\">\n<title>136&#45;&gt;137</title>\n<path fill=\"none\" stroke=\"#000000\" d=\"M11085.588,-296.9465C11073.985,-287.519 11061.2779,-277.1946 11049.2741,-267.4415\"/>\n<polygon fill=\"#000000\" stroke=\"#000000\" points=\"11051.4744,-264.7196 11041.5061,-261.13 11047.0602,-270.1524 11051.4744,-264.7196\"/>\n</g>\n<!-- 144 -->\n<g id=\"node145\" class=\"node\">\n<title>144</title>\n<polygon fill=\"#6d6bec\" stroke=\"#000000\" points=\"11416,-261 11261,-261 11261,-193 11416,-193 11416,-261\"/>\n<text text-anchor=\"middle\" x=\"11338.5\" y=\"-245.8\" font-family=\"Times,serif\" font-size=\"14.00\" fill=\"#000000\">V4 &lt;= 27.5</text>\n<text text-anchor=\"middle\" x=\"11338.5\" y=\"-230.8\" font-family=\"Times,serif\" font-size=\"14.00\" fill=\"#000000\">gini = 0.322</text>\n<text text-anchor=\"middle\" x=\"11338.5\" y=\"-215.8\" font-family=\"Times,serif\" font-size=\"14.00\" fill=\"#000000\">samples = 104</text>\n<text text-anchor=\"middle\" x=\"11338.5\" y=\"-200.8\" font-family=\"Times,serif\" font-size=\"14.00\" fill=\"#000000\">value = [21, 0, 0, 83, 0]</text>\n</g>\n<!-- 136&#45;&gt;144 -->\n<g id=\"edge144\" class=\"edge\">\n<title>136&#45;&gt;144</title>\n<path fill=\"none\" stroke=\"#000000\" d=\"M11196.5893,-296.9465C11216.9002,-286.9354 11239.2633,-275.9129 11260.1112,-265.6371\"/>\n<polygon fill=\"#000000\" stroke=\"#000000\" points=\"11261.8332,-268.6905 11269.2555,-261.13 11258.7385,-262.4117 11261.8332,-268.6905\"/>\n</g>\n<!-- 138 -->\n<g id=\"node139\" class=\"node\">\n<title>138</title>\n<polygon fill=\"#e68844\" stroke=\"#000000\" points=\"10821,-157 10636,-157 10636,-89 10821,-89 10821,-157\"/>\n<text text-anchor=\"middle\" x=\"10728.5\" y=\"-141.8\" font-family=\"Times,serif\" font-size=\"14.00\" fill=\"#000000\">V4 &lt;= 39.5</text>\n<text text-anchor=\"middle\" x=\"10728.5\" y=\"-126.8\" font-family=\"Times,serif\" font-size=\"14.00\" fill=\"#000000\">gini = 0.101</text>\n<text text-anchor=\"middle\" x=\"10728.5\" y=\"-111.8\" font-family=\"Times,serif\" font-size=\"14.00\" fill=\"#000000\">samples = 2981</text>\n<text text-anchor=\"middle\" x=\"10728.5\" y=\"-96.8\" font-family=\"Times,serif\" font-size=\"14.00\" fill=\"#000000\">value = [2824, 84, 30, 43, 0]</text>\n</g>\n<!-- 137&#45;&gt;138 -->\n<g id=\"edge138\" class=\"edge\">\n<title>137&#45;&gt;138</title>\n<path fill=\"none\" stroke=\"#000000\" d=\"M10910.7645,-192.9465C10883.9761,-182.6661 10854.4081,-171.319 10827.0224,-160.8093\"/>\n<polygon fill=\"#000000\" stroke=\"#000000\" points=\"10828.025,-157.4453 10817.4349,-157.13 10825.517,-163.9806 10828.025,-157.4453\"/>\n</g>\n<!-- 141 -->\n<g id=\"node142\" class=\"node\">\n<title>141</title>\n<polygon fill=\"#f3c7a7\" stroke=\"#000000\" points=\"11077,-157 10922,-157 10922,-89 11077,-89 11077,-157\"/>\n<text text-anchor=\"middle\" x=\"10999.5\" y=\"-141.8\" font-family=\"Times,serif\" font-size=\"14.00\" fill=\"#000000\">V7 &lt;= 567.5</text>\n<text text-anchor=\"middle\" x=\"10999.5\" y=\"-126.8\" font-family=\"Times,serif\" font-size=\"14.00\" fill=\"#000000\">gini = 0.497</text>\n<text text-anchor=\"middle\" x=\"10999.5\" y=\"-111.8\" font-family=\"Times,serif\" font-size=\"14.00\" fill=\"#000000\">samples = 153</text>\n<text text-anchor=\"middle\" x=\"10999.5\" y=\"-96.8\" font-family=\"Times,serif\" font-size=\"14.00\" fill=\"#000000\">value = [96, 0, 50, 7, 0]</text>\n</g>\n<!-- 137&#45;&gt;141 -->\n<g id=\"edge141\" class=\"edge\">\n<title>137&#45;&gt;141</title>\n<path fill=\"none\" stroke=\"#000000\" d=\"M10999.5,-192.9465C10999.5,-184.776 10999.5,-175.9318 10999.5,-167.3697\"/>\n<polygon fill=\"#000000\" stroke=\"#000000\" points=\"11003.0001,-167.13 10999.5,-157.13 10996.0001,-167.13 11003.0001,-167.13\"/>\n</g>\n<!-- 139 -->\n<g id=\"node140\" class=\"node\">\n<title>139</title>\n<polygon fill=\"#e68540\" stroke=\"#000000\" points=\"10625,-53 10440,-53 10440,0 10625,0 10625,-53\"/>\n<text text-anchor=\"middle\" x=\"10532.5\" y=\"-37.8\" font-family=\"Times,serif\" font-size=\"14.00\" fill=\"#000000\">gini = 0.065</text>\n<text text-anchor=\"middle\" x=\"10532.5\" y=\"-22.8\" font-family=\"Times,serif\" font-size=\"14.00\" fill=\"#000000\">samples = 2662</text>\n<text text-anchor=\"middle\" x=\"10532.5\" y=\"-7.8\" font-family=\"Times,serif\" font-size=\"14.00\" fill=\"#000000\">value = [2574, 28, 17, 43, 0]</text>\n</g>\n<!-- 138&#45;&gt;139 -->\n<g id=\"edge139\" class=\"edge\">\n<title>138&#45;&gt;139</title>\n<path fill=\"none\" stroke=\"#000000\" d=\"M10659.3977,-88.9777C10638.6577,-78.7664 10616.0213,-67.6214 10595.6841,-57.6085\"/>\n<polygon fill=\"#000000\" stroke=\"#000000\" points=\"10597.0344,-54.3722 10586.5168,-53.095 10593.9424,-60.6523 10597.0344,-54.3722\"/>\n</g>\n<!-- 140 -->\n<g id=\"node141\" class=\"node\">\n<title>140</title>\n<polygon fill=\"#eca26d\" stroke=\"#000000\" points=\"10813.5,-53 10643.5,-53 10643.5,0 10813.5,0 10813.5,-53\"/>\n<text text-anchor=\"middle\" x=\"10728.5\" y=\"-37.8\" font-family=\"Times,serif\" font-size=\"14.00\" fill=\"#000000\">gini = 0.353</text>\n<text text-anchor=\"middle\" x=\"10728.5\" y=\"-22.8\" font-family=\"Times,serif\" font-size=\"14.00\" fill=\"#000000\">samples = 319</text>\n<text text-anchor=\"middle\" x=\"10728.5\" y=\"-7.8\" font-family=\"Times,serif\" font-size=\"14.00\" fill=\"#000000\">value = [250, 56, 13, 0, 0]</text>\n</g>\n<!-- 138&#45;&gt;140 -->\n<g id=\"edge140\" class=\"edge\">\n<title>138&#45;&gt;140</title>\n<path fill=\"none\" stroke=\"#000000\" d=\"M10728.5,-88.9777C10728.5,-80.7364 10728.5,-71.887 10728.5,-63.5153\"/>\n<polygon fill=\"#000000\" stroke=\"#000000\" points=\"10732.0001,-63.2484 10728.5,-53.2485 10725.0001,-63.2485 10732.0001,-63.2484\"/>\n</g>\n<!-- 142 -->\n<g id=\"node143\" class=\"node\">\n<title>142</title>\n<polygon fill=\"#8bf0dd\" stroke=\"#000000\" points=\"10987,-53 10832,-53 10832,0 10987,0 10987,-53\"/>\n<text text-anchor=\"middle\" x=\"10909.5\" y=\"-37.8\" font-family=\"Times,serif\" font-size=\"14.00\" fill=\"#000000\">gini = 0.415</text>\n<text text-anchor=\"middle\" x=\"10909.5\" y=\"-22.8\" font-family=\"Times,serif\" font-size=\"14.00\" fill=\"#000000\">samples = 34</text>\n<text text-anchor=\"middle\" x=\"10909.5\" y=\"-7.8\" font-family=\"Times,serif\" font-size=\"14.00\" fill=\"#000000\">value = [10, 0, 24, 0, 0]</text>\n</g>\n<!-- 141&#45;&gt;142 -->\n<g id=\"edge142\" class=\"edge\">\n<title>141&#45;&gt;142</title>\n<path fill=\"none\" stroke=\"#000000\" d=\"M10967.7694,-88.9777C10959.2292,-79.8207 10949.9887,-69.9129 10941.4374,-60.744\"/>\n<polygon fill=\"#000000\" stroke=\"#000000\" points=\"10943.8269,-58.1744 10934.4468,-53.2485 10938.7077,-62.9488 10943.8269,-58.1744\"/>\n</g>\n<!-- 143 -->\n<g id=\"node144\" class=\"node\">\n<title>143</title>\n<polygon fill=\"#eeae7f\" stroke=\"#000000\" points=\"11160,-53 11005,-53 11005,0 11160,0 11160,-53\"/>\n<text text-anchor=\"middle\" x=\"11082.5\" y=\"-37.8\" font-family=\"Times,serif\" font-size=\"14.00\" fill=\"#000000\">gini = 0.427</text>\n<text text-anchor=\"middle\" x=\"11082.5\" y=\"-22.8\" font-family=\"Times,serif\" font-size=\"14.00\" fill=\"#000000\">samples = 119</text>\n<text text-anchor=\"middle\" x=\"11082.5\" y=\"-7.8\" font-family=\"Times,serif\" font-size=\"14.00\" fill=\"#000000\">value = [86, 0, 26, 7, 0]</text>\n</g>\n<!-- 141&#45;&gt;143 -->\n<g id=\"edge143\" class=\"edge\">\n<title>141&#45;&gt;143</title>\n<path fill=\"none\" stroke=\"#000000\" d=\"M11028.7627,-88.9777C11036.5599,-79.9123 11044.99,-70.111 11052.8099,-61.0192\"/>\n<polygon fill=\"#000000\" stroke=\"#000000\" points=\"11055.6262,-63.1123 11059.4935,-53.2485 11050.3191,-58.5477 11055.6262,-63.1123\"/>\n</g>\n<!-- 145 -->\n<g id=\"node146\" class=\"node\">\n<title>145</title>\n<polygon fill=\"#605dea\" stroke=\"#000000\" points=\"11416,-157 11261,-157 11261,-89 11416,-89 11416,-157\"/>\n<text text-anchor=\"middle\" x=\"11338.5\" y=\"-141.8\" font-family=\"Times,serif\" font-size=\"14.00\" fill=\"#000000\">V9 &lt;= 20.552</text>\n<text text-anchor=\"middle\" x=\"11338.5\" y=\"-126.8\" font-family=\"Times,serif\" font-size=\"14.00\" fill=\"#000000\">gini = 0.261</text>\n<text text-anchor=\"middle\" x=\"11338.5\" y=\"-111.8\" font-family=\"Times,serif\" font-size=\"14.00\" fill=\"#000000\">samples = 97</text>\n<text text-anchor=\"middle\" x=\"11338.5\" y=\"-96.8\" font-family=\"Times,serif\" font-size=\"14.00\" fill=\"#000000\">value = [15, 0, 0, 82, 0]</text>\n</g>\n<!-- 144&#45;&gt;145 -->\n<g id=\"edge145\" class=\"edge\">\n<title>144&#45;&gt;145</title>\n<path fill=\"none\" stroke=\"#000000\" d=\"M11338.5,-192.9465C11338.5,-184.776 11338.5,-175.9318 11338.5,-167.3697\"/>\n<polygon fill=\"#000000\" stroke=\"#000000\" points=\"11342.0001,-167.13 11338.5,-157.13 11335.0001,-167.13 11342.0001,-167.13\"/>\n</g>\n<!-- 148 -->\n<g id=\"node149\" class=\"node\">\n<title>148</title>\n<polygon fill=\"#e9965a\" stroke=\"#000000\" points=\"11642.5,-157 11502.5,-157 11502.5,-89 11642.5,-89 11642.5,-157\"/>\n<text text-anchor=\"middle\" x=\"11572.5\" y=\"-141.8\" font-family=\"Times,serif\" font-size=\"14.00\" fill=\"#000000\">V2 &lt;= 282850.0</text>\n<text text-anchor=\"middle\" x=\"11572.5\" y=\"-126.8\" font-family=\"Times,serif\" font-size=\"14.00\" fill=\"#000000\">gini = 0.245</text>\n<text text-anchor=\"middle\" x=\"11572.5\" y=\"-111.8\" font-family=\"Times,serif\" font-size=\"14.00\" fill=\"#000000\">samples = 7</text>\n<text text-anchor=\"middle\" x=\"11572.5\" y=\"-96.8\" font-family=\"Times,serif\" font-size=\"14.00\" fill=\"#000000\">value = [6, 0, 0, 1, 0]</text>\n</g>\n<!-- 144&#45;&gt;148 -->\n<g id=\"edge148\" class=\"edge\">\n<title>144&#45;&gt;148</title>\n<path fill=\"none\" stroke=\"#000000\" d=\"M11415.1204,-192.9465C11440.1684,-181.8141 11468.0307,-169.4308 11493.2672,-158.2146\"/>\n<polygon fill=\"#000000\" stroke=\"#000000\" points=\"11494.7193,-161.3994 11502.436,-154.1396 11491.8763,-155.0027 11494.7193,-161.3994\"/>\n</g>\n<!-- 146 -->\n<g id=\"node147\" class=\"node\">\n<title>146</title>\n<polygon fill=\"#f4c9aa\" stroke=\"#000000\" points=\"11318.5,-53 11178.5,-53 11178.5,0 11318.5,0 11318.5,-53\"/>\n<text text-anchor=\"middle\" x=\"11248.5\" y=\"-37.8\" font-family=\"Times,serif\" font-size=\"14.00\" fill=\"#000000\">gini = 0.463</text>\n<text text-anchor=\"middle\" x=\"11248.5\" y=\"-22.8\" font-family=\"Times,serif\" font-size=\"14.00\" fill=\"#000000\">samples = 11</text>\n<text text-anchor=\"middle\" x=\"11248.5\" y=\"-7.8\" font-family=\"Times,serif\" font-size=\"14.00\" fill=\"#000000\">value = [7, 0, 0, 4, 0]</text>\n</g>\n<!-- 145&#45;&gt;146 -->\n<g id=\"edge146\" class=\"edge\">\n<title>145&#45;&gt;146</title>\n<path fill=\"none\" stroke=\"#000000\" d=\"M11306.7694,-88.9777C11298.2292,-79.8207 11288.9887,-69.9129 11280.4374,-60.744\"/>\n<polygon fill=\"#000000\" stroke=\"#000000\" points=\"11282.8269,-58.1744 11273.4468,-53.2485 11277.7077,-62.9488 11282.8269,-58.1744\"/>\n</g>\n<!-- 147 -->\n<g id=\"node148\" class=\"node\">\n<title>147</title>\n<polygon fill=\"#504de8\" stroke=\"#000000\" points=\"11484,-53 11337,-53 11337,0 11484,0 11484,-53\"/>\n<text text-anchor=\"middle\" x=\"11410.5\" y=\"-37.8\" font-family=\"Times,serif\" font-size=\"14.00\" fill=\"#000000\">gini = 0.169</text>\n<text text-anchor=\"middle\" x=\"11410.5\" y=\"-22.8\" font-family=\"Times,serif\" font-size=\"14.00\" fill=\"#000000\">samples = 86</text>\n<text text-anchor=\"middle\" x=\"11410.5\" y=\"-7.8\" font-family=\"Times,serif\" font-size=\"14.00\" fill=\"#000000\">value = [8, 0, 0, 78, 0]</text>\n</g>\n<!-- 145&#45;&gt;147 -->\n<g id=\"edge147\" class=\"edge\">\n<title>145&#45;&gt;147</title>\n<path fill=\"none\" stroke=\"#000000\" d=\"M11363.8845,-88.9777C11370.58,-80.0039 11377.8135,-70.3089 11384.539,-61.295\"/>\n<polygon fill=\"#000000\" stroke=\"#000000\" points=\"11387.3677,-63.3565 11390.5426,-53.2485 11381.7573,-59.1704 11387.3677,-63.3565\"/>\n</g>\n<!-- 149 -->\n<g id=\"node150\" class=\"node\">\n<title>149</title>\n<polygon fill=\"#e58139\" stroke=\"#000000\" points=\"11642.5,-53 11502.5,-53 11502.5,0 11642.5,0 11642.5,-53\"/>\n<text text-anchor=\"middle\" x=\"11572.5\" y=\"-37.8\" font-family=\"Times,serif\" font-size=\"14.00\" fill=\"#000000\">gini = 0.0</text>\n<text text-anchor=\"middle\" x=\"11572.5\" y=\"-22.8\" font-family=\"Times,serif\" font-size=\"14.00\" fill=\"#000000\">samples = 6</text>\n<text text-anchor=\"middle\" x=\"11572.5\" y=\"-7.8\" font-family=\"Times,serif\" font-size=\"14.00\" fill=\"#000000\">value = [6, 0, 0, 0, 0]</text>\n</g>\n<!-- 148&#45;&gt;149 -->\n<g id=\"edge149\" class=\"edge\">\n<title>148&#45;&gt;149</title>\n<path fill=\"none\" stroke=\"#000000\" d=\"M11572.5,-88.9777C11572.5,-80.7364 11572.5,-71.887 11572.5,-63.5153\"/>\n<polygon fill=\"#000000\" stroke=\"#000000\" points=\"11576.0001,-63.2484 11572.5,-53.2485 11569.0001,-63.2485 11576.0001,-63.2484\"/>\n</g>\n<!-- 150 -->\n<g id=\"node151\" class=\"node\">\n<title>150</title>\n<polygon fill=\"#3c39e5\" stroke=\"#000000\" points=\"11800.5,-53 11660.5,-53 11660.5,0 11800.5,0 11800.5,-53\"/>\n<text text-anchor=\"middle\" x=\"11730.5\" y=\"-37.8\" font-family=\"Times,serif\" font-size=\"14.00\" fill=\"#000000\">gini = 0.0</text>\n<text text-anchor=\"middle\" x=\"11730.5\" y=\"-22.8\" font-family=\"Times,serif\" font-size=\"14.00\" fill=\"#000000\">samples = 1</text>\n<text text-anchor=\"middle\" x=\"11730.5\" y=\"-7.8\" font-family=\"Times,serif\" font-size=\"14.00\" fill=\"#000000\">value = [0, 0, 0, 1, 0]</text>\n</g>\n<!-- 148&#45;&gt;150 -->\n<g id=\"edge150\" class=\"edge\">\n<title>148&#45;&gt;150</title>\n<path fill=\"none\" stroke=\"#000000\" d=\"M11628.2049,-88.9777C11644.472,-79.0424 11662.1864,-68.2232 11678.2326,-58.4228\"/>\n<polygon fill=\"#000000\" stroke=\"#000000\" points=\"11680.246,-61.2943 11686.9558,-53.095 11676.5973,-55.3204 11680.246,-61.2943\"/>\n</g>\n<!-- 152 -->\n<g id=\"node153\" class=\"node\">\n<title>152</title>\n<polygon fill=\"#f5ceb2\" stroke=\"#000000\" points=\"12603.5,-365 12433.5,-365 12433.5,-297 12603.5,-297 12603.5,-365\"/>\n<text text-anchor=\"middle\" x=\"12518.5\" y=\"-349.8\" font-family=\"Times,serif\" font-size=\"14.00\" fill=\"#000000\">V4 &lt;= 40.5</text>\n<text text-anchor=\"middle\" x=\"12518.5\" y=\"-334.8\" font-family=\"Times,serif\" font-size=\"14.00\" fill=\"#000000\">gini = 0.553</text>\n<text text-anchor=\"middle\" x=\"12518.5\" y=\"-319.8\" font-family=\"Times,serif\" font-size=\"14.00\" fill=\"#000000\">samples = 266</text>\n<text text-anchor=\"middle\" x=\"12518.5\" y=\"-304.8\" font-family=\"Times,serif\" font-size=\"14.00\" fill=\"#000000\">value = [155, 19, 85, 7, 0]</text>\n</g>\n<!-- 151&#45;&gt;152 -->\n<g id=\"edge152\" class=\"edge\">\n<title>151&#45;&gt;152</title>\n<path fill=\"none\" stroke=\"#000000\" d=\"M12518.5,-400.9465C12518.5,-392.776 12518.5,-383.9318 12518.5,-375.3697\"/>\n<polygon fill=\"#000000\" stroke=\"#000000\" points=\"12522.0001,-375.13 12518.5,-365.13 12515.0001,-375.13 12522.0001,-375.13\"/>\n</g>\n<!-- 167 -->\n<g id=\"node168\" class=\"node\">\n<title>167</title>\n<polygon fill=\"#5ae9cf\" stroke=\"#000000\" points=\"13561.5,-365 13391.5,-365 13391.5,-297 13561.5,-297 13561.5,-365\"/>\n<text text-anchor=\"middle\" x=\"13476.5\" y=\"-349.8\" font-family=\"Times,serif\" font-size=\"14.00\" fill=\"#000000\">V8 &lt;= 2572.5</text>\n<text text-anchor=\"middle\" x=\"13476.5\" y=\"-334.8\" font-family=\"Times,serif\" font-size=\"14.00\" fill=\"#000000\">gini = 0.268</text>\n<text text-anchor=\"middle\" x=\"13476.5\" y=\"-319.8\" font-family=\"Times,serif\" font-size=\"14.00\" fill=\"#000000\">samples = 754</text>\n<text text-anchor=\"middle\" x=\"13476.5\" y=\"-304.8\" font-family=\"Times,serif\" font-size=\"14.00\" fill=\"#000000\">value = [65, 0, 640, 49, 0]</text>\n</g>\n<!-- 151&#45;&gt;167 -->\n<g id=\"edge167\" class=\"edge\">\n<title>151&#45;&gt;167</title>\n<path fill=\"none\" stroke=\"#000000\" d=\"M12611.2275,-424.9335C12793.5883,-405.1365 13197.1234,-361.329 13381.3913,-341.325\"/>\n<polygon fill=\"#000000\" stroke=\"#000000\" points=\"13381.7729,-344.8042 13391.3368,-340.2453 13381.0174,-337.8451 13381.7729,-344.8042\"/>\n</g>\n<!-- 153 -->\n<g id=\"node154\" class=\"node\">\n<title>153</title>\n<polygon fill=\"#eda876\" stroke=\"#000000\" points=\"12389.5,-261 12227.5,-261 12227.5,-193 12389.5,-193 12389.5,-261\"/>\n<text text-anchor=\"middle\" x=\"12308.5\" y=\"-245.8\" font-family=\"Times,serif\" font-size=\"14.00\" fill=\"#000000\">V8 &lt;= 1073.0</text>\n<text text-anchor=\"middle\" x=\"12308.5\" y=\"-230.8\" font-family=\"Times,serif\" font-size=\"14.00\" fill=\"#000000\">gini = 0.401</text>\n<text text-anchor=\"middle\" x=\"12308.5\" y=\"-215.8\" font-family=\"Times,serif\" font-size=\"14.00\" fill=\"#000000\">samples = 179</text>\n<text text-anchor=\"middle\" x=\"12308.5\" y=\"-200.8\" font-family=\"Times,serif\" font-size=\"14.00\" fill=\"#000000\">value = [134, 4, 34, 7, 0]</text>\n</g>\n<!-- 152&#45;&gt;153 -->\n<g id=\"edge153\" class=\"edge\">\n<title>152&#45;&gt;153</title>\n<path fill=\"none\" stroke=\"#000000\" d=\"M12449.7381,-296.9465C12429.5235,-286.9354 12407.2664,-275.9129 12386.5172,-265.6371\"/>\n<polygon fill=\"#000000\" stroke=\"#000000\" points=\"12387.9309,-262.4316 12377.4163,-261.13 12384.8243,-268.7045 12387.9309,-262.4316\"/>\n</g>\n<!-- 160 -->\n<g id=\"node161\" class=\"node\">\n<title>160</title>\n<polygon fill=\"#a5f3e5\" stroke=\"#000000\" points=\"12724.5,-261 12562.5,-261 12562.5,-193 12724.5,-193 12724.5,-261\"/>\n<text text-anchor=\"middle\" x=\"12643.5\" y=\"-245.8\" font-family=\"Times,serif\" font-size=\"14.00\" fill=\"#000000\">V9 &lt;= 11.026</text>\n<text text-anchor=\"middle\" x=\"12643.5\" y=\"-230.8\" font-family=\"Times,serif\" font-size=\"14.00\" fill=\"#000000\">gini = 0.568</text>\n<text text-anchor=\"middle\" x=\"12643.5\" y=\"-215.8\" font-family=\"Times,serif\" font-size=\"14.00\" fill=\"#000000\">samples = 87</text>\n<text text-anchor=\"middle\" x=\"12643.5\" y=\"-200.8\" font-family=\"Times,serif\" font-size=\"14.00\" fill=\"#000000\">value = [21, 15, 51, 0, 0]</text>\n</g>\n<!-- 152&#45;&gt;160 -->\n<g id=\"edge160\" class=\"edge\">\n<title>152&#45;&gt;160</title>\n<path fill=\"none\" stroke=\"#000000\" d=\"M12559.4297,-296.9465C12570.6528,-287.6088 12582.9337,-277.3911 12594.5573,-267.7203\"/>\n<polygon fill=\"#000000\" stroke=\"#000000\" points=\"12597.0296,-270.2164 12602.4784,-261.13 12592.5526,-264.8353 12597.0296,-270.2164\"/>\n</g>\n<!-- 154 -->\n<g id=\"node155\" class=\"node\">\n<title>154</title>\n<polygon fill=\"#8ef0de\" stroke=\"#000000\" points=\"12124,-157 11977,-157 11977,-89 12124,-89 12124,-157\"/>\n<text text-anchor=\"middle\" x=\"12050.5\" y=\"-141.8\" font-family=\"Times,serif\" font-size=\"14.00\" fill=\"#000000\">V9 &lt;= 5.049</text>\n<text text-anchor=\"middle\" x=\"12050.5\" y=\"-126.8\" font-family=\"Times,serif\" font-size=\"14.00\" fill=\"#000000\">gini = 0.494</text>\n<text text-anchor=\"middle\" x=\"12050.5\" y=\"-111.8\" font-family=\"Times,serif\" font-size=\"14.00\" fill=\"#000000\">samples = 18</text>\n<text text-anchor=\"middle\" x=\"12050.5\" y=\"-96.8\" font-family=\"Times,serif\" font-size=\"14.00\" fill=\"#000000\">value = [2, 4, 12, 0, 0]</text>\n</g>\n<!-- 153&#45;&gt;154 -->\n<g id=\"edge154\" class=\"edge\">\n<title>153&#45;&gt;154</title>\n<path fill=\"none\" stroke=\"#000000\" d=\"M12227.2213,-194.2365C12197.4998,-182.2557 12163.8439,-168.689 12133.9369,-156.6335\"/>\n<polygon fill=\"#000000\" stroke=\"#000000\" points=\"12134.9517,-153.2689 12124.3683,-152.7764 12132.3346,-159.7613 12134.9517,-153.2689\"/>\n</g>\n<!-- 157 -->\n<g id=\"node158\" class=\"node\">\n<title>157</title>\n<polygon fill=\"#ea9b62\" stroke=\"#000000\" points=\"12389.5,-157 12227.5,-157 12227.5,-89 12389.5,-89 12389.5,-157\"/>\n<text text-anchor=\"middle\" x=\"12308.5\" y=\"-141.8\" font-family=\"Times,serif\" font-size=\"14.00\" fill=\"#000000\">V5 &lt;= 6456.5</text>\n<text text-anchor=\"middle\" x=\"12308.5\" y=\"-126.8\" font-family=\"Times,serif\" font-size=\"14.00\" fill=\"#000000\">gini = 0.307</text>\n<text text-anchor=\"middle\" x=\"12308.5\" y=\"-111.8\" font-family=\"Times,serif\" font-size=\"14.00\" fill=\"#000000\">samples = 161</text>\n<text text-anchor=\"middle\" x=\"12308.5\" y=\"-96.8\" font-family=\"Times,serif\" font-size=\"14.00\" fill=\"#000000\">value = [132, 0, 22, 7, 0]</text>\n</g>\n<!-- 153&#45;&gt;157 -->\n<g id=\"edge157\" class=\"edge\">\n<title>153&#45;&gt;157</title>\n<path fill=\"none\" stroke=\"#000000\" d=\"M12308.5,-192.9465C12308.5,-184.776 12308.5,-175.9318 12308.5,-167.3697\"/>\n<polygon fill=\"#000000\" stroke=\"#000000\" points=\"12312.0001,-167.13 12308.5,-157.13 12305.0001,-167.13 12312.0001,-167.13\"/>\n</g>\n<!-- 155 -->\n<g id=\"node156\" class=\"node\">\n<title>155</title>\n<polygon fill=\"#a7ee7b\" stroke=\"#000000\" points=\"11958.5,-53 11818.5,-53 11818.5,0 11958.5,0 11958.5,-53\"/>\n<text text-anchor=\"middle\" x=\"11888.5\" y=\"-37.8\" font-family=\"Times,serif\" font-size=\"14.00\" fill=\"#000000\">gini = 0.375</text>\n<text text-anchor=\"middle\" x=\"11888.5\" y=\"-22.8\" font-family=\"Times,serif\" font-size=\"14.00\" fill=\"#000000\">samples = 4</text>\n<text text-anchor=\"middle\" x=\"11888.5\" y=\"-7.8\" font-family=\"Times,serif\" font-size=\"14.00\" fill=\"#000000\">value = [1, 3, 0, 0, 0]</text>\n</g>\n<!-- 154&#45;&gt;155 -->\n<g id=\"edge155\" class=\"edge\">\n<title>154&#45;&gt;155</title>\n<path fill=\"none\" stroke=\"#000000\" d=\"M11993.3849,-88.9777C11976.7059,-79.0424 11958.5431,-68.2232 11942.0906,-58.4228\"/>\n<polygon fill=\"#000000\" stroke=\"#000000\" points=\"11943.529,-55.2058 11933.1466,-53.095 11939.9467,-61.2197 11943.529,-55.2058\"/>\n</g>\n<!-- 156 -->\n<g id=\"node157\" class=\"node\">\n<title>156</title>\n<polygon fill=\"#57e9ce\" stroke=\"#000000\" points=\"12124,-53 11977,-53 11977,0 12124,0 12124,-53\"/>\n<text text-anchor=\"middle\" x=\"12050.5\" y=\"-37.8\" font-family=\"Times,serif\" font-size=\"14.00\" fill=\"#000000\">gini = 0.255</text>\n<text text-anchor=\"middle\" x=\"12050.5\" y=\"-22.8\" font-family=\"Times,serif\" font-size=\"14.00\" fill=\"#000000\">samples = 14</text>\n<text text-anchor=\"middle\" x=\"12050.5\" y=\"-7.8\" font-family=\"Times,serif\" font-size=\"14.00\" fill=\"#000000\">value = [1, 1, 12, 0, 0]</text>\n</g>\n<!-- 154&#45;&gt;156 -->\n<g id=\"edge156\" class=\"edge\">\n<title>154&#45;&gt;156</title>\n<path fill=\"none\" stroke=\"#000000\" d=\"M12050.5,-88.9777C12050.5,-80.7364 12050.5,-71.887 12050.5,-63.5153\"/>\n<polygon fill=\"#000000\" stroke=\"#000000\" points=\"12054.0001,-63.2484 12050.5,-53.2485 12047.0001,-63.2485 12054.0001,-63.2484\"/>\n</g>\n<!-- 158 -->\n<g id=\"node159\" class=\"node\">\n<title>158</title>\n<polygon fill=\"#e9975b\" stroke=\"#000000\" points=\"12304.5,-53 12142.5,-53 12142.5,0 12304.5,0 12304.5,-53\"/>\n<text text-anchor=\"middle\" x=\"12223.5\" y=\"-37.8\" font-family=\"Times,serif\" font-size=\"14.00\" fill=\"#000000\">gini = 0.255</text>\n<text text-anchor=\"middle\" x=\"12223.5\" y=\"-22.8\" font-family=\"Times,serif\" font-size=\"14.00\" fill=\"#000000\">samples = 155</text>\n<text text-anchor=\"middle\" x=\"12223.5\" y=\"-7.8\" font-family=\"Times,serif\" font-size=\"14.00\" fill=\"#000000\">value = [132, 0, 22, 1, 0]</text>\n</g>\n<!-- 157&#45;&gt;158 -->\n<g id=\"edge158\" class=\"edge\">\n<title>157&#45;&gt;158</title>\n<path fill=\"none\" stroke=\"#000000\" d=\"M12278.5322,-88.9777C12270.5471,-79.9123 12261.9138,-70.111 12253.9056,-61.0192\"/>\n<polygon fill=\"#000000\" stroke=\"#000000\" points=\"12256.2971,-58.4391 12247.0608,-53.2485 12251.0442,-63.066 12256.2971,-58.4391\"/>\n</g>\n<!-- 159 -->\n<g id=\"node160\" class=\"node\">\n<title>159</title>\n<polygon fill=\"#3c39e5\" stroke=\"#000000\" points=\"12462.5,-53 12322.5,-53 12322.5,0 12462.5,0 12462.5,-53\"/>\n<text text-anchor=\"middle\" x=\"12392.5\" y=\"-37.8\" font-family=\"Times,serif\" font-size=\"14.00\" fill=\"#000000\">gini = 0.0</text>\n<text text-anchor=\"middle\" x=\"12392.5\" y=\"-22.8\" font-family=\"Times,serif\" font-size=\"14.00\" fill=\"#000000\">samples = 6</text>\n<text text-anchor=\"middle\" x=\"12392.5\" y=\"-7.8\" font-family=\"Times,serif\" font-size=\"14.00\" fill=\"#000000\">value = [0, 0, 0, 6, 0]</text>\n</g>\n<!-- 157&#45;&gt;159 -->\n<g id=\"edge159\" class=\"edge\">\n<title>157&#45;&gt;159</title>\n<path fill=\"none\" stroke=\"#000000\" d=\"M12338.1153,-88.9777C12346.0064,-79.9123 12354.5381,-70.111 12362.4522,-61.0192\"/>\n<polygon fill=\"#000000\" stroke=\"#000000\" points=\"12365.2906,-63.0892 12369.2164,-53.2485 12360.0107,-58.4932 12365.2906,-63.0892\"/>\n</g>\n<!-- 161 -->\n<g id=\"node162\" class=\"node\">\n<title>161</title>\n<polygon fill=\"#e4fad6\" stroke=\"#000000\" points=\"12721,-157 12566,-157 12566,-89 12721,-89 12721,-157\"/>\n<text text-anchor=\"middle\" x=\"12643.5\" y=\"-141.8\" font-family=\"Times,serif\" font-size=\"14.00\" fill=\"#000000\">V2 &lt;= 455750.0</text>\n<text text-anchor=\"middle\" x=\"12643.5\" y=\"-126.8\" font-family=\"Times,serif\" font-size=\"14.00\" fill=\"#000000\">gini = 0.649</text>\n<text text-anchor=\"middle\" x=\"12643.5\" y=\"-111.8\" font-family=\"Times,serif\" font-size=\"14.00\" fill=\"#000000\">samples = 34</text>\n<text text-anchor=\"middle\" x=\"12643.5\" y=\"-96.8\" font-family=\"Times,serif\" font-size=\"14.00\" fill=\"#000000\">value = [10, 15, 9, 0, 0]</text>\n</g>\n<!-- 160&#45;&gt;161 -->\n<g id=\"edge161\" class=\"edge\">\n<title>160&#45;&gt;161</title>\n<path fill=\"none\" stroke=\"#000000\" d=\"M12643.5,-192.9465C12643.5,-184.776 12643.5,-175.9318 12643.5,-167.3697\"/>\n<polygon fill=\"#000000\" stroke=\"#000000\" points=\"12647.0001,-167.13 12643.5,-157.13 12640.0001,-167.13 12647.0001,-167.13\"/>\n</g>\n<!-- 164 -->\n<g id=\"node165\" class=\"node\">\n<title>164</title>\n<polygon fill=\"#6decd4\" stroke=\"#000000\" points=\"12963.5,-157 12809.5,-157 12809.5,-89 12963.5,-89 12963.5,-157\"/>\n<text text-anchor=\"middle\" x=\"12886.5\" y=\"-141.8\" font-family=\"Times,serif\" font-size=\"14.00\" fill=\"#000000\">V1 &lt;= &#45;118.375</text>\n<text text-anchor=\"middle\" x=\"12886.5\" y=\"-126.8\" font-family=\"Times,serif\" font-size=\"14.00\" fill=\"#000000\">gini = 0.329</text>\n<text text-anchor=\"middle\" x=\"12886.5\" y=\"-111.8\" font-family=\"Times,serif\" font-size=\"14.00\" fill=\"#000000\">samples = 53</text>\n<text text-anchor=\"middle\" x=\"12886.5\" y=\"-96.8\" font-family=\"Times,serif\" font-size=\"14.00\" fill=\"#000000\">value = [11, 0, 42, 0, 0]</text>\n</g>\n<!-- 160&#45;&gt;164 -->\n<g id=\"edge164\" class=\"edge\">\n<title>160&#45;&gt;164</title>\n<path fill=\"none\" stroke=\"#000000\" d=\"M12723.0673,-192.9465C12747.6145,-182.4407 12774.7646,-170.8209 12799.7693,-160.1193\"/>\n<polygon fill=\"#000000\" stroke=\"#000000\" points=\"12801.4214,-163.2194 12809.2376,-156.067 12798.6671,-156.784 12801.4214,-163.2194\"/>\n</g>\n<!-- 162 -->\n<g id=\"node163\" class=\"node\">\n<title>162</title>\n<polygon fill=\"#d6f7c1\" stroke=\"#000000\" points=\"12636,-53 12481,-53 12481,0 12636,0 12636,-53\"/>\n<text text-anchor=\"middle\" x=\"12558.5\" y=\"-37.8\" font-family=\"Times,serif\" font-size=\"14.00\" fill=\"#000000\">gini = 0.518</text>\n<text text-anchor=\"middle\" x=\"12558.5\" y=\"-22.8\" font-family=\"Times,serif\" font-size=\"14.00\" fill=\"#000000\">samples = 26</text>\n<text text-anchor=\"middle\" x=\"12558.5\" y=\"-7.8\" font-family=\"Times,serif\" font-size=\"14.00\" fill=\"#000000\">value = [10, 15, 1, 0, 0]</text>\n</g>\n<!-- 161&#45;&gt;162 -->\n<g id=\"edge162\" class=\"edge\">\n<title>161&#45;&gt;162</title>\n<path fill=\"none\" stroke=\"#000000\" d=\"M12613.5322,-88.9777C12605.5471,-79.9123 12596.9138,-70.111 12588.9056,-61.0192\"/>\n<polygon fill=\"#000000\" stroke=\"#000000\" points=\"12591.2971,-58.4391 12582.0608,-53.2485 12586.0442,-63.066 12591.2971,-58.4391\"/>\n</g>\n<!-- 163 -->\n<g id=\"node164\" class=\"node\">\n<title>163</title>\n<polygon fill=\"#39e5c5\" stroke=\"#000000\" points=\"12794.5,-53 12654.5,-53 12654.5,0 12794.5,0 12794.5,-53\"/>\n<text text-anchor=\"middle\" x=\"12724.5\" y=\"-37.8\" font-family=\"Times,serif\" font-size=\"14.00\" fill=\"#000000\">gini = 0.0</text>\n<text text-anchor=\"middle\" x=\"12724.5\" y=\"-22.8\" font-family=\"Times,serif\" font-size=\"14.00\" fill=\"#000000\">samples = 8</text>\n<text text-anchor=\"middle\" x=\"12724.5\" y=\"-7.8\" font-family=\"Times,serif\" font-size=\"14.00\" fill=\"#000000\">value = [0, 0, 8, 0, 0]</text>\n</g>\n<!-- 161&#45;&gt;163 -->\n<g id=\"edge163\" class=\"edge\">\n<title>161&#45;&gt;163</title>\n<path fill=\"none\" stroke=\"#000000\" d=\"M12672.0576,-88.9777C12679.6669,-79.9123 12687.8939,-70.111 12695.5253,-61.0192\"/>\n<polygon fill=\"#000000\" stroke=\"#000000\" points=\"12698.2995,-63.1581 12702.0479,-53.2485 12692.938,-58.6577 12698.2995,-63.1581\"/>\n</g>\n<!-- 165 -->\n<g id=\"node166\" class=\"node\">\n<title>165</title>\n<polygon fill=\"#48e7c9\" stroke=\"#000000\" points=\"12960,-53 12813,-53 12813,0 12960,0 12960,-53\"/>\n<text text-anchor=\"middle\" x=\"12886.5\" y=\"-37.8\" font-family=\"Times,serif\" font-size=\"14.00\" fill=\"#000000\">gini = 0.133</text>\n<text text-anchor=\"middle\" x=\"12886.5\" y=\"-22.8\" font-family=\"Times,serif\" font-size=\"14.00\" fill=\"#000000\">samples = 42</text>\n<text text-anchor=\"middle\" x=\"12886.5\" y=\"-7.8\" font-family=\"Times,serif\" font-size=\"14.00\" fill=\"#000000\">value = [3, 0, 39, 0, 0]</text>\n</g>\n<!-- 164&#45;&gt;165 -->\n<g id=\"edge165\" class=\"edge\">\n<title>164&#45;&gt;165</title>\n<path fill=\"none\" stroke=\"#000000\" d=\"M12886.5,-88.9777C12886.5,-80.7364 12886.5,-71.887 12886.5,-63.5153\"/>\n<polygon fill=\"#000000\" stroke=\"#000000\" points=\"12890.0001,-63.2484 12886.5,-53.2485 12883.0001,-63.2485 12890.0001,-63.2484\"/>\n</g>\n<!-- 166 -->\n<g id=\"node167\" class=\"node\">\n<title>166</title>\n<polygon fill=\"#efb083\" stroke=\"#000000\" points=\"13118.5,-53 12978.5,-53 12978.5,0 13118.5,0 13118.5,-53\"/>\n<text text-anchor=\"middle\" x=\"13048.5\" y=\"-37.8\" font-family=\"Times,serif\" font-size=\"14.00\" fill=\"#000000\">gini = 0.397</text>\n<text text-anchor=\"middle\" x=\"13048.5\" y=\"-22.8\" font-family=\"Times,serif\" font-size=\"14.00\" fill=\"#000000\">samples = 11</text>\n<text text-anchor=\"middle\" x=\"13048.5\" y=\"-7.8\" font-family=\"Times,serif\" font-size=\"14.00\" fill=\"#000000\">value = [8, 0, 3, 0, 0]</text>\n</g>\n<!-- 164&#45;&gt;166 -->\n<g id=\"edge166\" class=\"edge\">\n<title>164&#45;&gt;166</title>\n<path fill=\"none\" stroke=\"#000000\" d=\"M12943.6151,-88.9777C12960.2941,-79.0424 12978.4569,-68.2232 12994.9094,-58.4228\"/>\n<polygon fill=\"#000000\" stroke=\"#000000\" points=\"12997.0533,-61.2197 13003.8534,-53.095 12993.471,-55.2058 12997.0533,-61.2197\"/>\n</g>\n<!-- 168 -->\n<g id=\"node169\" class=\"node\">\n<title>168</title>\n<polygon fill=\"#52e8cc\" stroke=\"#000000\" points=\"13561.5,-261 13391.5,-261 13391.5,-193 13561.5,-193 13561.5,-261\"/>\n<text text-anchor=\"middle\" x=\"13476.5\" y=\"-245.8\" font-family=\"Times,serif\" font-size=\"14.00\" fill=\"#000000\">V3 &lt;= 794.5</text>\n<text text-anchor=\"middle\" x=\"13476.5\" y=\"-230.8\" font-family=\"Times,serif\" font-size=\"14.00\" fill=\"#000000\">gini = 0.211</text>\n<text text-anchor=\"middle\" x=\"13476.5\" y=\"-215.8\" font-family=\"Times,serif\" font-size=\"14.00\" fill=\"#000000\">samples = 722</text>\n<text text-anchor=\"middle\" x=\"13476.5\" y=\"-200.8\" font-family=\"Times,serif\" font-size=\"14.00\" fill=\"#000000\">value = [64, 0, 638, 20, 0]</text>\n</g>\n<!-- 167&#45;&gt;168 -->\n<g id=\"edge168\" class=\"edge\">\n<title>167&#45;&gt;168</title>\n<path fill=\"none\" stroke=\"#000000\" d=\"M13476.5,-296.9465C13476.5,-288.776 13476.5,-279.9318 13476.5,-271.3697\"/>\n<polygon fill=\"#000000\" stroke=\"#000000\" points=\"13480.0001,-271.13 13476.5,-261.13 13473.0001,-271.13 13480.0001,-271.13\"/>\n</g>\n<!-- 175 -->\n<g id=\"node176\" class=\"node\">\n<title>175</title>\n<polygon fill=\"#504de8\" stroke=\"#000000\" points=\"13973,-261 13826,-261 13826,-193 13973,-193 13973,-261\"/>\n<text text-anchor=\"middle\" x=\"13899.5\" y=\"-245.8\" font-family=\"Times,serif\" font-size=\"14.00\" fill=\"#000000\">V7 &lt;= 762.0</text>\n<text text-anchor=\"middle\" x=\"13899.5\" y=\"-230.8\" font-family=\"Times,serif\" font-size=\"14.00\" fill=\"#000000\">gini = 0.174</text>\n<text text-anchor=\"middle\" x=\"13899.5\" y=\"-215.8\" font-family=\"Times,serif\" font-size=\"14.00\" fill=\"#000000\">samples = 32</text>\n<text text-anchor=\"middle\" x=\"13899.5\" y=\"-200.8\" font-family=\"Times,serif\" font-size=\"14.00\" fill=\"#000000\">value = [1, 0, 2, 29, 0]</text>\n</g>\n<!-- 167&#45;&gt;175 -->\n<g id=\"edge175\" class=\"edge\">\n<title>167&#45;&gt;175</title>\n<path fill=\"none\" stroke=\"#000000\" d=\"M13561.5915,-310.0792C13635.5557,-291.8941 13742.0986,-265.6992 13815.6848,-247.607\"/>\n<polygon fill=\"#000000\" stroke=\"#000000\" points=\"13816.9675,-250.896 13825.8426,-245.1096 13815.2962,-244.0984 13816.9675,-250.896\"/>\n</g>\n<!-- 169 -->\n<g id=\"node170\" class=\"node\">\n<title>169</title>\n<polygon fill=\"#42e6c8\" stroke=\"#000000\" points=\"13467.5,-157 13305.5,-157 13305.5,-89 13467.5,-89 13467.5,-157\"/>\n<text text-anchor=\"middle\" x=\"13386.5\" y=\"-141.8\" font-family=\"Times,serif\" font-size=\"14.00\" fill=\"#000000\">V2 &lt;= 322650.0</text>\n<text text-anchor=\"middle\" x=\"13386.5\" y=\"-126.8\" font-family=\"Times,serif\" font-size=\"14.00\" fill=\"#000000\">gini = 0.082</text>\n<text text-anchor=\"middle\" x=\"13386.5\" y=\"-111.8\" font-family=\"Times,serif\" font-size=\"14.00\" fill=\"#000000\">samples = 582</text>\n<text text-anchor=\"middle\" x=\"13386.5\" y=\"-96.8\" font-family=\"Times,serif\" font-size=\"14.00\" fill=\"#000000\">value = [25, 0, 557, 0, 0]</text>\n</g>\n<!-- 168&#45;&gt;169 -->\n<g id=\"edge169\" class=\"edge\">\n<title>168&#45;&gt;169</title>\n<path fill=\"none\" stroke=\"#000000\" d=\"M13447.0306,-192.9465C13439.2607,-183.968 13430.7868,-174.1758 13422.7064,-164.8385\"/>\n<polygon fill=\"#000000\" stroke=\"#000000\" points=\"13425.226,-162.4014 13416.0356,-157.13 13419.9328,-166.982 13425.226,-162.4014\"/>\n</g>\n<!-- 172 -->\n<g id=\"node173\" class=\"node\">\n<title>172</title>\n<polygon fill=\"#adf4e7\" stroke=\"#000000\" points=\"13647.5,-157 13485.5,-157 13485.5,-89 13647.5,-89 13647.5,-157\"/>\n<text text-anchor=\"middle\" x=\"13566.5\" y=\"-141.8\" font-family=\"Times,serif\" font-size=\"14.00\" fill=\"#000000\">V2 &lt;= 393100.0</text>\n<text text-anchor=\"middle\" x=\"13566.5\" y=\"-126.8\" font-family=\"Times,serif\" font-size=\"14.00\" fill=\"#000000\">gini = 0.567</text>\n<text text-anchor=\"middle\" x=\"13566.5\" y=\"-111.8\" font-family=\"Times,serif\" font-size=\"14.00\" fill=\"#000000\">samples = 140</text>\n<text text-anchor=\"middle\" x=\"13566.5\" y=\"-96.8\" font-family=\"Times,serif\" font-size=\"14.00\" fill=\"#000000\">value = [39, 0, 81, 20, 0]</text>\n</g>\n<!-- 168&#45;&gt;172 -->\n<g id=\"edge172\" class=\"edge\">\n<title>168&#45;&gt;172</title>\n<path fill=\"none\" stroke=\"#000000\" d=\"M13505.9694,-192.9465C13513.7393,-183.968 13522.2132,-174.1758 13530.2936,-164.8385\"/>\n<polygon fill=\"#000000\" stroke=\"#000000\" points=\"13533.0672,-166.982 13536.9644,-157.13 13527.774,-162.4014 13533.0672,-166.982\"/>\n</g>\n<!-- 170 -->\n<g id=\"node171\" class=\"node\">\n<title>170</title>\n<polygon fill=\"#74edd6\" stroke=\"#000000\" points=\"13292,-53 13137,-53 13137,0 13292,0 13292,-53\"/>\n<text text-anchor=\"middle\" x=\"13214.5\" y=\"-37.8\" font-family=\"Times,serif\" font-size=\"14.00\" fill=\"#000000\">gini = 0.354</text>\n<text text-anchor=\"middle\" x=\"13214.5\" y=\"-22.8\" font-family=\"Times,serif\" font-size=\"14.00\" fill=\"#000000\">samples = 100</text>\n<text text-anchor=\"middle\" x=\"13214.5\" y=\"-7.8\" font-family=\"Times,serif\" font-size=\"14.00\" fill=\"#000000\">value = [23, 0, 77, 0, 0]</text>\n</g>\n<!-- 169&#45;&gt;170 -->\n<g id=\"edge170\" class=\"edge\">\n<title>169&#45;&gt;170</title>\n<path fill=\"none\" stroke=\"#000000\" d=\"M13325.8592,-88.9777C13307.9867,-78.9504 13288.5095,-68.0228 13270.9139,-58.1508\"/>\n<polygon fill=\"#000000\" stroke=\"#000000\" points=\"13272.3363,-54.9356 13261.9025,-53.095 13268.9112,-61.0405 13272.3363,-54.9356\"/>\n</g>\n<!-- 171 -->\n<g id=\"node172\" class=\"node\">\n<title>171</title>\n<polygon fill=\"#3ae5c5\" stroke=\"#000000\" points=\"13465,-53 13310,-53 13310,0 13465,0 13465,-53\"/>\n<text text-anchor=\"middle\" x=\"13387.5\" y=\"-37.8\" font-family=\"Times,serif\" font-size=\"14.00\" fill=\"#000000\">gini = 0.008</text>\n<text text-anchor=\"middle\" x=\"13387.5\" y=\"-22.8\" font-family=\"Times,serif\" font-size=\"14.00\" fill=\"#000000\">samples = 482</text>\n<text text-anchor=\"middle\" x=\"13387.5\" y=\"-7.8\" font-family=\"Times,serif\" font-size=\"14.00\" fill=\"#000000\">value = [2, 0, 480, 0, 0]</text>\n</g>\n<!-- 169&#45;&gt;171 -->\n<g id=\"edge171\" class=\"edge\">\n<title>169&#45;&gt;171</title>\n<path fill=\"none\" stroke=\"#000000\" d=\"M13386.8526,-88.9777C13386.938,-80.7364 13387.0297,-71.887 13387.1164,-63.5153\"/>\n<polygon fill=\"#000000\" stroke=\"#000000\" points=\"13390.6189,-63.2842 13387.2228,-53.2485 13383.6193,-63.2116 13390.6189,-63.2842\"/>\n</g>\n<!-- 173 -->\n<g id=\"node174\" class=\"node\">\n<title>173</title>\n<polygon fill=\"#f5ceb1\" stroke=\"#000000\" points=\"13645.5,-53 13483.5,-53 13483.5,0 13645.5,0 13645.5,-53\"/>\n<text text-anchor=\"middle\" x=\"13564.5\" y=\"-37.8\" font-family=\"Times,serif\" font-size=\"14.00\" fill=\"#000000\">gini = 0.593</text>\n<text text-anchor=\"middle\" x=\"13564.5\" y=\"-22.8\" font-family=\"Times,serif\" font-size=\"14.00\" fill=\"#000000\">samples = 69</text>\n<text text-anchor=\"middle\" x=\"13564.5\" y=\"-7.8\" font-family=\"Times,serif\" font-size=\"14.00\" fill=\"#000000\">value = [38, 0, 18, 13, 0]</text>\n</g>\n<!-- 172&#45;&gt;173 -->\n<g id=\"edge173\" class=\"edge\">\n<title>172&#45;&gt;173</title>\n<path fill=\"none\" stroke=\"#000000\" d=\"M13565.7949,-88.9777C13565.6241,-80.7364 13565.4407,-71.887 13565.2672,-63.5153\"/>\n<polygon fill=\"#000000\" stroke=\"#000000\" points=\"13568.7609,-63.1738 13565.0544,-53.2485 13561.7624,-63.3189 13568.7609,-63.1738\"/>\n</g>\n<!-- 174 -->\n<g id=\"node175\" class=\"node\">\n<title>174</title>\n<polygon fill=\"#52e8cc\" stroke=\"#000000\" points=\"13811,-53 13664,-53 13664,0 13811,0 13811,-53\"/>\n<text text-anchor=\"middle\" x=\"13737.5\" y=\"-37.8\" font-family=\"Times,serif\" font-size=\"14.00\" fill=\"#000000\">gini = 0.203</text>\n<text text-anchor=\"middle\" x=\"13737.5\" y=\"-22.8\" font-family=\"Times,serif\" font-size=\"14.00\" fill=\"#000000\">samples = 71</text>\n<text text-anchor=\"middle\" x=\"13737.5\" y=\"-7.8\" font-family=\"Times,serif\" font-size=\"14.00\" fill=\"#000000\">value = [1, 0, 63, 7, 0]</text>\n</g>\n<!-- 172&#45;&gt;174 -->\n<g id=\"edge174\" class=\"edge\">\n<title>172&#45;&gt;174</title>\n<path fill=\"none\" stroke=\"#000000\" d=\"M13626.7882,-88.9777C13644.5568,-78.9504 13663.9208,-68.0228 13681.4141,-58.1508\"/>\n<polygon fill=\"#000000\" stroke=\"#000000\" points=\"13683.3843,-61.0579 13690.3731,-53.095 13679.9439,-54.9616 13683.3843,-61.0579\"/>\n</g>\n<!-- 176 -->\n<g id=\"node177\" class=\"node\">\n<title>176</title>\n<polygon fill=\"#9cf2e2\" stroke=\"#000000\" points=\"13969.5,-157 13829.5,-157 13829.5,-89 13969.5,-89 13969.5,-157\"/>\n<text text-anchor=\"middle\" x=\"13899.5\" y=\"-141.8\" font-family=\"Times,serif\" font-size=\"14.00\" fill=\"#000000\">V1 &lt;= &#45;118.395</text>\n<text text-anchor=\"middle\" x=\"13899.5\" y=\"-126.8\" font-family=\"Times,serif\" font-size=\"14.00\" fill=\"#000000\">gini = 0.444</text>\n<text text-anchor=\"middle\" x=\"13899.5\" y=\"-111.8\" font-family=\"Times,serif\" font-size=\"14.00\" fill=\"#000000\">samples = 3</text>\n<text text-anchor=\"middle\" x=\"13899.5\" y=\"-96.8\" font-family=\"Times,serif\" font-size=\"14.00\" fill=\"#000000\">value = [1, 0, 2, 0, 0]</text>\n</g>\n<!-- 175&#45;&gt;176 -->\n<g id=\"edge176\" class=\"edge\">\n<title>175&#45;&gt;176</title>\n<path fill=\"none\" stroke=\"#000000\" d=\"M13899.5,-192.9465C13899.5,-184.776 13899.5,-175.9318 13899.5,-167.3697\"/>\n<polygon fill=\"#000000\" stroke=\"#000000\" points=\"13903.0001,-167.13 13899.5,-157.13 13896.0001,-167.13 13903.0001,-167.13\"/>\n</g>\n<!-- 179 -->\n<g id=\"node180\" class=\"node\">\n<title>179</title>\n<polygon fill=\"#3c39e5\" stroke=\"#000000\" points=\"14135,-149.5 13988,-149.5 13988,-96.5 14135,-96.5 14135,-149.5\"/>\n<text text-anchor=\"middle\" x=\"14061.5\" y=\"-134.3\" font-family=\"Times,serif\" font-size=\"14.00\" fill=\"#000000\">gini = 0.0</text>\n<text text-anchor=\"middle\" x=\"14061.5\" y=\"-119.3\" font-family=\"Times,serif\" font-size=\"14.00\" fill=\"#000000\">samples = 29</text>\n<text text-anchor=\"middle\" x=\"14061.5\" y=\"-104.3\" font-family=\"Times,serif\" font-size=\"14.00\" fill=\"#000000\">value = [0, 0, 0, 29, 0]</text>\n</g>\n<!-- 175&#45;&gt;179 -->\n<g id=\"edge179\" class=\"edge\">\n<title>175&#45;&gt;179</title>\n<path fill=\"none\" stroke=\"#000000\" d=\"M13952.5449,-192.9465C13971.5043,-180.775 13992.7927,-167.1084 14011.4879,-155.1066\"/>\n<polygon fill=\"#000000\" stroke=\"#000000\" points=\"14013.6311,-157.8898 14020.1555,-149.5422 14009.8495,-151.9992 14013.6311,-157.8898\"/>\n</g>\n<!-- 177 -->\n<g id=\"node178\" class=\"node\">\n<title>177</title>\n<polygon fill=\"#39e5c5\" stroke=\"#000000\" points=\"13969.5,-53 13829.5,-53 13829.5,0 13969.5,0 13969.5,-53\"/>\n<text text-anchor=\"middle\" x=\"13899.5\" y=\"-37.8\" font-family=\"Times,serif\" font-size=\"14.00\" fill=\"#000000\">gini = 0.0</text>\n<text text-anchor=\"middle\" x=\"13899.5\" y=\"-22.8\" font-family=\"Times,serif\" font-size=\"14.00\" fill=\"#000000\">samples = 2</text>\n<text text-anchor=\"middle\" x=\"13899.5\" y=\"-7.8\" font-family=\"Times,serif\" font-size=\"14.00\" fill=\"#000000\">value = [0, 0, 2, 0, 0]</text>\n</g>\n<!-- 176&#45;&gt;177 -->\n<g id=\"edge177\" class=\"edge\">\n<title>176&#45;&gt;177</title>\n<path fill=\"none\" stroke=\"#000000\" d=\"M13899.5,-88.9777C13899.5,-80.7364 13899.5,-71.887 13899.5,-63.5153\"/>\n<polygon fill=\"#000000\" stroke=\"#000000\" points=\"13903.0001,-63.2484 13899.5,-53.2485 13896.0001,-63.2485 13903.0001,-63.2484\"/>\n</g>\n<!-- 178 -->\n<g id=\"node179\" class=\"node\">\n<title>178</title>\n<polygon fill=\"#e58139\" stroke=\"#000000\" points=\"14127.5,-53 13987.5,-53 13987.5,0 14127.5,0 14127.5,-53\"/>\n<text text-anchor=\"middle\" x=\"14057.5\" y=\"-37.8\" font-family=\"Times,serif\" font-size=\"14.00\" fill=\"#000000\">gini = 0.0</text>\n<text text-anchor=\"middle\" x=\"14057.5\" y=\"-22.8\" font-family=\"Times,serif\" font-size=\"14.00\" fill=\"#000000\">samples = 1</text>\n<text text-anchor=\"middle\" x=\"14057.5\" y=\"-7.8\" font-family=\"Times,serif\" font-size=\"14.00\" fill=\"#000000\">value = [1, 0, 0, 0, 0]</text>\n</g>\n<!-- 176&#45;&gt;178 -->\n<g id=\"edge178\" class=\"edge\">\n<title>176&#45;&gt;178</title>\n<path fill=\"none\" stroke=\"#000000\" d=\"M13955.2049,-88.9777C13971.472,-79.0424 13989.1864,-68.2232 14005.2326,-58.4228\"/>\n<polygon fill=\"#000000\" stroke=\"#000000\" points=\"14007.246,-61.2943 14013.9558,-53.095 14003.5973,-55.3204 14007.246,-61.2943\"/>\n</g>\n<!-- 181 -->\n<g id=\"node182\" class=\"node\">\n<title>181</title>\n<polygon fill=\"#5b59e9\" stroke=\"#000000\" points=\"15446.5,-469 15254.5,-469 15254.5,-401 15446.5,-401 15446.5,-469\"/>\n<text text-anchor=\"middle\" x=\"15350.5\" y=\"-453.8\" font-family=\"Times,serif\" font-size=\"14.00\" fill=\"#000000\">V5 &lt;= 4441.0</text>\n<text text-anchor=\"middle\" x=\"15350.5\" y=\"-438.8\" font-family=\"Times,serif\" font-size=\"14.00\" fill=\"#000000\">gini = 0.248</text>\n<text text-anchor=\"middle\" x=\"15350.5\" y=\"-423.8\" font-family=\"Times,serif\" font-size=\"14.00\" fill=\"#000000\">samples = 1205</text>\n<text text-anchor=\"middle\" x=\"15350.5\" y=\"-408.8\" font-family=\"Times,serif\" font-size=\"14.00\" fill=\"#000000\">value = [145, 0, 12, 1035, 13]</text>\n</g>\n<!-- 180&#45;&gt;181 -->\n<g id=\"edge181\" class=\"edge\">\n<title>180&#45;&gt;181</title>\n<path fill=\"none\" stroke=\"#000000\" d=\"M15350.5,-504.9465C15350.5,-496.776 15350.5,-487.9318 15350.5,-479.3697\"/>\n<polygon fill=\"#000000\" stroke=\"#000000\" points=\"15354.0001,-479.13 15350.5,-469.13 15347.0001,-479.13 15354.0001,-479.13\"/>\n</g>\n<!-- 210 -->\n<g id=\"node211\" class=\"node\">\n<title>210</title>\n<polygon fill=\"#e84cc6\" stroke=\"#000000\" points=\"16503.5,-469 16341.5,-469 16341.5,-401 16503.5,-401 16503.5,-469\"/>\n<text text-anchor=\"middle\" x=\"16422.5\" y=\"-453.8\" font-family=\"Times,serif\" font-size=\"14.00\" fill=\"#000000\">V5 &lt;= 8307.0</text>\n<text text-anchor=\"middle\" x=\"16422.5\" y=\"-438.8\" font-family=\"Times,serif\" font-size=\"14.00\" fill=\"#000000\">gini = 0.163</text>\n<text text-anchor=\"middle\" x=\"16422.5\" y=\"-423.8\" font-family=\"Times,serif\" font-size=\"14.00\" fill=\"#000000\">samples = 168</text>\n<text text-anchor=\"middle\" x=\"16422.5\" y=\"-408.8\" font-family=\"Times,serif\" font-size=\"14.00\" fill=\"#000000\">value = [0, 0, 0, 15, 153]</text>\n</g>\n<!-- 180&#45;&gt;210 -->\n<g id=\"edge210\" class=\"edge\">\n<title>180&#45;&gt;210</title>\n<path fill=\"none\" stroke=\"#000000\" d=\"M15450.8694,-529.2627C15658.3224,-509.1366 16131.5927,-463.2224 16331.1099,-443.8662\"/>\n<polygon fill=\"#000000\" stroke=\"#000000\" points=\"16331.6505,-447.3303 16341.2658,-442.8809 16330.9745,-440.363 16331.6505,-447.3303\"/>\n</g>\n<!-- 182 -->\n<g id=\"node183\" class=\"node\">\n<title>182</title>\n<polygon fill=\"#f9e2d1\" stroke=\"#000000\" points=\"15192,-365 15023,-365 15023,-297 15192,-297 15192,-365\"/>\n<text text-anchor=\"middle\" x=\"15107.5\" y=\"-349.8\" font-family=\"Times,serif\" font-size=\"14.00\" fill=\"#000000\">V7 &lt;= 1065.5</text>\n<text text-anchor=\"middle\" x=\"15107.5\" y=\"-334.8\" font-family=\"Times,serif\" font-size=\"14.00\" fill=\"#000000\">gini = 0.533</text>\n<text text-anchor=\"middle\" x=\"15107.5\" y=\"-319.8\" font-family=\"Times,serif\" font-size=\"14.00\" fill=\"#000000\">samples = 218</text>\n<text text-anchor=\"middle\" x=\"15107.5\" y=\"-304.8\" font-family=\"Times,serif\" font-size=\"14.00\" fill=\"#000000\">value = [119, 0, 10, 89, 0]</text>\n</g>\n<!-- 181&#45;&gt;182 -->\n<g id=\"edge182\" class=\"edge\">\n<title>181&#45;&gt;182</title>\n<path fill=\"none\" stroke=\"#000000\" d=\"M15270.9327,-400.9465C15247.1219,-390.7559 15220.8621,-379.5171 15196.4868,-369.0849\"/>\n<polygon fill=\"#000000\" stroke=\"#000000\" points=\"15197.8166,-365.847 15187.246,-365.13 15195.0623,-372.2824 15197.8166,-365.847\"/>\n</g>\n<!-- 197 -->\n<g id=\"node198\" class=\"node\">\n<title>197</title>\n<polygon fill=\"#4441e6\" stroke=\"#000000\" points=\"15850.5,-365 15680.5,-365 15680.5,-297 15850.5,-297 15850.5,-365\"/>\n<text text-anchor=\"middle\" x=\"15765.5\" y=\"-349.8\" font-family=\"Times,serif\" font-size=\"14.00\" fill=\"#000000\">V5 &lt;= 12856.0</text>\n<text text-anchor=\"middle\" x=\"15765.5\" y=\"-334.8\" font-family=\"Times,serif\" font-size=\"14.00\" fill=\"#000000\">gini = 0.08</text>\n<text text-anchor=\"middle\" x=\"15765.5\" y=\"-319.8\" font-family=\"Times,serif\" font-size=\"14.00\" fill=\"#000000\">samples = 987</text>\n<text text-anchor=\"middle\" x=\"15765.5\" y=\"-304.8\" font-family=\"Times,serif\" font-size=\"14.00\" fill=\"#000000\">value = [26, 0, 2, 946, 13]</text>\n</g>\n<!-- 181&#45;&gt;197 -->\n<g id=\"edge197\" class=\"edge\">\n<title>181&#45;&gt;197</title>\n<path fill=\"none\" stroke=\"#000000\" d=\"M15446.7524,-410.8789C15514.0773,-394.0071 15603.5856,-371.5761 15670.6087,-354.78\"/>\n<polygon fill=\"#000000\" stroke=\"#000000\" points=\"15671.4797,-358.17 15680.3289,-352.3441 15669.778,-351.38 15671.4797,-358.17\"/>\n</g>\n<!-- 183 -->\n<g id=\"node184\" class=\"node\">\n<title>183</title>\n<polygon fill=\"#eca36f\" stroke=\"#000000\" points=\"14716.5,-261 14554.5,-261 14554.5,-193 14716.5,-193 14716.5,-261\"/>\n<text text-anchor=\"middle\" x=\"14635.5\" y=\"-245.8\" font-family=\"Times,serif\" font-size=\"14.00\" fill=\"#000000\">V2 &lt;= 421300.0</text>\n<text text-anchor=\"middle\" x=\"14635.5\" y=\"-230.8\" font-family=\"Times,serif\" font-size=\"14.00\" fill=\"#000000\">gini = 0.373</text>\n<text text-anchor=\"middle\" x=\"14635.5\" y=\"-215.8\" font-family=\"Times,serif\" font-size=\"14.00\" fill=\"#000000\">samples = 132</text>\n<text text-anchor=\"middle\" x=\"14635.5\" y=\"-200.8\" font-family=\"Times,serif\" font-size=\"14.00\" fill=\"#000000\">value = [102, 0, 9, 21, 0]</text>\n</g>\n<!-- 182&#45;&gt;183 -->\n<g id=\"edge183\" class=\"edge\">\n<title>182&#45;&gt;183</title>\n<path fill=\"none\" stroke=\"#000000\" d=\"M15022.8434,-312.3469C14939.3978,-293.9605 14812.2891,-265.9535 14726.6603,-247.0862\"/>\n<polygon fill=\"#000000\" stroke=\"#000000\" points=\"14727.2084,-243.6231 14716.6895,-244.8892 14725.7021,-250.4591 14727.2084,-243.6231\"/>\n</g>\n<!-- 190 -->\n<g id=\"node191\" class=\"node\">\n<title>190</title>\n<polygon fill=\"#6f6dec\" stroke=\"#000000\" points=\"15185,-261 15030,-261 15030,-193 15185,-193 15185,-261\"/>\n<text text-anchor=\"middle\" x=\"15107.5\" y=\"-245.8\" font-family=\"Times,serif\" font-size=\"14.00\" fill=\"#000000\">V8 &lt;= 1872.0</text>\n<text text-anchor=\"middle\" x=\"15107.5\" y=\"-230.8\" font-family=\"Times,serif\" font-size=\"14.00\" fill=\"#000000\">gini = 0.336</text>\n<text text-anchor=\"middle\" x=\"15107.5\" y=\"-215.8\" font-family=\"Times,serif\" font-size=\"14.00\" fill=\"#000000\">samples = 86</text>\n<text text-anchor=\"middle\" x=\"15107.5\" y=\"-200.8\" font-family=\"Times,serif\" font-size=\"14.00\" fill=\"#000000\">value = [17, 0, 1, 68, 0]</text>\n</g>\n<!-- 182&#45;&gt;190 -->\n<g id=\"edge190\" class=\"edge\">\n<title>182&#45;&gt;190</title>\n<path fill=\"none\" stroke=\"#000000\" d=\"M15107.5,-296.9465C15107.5,-288.776 15107.5,-279.9318 15107.5,-271.3697\"/>\n<polygon fill=\"#000000\" stroke=\"#000000\" points=\"15111.0001,-271.13 15107.5,-261.13 15104.0001,-271.13 15111.0001,-271.13\"/>\n</g>\n<!-- 184 -->\n<g id=\"node185\" class=\"node\">\n<title>184</title>\n<polygon fill=\"#ea9b63\" stroke=\"#000000\" points=\"14469.5,-157 14307.5,-157 14307.5,-89 14469.5,-89 14469.5,-157\"/>\n<text text-anchor=\"middle\" x=\"14388.5\" y=\"-141.8\" font-family=\"Times,serif\" font-size=\"14.00\" fill=\"#000000\">V8 &lt;= 2818.0</text>\n<text text-anchor=\"middle\" x=\"14388.5\" y=\"-126.8\" font-family=\"Times,serif\" font-size=\"14.00\" fill=\"#000000\">gini = 0.287</text>\n<text text-anchor=\"middle\" x=\"14388.5\" y=\"-111.8\" font-family=\"Times,serif\" font-size=\"14.00\" fill=\"#000000\">samples = 121</text>\n<text text-anchor=\"middle\" x=\"14388.5\" y=\"-96.8\" font-family=\"Times,serif\" font-size=\"14.00\" fill=\"#000000\">value = [100, 0, 0, 21, 0]</text>\n</g>\n<!-- 183&#45;&gt;184 -->\n<g id=\"edge184\" class=\"edge\">\n<title>183&#45;&gt;184</title>\n<path fill=\"none\" stroke=\"#000000\" d=\"M14554.623,-192.9465C14530.4202,-182.7559 14503.7281,-171.5171 14478.9516,-161.0849\"/>\n<polygon fill=\"#000000\" stroke=\"#000000\" points=\"14480.1333,-157.7849 14469.5587,-157.13 14477.4169,-164.2364 14480.1333,-157.7849\"/>\n</g>\n<!-- 187 -->\n<g id=\"node188\" class=\"node\">\n<title>187</title>\n<polygon fill=\"#65ebd2\" stroke=\"#000000\" points=\"14705.5,-157 14565.5,-157 14565.5,-89 14705.5,-89 14705.5,-157\"/>\n<text text-anchor=\"middle\" x=\"14635.5\" y=\"-141.8\" font-family=\"Times,serif\" font-size=\"14.00\" fill=\"#000000\">V1 &lt;= &#45;118.485</text>\n<text text-anchor=\"middle\" x=\"14635.5\" y=\"-126.8\" font-family=\"Times,serif\" font-size=\"14.00\" fill=\"#000000\">gini = 0.298</text>\n<text text-anchor=\"middle\" x=\"14635.5\" y=\"-111.8\" font-family=\"Times,serif\" font-size=\"14.00\" fill=\"#000000\">samples = 11</text>\n<text text-anchor=\"middle\" x=\"14635.5\" y=\"-96.8\" font-family=\"Times,serif\" font-size=\"14.00\" fill=\"#000000\">value = [2, 0, 9, 0, 0]</text>\n</g>\n<!-- 183&#45;&gt;187 -->\n<g id=\"edge187\" class=\"edge\">\n<title>183&#45;&gt;187</title>\n<path fill=\"none\" stroke=\"#000000\" d=\"M14635.5,-192.9465C14635.5,-184.776 14635.5,-175.9318 14635.5,-167.3697\"/>\n<polygon fill=\"#000000\" stroke=\"#000000\" points=\"14639.0001,-167.13 14635.5,-157.13 14632.0001,-167.13 14639.0001,-167.13\"/>\n</g>\n<!-- 185 -->\n<g id=\"node186\" class=\"node\">\n<title>185</title>\n<polygon fill=\"#e78946\" stroke=\"#000000\" points=\"14293,-53 14146,-53 14146,0 14293,0 14293,-53\"/>\n<text text-anchor=\"middle\" x=\"14219.5\" y=\"-37.8\" font-family=\"Times,serif\" font-size=\"14.00\" fill=\"#000000\">gini = 0.112</text>\n<text text-anchor=\"middle\" x=\"14219.5\" y=\"-22.8\" font-family=\"Times,serif\" font-size=\"14.00\" fill=\"#000000\">samples = 84</text>\n<text text-anchor=\"middle\" x=\"14219.5\" y=\"-7.8\" font-family=\"Times,serif\" font-size=\"14.00\" fill=\"#000000\">value = [79, 0, 0, 5, 0]</text>\n</g>\n<!-- 184&#45;&gt;185 -->\n<g id=\"edge185\" class=\"edge\">\n<title>184&#45;&gt;185</title>\n<path fill=\"none\" stroke=\"#000000\" d=\"M14328.9169,-88.9777C14311.3561,-78.9504 14292.2186,-68.0228 14274.9299,-58.1508\"/>\n<polygon fill=\"#000000\" stroke=\"#000000\" points=\"14276.4953,-55.0143 14266.0757,-53.095 14273.0242,-61.0931 14276.4953,-55.0143\"/>\n</g>\n<!-- 186 -->\n<g id=\"node187\" class=\"node\">\n<title>186</title>\n<polygon fill=\"#f9e1d0\" stroke=\"#000000\" points=\"14466,-53 14311,-53 14311,0 14466,0 14466,-53\"/>\n<text text-anchor=\"middle\" x=\"14388.5\" y=\"-37.8\" font-family=\"Times,serif\" font-size=\"14.00\" fill=\"#000000\">gini = 0.491</text>\n<text text-anchor=\"middle\" x=\"14388.5\" y=\"-22.8\" font-family=\"Times,serif\" font-size=\"14.00\" fill=\"#000000\">samples = 37</text>\n<text text-anchor=\"middle\" x=\"14388.5\" y=\"-7.8\" font-family=\"Times,serif\" font-size=\"14.00\" fill=\"#000000\">value = [21, 0, 0, 16, 0]</text>\n</g>\n<!-- 184&#45;&gt;186 -->\n<g id=\"edge186\" class=\"edge\">\n<title>184&#45;&gt;186</title>\n<path fill=\"none\" stroke=\"#000000\" d=\"M14388.5,-88.9777C14388.5,-80.7364 14388.5,-71.887 14388.5,-63.5153\"/>\n<polygon fill=\"#000000\" stroke=\"#000000\" points=\"14392.0001,-63.2484 14388.5,-53.2485 14385.0001,-63.2485 14392.0001,-63.2484\"/>\n</g>\n<!-- 188 -->\n<g id=\"node189\" class=\"node\">\n<title>188</title>\n<polygon fill=\"#39e5c5\" stroke=\"#000000\" points=\"14624.5,-53 14484.5,-53 14484.5,0 14624.5,0 14624.5,-53\"/>\n<text text-anchor=\"middle\" x=\"14554.5\" y=\"-37.8\" font-family=\"Times,serif\" font-size=\"14.00\" fill=\"#000000\">gini = 0.0</text>\n<text text-anchor=\"middle\" x=\"14554.5\" y=\"-22.8\" font-family=\"Times,serif\" font-size=\"14.00\" fill=\"#000000\">samples = 9</text>\n<text text-anchor=\"middle\" x=\"14554.5\" y=\"-7.8\" font-family=\"Times,serif\" font-size=\"14.00\" fill=\"#000000\">value = [0, 0, 9, 0, 0]</text>\n</g>\n<!-- 187&#45;&gt;188 -->\n<g id=\"edge188\" class=\"edge\">\n<title>187&#45;&gt;188</title>\n<path fill=\"none\" stroke=\"#000000\" d=\"M14606.9424,-88.9777C14599.3331,-79.9123 14591.1061,-70.111 14583.4747,-61.0192\"/>\n<polygon fill=\"#000000\" stroke=\"#000000\" points=\"14586.062,-58.6577 14576.9521,-53.2485 14580.7005,-63.1581 14586.062,-58.6577\"/>\n</g>\n<!-- 189 -->\n<g id=\"node190\" class=\"node\">\n<title>189</title>\n<polygon fill=\"#e58139\" stroke=\"#000000\" points=\"14782.5,-53 14642.5,-53 14642.5,0 14782.5,0 14782.5,-53\"/>\n<text text-anchor=\"middle\" x=\"14712.5\" y=\"-37.8\" font-family=\"Times,serif\" font-size=\"14.00\" fill=\"#000000\">gini = 0.0</text>\n<text text-anchor=\"middle\" x=\"14712.5\" y=\"-22.8\" font-family=\"Times,serif\" font-size=\"14.00\" fill=\"#000000\">samples = 2</text>\n<text text-anchor=\"middle\" x=\"14712.5\" y=\"-7.8\" font-family=\"Times,serif\" font-size=\"14.00\" fill=\"#000000\">value = [2, 0, 0, 0, 0]</text>\n</g>\n<!-- 187&#45;&gt;189 -->\n<g id=\"edge189\" class=\"edge\">\n<title>187&#45;&gt;189</title>\n<path fill=\"none\" stroke=\"#000000\" d=\"M14662.6473,-88.9777C14669.8078,-80.0039 14677.5436,-70.3089 14684.7361,-61.295\"/>\n<polygon fill=\"#000000\" stroke=\"#000000\" points=\"14687.6554,-63.2481 14691.1567,-53.2485 14682.1837,-58.8821 14687.6554,-63.2481\"/>\n</g>\n<!-- 191 -->\n<g id=\"node192\" class=\"node\">\n<title>191</title>\n<polygon fill=\"#f2c09c\" stroke=\"#000000\" points=\"15094.5,-157 14954.5,-157 14954.5,-89 15094.5,-89 15094.5,-157\"/>\n<text text-anchor=\"middle\" x=\"15024.5\" y=\"-141.8\" font-family=\"Times,serif\" font-size=\"14.00\" fill=\"#000000\">V3 &lt;= 1254.5</text>\n<text text-anchor=\"middle\" x=\"15024.5\" y=\"-126.8\" font-family=\"Times,serif\" font-size=\"14.00\" fill=\"#000000\">gini = 0.512</text>\n<text text-anchor=\"middle\" x=\"15024.5\" y=\"-111.8\" font-family=\"Times,serif\" font-size=\"14.00\" fill=\"#000000\">samples = 11</text>\n<text text-anchor=\"middle\" x=\"15024.5\" y=\"-96.8\" font-family=\"Times,serif\" font-size=\"14.00\" fill=\"#000000\">value = [7, 0, 1, 3, 0]</text>\n</g>\n<!-- 190&#45;&gt;191 -->\n<g id=\"edge191\" class=\"edge\">\n<title>190&#45;&gt;191</title>\n<path fill=\"none\" stroke=\"#000000\" d=\"M15080.3227,-192.9465C15073.2288,-184.0578 15065.4985,-174.3716 15058.114,-165.1188\"/>\n<polygon fill=\"#000000\" stroke=\"#000000\" points=\"15060.7118,-162.7628 15051.7384,-157.13 15055.2406,-167.1293 15060.7118,-162.7628\"/>\n</g>\n<!-- 194 -->\n<g id=\"node195\" class=\"node\">\n<title>194</title>\n<polygon fill=\"#5a57e9\" stroke=\"#000000\" points=\"15268,-157 15113,-157 15113,-89 15268,-89 15268,-157\"/>\n<text text-anchor=\"middle\" x=\"15190.5\" y=\"-141.8\" font-family=\"Times,serif\" font-size=\"14.00\" fill=\"#000000\">V3 &lt;= 1161.0</text>\n<text text-anchor=\"middle\" x=\"15190.5\" y=\"-126.8\" font-family=\"Times,serif\" font-size=\"14.00\" fill=\"#000000\">gini = 0.231</text>\n<text text-anchor=\"middle\" x=\"15190.5\" y=\"-111.8\" font-family=\"Times,serif\" font-size=\"14.00\" fill=\"#000000\">samples = 75</text>\n<text text-anchor=\"middle\" x=\"15190.5\" y=\"-96.8\" font-family=\"Times,serif\" font-size=\"14.00\" fill=\"#000000\">value = [10, 0, 0, 65, 0]</text>\n</g>\n<!-- 190&#45;&gt;194 -->\n<g id=\"edge194\" class=\"edge\">\n<title>190&#45;&gt;194</title>\n<path fill=\"none\" stroke=\"#000000\" d=\"M15134.6773,-192.9465C15141.7712,-184.0578 15149.5015,-174.3716 15156.886,-165.1188\"/>\n<polygon fill=\"#000000\" stroke=\"#000000\" points=\"15159.7594,-167.1293 15163.2616,-157.13 15154.2882,-162.7628 15159.7594,-167.1293\"/>\n</g>\n<!-- 192 -->\n<g id=\"node193\" class=\"node\">\n<title>192</title>\n<polygon fill=\"#e9965a\" stroke=\"#000000\" points=\"14940.5,-53 14800.5,-53 14800.5,0 14940.5,0 14940.5,-53\"/>\n<text text-anchor=\"middle\" x=\"14870.5\" y=\"-37.8\" font-family=\"Times,serif\" font-size=\"14.00\" fill=\"#000000\">gini = 0.245</text>\n<text text-anchor=\"middle\" x=\"14870.5\" y=\"-22.8\" font-family=\"Times,serif\" font-size=\"14.00\" fill=\"#000000\">samples = 7</text>\n<text text-anchor=\"middle\" x=\"14870.5\" y=\"-7.8\" font-family=\"Times,serif\" font-size=\"14.00\" fill=\"#000000\">value = [6, 0, 1, 0, 0]</text>\n</g>\n<!-- 191&#45;&gt;192 -->\n<g id=\"edge192\" class=\"edge\">\n<title>191&#45;&gt;192</title>\n<path fill=\"none\" stroke=\"#000000\" d=\"M14970.2054,-88.9777C14954.5692,-79.1798 14937.5613,-68.5222 14922.0937,-58.8298\"/>\n<polygon fill=\"#000000\" stroke=\"#000000\" points=\"14923.519,-55.5926 14913.1867,-53.2485 14919.802,-61.5242 14923.519,-55.5926\"/>\n</g>\n<!-- 193 -->\n<g id=\"node194\" class=\"node\">\n<title>193</title>\n<polygon fill=\"#7d7bee\" stroke=\"#000000\" points=\"15098.5,-53 14958.5,-53 14958.5,0 15098.5,0 15098.5,-53\"/>\n<text text-anchor=\"middle\" x=\"15028.5\" y=\"-37.8\" font-family=\"Times,serif\" font-size=\"14.00\" fill=\"#000000\">gini = 0.375</text>\n<text text-anchor=\"middle\" x=\"15028.5\" y=\"-22.8\" font-family=\"Times,serif\" font-size=\"14.00\" fill=\"#000000\">samples = 4</text>\n<text text-anchor=\"middle\" x=\"15028.5\" y=\"-7.8\" font-family=\"Times,serif\" font-size=\"14.00\" fill=\"#000000\">value = [1, 0, 0, 3, 0]</text>\n</g>\n<!-- 191&#45;&gt;193 -->\n<g id=\"edge193\" class=\"edge\">\n<title>191&#45;&gt;193</title>\n<path fill=\"none\" stroke=\"#000000\" d=\"M15025.9103,-88.9777C15026.2519,-80.7364 15026.6187,-71.887 15026.9657,-63.5153\"/>\n<polygon fill=\"#000000\" stroke=\"#000000\" points=\"15030.474,-63.3849 15027.3913,-53.2485 15023.48,-63.0949 15030.474,-63.3849\"/>\n</g>\n<!-- 195 -->\n<g id=\"node196\" class=\"node\">\n<title>195</title>\n<polygon fill=\"#e3e3fb\" stroke=\"#000000\" points=\"15256.5,-53 15116.5,-53 15116.5,0 15256.5,0 15256.5,-53\"/>\n<text text-anchor=\"middle\" x=\"15186.5\" y=\"-37.8\" font-family=\"Times,serif\" font-size=\"14.00\" fill=\"#000000\">gini = 0.497</text>\n<text text-anchor=\"middle\" x=\"15186.5\" y=\"-22.8\" font-family=\"Times,serif\" font-size=\"14.00\" fill=\"#000000\">samples = 13</text>\n<text text-anchor=\"middle\" x=\"15186.5\" y=\"-7.8\" font-family=\"Times,serif\" font-size=\"14.00\" fill=\"#000000\">value = [6, 0, 0, 7, 0]</text>\n</g>\n<!-- 194&#45;&gt;195 -->\n<g id=\"edge195\" class=\"edge\">\n<title>194&#45;&gt;195</title>\n<path fill=\"none\" stroke=\"#000000\" d=\"M15189.0897,-88.9777C15188.7481,-80.7364 15188.3813,-71.887 15188.0343,-63.5153\"/>\n<polygon fill=\"#000000\" stroke=\"#000000\" points=\"15191.52,-63.0949 15187.6087,-53.2485 15184.526,-63.3849 15191.52,-63.0949\"/>\n</g>\n<!-- 196 -->\n<g id=\"node197\" class=\"node\">\n<title>196</title>\n<polygon fill=\"#4947e7\" stroke=\"#000000\" points=\"15422,-53 15275,-53 15275,0 15422,0 15422,-53\"/>\n<text text-anchor=\"middle\" x=\"15348.5\" y=\"-37.8\" font-family=\"Times,serif\" font-size=\"14.00\" fill=\"#000000\">gini = 0.121</text>\n<text text-anchor=\"middle\" x=\"15348.5\" y=\"-22.8\" font-family=\"Times,serif\" font-size=\"14.00\" fill=\"#000000\">samples = 62</text>\n<text text-anchor=\"middle\" x=\"15348.5\" y=\"-7.8\" font-family=\"Times,serif\" font-size=\"14.00\" fill=\"#000000\">value = [4, 0, 0, 58, 0]</text>\n</g>\n<!-- 194&#45;&gt;196 -->\n<g id=\"edge196\" class=\"edge\">\n<title>194&#45;&gt;196</title>\n<path fill=\"none\" stroke=\"#000000\" d=\"M15246.2049,-88.9777C15262.472,-79.0424 15280.1864,-68.2232 15296.2326,-58.4228\"/>\n<polygon fill=\"#000000\" stroke=\"#000000\" points=\"15298.246,-61.2943 15304.9558,-53.095 15294.5973,-55.3204 15298.246,-61.2943\"/>\n</g>\n<!-- 198 -->\n<g id=\"node199\" class=\"node\">\n<title>198</title>\n<polygon fill=\"#4340e6\" stroke=\"#000000\" points=\"15846.5,-261 15684.5,-261 15684.5,-193 15846.5,-193 15846.5,-261\"/>\n<text text-anchor=\"middle\" x=\"15765.5\" y=\"-245.8\" font-family=\"Times,serif\" font-size=\"14.00\" fill=\"#000000\">V8 &lt;= 2160.0</text>\n<text text-anchor=\"middle\" x=\"15765.5\" y=\"-230.8\" font-family=\"Times,serif\" font-size=\"14.00\" fill=\"#000000\">gini = 0.066</text>\n<text text-anchor=\"middle\" x=\"15765.5\" y=\"-215.8\" font-family=\"Times,serif\" font-size=\"14.00\" fill=\"#000000\">samples = 976</text>\n<text text-anchor=\"middle\" x=\"15765.5\" y=\"-200.8\" font-family=\"Times,serif\" font-size=\"14.00\" fill=\"#000000\">value = [26, 0, 2, 943, 5]</text>\n</g>\n<!-- 197&#45;&gt;198 -->\n<g id=\"edge198\" class=\"edge\">\n<title>197&#45;&gt;198</title>\n<path fill=\"none\" stroke=\"#000000\" d=\"M15765.5,-296.9465C15765.5,-288.776 15765.5,-279.9318 15765.5,-271.3697\"/>\n<polygon fill=\"#000000\" stroke=\"#000000\" points=\"15769.0001,-271.13 15765.5,-261.13 15762.0001,-271.13 15769.0001,-271.13\"/>\n</g>\n<!-- 205 -->\n<g id=\"node206\" class=\"node\">\n<title>205</title>\n<polygon fill=\"#ef83d8\" stroke=\"#000000\" points=\"16175.5,-261 16035.5,-261 16035.5,-193 16175.5,-193 16175.5,-261\"/>\n<text text-anchor=\"middle\" x=\"16105.5\" y=\"-245.8\" font-family=\"Times,serif\" font-size=\"14.00\" fill=\"#000000\">V7 &lt;= 1713.5</text>\n<text text-anchor=\"middle\" x=\"16105.5\" y=\"-230.8\" font-family=\"Times,serif\" font-size=\"14.00\" fill=\"#000000\">gini = 0.397</text>\n<text text-anchor=\"middle\" x=\"16105.5\" y=\"-215.8\" font-family=\"Times,serif\" font-size=\"14.00\" fill=\"#000000\">samples = 11</text>\n<text text-anchor=\"middle\" x=\"16105.5\" y=\"-200.8\" font-family=\"Times,serif\" font-size=\"14.00\" fill=\"#000000\">value = [0, 0, 0, 3, 8]</text>\n</g>\n<!-- 197&#45;&gt;205 -->\n<g id=\"edge205\" class=\"edge\">\n<title>197&#45;&gt;205</title>\n<path fill=\"none\" stroke=\"#000000\" d=\"M15850.8575,-304.8906C15904.4678,-288.4922 15973.1556,-267.4818 16025.6795,-251.4157\"/>\n<polygon fill=\"#000000\" stroke=\"#000000\" points=\"16026.7526,-254.7476 16035.2914,-248.4756 16024.705,-248.0538 16026.7526,-254.7476\"/>\n</g>\n<!-- 199 -->\n<g id=\"node200\" class=\"node\">\n<title>199</title>\n<polygon fill=\"#8e8cf0\" stroke=\"#000000\" points=\"15754,-157 15599,-157 15599,-89 15754,-89 15754,-157\"/>\n<text text-anchor=\"middle\" x=\"15676.5\" y=\"-141.8\" font-family=\"Times,serif\" font-size=\"14.00\" fill=\"#000000\">V3 &lt;= 1136.5</text>\n<text text-anchor=\"middle\" x=\"15676.5\" y=\"-126.8\" font-family=\"Times,serif\" font-size=\"14.00\" fill=\"#000000\">gini = 0.447</text>\n<text text-anchor=\"middle\" x=\"15676.5\" y=\"-111.8\" font-family=\"Times,serif\" font-size=\"14.00\" fill=\"#000000\">samples = 52</text>\n<text text-anchor=\"middle\" x=\"15676.5\" y=\"-96.8\" font-family=\"Times,serif\" font-size=\"14.00\" fill=\"#000000\">value = [14, 0, 2, 36, 0]</text>\n</g>\n<!-- 198&#45;&gt;199 -->\n<g id=\"edge199\" class=\"edge\">\n<title>198&#45;&gt;199</title>\n<path fill=\"none\" stroke=\"#000000\" d=\"M15736.3581,-192.9465C15728.6745,-183.968 15720.2947,-174.1758 15712.3041,-164.8385\"/>\n<polygon fill=\"#000000\" stroke=\"#000000\" points=\"15714.8685,-162.4521 15705.7074,-157.13 15709.5501,-167.0034 15714.8685,-162.4521\"/>\n</g>\n<!-- 202 -->\n<g id=\"node203\" class=\"node\">\n<title>202</title>\n<polygon fill=\"#403de5\" stroke=\"#000000\" points=\"15934.5,-157 15772.5,-157 15772.5,-89 15934.5,-89 15934.5,-157\"/>\n<text text-anchor=\"middle\" x=\"15853.5\" y=\"-141.8\" font-family=\"Times,serif\" font-size=\"14.00\" fill=\"#000000\">V8 &lt;= 6237.5</text>\n<text text-anchor=\"middle\" x=\"15853.5\" y=\"-126.8\" font-family=\"Times,serif\" font-size=\"14.00\" fill=\"#000000\">gini = 0.036</text>\n<text text-anchor=\"middle\" x=\"15853.5\" y=\"-111.8\" font-family=\"Times,serif\" font-size=\"14.00\" fill=\"#000000\">samples = 924</text>\n<text text-anchor=\"middle\" x=\"15853.5\" y=\"-96.8\" font-family=\"Times,serif\" font-size=\"14.00\" fill=\"#000000\">value = [12, 0, 0, 907, 5]</text>\n</g>\n<!-- 198&#45;&gt;202 -->\n<g id=\"edge202\" class=\"edge\">\n<title>198&#45;&gt;202</title>\n<path fill=\"none\" stroke=\"#000000\" d=\"M15794.3145,-192.9465C15801.9117,-183.968 15810.1974,-174.1758 15818.0982,-164.8385\"/>\n<polygon fill=\"#000000\" stroke=\"#000000\" points=\"15820.8332,-167.0247 15824.6208,-157.13 15815.4895,-162.5031 15820.8332,-167.0247\"/>\n</g>\n<!-- 200 -->\n<g id=\"node201\" class=\"node\">\n<title>200</title>\n<polygon fill=\"#f1bb94\" stroke=\"#000000\" points=\"15586.5,-53 15440.5,-53 15440.5,0 15586.5,0 15586.5,-53\"/>\n<text text-anchor=\"middle\" x=\"15513.5\" y=\"-37.8\" font-family=\"Times,serif\" font-size=\"14.00\" fill=\"#000000\">gini = 0.512</text>\n<text text-anchor=\"middle\" x=\"15513.5\" y=\"-22.8\" font-family=\"Times,serif\" font-size=\"14.00\" fill=\"#000000\">samples = 17</text>\n<text text-anchor=\"middle\" x=\"15513.5\" y=\"-7.8\" font-family=\"Times,serif\" font-size=\"14.00\" fill=\"#000000\">value = [11, 0, 2, 4, 0]</text>\n</g>\n<!-- 199&#45;&gt;200 -->\n<g id=\"edge200\" class=\"edge\">\n<title>199&#45;&gt;200</title>\n<path fill=\"none\" stroke=\"#000000\" d=\"M15619.0323,-88.9777C15602.2504,-79.0424 15583.9754,-68.2232 15567.4214,-58.4228\"/>\n<polygon fill=\"#000000\" stroke=\"#000000\" points=\"15568.8103,-55.1777 15558.4222,-53.095 15565.2442,-61.2013 15568.8103,-55.1777\"/>\n</g>\n<!-- 201 -->\n<g id=\"node202\" class=\"node\">\n<title>201</title>\n<polygon fill=\"#4e4ce7\" stroke=\"#000000\" points=\"15752,-53 15605,-53 15605,0 15752,0 15752,-53\"/>\n<text text-anchor=\"middle\" x=\"15678.5\" y=\"-37.8\" font-family=\"Times,serif\" font-size=\"14.00\" fill=\"#000000\">gini = 0.157</text>\n<text text-anchor=\"middle\" x=\"15678.5\" y=\"-22.8\" font-family=\"Times,serif\" font-size=\"14.00\" fill=\"#000000\">samples = 35</text>\n<text text-anchor=\"middle\" x=\"15678.5\" y=\"-7.8\" font-family=\"Times,serif\" font-size=\"14.00\" fill=\"#000000\">value = [3, 0, 0, 32, 0]</text>\n</g>\n<!-- 199&#45;&gt;201 -->\n<g id=\"edge201\" class=\"edge\">\n<title>199&#45;&gt;201</title>\n<path fill=\"none\" stroke=\"#000000\" d=\"M15677.2051,-88.9777C15677.3759,-80.7364 15677.5593,-71.887 15677.7328,-63.5153\"/>\n<polygon fill=\"#000000\" stroke=\"#000000\" points=\"15681.2376,-63.3189 15677.9456,-53.2485 15674.2391,-63.1738 15681.2376,-63.3189\"/>\n</g>\n<!-- 203 -->\n<g id=\"node204\" class=\"node\">\n<title>203</title>\n<polygon fill=\"#3f3ce5\" stroke=\"#000000\" points=\"15932.5,-53 15770.5,-53 15770.5,0 15932.5,0 15932.5,-53\"/>\n<text text-anchor=\"middle\" x=\"15851.5\" y=\"-37.8\" font-family=\"Times,serif\" font-size=\"14.00\" fill=\"#000000\">gini = 0.026</text>\n<text text-anchor=\"middle\" x=\"15851.5\" y=\"-22.8\" font-family=\"Times,serif\" font-size=\"14.00\" fill=\"#000000\">samples = 906</text>\n<text text-anchor=\"middle\" x=\"15851.5\" y=\"-7.8\" font-family=\"Times,serif\" font-size=\"14.00\" fill=\"#000000\">value = [12, 0, 0, 894, 0]</text>\n</g>\n<!-- 202&#45;&gt;203 -->\n<g id=\"edge203\" class=\"edge\">\n<title>202&#45;&gt;203</title>\n<path fill=\"none\" stroke=\"#000000\" d=\"M15852.7949,-88.9777C15852.6241,-80.7364 15852.4407,-71.887 15852.2672,-63.5153\"/>\n<polygon fill=\"#000000\" stroke=\"#000000\" points=\"15855.7609,-63.1738 15852.0544,-53.2485 15848.7624,-63.3189 15855.7609,-63.1738\"/>\n</g>\n<!-- 204 -->\n<g id=\"node205\" class=\"node\">\n<title>204</title>\n<polygon fill=\"#8785ef\" stroke=\"#000000\" points=\"16098,-53 15951,-53 15951,0 16098,0 16098,-53\"/>\n<text text-anchor=\"middle\" x=\"16024.5\" y=\"-37.8\" font-family=\"Times,serif\" font-size=\"14.00\" fill=\"#000000\">gini = 0.401</text>\n<text text-anchor=\"middle\" x=\"16024.5\" y=\"-22.8\" font-family=\"Times,serif\" font-size=\"14.00\" fill=\"#000000\">samples = 18</text>\n<text text-anchor=\"middle\" x=\"16024.5\" y=\"-7.8\" font-family=\"Times,serif\" font-size=\"14.00\" fill=\"#000000\">value = [0, 0, 0, 13, 5]</text>\n</g>\n<!-- 202&#45;&gt;204 -->\n<g id=\"edge204\" class=\"edge\">\n<title>202&#45;&gt;204</title>\n<path fill=\"none\" stroke=\"#000000\" d=\"M15913.7882,-88.9777C15931.5568,-78.9504 15950.9208,-68.0228 15968.4141,-58.1508\"/>\n<polygon fill=\"#000000\" stroke=\"#000000\" points=\"15970.3843,-61.0579 15977.3731,-53.095 15966.9439,-54.9616 15970.3843,-61.0579\"/>\n</g>\n<!-- 206 -->\n<g id=\"node207\" class=\"node\">\n<title>206</title>\n<polygon fill=\"#7d7bee\" stroke=\"#000000\" points=\"16175.5,-157 16035.5,-157 16035.5,-89 16175.5,-89 16175.5,-157\"/>\n<text text-anchor=\"middle\" x=\"16105.5\" y=\"-141.8\" font-family=\"Times,serif\" font-size=\"14.00\" fill=\"#000000\">V9 &lt;= 5.175</text>\n<text text-anchor=\"middle\" x=\"16105.5\" y=\"-126.8\" font-family=\"Times,serif\" font-size=\"14.00\" fill=\"#000000\">gini = 0.375</text>\n<text text-anchor=\"middle\" x=\"16105.5\" y=\"-111.8\" font-family=\"Times,serif\" font-size=\"14.00\" fill=\"#000000\">samples = 4</text>\n<text text-anchor=\"middle\" x=\"16105.5\" y=\"-96.8\" font-family=\"Times,serif\" font-size=\"14.00\" fill=\"#000000\">value = [0, 0, 0, 3, 1]</text>\n</g>\n<!-- 205&#45;&gt;206 -->\n<g id=\"edge206\" class=\"edge\">\n<title>205&#45;&gt;206</title>\n<path fill=\"none\" stroke=\"#000000\" d=\"M16105.5,-192.9465C16105.5,-184.776 16105.5,-175.9318 16105.5,-167.3697\"/>\n<polygon fill=\"#000000\" stroke=\"#000000\" points=\"16109.0001,-167.13 16105.5,-157.13 16102.0001,-167.13 16109.0001,-167.13\"/>\n</g>\n<!-- 209 -->\n<g id=\"node210\" class=\"node\">\n<title>209</title>\n<polygon fill=\"#e539c0\" stroke=\"#000000\" points=\"16333.5,-149.5 16193.5,-149.5 16193.5,-96.5 16333.5,-96.5 16333.5,-149.5\"/>\n<text text-anchor=\"middle\" x=\"16263.5\" y=\"-134.3\" font-family=\"Times,serif\" font-size=\"14.00\" fill=\"#000000\">gini = 0.0</text>\n<text text-anchor=\"middle\" x=\"16263.5\" y=\"-119.3\" font-family=\"Times,serif\" font-size=\"14.00\" fill=\"#000000\">samples = 7</text>\n<text text-anchor=\"middle\" x=\"16263.5\" y=\"-104.3\" font-family=\"Times,serif\" font-size=\"14.00\" fill=\"#000000\">value = [0, 0, 0, 0, 7]</text>\n</g>\n<!-- 205&#45;&gt;209 -->\n<g id=\"edge209\" class=\"edge\">\n<title>205&#45;&gt;209</title>\n<path fill=\"none\" stroke=\"#000000\" d=\"M16157.2351,-192.9465C16175.6427,-180.8301 16196.3013,-167.232 16214.4751,-155.2696\"/>\n<polygon fill=\"#000000\" stroke=\"#000000\" points=\"16216.7478,-157.9638 16223.1763,-149.5422 16212.8991,-152.1168 16216.7478,-157.9638\"/>\n</g>\n<!-- 207 -->\n<g id=\"node208\" class=\"node\">\n<title>207</title>\n<polygon fill=\"#e539c0\" stroke=\"#000000\" points=\"16256.5,-53 16116.5,-53 16116.5,0 16256.5,0 16256.5,-53\"/>\n<text text-anchor=\"middle\" x=\"16186.5\" y=\"-37.8\" font-family=\"Times,serif\" font-size=\"14.00\" fill=\"#000000\">gini = 0.0</text>\n<text text-anchor=\"middle\" x=\"16186.5\" y=\"-22.8\" font-family=\"Times,serif\" font-size=\"14.00\" fill=\"#000000\">samples = 1</text>\n<text text-anchor=\"middle\" x=\"16186.5\" y=\"-7.8\" font-family=\"Times,serif\" font-size=\"14.00\" fill=\"#000000\">value = [0, 0, 0, 0, 1]</text>\n</g>\n<!-- 206&#45;&gt;207 -->\n<g id=\"edge207\" class=\"edge\">\n<title>206&#45;&gt;207</title>\n<path fill=\"none\" stroke=\"#000000\" d=\"M16134.0576,-88.9777C16141.6669,-79.9123 16149.8939,-70.111 16157.5253,-61.0192\"/>\n<polygon fill=\"#000000\" stroke=\"#000000\" points=\"16160.2995,-63.1581 16164.0479,-53.2485 16154.938,-58.6577 16160.2995,-63.1581\"/>\n</g>\n<!-- 208 -->\n<g id=\"node209\" class=\"node\">\n<title>208</title>\n<polygon fill=\"#3c39e5\" stroke=\"#000000\" points=\"16414.5,-53 16274.5,-53 16274.5,0 16414.5,0 16414.5,-53\"/>\n<text text-anchor=\"middle\" x=\"16344.5\" y=\"-37.8\" font-family=\"Times,serif\" font-size=\"14.00\" fill=\"#000000\">gini = 0.0</text>\n<text text-anchor=\"middle\" x=\"16344.5\" y=\"-22.8\" font-family=\"Times,serif\" font-size=\"14.00\" fill=\"#000000\">samples = 3</text>\n<text text-anchor=\"middle\" x=\"16344.5\" y=\"-7.8\" font-family=\"Times,serif\" font-size=\"14.00\" fill=\"#000000\">value = [0, 0, 0, 3, 0]</text>\n</g>\n<!-- 206&#45;&gt;208 -->\n<g id=\"edge208\" class=\"edge\">\n<title>206&#45;&gt;208</title>\n<path fill=\"none\" stroke=\"#000000\" d=\"M16175.659,-92.6582C16178.6426,-91.4143 16181.5991,-90.1904 16184.5,-89 16210.7916,-78.2109 16239.6806,-66.7935 16265.5898,-56.7108\"/>\n<polygon fill=\"#000000\" stroke=\"#000000\" points=\"16266.9355,-59.9429 16274.9902,-53.0601 16264.4014,-53.4177 16266.9355,-59.9429\"/>\n</g>\n<!-- 211 -->\n<g id=\"node212\" class=\"node\">\n<title>211</title>\n<polygon fill=\"#6d6aec\" stroke=\"#000000\" points=\"16496,-365 16349,-365 16349,-297 16496,-297 16496,-365\"/>\n<text text-anchor=\"middle\" x=\"16422.5\" y=\"-349.8\" font-family=\"Times,serif\" font-size=\"14.00\" fill=\"#000000\">V8 &lt;= 5456.5</text>\n<text text-anchor=\"middle\" x=\"16422.5\" y=\"-334.8\" font-family=\"Times,serif\" font-size=\"14.00\" fill=\"#000000\">gini = 0.32</text>\n<text text-anchor=\"middle\" x=\"16422.5\" y=\"-319.8\" font-family=\"Times,serif\" font-size=\"14.00\" fill=\"#000000\">samples = 15</text>\n<text text-anchor=\"middle\" x=\"16422.5\" y=\"-304.8\" font-family=\"Times,serif\" font-size=\"14.00\" fill=\"#000000\">value = [0, 0, 0, 12, 3]</text>\n</g>\n<!-- 210&#45;&gt;211 -->\n<g id=\"edge211\" class=\"edge\">\n<title>210&#45;&gt;211</title>\n<path fill=\"none\" stroke=\"#000000\" d=\"M16422.5,-400.9465C16422.5,-392.776 16422.5,-383.9318 16422.5,-375.3697\"/>\n<polygon fill=\"#000000\" stroke=\"#000000\" points=\"16426.0001,-375.13 16422.5,-365.13 16419.0001,-375.13 16426.0001,-375.13\"/>\n</g>\n<!-- 216 -->\n<g id=\"node217\" class=\"node\">\n<title>216</title>\n<polygon fill=\"#e63dc1\" stroke=\"#000000\" points=\"16815,-365 16660,-365 16660,-297 16815,-297 16815,-365\"/>\n<text text-anchor=\"middle\" x=\"16737.5\" y=\"-349.8\" font-family=\"Times,serif\" font-size=\"14.00\" fill=\"#000000\">V8 &lt;= 4727.0</text>\n<text text-anchor=\"middle\" x=\"16737.5\" y=\"-334.8\" font-family=\"Times,serif\" font-size=\"14.00\" fill=\"#000000\">gini = 0.038</text>\n<text text-anchor=\"middle\" x=\"16737.5\" y=\"-319.8\" font-family=\"Times,serif\" font-size=\"14.00\" fill=\"#000000\">samples = 153</text>\n<text text-anchor=\"middle\" x=\"16737.5\" y=\"-304.8\" font-family=\"Times,serif\" font-size=\"14.00\" fill=\"#000000\">value = [0, 0, 0, 3, 150]</text>\n</g>\n<!-- 210&#45;&gt;216 -->\n<g id=\"edge216\" class=\"edge\">\n<title>210&#45;&gt;216</title>\n<path fill=\"none\" stroke=\"#000000\" d=\"M16503.6203,-408.2174C16548.549,-393.3838 16604.4189,-374.9379 16650.2848,-359.7949\"/>\n<polygon fill=\"#000000\" stroke=\"#000000\" points=\"16651.5142,-363.0749 16659.9127,-356.6161 16649.3195,-356.4278 16651.5142,-363.0749\"/>\n</g>\n<!-- 212 -->\n<g id=\"node213\" class=\"node\">\n<title>212</title>\n<polygon fill=\"#3c39e5\" stroke=\"#000000\" points=\"16415.5,-253.5 16269.5,-253.5 16269.5,-200.5 16415.5,-200.5 16415.5,-253.5\"/>\n<text text-anchor=\"middle\" x=\"16342.5\" y=\"-238.3\" font-family=\"Times,serif\" font-size=\"14.00\" fill=\"#000000\">gini = 0.0</text>\n<text text-anchor=\"middle\" x=\"16342.5\" y=\"-223.3\" font-family=\"Times,serif\" font-size=\"14.00\" fill=\"#000000\">samples = 11</text>\n<text text-anchor=\"middle\" x=\"16342.5\" y=\"-208.3\" font-family=\"Times,serif\" font-size=\"14.00\" fill=\"#000000\">value = [0, 0, 0, 11, 0]</text>\n</g>\n<!-- 211&#45;&gt;212 -->\n<g id=\"edge212\" class=\"edge\">\n<title>211&#45;&gt;212</title>\n<path fill=\"none\" stroke=\"#000000\" d=\"M16396.305,-296.9465C16387.5778,-285.6012 16377.8513,-272.9567 16369.0941,-261.5724\"/>\n<polygon fill=\"#000000\" stroke=\"#000000\" points=\"16371.7884,-259.3344 16362.917,-253.5422 16366.24,-263.6024 16371.7884,-259.3344\"/>\n</g>\n<!-- 213 -->\n<g id=\"node214\" class=\"node\">\n<title>213</title>\n<polygon fill=\"#ee7bd5\" stroke=\"#000000\" points=\"16573.5,-261 16433.5,-261 16433.5,-193 16573.5,-193 16573.5,-261\"/>\n<text text-anchor=\"middle\" x=\"16503.5\" y=\"-245.8\" font-family=\"Times,serif\" font-size=\"14.00\" fill=\"#000000\">V7 &lt;= 2281.0</text>\n<text text-anchor=\"middle\" x=\"16503.5\" y=\"-230.8\" font-family=\"Times,serif\" font-size=\"14.00\" fill=\"#000000\">gini = 0.375</text>\n<text text-anchor=\"middle\" x=\"16503.5\" y=\"-215.8\" font-family=\"Times,serif\" font-size=\"14.00\" fill=\"#000000\">samples = 4</text>\n<text text-anchor=\"middle\" x=\"16503.5\" y=\"-200.8\" font-family=\"Times,serif\" font-size=\"14.00\" fill=\"#000000\">value = [0, 0, 0, 1, 3]</text>\n</g>\n<!-- 211&#45;&gt;213 -->\n<g id=\"edge213\" class=\"edge\">\n<title>211&#45;&gt;213</title>\n<path fill=\"none\" stroke=\"#000000\" d=\"M16449.0224,-296.9465C16455.9454,-288.0578 16463.4894,-278.3716 16470.696,-269.1188\"/>\n<polygon fill=\"#000000\" stroke=\"#000000\" points=\"16473.5346,-271.1701 16476.918,-261.13 16468.012,-266.8688 16473.5346,-271.1701\"/>\n</g>\n<!-- 214 -->\n<g id=\"node215\" class=\"node\">\n<title>214</title>\n<polygon fill=\"#3c39e5\" stroke=\"#000000\" points=\"16491.5,-149.5 16351.5,-149.5 16351.5,-96.5 16491.5,-96.5 16491.5,-149.5\"/>\n<text text-anchor=\"middle\" x=\"16421.5\" y=\"-134.3\" font-family=\"Times,serif\" font-size=\"14.00\" fill=\"#000000\">gini = 0.0</text>\n<text text-anchor=\"middle\" x=\"16421.5\" y=\"-119.3\" font-family=\"Times,serif\" font-size=\"14.00\" fill=\"#000000\">samples = 1</text>\n<text text-anchor=\"middle\" x=\"16421.5\" y=\"-104.3\" font-family=\"Times,serif\" font-size=\"14.00\" fill=\"#000000\">value = [0, 0, 0, 1, 0]</text>\n</g>\n<!-- 213&#45;&gt;214 -->\n<g id=\"edge214\" class=\"edge\">\n<title>213&#45;&gt;214</title>\n<path fill=\"none\" stroke=\"#000000\" d=\"M16476.6501,-192.9465C16467.7048,-181.6012 16457.7351,-168.9567 16448.759,-157.5724\"/>\n<polygon fill=\"#000000\" stroke=\"#000000\" points=\"16451.3675,-155.2278 16442.4275,-149.5422 16445.8706,-159.5619 16451.3675,-155.2278\"/>\n</g>\n<!-- 215 -->\n<g id=\"node216\" class=\"node\">\n<title>215</title>\n<polygon fill=\"#e539c0\" stroke=\"#000000\" points=\"16649.5,-149.5 16509.5,-149.5 16509.5,-96.5 16649.5,-96.5 16649.5,-149.5\"/>\n<text text-anchor=\"middle\" x=\"16579.5\" y=\"-134.3\" font-family=\"Times,serif\" font-size=\"14.00\" fill=\"#000000\">gini = 0.0</text>\n<text text-anchor=\"middle\" x=\"16579.5\" y=\"-119.3\" font-family=\"Times,serif\" font-size=\"14.00\" fill=\"#000000\">samples = 3</text>\n<text text-anchor=\"middle\" x=\"16579.5\" y=\"-104.3\" font-family=\"Times,serif\" font-size=\"14.00\" fill=\"#000000\">value = [0, 0, 0, 0, 3]</text>\n</g>\n<!-- 213&#45;&gt;215 -->\n<g id=\"edge215\" class=\"edge\">\n<title>213&#45;&gt;215</title>\n<path fill=\"none\" stroke=\"#000000\" d=\"M16528.3852,-192.9465C16536.5956,-181.7113 16545.7369,-169.2021 16553.993,-157.9043\"/>\n<polygon fill=\"#000000\" stroke=\"#000000\" points=\"16557.0295,-159.6812 16560.1038,-149.5422 16551.3777,-155.551 16557.0295,-159.6812\"/>\n</g>\n<!-- 217 -->\n<g id=\"node218\" class=\"node\">\n<title>217</title>\n<polygon fill=\"#f8ceef\" stroke=\"#000000\" points=\"16807.5,-261 16667.5,-261 16667.5,-193 16807.5,-193 16807.5,-261\"/>\n<text text-anchor=\"middle\" x=\"16737.5\" y=\"-245.8\" font-family=\"Times,serif\" font-size=\"14.00\" fill=\"#000000\">V3 &lt;= 2484.0</text>\n<text text-anchor=\"middle\" x=\"16737.5\" y=\"-230.8\" font-family=\"Times,serif\" font-size=\"14.00\" fill=\"#000000\">gini = 0.49</text>\n<text text-anchor=\"middle\" x=\"16737.5\" y=\"-215.8\" font-family=\"Times,serif\" font-size=\"14.00\" fill=\"#000000\">samples = 7</text>\n<text text-anchor=\"middle\" x=\"16737.5\" y=\"-200.8\" font-family=\"Times,serif\" font-size=\"14.00\" fill=\"#000000\">value = [0, 0, 0, 3, 4]</text>\n</g>\n<!-- 216&#45;&gt;217 -->\n<g id=\"edge217\" class=\"edge\">\n<title>216&#45;&gt;217</title>\n<path fill=\"none\" stroke=\"#000000\" d=\"M16737.5,-296.9465C16737.5,-288.776 16737.5,-279.9318 16737.5,-271.3697\"/>\n<polygon fill=\"#000000\" stroke=\"#000000\" points=\"16741.0001,-271.13 16737.5,-261.13 16734.0001,-271.13 16741.0001,-271.13\"/>\n</g>\n<!-- 220 -->\n<g id=\"node221\" class=\"node\">\n<title>220</title>\n<polygon fill=\"#e539c0\" stroke=\"#000000\" points=\"16981,-253.5 16826,-253.5 16826,-200.5 16981,-200.5 16981,-253.5\"/>\n<text text-anchor=\"middle\" x=\"16903.5\" y=\"-238.3\" font-family=\"Times,serif\" font-size=\"14.00\" fill=\"#000000\">gini = 0.0</text>\n<text text-anchor=\"middle\" x=\"16903.5\" y=\"-223.3\" font-family=\"Times,serif\" font-size=\"14.00\" fill=\"#000000\">samples = 146</text>\n<text text-anchor=\"middle\" x=\"16903.5\" y=\"-208.3\" font-family=\"Times,serif\" font-size=\"14.00\" fill=\"#000000\">value = [0, 0, 0, 0, 146]</text>\n</g>\n<!-- 216&#45;&gt;220 -->\n<g id=\"edge220\" class=\"edge\">\n<title>216&#45;&gt;220</title>\n<path fill=\"none\" stroke=\"#000000\" d=\"M16791.8546,-296.9465C16811.3701,-284.72 16833.2937,-270.9847 16852.5129,-258.9437\"/>\n<polygon fill=\"#000000\" stroke=\"#000000\" points=\"16854.5186,-261.8174 16861.1346,-253.5422 16850.8021,-255.8854 16854.5186,-261.8174\"/>\n</g>\n<!-- 218 -->\n<g id=\"node219\" class=\"node\">\n<title>218</title>\n<polygon fill=\"#3c39e5\" stroke=\"#000000\" points=\"16807.5,-149.5 16667.5,-149.5 16667.5,-96.5 16807.5,-96.5 16807.5,-149.5\"/>\n<text text-anchor=\"middle\" x=\"16737.5\" y=\"-134.3\" font-family=\"Times,serif\" font-size=\"14.00\" fill=\"#000000\">gini = 0.0</text>\n<text text-anchor=\"middle\" x=\"16737.5\" y=\"-119.3\" font-family=\"Times,serif\" font-size=\"14.00\" fill=\"#000000\">samples = 3</text>\n<text text-anchor=\"middle\" x=\"16737.5\" y=\"-104.3\" font-family=\"Times,serif\" font-size=\"14.00\" fill=\"#000000\">value = [0, 0, 0, 3, 0]</text>\n</g>\n<!-- 217&#45;&gt;218 -->\n<g id=\"edge218\" class=\"edge\">\n<title>217&#45;&gt;218</title>\n<path fill=\"none\" stroke=\"#000000\" d=\"M16737.5,-192.9465C16737.5,-182.2621 16737.5,-170.4254 16737.5,-159.5742\"/>\n<polygon fill=\"#000000\" stroke=\"#000000\" points=\"16741.0001,-159.5421 16737.5,-149.5422 16734.0001,-159.5422 16741.0001,-159.5421\"/>\n</g>\n<!-- 219 -->\n<g id=\"node220\" class=\"node\">\n<title>219</title>\n<polygon fill=\"#e539c0\" stroke=\"#000000\" points=\"16965.5,-149.5 16825.5,-149.5 16825.5,-96.5 16965.5,-96.5 16965.5,-149.5\"/>\n<text text-anchor=\"middle\" x=\"16895.5\" y=\"-134.3\" font-family=\"Times,serif\" font-size=\"14.00\" fill=\"#000000\">gini = 0.0</text>\n<text text-anchor=\"middle\" x=\"16895.5\" y=\"-119.3\" font-family=\"Times,serif\" font-size=\"14.00\" fill=\"#000000\">samples = 4</text>\n<text text-anchor=\"middle\" x=\"16895.5\" y=\"-104.3\" font-family=\"Times,serif\" font-size=\"14.00\" fill=\"#000000\">value = [0, 0, 0, 0, 4]</text>\n</g>\n<!-- 217&#45;&gt;219 -->\n<g id=\"edge219\" class=\"edge\">\n<title>217&#45;&gt;219</title>\n<path fill=\"none\" stroke=\"#000000\" d=\"M16789.2351,-192.9465C16807.6427,-180.8301 16828.3013,-167.232 16846.4751,-155.2696\"/>\n<polygon fill=\"#000000\" stroke=\"#000000\" points=\"16848.7478,-157.9638 16855.1763,-149.5422 16844.8991,-152.1168 16848.7478,-157.9638\"/>\n</g>\n</g>\n</svg>\n"
          },
          "metadata": {
            "tags": []
          }
        }
      ]
    },
    {
      "cell_type": "markdown",
      "metadata": {
        "id": "kKwTNT4QEbIQ",
        "colab_type": "text"
      },
      "source": [
        "###Modelo de KNN"
      ]
    },
    {
      "cell_type": "markdown",
      "metadata": {
        "id": "z_fqf9rKEs-a",
        "colab_type": "text"
      },
      "source": [
        "####Encontrando o valor ideal de k"
      ]
    },
    {
      "cell_type": "code",
      "metadata": {
        "id": "jD7ULynAhN25",
        "colab_type": "code",
        "outputId": "55a76e2e-ce81-439e-bfd3-cbea8cc459af",
        "colab": {
          "base_uri": "https://localhost:8080/",
          "height": 333
        }
      },
      "source": [
        "k_range=range(1,26)\n",
        "scores=[]\n",
        "for k in k_range:\n",
        "    knn = KNeighborsClassifier(n_neighbors=k)\n",
        "    knn.fit(X_train, y_train)\n",
        "    y_pred_knn = knn.predict(X_test)\n",
        "    scores.append(accuracy_score(y_test, y_pred_knn))\n",
        "\n",
        "print(scores)\n",
        "#Plota os valores de acc. em função do valor escolhido de K\n",
        "plt.plot(k_range, scores)\n",
        "plt.xlabel('Value of K for KNN')\n",
        "plt.ylabel('Testing Accuracy')"
      ],
      "execution_count": 0,
      "outputs": [
        {
          "output_type": "stream",
          "text": [
            "[0.8178294573643411, 0.809593023255814, 0.8398740310077519, 0.8316375968992248, 0.8398740310077519, 0.8393895348837209, 0.8473837209302325, 0.843265503875969, 0.844718992248062, 0.84375, 0.844234496124031, 0.8376937984496124, 0.8403585271317829, 0.8381782945736435, 0.8406007751937985, 0.8350290697674418, 0.8374515503875969, 0.8352713178294574, 0.8347868217054264, 0.8318798449612403, 0.8326065891472868, 0.8311531007751938, 0.8304263565891473, 0.8316375968992248, 0.8287306201550387]\n"
          ],
          "name": "stdout"
        },
        {
          "output_type": "execute_result",
          "data": {
            "text/plain": [
              "Text(0, 0.5, 'Testing Accuracy')"
            ]
          },
          "metadata": {
            "tags": []
          },
          "execution_count": 31
        },
        {
          "output_type": "display_data",
          "data": {
            "image/png": "[encoded data removed]",
            "text/plain": [
              "<Figure size 432x288 with 1 Axes>"
            ]
          },
          "metadata": {
            "tags": [],
            "needs_background": "light"
          }
        }
      ]
    },
    {
      "cell_type": "markdown",
      "metadata": {
        "id": "NLYjR4IzExrd",
        "colab_type": "text"
      },
      "source": [
        "####Treinando o modelo KNN"
      ]
    },
    {
      "cell_type": "code",
      "metadata": {
        "id": "I80uOZpvhG0h",
        "colab_type": "code",
        "colab": {}
      },
      "source": [
        "model_KNN = KNeighborsClassifier(n_neighbors=7)"
      ],
      "execution_count": 0,
      "outputs": []
    },
    {
      "cell_type": "code",
      "metadata": {
        "id": "Fgp45JF-hNhe",
        "colab_type": "code",
        "outputId": "9e82b3bc-9310-4ed8-a73e-a1e30c3d1aee",
        "colab": {
          "base_uri": "https://localhost:8080/",
          "height": 68
        }
      },
      "source": [
        "model_KNN.fit(X_train, y_train)"
      ],
      "execution_count": 0,
      "outputs": [
        {
          "output_type": "execute_result",
          "data": {
            "text/plain": [
              "KNeighborsClassifier(algorithm='auto', leaf_size=30, metric='minkowski',\n",
              "                     metric_params=None, n_jobs=None, n_neighbors=7, p=2,\n",
              "                     weights='uniform')"
            ]
          },
          "metadata": {
            "tags": []
          },
          "execution_count": 33
        }
      ]
    },
    {
      "cell_type": "markdown",
      "metadata": {
        "id": "UZJgPVGfE8A4",
        "colab_type": "text"
      },
      "source": [
        "####Testando o modelo criado"
      ]
    },
    {
      "cell_type": "code",
      "metadata": {
        "id": "j6ZkqJA-hd-m",
        "colab_type": "code",
        "colab": {}
      },
      "source": [
        "y_pred = model_KNN.predict(X_test)"
      ],
      "execution_count": 0,
      "outputs": []
    },
    {
      "cell_type": "markdown",
      "metadata": {
        "id": "5dyxjUWMFAll",
        "colab_type": "text"
      },
      "source": [
        "####Resultado"
      ]
    },
    {
      "cell_type": "code",
      "metadata": {
        "id": "zC_fKKfwhgxs",
        "colab_type": "code",
        "colab": {}
      },
      "source": [
        "cm = confusion_matrix(y_test,y_pred_knn)"
      ],
      "execution_count": 0,
      "outputs": []
    },
    {
      "cell_type": "code",
      "metadata": {
        "id": "BZHy82sMhjes",
        "colab_type": "code",
        "outputId": "3958f541-5dc4-4fa1-c67e-ba25e443a724",
        "colab": {
          "base_uri": "https://localhost:8080/",
          "height": 500
        }
      },
      "source": [
        "plot_confusion_matrix(model_KNN, X_test, y_test, normalize = 'true')\n",
        "\n",
        "print(classification_report(y_test, y_pred_knn))\n",
        "print(accuracy_score(y_test, y_pred_knn))\n"
      ],
      "execution_count": 0,
      "outputs": [
        {
          "output_type": "stream",
          "text": [
            "              precision    recall  f1-score   support\n",
            "\n",
            "           0       0.82      0.74      0.78      1050\n",
            "           1       0.87      0.92      0.90      1875\n",
            "           2       0.74      0.84      0.79       850\n",
            "           3       0.86      0.62      0.72       314\n",
            "           4       1.00      0.21      0.34        39\n",
            "\n",
            "    accuracy                           0.83      4128\n",
            "   macro avg       0.86      0.67      0.71      4128\n",
            "weighted avg       0.83      0.83      0.83      4128\n",
            "\n",
            "0.8287306201550387\n"
          ],
          "name": "stdout"
        },
        {
          "output_type": "display_data",
          "data": {
            "image/png": "[encoded data removed]",
            "text/plain": [
              "<Figure size 432x288 with 2 Axes>"
            ]
          },
          "metadata": {
            "tags": [],
            "needs_background": "light"
          }
        }
      ]
    },
    {
      "cell_type": "markdown",
      "metadata": {
        "id": "knb0sX3MyyDi",
        "colab_type": "text"
      },
      "source": [
        "###Modelo XGBOOST"
      ]
    },
    {
      "cell_type": "markdown",
      "metadata": {
        "id": "JbuPIcuwFPCJ",
        "colab_type": "text"
      },
      "source": [
        "####Treinando o Modelo XGBOOST"
      ]
    },
    {
      "cell_type": "code",
      "metadata": {
        "id": "Hy9yOSRf9iYD",
        "colab_type": "code",
        "colab": {}
      },
      "source": [
        "model_xgboost = XGBClassifier()"
      ],
      "execution_count": 0,
      "outputs": []
    },
    {
      "cell_type": "code",
      "metadata": {
        "id": "MhfCmUHmBoXM",
        "colab_type": "code",
        "outputId": "4372cc4d-e4a0-4a0a-ff37-f98296fcd14c",
        "colab": {
          "base_uri": "https://localhost:8080/",
          "height": 136
        }
      },
      "source": [
        "model_xgboost.fit(X_train, y_train)"
      ],
      "execution_count": 0,
      "outputs": [
        {
          "output_type": "execute_result",
          "data": {
            "text/plain": [
              "XGBClassifier(base_score=0.5, booster='gbtree', colsample_bylevel=1,\n",
              "              colsample_bynode=1, colsample_bytree=1, gamma=0,\n",
              "              learning_rate=0.1, max_delta_step=0, max_depth=3,\n",
              "              min_child_weight=1, missing=None, n_estimators=100, n_jobs=1,\n",
              "              nthread=None, objective='multi:softprob', random_state=0,\n",
              "              reg_alpha=0, reg_lambda=1, scale_pos_weight=1, seed=None,\n",
              "              silent=None, subsample=1, verbosity=1)"
            ]
          },
          "metadata": {
            "tags": []
          },
          "execution_count": 38
        }
      ]
    },
    {
      "cell_type": "markdown",
      "metadata": {
        "id": "G0OpZ0AWFTZv",
        "colab_type": "text"
      },
      "source": [
        "####Testando o modelo XGBOOST"
      ]
    },
    {
      "cell_type": "code",
      "metadata": {
        "id": "2dpJcwK2BzdR",
        "colab_type": "code",
        "colab": {}
      },
      "source": [
        "y_pred_xg = model_xgboost.predict(X_test)"
      ],
      "execution_count": 0,
      "outputs": []
    },
    {
      "cell_type": "markdown",
      "metadata": {
        "id": "XVT1QCYIFYVo",
        "colab_type": "text"
      },
      "source": [
        "####Resultado"
      ]
    },
    {
      "cell_type": "code",
      "metadata": {
        "id": "C2ShkwvHbjCy",
        "colab_type": "code",
        "outputId": "f91d830a-4e6e-4531-b16a-2e7457e468af",
        "colab": {
          "base_uri": "https://localhost:8080/",
          "height": 500
        }
      },
      "source": [
        "plot_confusion_matrix(model_xgboost, X_test, y_test, normalize = 'true')\n",
        "\n",
        "print(classification_report(y_test, y_pred_xg))\n",
        "print(accuracy_score(y_test, y_pred_xg))\n"
      ],
      "execution_count": 0,
      "outputs": [
        {
          "output_type": "stream",
          "text": [
            "              precision    recall  f1-score   support\n",
            "\n",
            "           0       0.95      0.96      0.96      1050\n",
            "           1       0.98      0.98      0.98      1875\n",
            "           2       0.97      0.96      0.96       850\n",
            "           3       0.97      0.96      0.97       314\n",
            "           4       0.97      0.95      0.96        39\n",
            "\n",
            "    accuracy                           0.97      4128\n",
            "   macro avg       0.97      0.96      0.97      4128\n",
            "weighted avg       0.97      0.97      0.97      4128\n",
            "\n",
            "0.9694767441860465\n"
          ],
          "name": "stdout"
        },
        {
          "output_type": "display_data",
          "data": {
            "image/png": "[encoded data removed]",
            "text/plain": [
              "<Figure size 432x288 with 2 Axes>"
            ]
          },
          "metadata": {
            "tags": [],
            "needs_background": "light"
          }
        }
      ]
    },
    {
      "cell_type": "markdown",
      "metadata": {
        "id": "ADoDtJW5isMd",
        "colab_type": "text"
      },
      "source": [
        "##Análise Final Classificação\n",
        "\n",
        "\n",
        "---\n",
        "\n",
        "\n",
        "Para a Classificação do modelo o XGBOOST apresentou um melhor resultado, atingindo a acurácia de 97%. Vale destacar que mesmo para o cluster \n",
        "que tem uma amostragem baixa o modelo se comportou melhor que os demais modelos.\n",
        "Considerando o custo benefício do modelo, o XGBOOST teve performance equivalente aos demais e melhor acurácia.\n",
        "O XBOOST seria o melhor modelo para o case"
      ]
    },
    {
      "cell_type": "markdown",
      "metadata": {
        "id": "Up4TF06JyAT0",
        "colab_type": "text"
      },
      "source": [
        "#Regressão"
      ]
    },
    {
      "cell_type": "markdown",
      "metadata": {
        "id": "QvVMJbfT7A1F",
        "colab_type": "text"
      },
      "source": [
        "Predição do valor de V2"
      ]
    },
    {
      "cell_type": "code",
      "metadata": {
        "id": "HMLJoWx68Lrb",
        "colab_type": "code",
        "colab": {}
      },
      "source": [
        "#df_dmy"
      ],
      "execution_count": 0,
      "outputs": []
    },
    {
      "cell_type": "markdown",
      "metadata": {
        "id": "kZlfxF0ldeGv",
        "colab_type": "text"
      },
      "source": [
        "##Determinação de Features"
      ]
    },
    {
      "cell_type": "code",
      "metadata": {
        "id": "Mp0f2RtL69fO",
        "colab_type": "code",
        "colab": {}
      },
      "source": [
        "X_reg = df_dmy.drop(['V2'], axis=1, inplace=False)"
      ],
      "execution_count": 0,
      "outputs": []
    },
    {
      "cell_type": "markdown",
      "metadata": {
        "id": "jm3L59eVeQDf",
        "colab_type": "text"
      },
      "source": [
        "##Determinação de Target"
      ]
    },
    {
      "cell_type": "code",
      "metadata": {
        "id": "iNHal4ri69T0",
        "colab_type": "code",
        "colab": {}
      },
      "source": [
        "y_reg = df_dmy['V2']"
      ],
      "execution_count": 0,
      "outputs": []
    },
    {
      "cell_type": "markdown",
      "metadata": {
        "id": "KEycXxREeUCk",
        "colab_type": "text"
      },
      "source": [
        "##Separação de massas de teste e treino"
      ]
    },
    {
      "cell_type": "code",
      "metadata": {
        "id": "BWBI6Jdj1Ln0",
        "colab_type": "code",
        "colab": {}
      },
      "source": [
        "X_train_reg, X_test_reg, y_train_reg, y_test_reg = train_test_split(X_reg, y_reg, test_size= .2, random_state=30)"
      ],
      "execution_count": 0,
      "outputs": []
    },
    {
      "cell_type": "markdown",
      "metadata": {
        "id": "MFmjRtf4ebWR",
        "colab_type": "text"
      },
      "source": [
        "###Modelo SVR"
      ]
    },
    {
      "cell_type": "markdown",
      "metadata": {
        "id": "UxXAtoZwee-e",
        "colab_type": "text"
      },
      "source": [
        "O modelo SVR necessita de normalização dos dados. Aplicamos em pipeline."
      ]
    },
    {
      "cell_type": "markdown",
      "metadata": {
        "id": "y1l6xIKGexK3",
        "colab_type": "text"
      },
      "source": [
        "####Treinando o modelo SVR"
      ]
    },
    {
      "cell_type": "code",
      "metadata": {
        "id": "_apyOsLLUHtm",
        "colab_type": "code",
        "outputId": "0ebd1d97-15ed-4ed1-ea15-f0a4255a7d23",
        "colab": {
          "base_uri": "https://localhost:8080/",
          "height": 153
        }
      },
      "source": [
        "model_SVR = make_pipeline(StandardScaler(), SVR())\n",
        "model_SVR.fit(X_train_reg, y_train_reg)"
      ],
      "execution_count": 0,
      "outputs": [
        {
          "output_type": "execute_result",
          "data": {
            "text/plain": [
              "Pipeline(memory=None,\n",
              "         steps=[('standardscaler',\n",
              "                 StandardScaler(copy=True, with_mean=True, with_std=True)),\n",
              "                ('svr',\n",
              "                 SVR(C=1.0, cache_size=200, coef0=0.0, degree=3, epsilon=0.1,\n",
              "                     gamma='scale', kernel='rbf', max_iter=-1, shrinking=True,\n",
              "                     tol=0.001, verbose=False))],\n",
              "         verbose=False)"
            ]
          },
          "metadata": {
            "tags": []
          },
          "execution_count": 45
        }
      ]
    },
    {
      "cell_type": "markdown",
      "metadata": {
        "id": "8u12Dei3e22i",
        "colab_type": "text"
      },
      "source": [
        "####Testando o modelo SVR"
      ]
    },
    {
      "cell_type": "code",
      "metadata": {
        "id": "ZklewvZWUsI6",
        "colab_type": "code",
        "colab": {}
      },
      "source": [
        "y_pred_svr = model_SVR.predict(X_test_reg)"
      ],
      "execution_count": 0,
      "outputs": []
    },
    {
      "cell_type": "markdown",
      "metadata": {
        "id": "-vz7IQiYe_lk",
        "colab_type": "text"
      },
      "source": [
        "####Resultado"
      ]
    },
    {
      "cell_type": "code",
      "metadata": {
        "id": "Shh_Uc_w_9JA",
        "colab_type": "code",
        "outputId": "8702105f-434b-4647-de69-9503927d9d08",
        "colab": {
          "base_uri": "https://localhost:8080/",
          "height": 34
        }
      },
      "source": [
        "mse_SVR = mean_squared_error(y_test_reg, y_pred_svr)\n",
        "score_svr = model_SVR.score(X_test_reg, y_test_reg)\n",
        "mse = mean_squared_error(y_test_reg, y_pred_svr)\n",
        "print(\"R2:{0:.3f}, MSE:{1:.2f}, RMSE:{2:.2f}\"\n",
        "      .format(score_svr, mse, np.sqrt(mse)))"
      ],
      "execution_count": 0,
      "outputs": [
        {
          "output_type": "stream",
          "text": [
            "R2:-0.055, MSE:14552285227.93, RMSE:120632.85\n"
          ],
          "name": "stdout"
        }
      ]
    },
    {
      "cell_type": "markdown",
      "metadata": {
        "id": "U_28Xy4IfJgc",
        "colab_type": "text"
      },
      "source": [
        "###Modelo Regressão Linear"
      ]
    },
    {
      "cell_type": "markdown",
      "metadata": {
        "id": "KOuXS7VBfPan",
        "colab_type": "text"
      },
      "source": [
        "####Treinando o modelo de Regressão Linear"
      ]
    },
    {
      "cell_type": "code",
      "metadata": {
        "id": "E4g9WMCixVWu",
        "colab_type": "code",
        "outputId": "0a5e7458-365a-4c8e-d688-7d32f84d2d42",
        "colab": {
          "base_uri": "https://localhost:8080/",
          "height": 34
        }
      },
      "source": [
        "model_Linear = LinearRegression()  \n",
        "model_Linear.fit(X_train_reg, y_train_reg) "
      ],
      "execution_count": 0,
      "outputs": [
        {
          "output_type": "execute_result",
          "data": {
            "text/plain": [
              "LinearRegression(copy_X=True, fit_intercept=True, n_jobs=None, normalize=False)"
            ]
          },
          "metadata": {
            "tags": []
          },
          "execution_count": 48
        }
      ]
    },
    {
      "cell_type": "markdown",
      "metadata": {
        "id": "brdEY62gfXB1",
        "colab_type": "text"
      },
      "source": [
        "####Testando o modelo de Regressão Linear"
      ]
    },
    {
      "cell_type": "code",
      "metadata": {
        "id": "C_S7STHA2Qph",
        "colab_type": "code",
        "colab": {}
      },
      "source": [
        "y_pred_Linear = model_Linear.predict(X_test_reg)"
      ],
      "execution_count": 0,
      "outputs": []
    },
    {
      "cell_type": "markdown",
      "metadata": {
        "id": "BH6csxlzffPb",
        "colab_type": "text"
      },
      "source": [
        "####Resultado"
      ]
    },
    {
      "cell_type": "code",
      "metadata": {
        "id": "QqrRiZMk2MlC",
        "colab_type": "code",
        "outputId": "4008c865-f7ee-4cad-a242-744687435acb",
        "colab": {
          "base_uri": "https://localhost:8080/",
          "height": 34
        }
      },
      "source": [
        "mse_Linear = mean_squared_error(y_test_reg, y_pred_Linear)\n",
        "score_linear = model_Linear.score(X_test_reg, y_test_reg)\n",
        "mse = mean_squared_error(y_test_reg, y_pred_Linear)\n",
        "print(\"Resultado Regressão Linear: R2:{0:.7f}, MSE:{1:.2f}, RMSE:{2:.2f}\"\n",
        "      .format(score_linear, mse, np.sqrt(mse)))"
      ],
      "execution_count": 0,
      "outputs": [
        {
          "output_type": "stream",
          "text": [
            "Resultado Regressão Linear: R2:0.5322372, MSE:6451138049.29, RMSE:80318.98\n"
          ],
          "name": "stdout"
        }
      ]
    },
    {
      "cell_type": "markdown",
      "metadata": {
        "id": "DEicA_oxfj16",
        "colab_type": "text"
      },
      "source": [
        "###Modelo ElasticNet"
      ]
    },
    {
      "cell_type": "markdown",
      "metadata": {
        "id": "EU8QmEJ5gBp1",
        "colab_type": "text"
      },
      "source": [
        "####Treinando o Modelo ElasticNet"
      ]
    },
    {
      "cell_type": "code",
      "metadata": {
        "id": "j3hgNrBoQdtV",
        "colab_type": "code",
        "outputId": "330913f3-3f7a-4e41-894a-422aa7a847a5",
        "colab": {
          "base_uri": "https://localhost:8080/",
          "height": 122
        }
      },
      "source": [
        "model_elastic = ElasticNet(alpha=0.0001)\n",
        "model_elastic.fit(X_train_reg, y_train_reg)"
      ],
      "execution_count": 0,
      "outputs": [
        {
          "output_type": "stream",
          "text": [
            "/usr/local/lib/python3.6/dist-packages/sklearn/linear_model/_coordinate_descent.py:476: ConvergenceWarning: Objective did not converge. You might want to increase the number of iterations. Duality gap: 47496816358185.9, tolerance: 21787900459.897945\n",
            "  positive)\n"
          ],
          "name": "stderr"
        },
        {
          "output_type": "execute_result",
          "data": {
            "text/plain": [
              "ElasticNet(alpha=0.0001, copy_X=True, fit_intercept=True, l1_ratio=0.5,\n",
              "           max_iter=1000, normalize=False, positive=False, precompute=False,\n",
              "           random_state=None, selection='cyclic', tol=0.0001, warm_start=False)"
            ]
          },
          "metadata": {
            "tags": []
          },
          "execution_count": 51
        }
      ]
    },
    {
      "cell_type": "markdown",
      "metadata": {
        "id": "JhQZWaNjgK-a",
        "colab_type": "text"
      },
      "source": [
        "####Testando o modelo ElasticNet"
      ]
    },
    {
      "cell_type": "code",
      "metadata": {
        "id": "PK1qJwWqgOkp",
        "colab_type": "code",
        "colab": {}
      },
      "source": [
        "y_pred_elastic = model_elastic.predict(X_test_reg)"
      ],
      "execution_count": 0,
      "outputs": []
    },
    {
      "cell_type": "markdown",
      "metadata": {
        "id": "v3qbiZjaglZj",
        "colab_type": "text"
      },
      "source": [
        "####Resultado"
      ]
    },
    {
      "cell_type": "code",
      "metadata": {
        "id": "1R0LPAjl9Np3",
        "colab_type": "code",
        "outputId": "31623afe-eb6a-437e-d848-0eee4819a631",
        "colab": {
          "base_uri": "https://localhost:8080/",
          "height": 34
        }
      },
      "source": [
        "\n",
        "score_elastic = model_elastic.score(X_test_reg, y_test_reg)\n",
        "mse_elastic = mean_squared_error(y_test_reg, y_pred_elastic)\n",
        "print(\"Resultado ElasticNet: R2:{0:.7f}, MSE:{1:.2f}, RMSE:{2:.2f}\"\n",
        "      .format(score_elastic, mse_elastic, np.sqrt(mse_elastic)))"
      ],
      "execution_count": 0,
      "outputs": [
        {
          "output_type": "stream",
          "text": [
            "Resultado ElasticNet: R2:0.5322324, MSE:6451204495.00, RMSE:80319.39\n"
          ],
          "name": "stdout"
        }
      ]
    },
    {
      "cell_type": "markdown",
      "metadata": {
        "id": "d4IWhQ1Hq_KH",
        "colab_type": "text"
      },
      "source": [
        "###Modelo Regressão Logística"
      ]
    },
    {
      "cell_type": "markdown",
      "metadata": {
        "id": "aqMNIhzhrKcJ",
        "colab_type": "text"
      },
      "source": [
        "####Treinando o modelo de Regressão Logística"
      ]
    },
    {
      "cell_type": "code",
      "metadata": {
        "id": "YHrGpRyvl-f9",
        "colab_type": "code",
        "outputId": "1e8ddbdc-472a-4bab-f8d9-1a4b72237a5e",
        "colab": {
          "base_uri": "https://localhost:8080/",
          "height": 238
        }
      },
      "source": [
        "model_logistic = LogisticRegression()\n",
        "model_logistic.fit(X_train_reg,y_train_reg )"
      ],
      "execution_count": 0,
      "outputs": [
        {
          "output_type": "stream",
          "text": [
            "/usr/local/lib/python3.6/dist-packages/sklearn/linear_model/_logistic.py:940: ConvergenceWarning: lbfgs failed to converge (status=1):\n",
            "STOP: TOTAL NO. of ITERATIONS REACHED LIMIT.\n",
            "\n",
            "Increase the number of iterations (max_iter) or scale the data as shown in:\n",
            "    https://scikit-learn.org/stable/modules/preprocessing.html\n",
            "Please also refer to the documentation for alternative solver options:\n",
            "    https://scikit-learn.org/stable/modules/linear_model.html#logistic-regression\n",
            "  extra_warning_msg=_LOGISTIC_SOLVER_CONVERGENCE_MSG)\n"
          ],
          "name": "stderr"
        },
        {
          "output_type": "execute_result",
          "data": {
            "text/plain": [
              "LogisticRegression(C=1.0, class_weight=None, dual=False, fit_intercept=True,\n",
              "                   intercept_scaling=1, l1_ratio=None, max_iter=100,\n",
              "                   multi_class='auto', n_jobs=None, penalty='l2',\n",
              "                   random_state=None, solver='lbfgs', tol=0.0001, verbose=0,\n",
              "                   warm_start=False)"
            ]
          },
          "metadata": {
            "tags": []
          },
          "execution_count": 54
        }
      ]
    },
    {
      "cell_type": "markdown",
      "metadata": {
        "id": "mR2oHGicrZd2",
        "colab_type": "text"
      },
      "source": [
        "####Testando o modelo de Regressão Logística"
      ]
    },
    {
      "cell_type": "code",
      "metadata": {
        "id": "c6ScgFK3p02O",
        "colab_type": "code",
        "colab": {}
      },
      "source": [
        "y_pred_logistic = model_logistic.predict(X_test_reg)"
      ],
      "execution_count": 0,
      "outputs": []
    },
    {
      "cell_type": "markdown",
      "metadata": {
        "id": "W_YYl1pIrf5z",
        "colab_type": "text"
      },
      "source": [
        "####Resultado"
      ]
    },
    {
      "cell_type": "code",
      "metadata": {
        "id": "97OSvVHMp8CW",
        "colab_type": "code",
        "outputId": "1f46ab8c-9e89-4838-83ad-18889f1b6201",
        "colab": {
          "base_uri": "https://localhost:8080/",
          "height": 34
        }
      },
      "source": [
        "score_logistic = model_logistic.score(X_test_reg, y_test_reg)\n",
        "mse_logistic = mean_squared_error(y_test_reg, y_pred_logistic)\n",
        "print(\"Resultado Regressão Logística: R2:{0:.7f}, MSE:{1:.2f}, RMSE:{2:.2f}\"\n",
        "      .format(score_logistic, mse_logistic, np.sqrt(mse_logistic)))"
      ],
      "execution_count": 0,
      "outputs": [
        {
          "output_type": "stream",
          "text": [
            "Resultado Regressão Logística: R2:0.0489341, MSE:57413611192.65, RMSE:239611.38\n"
          ],
          "name": "stdout"
        }
      ]
    },
    {
      "cell_type": "markdown",
      "metadata": {
        "id": "Q0wqGPV_lC7d",
        "colab_type": "text"
      },
      "source": [
        "##Análise Final Classificação\n",
        "\n",
        "\n",
        "---\n",
        "\n",
        "\n",
        "Para a Regressão para predizer o valor de V2 utilizamos 3 modelos diferentes: SVR, Regressão Linear, ElasticNet e Regressão Logística.\n",
        "Os Modelos de SVR e Regressão logística tiveram resultados baixos e não satisfatórios. Além disso, particularmente o modelo de Regressão Logística, o processamento foi bem custoso.\n",
        "Quando analisamos os melhores modelos: Regressão Linear e ElasticNET, temos resultados bem similares, porém com vantagem para Regressão Linear devido aos resultados e custo de processamento. O ElasticNet para conseguirmos um resultado melhor precisamos ajustar os parâmetros, aumentando o custo de treinamento. Nas simulações realizadas o melhor resultado foi igual ao resultado da Regressão Linear.\n",
        "De modo geral, para o case, a Regressão Linear seria o melhor modelo para predizer o V2.\n"
      ]
    }
  ]
}