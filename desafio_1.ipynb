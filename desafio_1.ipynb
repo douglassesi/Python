{
  "nbformat": 4,
  "nbformat_minor": 0,
  "metadata": {
    "colab": {
      "name": "desafio 1.ipynb",
      "provenance": [],
      "toc_visible": true,
      "include_colab_link": true
    },
    "kernelspec": {
      "name": "python3",
      "display_name": "Python 3"
    }
  },
  "cells": [
    {
      "cell_type": "markdown",
      "metadata": {
        "id": "view-in-github",
        "colab_type": "text"
      },
      "source": [
        "<a href=\"https://colab.research.google.com/github/douglassesi/Python/blob/master/desafio_1.ipynb\" target=\"_parent\"><img src=\"https://colab.research.google.com/assets/colab-badge.svg\" alt=\"Open In Colab\"/></a>"
      ]
    },
    {
      "cell_type": "markdown",
      "metadata": {
        "id": "2pk_6S5BGg4c",
        "colab_type": "text"
      },
      "source": [
        "Desafio 1\n",
        "Conjectura de Legendre\n",
        "A Conjectura de Legendre, enunciada por de Adrien-Marie Legendre, afirma que existe sempre um número primo entre $n^2 $ e $(n+1)^2$, para qualquer $n$ inteiro positivo\n",
        "\n",
        "Seu desafio será criar uma função que, dado um input (inteiro n) retorne todos os números primos entre $n^2$ e $(n+1)^2$.\n",
        "\n",
        "Exemplo:\n",
        "\n",
        "> input: 4\n",
        "\n",
        "> output: [17,19,23]"
      ]
    },
    {
      "cell_type": "code",
      "metadata": {
        "id": "jxAK8eMxHqJC",
        "colab_type": "code",
        "colab": {}
      },
      "source": [
        "import math"
      ],
      "execution_count": 0,
      "outputs": []
    },
    {
      "cell_type": "code",
      "metadata": {
        "id": "NbCNKPXiF4kN",
        "colab_type": "code",
        "colab": {}
      },
      "source": [
        "\n",
        "def isprime(n):\n",
        "    \"\"\"\n",
        "    Esta função verifica se um número é ou não primo\n",
        "    \"\"\"\n",
        "    i = 2\n",
        "    for i in range(2, int((math.sqrt(n)+1))):\n",
        "      if n%i == 0:\n",
        "        return False\n",
        "      return True\n",
        "    # TODO: implemente uma função que retorne TRUE se um número é ou não primo"
      ],
      "execution_count": 0,
      "outputs": []
    },
    {
      "cell_type": "code",
      "metadata": {
        "id": "fHj0l8sCGoGa",
        "colab_type": "code",
        "colab": {}
      },
      "source": [
        "\n",
        "def LegendreConj(n):\n",
        "    \"\"\"\n",
        "    Esta função calcula a conjectura de Legendre, como descrita acima\n",
        "    \"\"\"\n",
        "    for i in range (n*n, (((n+1)*(n+1))+1)): \n",
        "        if(isprime(i)): \n",
        "            print (i) \n",
        "    # TODO: implemente uma função que retorne uma lista contendo os números primos entre n^2 e (n+1)^2"
      ],
      "execution_count": 0,
      "outputs": []
    },
    {
      "cell_type": "code",
      "metadata": {
        "id": "U3s0DUdrI1gP",
        "colab_type": "code",
        "outputId": "5eab868f-2e96-4f69-be58-80748690b0f5",
        "colab": {
          "base_uri": "https://localhost:8080/",
          "height": 170
        }
      },
      "source": [
        "n = int(input(\"Qual é o número?\"))\n",
        "LegendreConj(n) "
      ],
      "execution_count": 0,
      "outputs": [
        {
          "output_type": "stream",
          "text": [
            "Qual é o número?7\n",
            "49\n",
            "51\n",
            "53\n",
            "55\n",
            "57\n",
            "59\n",
            "61\n",
            "63\n"
          ],
          "name": "stdout"
        }
      ]
    },
    {
      "cell_type": "markdown",
      "metadata": {
        "id": "EJ7U08ltGs3U",
        "colab_type": "text"
      },
      "source": [
        "Classe de leitura de arquivo\n",
        "Crie uma classe que\n",
        "\n",
        "    > crie um método que tenta ler um arquivo de texto (.txt)\n",
        "    > crie um método usando regex para extrair datas do texto. Considere apenas os dois tipos: dd/mm/aaaa e d/m/aa\n",
        "    > crie um método que utilize Counter para contar a quantidade de cada caracter"
      ]
    },
    {
      "cell_type": "code",
      "metadata": {
        "id": "LWRwTOXjGvV8",
        "colab_type": "code",
        "colab": {}
      },
      "source": [
        "class ExtractTextInformation():\n",
        "    \"\"\"classe que extrai informações de um texto.\n",
        "       implementa o método __init__ e os três métodos acima mencionados \"\"\" \n",
        "    \n",
        "    \n",
        "    ## Esse __INIT__ SÃO OS PARÂMETROS DE ENTRADA...O CERTO SERIA SER O CAMINHO DO ARQUIVO...- CORRIGIR.##\n",
        "\n",
        "\n",
        " #   def __init__ (self, arquivo, extractdate, countcaracter):\n",
        " #         self.arquivo = arquivo\n",
        " #         self.extractdate = extractdate\n",
        " #         self.countcaracter = countcaracter\n",
        "\n",
        "\n",
        "    ##-----##\n",
        "    \n",
        "    \n",
        "    def setArquivo (self, arquivo):\n",
        "           arquivo = open('palavras.txt', 'r')\n",
        "           palavras = []\n",
        "           arquivo.close()\n",
        "\n",
        "           for linha in arquivo:\n",
        "             palavras.append(linha)\n",
        "\n",
        "    def setExtractDate (self, extractdate):\n",
        "          import re\n",
        "          rex = re.split('^((0?[13578]|10|12)(-|\\/)(([1-9])|(0[1-9])|([12])([0-9]?)|(3[01]?))(-|\\/)((19)([2-9])(\\d{1})|(20)([01])(\\d{1})|([8901])(\\d{1}))|(0?[2469]|11)(-|\\/)(([1-9])|(0[1-9])|([12])([0-9]?)|(3[0]?))(-|\\/)((19)([2-9])(\\d{1})|(20)([01])(\\d{1})|([8901])(\\d{1})))$') \n",
        "          print (\"Datas Extraídas:\", rex.findall(palavras))\n",
        "\n",
        "    def setCountCaracter (self, countcaracter):\n",
        "          print('Qtd de caracteres:', len(palavras))\n"
      ],
      "execution_count": 0,
      "outputs": []
    }
  ]
}